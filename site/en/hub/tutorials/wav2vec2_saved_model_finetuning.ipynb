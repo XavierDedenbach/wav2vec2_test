{
  "cells": [
    {
      "cell_type": "markdown",
      "metadata": {
        "id": "yCs7P9JTMlzV"
      },
      "source": [
        "##### Copyright 2021 The TensorFlow Hub Authors.\n",
        "\n",
        "Licensed under the Apache License, Version 2.0 (the \"License\");"
      ]
    },
    {
      "cell_type": "code",
      "execution_count": 142,
      "metadata": {
        "id": "Jqn-HYw-Mkea"
      },
      "outputs": [],
      "source": [
        "#@title Copyright 2021 The TensorFlow Hub Authors. All Rights Reserved.\n",
        "#\n",
        "# Licensed under the Apache License, Version 2.0 (the \"License\");\n",
        "# you may not use this file except in compliance with the License.\n",
        "# You may obtain a copy of the License at\n",
        "#\n",
        "#     http://www.apache.org/licenses/LICENSE-2.0\n",
        "#\n",
        "# Unless required by applicable law or agreed to in writing, software\n",
        "# distributed under the License is distributed on an \"AS IS\" BASIS,\n",
        "# WITHOUT WARRANTIES OR CONDITIONS OF ANY KIND, either express or implied.\n",
        "# See the License for the specific language governing permissions and\n",
        "# limitations under the License.\n",
        "# =============================================================================="
      ]
    },
    {
      "cell_type": "markdown",
      "metadata": {
        "id": "stRetE8gMlmZ"
      },
      "source": [
        "<table class=\"tfo-notebook-buttons\" align=\"left\">\n",
        "  <td>\n",
        "    <a target=\"_blank\" href=\"https://www.tensorflow.org/hub/tutorials/wav2vec2_saved_model_finetuning\"><img src=\"https://www.tensorflow.org/images/tf_logo_32px.png\" />View on TensorFlow.org</a>\n",
        "  </td>\n",
        "  <td>\n",
        "    <a target=\"_blank\" href=\"https://colab.research.google.com/github/tensorflow/docs/blob/master/site/en/hub/tutorials/wav2vec2_saved_model_finetuning.ipynb\"><img src=\"https://www.tensorflow.org/images/colab_logo_32px.png\" />Run in Google Colab</a>\n",
        "  </td>\n",
        "  <td>\n",
        "    <a target=\"_blank\" href=\"https://github.com/tensorflow/docs/blob/master/site/en/hub/tutorials/wav2vec2_saved_model_finetuning.ipynb\"><img src=\"https://www.tensorflow.org/images/GitHub-Mark-32px.png\" />View on GitHub</a>\n",
        "  </td>\n",
        "  <td>\n",
        "    <a href=\"https://storage.googleapis.com/tensorflow_docs/docs/site/en/hub/tutorials/wav2vec2_saved_model_finetuning.ipynb\"><img src=\"https://www.tensorflow.org/images/download_logo_32px.png\" />Download notebook</a>\n",
        "  </td>\n",
        "  <td>\n",
        "    <a href=\"https://tfhub.dev/vasudevgupta7/wav2vec2/1\"><img src=\"https://www.tensorflow.org/images/hub_logo_32px.png\" />See TF Hub model</a>\n",
        "  </td>\n",
        "</table>"
      ]
    },
    {
      "cell_type": "markdown",
      "metadata": {
        "id": "ndG8MjmJeicp"
      },
      "source": [
        "# Fine-tuning Wav2Vec2 with an LM head\n",
        "\n",
        "In this notebook, we will load the pre-trained wav2vec2 model from [TFHub](https://tfhub.dev) and will fine-tune it on [LibriSpeech dataset](https://huggingface.co/datasets/librispeech_asr) by appending Language Modeling head (LM) over the top of our pre-trained model. The underlying task is to build a model for **Automatic Speech Recognition** i.e. given some speech, the model should be able to transcribe it into text."
      ]
    },
    {
      "cell_type": "markdown",
      "metadata": {
        "id": "rWk8nL6Ui-_0"
      },
      "source": [
        "## Setting Up\n",
        "\n",
        "Before running this notebook, please ensure that you are on GPU runtime (`Runtime` > `Change runtime type` > `GPU`). The following cell will install [`gsoc-wav2vec2`](https://github.com/vasudevgupta7/gsoc-wav2vec2) package & its dependencies."
      ]
    },
    {
      "cell_type": "code",
      "execution_count": 143,
      "metadata": {
        "id": "seqTlMyeZvM4",
        "colab": {
          "base_uri": "https://localhost:8080/"
        },
        "outputId": "46f67bb9-9da5-48a1-af61-217ed81b2d35"
      },
      "outputs": [
        {
          "output_type": "stream",
          "name": "stdout",
          "text": [
            "  Preparing metadata (setup.py) ... \u001b[?25l\u001b[?25hdone\n",
            "Reading package lists... Done\n",
            "Building dependency tree... Done\n",
            "Reading state information... Done\n",
            "libsndfile1-dev is already the newest version (1.0.31-2ubuntu0.1).\n",
            "0 upgraded, 0 newly installed, 0 to remove and 49 not upgraded.\n"
          ]
        }
      ],
      "source": [
        "!pip3 install -q git+https://github.com/vasudevgupta7/gsoc-wav2vec2@main\n",
        "!sudo apt-get install -y libsndfile1-dev\n",
        "!pip3 install -q SoundFile"
      ]
    },
    {
      "cell_type": "markdown",
      "metadata": {
        "id": "wvuJL8-f0zn5"
      },
      "source": [
        "## Model setup using `TFHub`\n",
        "\n",
        "We will start by importing some libraries/modules."
      ]
    },
    {
      "cell_type": "code",
      "execution_count": 144,
      "metadata": {
        "id": "M3_fgx4eZvM7",
        "colab": {
          "base_uri": "https://localhost:8080/"
        },
        "outputId": "f383b8e1-5cae-4a98-c2ac-c7fe2169f2fc"
      },
      "outputs": [
        {
          "output_type": "stream",
          "name": "stdout",
          "text": [
            "TF version: 2.17.0\n"
          ]
        }
      ],
      "source": [
        "import os\n",
        "\n",
        "import tensorflow as tf\n",
        "import tensorflow_hub as hub\n",
        "from wav2vec2 import Wav2Vec2Config\n",
        "\n",
        "config = Wav2Vec2Config()\n",
        "\n",
        "print(\"TF version:\", tf.__version__)"
      ]
    },
    {
      "cell_type": "markdown",
      "metadata": {
        "id": "y0rVUxyWsS5f"
      },
      "source": [
        "First, we will download our model from TFHub & will wrap our model signature with [`hub.KerasLayer`](https://www.tensorflow.org/hub/api_docs/python/hub/KerasLayer) to be able to use this model like any other Keras layer. Fortunately, `hub.KerasLayer` can do both in just 1 line.\n",
        "\n",
        "**Note:** When loading model with `hub.KerasLayer`, model becomes a bit opaque but sometimes we need finer controls over the model, then we can load the model with `tf.keras.models.load_model(...)`."
      ]
    },
    {
      "cell_type": "code",
      "execution_count": 145,
      "metadata": {
        "id": "NO6QRC7KZvM9"
      },
      "outputs": [],
      "source": [
        "pretrained_layer = hub.KerasLayer(\"https://kaggle.com/models/kaggle/wav2vec2/frameworks/TensorFlow2/variations/wav2vec2/versions/1\", trainable=True)"
      ]
    },
    {
      "cell_type": "markdown",
      "metadata": {
        "id": "pCputyVBv2e9"
      },
      "source": [
        "You can refer to this [script](https://github.com/vasudevgupta7/gsoc-wav2vec2/blob/main/src/export2hub.py) in case you are interested in the model exporting script. Object `pretrained_layer` is the freezed version of [`Wav2Vec2Model`](https://github.com/vasudevgupta7/gsoc-wav2vec2/blob/main/src/wav2vec2/modeling.py). These pre-trained weights were converted from HuggingFace PyTorch [pre-trained weights](https://huggingface.co/facebook/wav2vec2-base) using [this script](https://github.com/vasudevgupta7/gsoc-wav2vec2/blob/main/src/convert_torch_to_tf.py).\n",
        "\n",
        "Originally, wav2vec2 was pre-trained with a masked language modelling approach with the objective to identify the true quantized latent speech representation for a masked time step. You can read more about the training objective in the paper- [wav2vec 2.0: A Framework for Self-Supervised Learning of Speech Representations](https://arxiv.org/abs/2006.11477)."
      ]
    },
    {
      "cell_type": "markdown",
      "metadata": {
        "id": "SseDnCr7hyhC"
      },
      "source": [
        "Now, we will be defining a few constants and hyper-parameters which will be useful in the next few cells. `AUDIO_MAXLEN` is intentionally set to `246000` as the model signature only accepts static sequence length of `246000`."
      ]
    },
    {
      "cell_type": "code",
      "execution_count": 146,
      "metadata": {
        "id": "eiILuMBERxlO"
      },
      "outputs": [],
      "source": [
        "AUDIO_MAXLEN = 246000\n",
        "LABEL_MAXLEN = 256\n",
        "BATCH_SIZE = 2"
      ]
    },
    {
      "cell_type": "code",
      "source": [
        "class KerasTfWrapper(tf.keras.layers.Layer): # Inherit from tf.keras.layers.Layer\n",
        "  def __init__(self, pretrained_layer, **kwargs):\n",
        "    super(KerasTfWrapper, self).__init__(**kwargs)\n",
        "    self.pretrained_layer = pretrained_layer\n",
        "\n",
        "  def call(self, x):\n",
        "    return self.pretrained_layer(x) # Call pretrained_layer within the call method"
      ],
      "metadata": {
        "id": "5lrZkY0mICTE"
      },
      "execution_count": 147,
      "outputs": []
    },
    {
      "cell_type": "markdown",
      "metadata": {
        "id": "1V4gTgGLgXvO"
      },
      "source": [
        "In the following cell, we will wrap `pretrained_layer` & a dense layer (LM head) with the [Keras's Functional API](https://www.tensorflow.org/guide/keras/functional)."
      ]
    },
    {
      "cell_type": "code",
      "execution_count": 148,
      "metadata": {
        "id": "a3CUN1KEB10Q"
      },
      "outputs": [],
      "source": [
        "inputs = tf.keras.Input(shape=(AUDIO_MAXLEN,))\n",
        "# Use KerasTfWrapper to wrap pretrained_layer\n",
        "wrapper = KerasTfWrapper(pretrained_layer)\n",
        "hidden_states = wrapper(x=inputs)\n",
        "outputs = tf.keras.layers.Dense(config.vocab_size)(hidden_states)\n",
        "\n",
        "model = tf.keras.Model(inputs=inputs, outputs=outputs)"
      ]
    },
    {
      "cell_type": "markdown",
      "metadata": {
        "id": "5zDXuoMXhDMo"
      },
      "source": [
        "The dense layer (defined above) is having an output dimension of `vocab_size` as we want to predict probabilities of each token in the vocabulary at each time step."
      ]
    },
    {
      "cell_type": "markdown",
      "metadata": {
        "id": "oPp18ZHRtnq-"
      },
      "source": [
        "## Setting up training state"
      ]
    },
    {
      "cell_type": "markdown",
      "metadata": {
        "id": "ATQy1ZK3vFr7"
      },
      "source": [
        "In TensorFlow, model weights are built only when `model.call` or `model.build` is called for the first time, so the following cell will build the model weights for us. Further, we will be running `model.summary()` to check the total number of trainable parameters."
      ]
    },
    {
      "cell_type": "code",
      "execution_count": 149,
      "metadata": {
        "id": "ZgL5wyaXZvM-",
        "colab": {
          "base_uri": "https://localhost:8080/",
          "height": 225
        },
        "outputId": "fa57d468-5eeb-49a7-fd13-8e13cc08967e"
      },
      "outputs": [
        {
          "output_type": "display_data",
          "data": {
            "text/plain": [
              "\u001b[1mModel: \"functional_2\"\u001b[0m\n"
            ],
            "text/html": [
              "<pre style=\"white-space:pre;overflow-x:auto;line-height:normal;font-family:Menlo,'DejaVu Sans Mono',consolas,'Courier New',monospace\"><span style=\"font-weight: bold\">Model: \"functional_2\"</span>\n",
              "</pre>\n"
            ]
          },
          "metadata": {}
        },
        {
          "output_type": "display_data",
          "data": {
            "text/plain": [
              "┏━━━━━━━━━━━━━━━━━━━━━━━━━━━━━━━━━━━━━━┳━━━━━━━━━━━━━━━━━━━━━━━━━━━━━┳━━━━━━━━━━━━━━━━━┓\n",
              "┃\u001b[1m \u001b[0m\u001b[1mLayer (type)                        \u001b[0m\u001b[1m \u001b[0m┃\u001b[1m \u001b[0m\u001b[1mOutput Shape               \u001b[0m\u001b[1m \u001b[0m┃\u001b[1m \u001b[0m\u001b[1m        Param #\u001b[0m\u001b[1m \u001b[0m┃\n",
              "┡━━━━━━━━━━━━━━━━━━━━━━━━━━━━━━━━━━━━━━╇━━━━━━━━━━━━━━━━━━━━━━━━━━━━━╇━━━━━━━━━━━━━━━━━┩\n",
              "│ input_layer_16 (\u001b[38;5;33mInputLayer\u001b[0m)          │ (\u001b[38;5;45mNone\u001b[0m, \u001b[38;5;34m246000\u001b[0m)              │               \u001b[38;5;34m0\u001b[0m │\n",
              "├──────────────────────────────────────┼─────────────────────────────┼─────────────────┤\n",
              "│ keras_tf_wrapper_3 (\u001b[38;5;33mKerasTfWrapper\u001b[0m)  │ (\u001b[38;5;45mNone\u001b[0m, \u001b[38;5;34m768\u001b[0m, \u001b[38;5;34m768\u001b[0m)            │               \u001b[38;5;34m0\u001b[0m │\n",
              "├──────────────────────────────────────┼─────────────────────────────┼─────────────────┤\n",
              "│ dense_2 (\u001b[38;5;33mDense\u001b[0m)                      │ (\u001b[38;5;45mNone\u001b[0m, \u001b[38;5;34m768\u001b[0m, \u001b[38;5;34m32\u001b[0m)             │          \u001b[38;5;34m24,608\u001b[0m │\n",
              "└──────────────────────────────────────┴─────────────────────────────┴─────────────────┘\n"
            ],
            "text/html": [
              "<pre style=\"white-space:pre;overflow-x:auto;line-height:normal;font-family:Menlo,'DejaVu Sans Mono',consolas,'Courier New',monospace\">┏━━━━━━━━━━━━━━━━━━━━━━━━━━━━━━━━━━━━━━┳━━━━━━━━━━━━━━━━━━━━━━━━━━━━━┳━━━━━━━━━━━━━━━━━┓\n",
              "┃<span style=\"font-weight: bold\"> Layer (type)                         </span>┃<span style=\"font-weight: bold\"> Output Shape                </span>┃<span style=\"font-weight: bold\">         Param # </span>┃\n",
              "┡━━━━━━━━━━━━━━━━━━━━━━━━━━━━━━━━━━━━━━╇━━━━━━━━━━━━━━━━━━━━━━━━━━━━━╇━━━━━━━━━━━━━━━━━┩\n",
              "│ input_layer_16 (<span style=\"color: #0087ff; text-decoration-color: #0087ff\">InputLayer</span>)          │ (<span style=\"color: #00d7ff; text-decoration-color: #00d7ff\">None</span>, <span style=\"color: #00af00; text-decoration-color: #00af00\">246000</span>)              │               <span style=\"color: #00af00; text-decoration-color: #00af00\">0</span> │\n",
              "├──────────────────────────────────────┼─────────────────────────────┼─────────────────┤\n",
              "│ keras_tf_wrapper_3 (<span style=\"color: #0087ff; text-decoration-color: #0087ff\">KerasTfWrapper</span>)  │ (<span style=\"color: #00d7ff; text-decoration-color: #00d7ff\">None</span>, <span style=\"color: #00af00; text-decoration-color: #00af00\">768</span>, <span style=\"color: #00af00; text-decoration-color: #00af00\">768</span>)            │               <span style=\"color: #00af00; text-decoration-color: #00af00\">0</span> │\n",
              "├──────────────────────────────────────┼─────────────────────────────┼─────────────────┤\n",
              "│ dense_2 (<span style=\"color: #0087ff; text-decoration-color: #0087ff\">Dense</span>)                      │ (<span style=\"color: #00d7ff; text-decoration-color: #00d7ff\">None</span>, <span style=\"color: #00af00; text-decoration-color: #00af00\">768</span>, <span style=\"color: #00af00; text-decoration-color: #00af00\">32</span>)             │          <span style=\"color: #00af00; text-decoration-color: #00af00\">24,608</span> │\n",
              "└──────────────────────────────────────┴─────────────────────────────┴─────────────────┘\n",
              "</pre>\n"
            ]
          },
          "metadata": {}
        },
        {
          "output_type": "display_data",
          "data": {
            "text/plain": [
              "\u001b[1m Total params: \u001b[0m\u001b[38;5;34m24,608\u001b[0m (96.12 KB)\n"
            ],
            "text/html": [
              "<pre style=\"white-space:pre;overflow-x:auto;line-height:normal;font-family:Menlo,'DejaVu Sans Mono',consolas,'Courier New',monospace\"><span style=\"font-weight: bold\"> Total params: </span><span style=\"color: #00af00; text-decoration-color: #00af00\">24,608</span> (96.12 KB)\n",
              "</pre>\n"
            ]
          },
          "metadata": {}
        },
        {
          "output_type": "display_data",
          "data": {
            "text/plain": [
              "\u001b[1m Trainable params: \u001b[0m\u001b[38;5;34m24,608\u001b[0m (96.12 KB)\n"
            ],
            "text/html": [
              "<pre style=\"white-space:pre;overflow-x:auto;line-height:normal;font-family:Menlo,'DejaVu Sans Mono',consolas,'Courier New',monospace\"><span style=\"font-weight: bold\"> Trainable params: </span><span style=\"color: #00af00; text-decoration-color: #00af00\">24,608</span> (96.12 KB)\n",
              "</pre>\n"
            ]
          },
          "metadata": {}
        },
        {
          "output_type": "display_data",
          "data": {
            "text/plain": [
              "\u001b[1m Non-trainable params: \u001b[0m\u001b[38;5;34m0\u001b[0m (0.00 B)\n"
            ],
            "text/html": [
              "<pre style=\"white-space:pre;overflow-x:auto;line-height:normal;font-family:Menlo,'DejaVu Sans Mono',consolas,'Courier New',monospace\"><span style=\"font-weight: bold\"> Non-trainable params: </span><span style=\"color: #00af00; text-decoration-color: #00af00\">0</span> (0.00 B)\n",
              "</pre>\n"
            ]
          },
          "metadata": {}
        }
      ],
      "source": [
        "model(tf.random.uniform(shape=(BATCH_SIZE, AUDIO_MAXLEN)))\n",
        "model.summary()"
      ]
    },
    {
      "cell_type": "markdown",
      "metadata": {
        "id": "EQxxA4Fevp7m"
      },
      "source": [
        "Now, we need to define the `loss_fn` and optimizer to be able to train the model. The following cell will do that for us. We will be using the `Adam` optimizer for simplicity. `CTCLoss` is a common loss type that is used for tasks (like `ASR`) where input sub-parts can't be easily aligned with output sub-parts. You can read more about CTC-loss from this amazing [blog post](https://distill.pub/2017/ctc/).\n",
        "\n",
        "\n",
        "`CTCLoss` (from [`gsoc-wav2vec2`](https://github.com/vasudevgupta7/gsoc-wav2vec2) package) accepts 3 arguments: `config`, `model_input_shape` & `division_factor`. If `division_factor=1`, then loss will simply get summed, so pass `division_factor` accordingly to get mean over batch."
      ]
    },
    {
      "cell_type": "code",
      "execution_count": 168,
      "metadata": {
        "id": "glDepVEHZvM_"
      },
      "outputs": [],
      "source": [
        "from wav2vec2 import CTCLoss\n",
        "\n",
        "LEARNING_RATE = 5e-5\n",
        "\n",
        "loss_fn = CTCLoss(config, (BATCH_SIZE, AUDIO_MAXLEN), division_factor=BATCH_SIZE)\n",
        "optimizer = tf.keras.optimizers.Adam(LEARNING_RATE)"
      ]
    },
    {
      "cell_type": "markdown",
      "metadata": {
        "id": "1mvTuOXpwsQe"
      },
      "source": [
        "## Loading & Pre-processing data\n",
        "\n",
        "Let's now download the LibriSpeech dataset from the [official website](http://www.openslr.org/12) and set it up."
      ]
    },
    {
      "cell_type": "code",
      "execution_count": 151,
      "metadata": {
        "id": "I4kIEC77cBCM",
        "colab": {
          "base_uri": "https://localhost:8080/"
        },
        "outputId": "55893fcb-12f2-49d2-d173-faaab13f9481"
      },
      "outputs": [
        {
          "output_type": "stream",
          "name": "stdout",
          "text": [
            "--2024-09-07 03:00:32--  https://www.openslr.org/resources/12/dev-clean.tar.gz\n",
            "Resolving www.openslr.org (www.openslr.org)... 46.101.158.64\n",
            "Connecting to www.openslr.org (www.openslr.org)|46.101.158.64|:443... connected.\n",
            "HTTP request sent, awaiting response... 302 Found\n",
            "Location: https://openslr.elda.org/resources/12/dev-clean.tar.gz [following]\n",
            "--2024-09-07 03:00:32--  https://openslr.elda.org/resources/12/dev-clean.tar.gz\n",
            "Resolving openslr.elda.org (openslr.elda.org)... 141.94.109.138, 2001:41d0:203:ad8a::\n",
            "Connecting to openslr.elda.org (openslr.elda.org)|141.94.109.138|:443... connected.\n",
            "HTTP request sent, awaiting response... 200 OK\n",
            "Length: 337926286 (322M) [application/x-gzip]\n",
            "Saving to: ‘./data/train/dev-clean.tar.gz.2’\n",
            "\n",
            "dev-clean.tar.gz.2  100%[===================>] 322.27M  92.0MB/s    in 3.4s    \n",
            "\n",
            "2024-09-07 03:00:35 (95.7 MB/s) - ‘./data/train/dev-clean.tar.gz.2’ saved [337926286/337926286]\n",
            "\n"
          ]
        }
      ],
      "source": [
        "!wget https://www.openslr.org/resources/12/dev-clean.tar.gz -P ./data/train/\n",
        "!tar -xf ./data/train/dev-clean.tar.gz -C ./data/train/"
      ]
    },
    {
      "cell_type": "markdown",
      "metadata": {
        "id": "LsQpmpn6jrMI"
      },
      "source": [
        "**Note:** We are using `dev-clean` configuration as this notebook is just for demonstration purposes, so we need a small amount of data. Complete training data can be easily downloaded from [LibriSpeech website](http://www.openslr.org/12)."
      ]
    },
    {
      "cell_type": "code",
      "execution_count": 152,
      "metadata": {
        "id": "ynxAjtGHGFpM",
        "colab": {
          "base_uri": "https://localhost:8080/"
        },
        "outputId": "1130f356-fb1c-423e-b5fb-5d67f1423221"
      },
      "outputs": [
        {
          "output_type": "stream",
          "name": "stdout",
          "text": [
            "dev-clean.tar.gz  dev-clean.tar.gz.1  dev-clean.tar.gz.2  \u001b[0m\u001b[01;34mLibriSpeech\u001b[0m/\n"
          ]
        }
      ],
      "source": [
        "ls ./data/train/"
      ]
    },
    {
      "cell_type": "markdown",
      "metadata": {
        "id": "yBMiORo0xJD0"
      },
      "source": [
        "Our dataset lies in the LibriSpeech directory. Let's explore these files."
      ]
    },
    {
      "cell_type": "code",
      "execution_count": 153,
      "metadata": {
        "id": "jkIu_Wt4ZvNA",
        "colab": {
          "base_uri": "https://localhost:8080/"
        },
        "outputId": "846bbc11-0fbb-4521-8497-717553b1450d"
      },
      "outputs": [
        {
          "output_type": "stream",
          "name": "stdout",
          "text": [
            "Transcription files: ['2428-83705.trans.txt'] \n",
            "Sound files: ['2428-83705-0001.flac', '2428-83705-0022.flac', '2428-83705-0040.flac', '2428-83705-0004.flac', '2428-83705-0032.flac', '2428-83705-0027.flac', '2428-83705-0034.flac', '2428-83705-0016.flac', '2428-83705-0030.flac', '2428-83705-0026.flac', '2428-83705-0011.flac', '2428-83705-0013.flac', '2428-83705-0024.flac', '2428-83705-0020.flac', '2428-83705-0042.flac', '2428-83705-0023.flac', '2428-83705-0021.flac', '2428-83705-0000.flac', '2428-83705-0043.flac', '2428-83705-0038.flac', '2428-83705-0018.flac', '2428-83705-0017.flac', '2428-83705-0005.flac', '2428-83705-0039.flac', '2428-83705-0010.flac', '2428-83705-0006.flac', '2428-83705-0033.flac', '2428-83705-0035.flac', '2428-83705-0036.flac', '2428-83705-0003.flac', '2428-83705-0037.flac', '2428-83705-0019.flac', '2428-83705-0041.flac', '2428-83705-0029.flac', '2428-83705-0009.flac', '2428-83705-0014.flac', '2428-83705-0007.flac', '2428-83705-0015.flac', '2428-83705-0012.flac', '2428-83705-0031.flac', '2428-83705-0008.flac', '2428-83705-0028.flac', '2428-83705-0002.flac', '2428-83705-0025.flac']\n"
          ]
        }
      ],
      "source": [
        "data_dir = \"./data/train/LibriSpeech/dev-clean/2428/83705/\"\n",
        "all_files = os.listdir(data_dir)\n",
        "\n",
        "flac_files = [f for f in all_files if f.endswith(\".flac\")]\n",
        "txt_files = [f for f in all_files if f.endswith(\".txt\")]\n",
        "\n",
        "print(\"Transcription files:\", txt_files, \"\\nSound files:\", flac_files)"
      ]
    },
    {
      "cell_type": "markdown",
      "metadata": {
        "id": "XEObi_Apk3ZD"
      },
      "source": [
        "Alright, so each sub-directory has many `.flac` files and a `.txt` file. The `.txt` file contains text transcriptions for all the speech samples (i.e. `.flac` files) present in that sub-directory."
      ]
    },
    {
      "cell_type": "markdown",
      "metadata": {
        "id": "WYW6WKJflO2e"
      },
      "source": [
        "We can load this text data as follows:"
      ]
    },
    {
      "cell_type": "code",
      "execution_count": 154,
      "metadata": {
        "id": "cEBKxQblHPwq"
      },
      "outputs": [],
      "source": [
        "def read_txt_file(f):\n",
        "  with open(f, \"r\") as f:\n",
        "    samples = f.read().split(\"\\n\")\n",
        "    samples = {s.split()[0]: \" \".join(s.split()[1:]) for s in samples if len(s.split()) > 2}\n",
        "  return samples"
      ]
    },
    {
      "cell_type": "markdown",
      "metadata": {
        "id": "Ldkf_ceb0_YW"
      },
      "source": [
        "Similarly, we will define a function for loading a speech sample from a `.flac` file.\n",
        "\n",
        "`REQUIRED_SAMPLE_RATE` is set to `16000` as wav2vec2 was pre-trained with `16K` frequency and it's recommended to fine-tune it without any major change in data distribution due to frequency."
      ]
    },
    {
      "cell_type": "code",
      "execution_count": 155,
      "metadata": {
        "id": "YOJ3OzPsTyXv"
      },
      "outputs": [],
      "source": [
        "import soundfile as sf\n",
        "\n",
        "REQUIRED_SAMPLE_RATE = 16000\n",
        "\n",
        "def read_flac_file(file_path):\n",
        "  with open(file_path, \"rb\") as f:\n",
        "      audio, sample_rate = sf.read(f)\n",
        "  if sample_rate != REQUIRED_SAMPLE_RATE:\n",
        "      raise ValueError(\n",
        "          f\"sample rate (={sample_rate}) of your files must be {REQUIRED_SAMPLE_RATE}\"\n",
        "      )\n",
        "  file_id = os.path.split(file_path)[-1][:-len(\".flac\")]\n",
        "  return {file_id: audio}"
      ]
    },
    {
      "cell_type": "markdown",
      "metadata": {
        "id": "2sxDN8P4nWkW"
      },
      "source": [
        "Now, we will pick some random samples & will try to visualize them."
      ]
    },
    {
      "cell_type": "code",
      "execution_count": 156,
      "metadata": {
        "id": "HI5J-2Dfm_wT",
        "colab": {
          "base_uri": "https://localhost:8080/",
          "height": 110
        },
        "outputId": "95c201ea-cccc-4b0c-ade5-b82ce637ba8a"
      },
      "outputs": [
        {
          "output_type": "stream",
          "name": "stdout",
          "text": [
            "Text Transcription: IT MIGHT JUST AS WELL BE SOME ONE ELSE'S WEDDING SO UNIMPORTANT IS THE PART WHICH I AM SET TO PLAY IN IT \n",
            "Audio:\n"
          ]
        },
        {
          "output_type": "execute_result",
          "data": {
            "text/plain": [
              "<IPython.lib.display.Audio object>"
            ],
            "text/html": [
              "\n",
              "                <audio  controls=\"controls\" >\n",
              "                    <source src=\"data:audio/flac;base64,ZkxhQwAAACIQABAAAAFpABW+A+gA8AAB0uByIB3htNQyW0/KwvvTF7JTAwAAEgAAAAAAAAAAAAAAAAAAAAAQAAQAACggAAAAcmVmZXJlbmNlIGxpYkZMQUMgMS4yLjEgMjAwNzA5MTcAAAAAgQAgAAAAAAAAAAAAAAAAAAAAAAAAAAAAAAAAAAAAAAAAAAAAAAAAAAAAAAAAAAAAAAAAAAAAAAAAAAAAAAAAAAAAAAAAAAAAAAAAAAAAAAAAAAAAAAAAAAAAAAAAAAAAAAAAAAAAAAAAAAAAAAAAAAAAAAAAAAAAAAAAAAAAAAAAAAAAAAAAAAAAAAAAAAAAAAAAAAAAAAAAAAAAAAAAAAAAAAAAAAAAAAAAAAAAAAAAAAAAAAAAAAAAAAAAAAAAAAAAAAAAAAAAAAAAAAAAAAAAAAAAAAAAAAAAAAAAAAAAAAAAAAAAAAAAAAAAAAAAAAAAAAAAAAAAAAAAAAAAAAAAAAAAAAAAAAAAAAAAAAAAAAAAAAAAAAAAAAAAAAAAAAAAAAAAAAAAAAAAAAAAAAAAAAAAAAAAAAAAAAAAAAAAAAAAAAAAAAAAAAAAAAAAAAAAAAAAAAAAAAAAAAAAAAAAAAAAAAAAAAAAAAAAAAAAAAAAAAAAAAAAAAAAAAAAAAAAAAAAAAAAAAAAAAAAAAAAAAAAAAAAAAAAAAAAAAAAAAAAAAAAAAAAAAAAAAAAAAAAAAAAAAAAAAAAAAAAAAAAAAAAAAAAAAAAAAAAAAAAAAAAAAAAAAAAAAAAAAAAAAAAAAAAAAAAAAAAAAAAAAAAAAAAAAAAAAAAAAAAAAAAAAAAAAAAAAAAAAAAAAAAAAAAAAAAAAAAAAAAAAAAAAAAAAAAAAAAAAAAAAAAAAAAAAAAAAAAAAAAAAAAAAAAAAAAAAAAAAAAAAAAAAAAAAAAAAAAAAAAAAAAAAAAAAAAAAAAAAAAAAAAAAAAAAAAAAAAAAAAAAAAAAAAAAAAAAAAAAAAAAAAAAAAAAAAAAAAAAAAAAAAAAAAAAAAAAAAAAAAAAAAAAAAAAAAAAAAAAAAAAAAAAAAAAAAAAAAAAAAAAAAAAAAAAAAAAAAAAAAAAAAAAAAAAAAAAAAAAAAAAAAAAAAAAAAAAAAAAAAAAAAAAAAAAAAAAAAAAAAAAAAAAAAAAAAAAAAAAAAAAAAAAAAAAAAAAAAAAAAAAAAAAAAAAAAAAAAAAAAAAAAAAAAAAAAAAAAAAAAAAAAAAAAAAAAAAAAAAAAAAAAAAAAAAAAAAAAAAAAAAAAAAAAAAAAAAAAAAAAAAAAAAAAAAAAAAAAAAAAAAAAAAAAAAAAAAAAAAAAAAAAAAAAAAAAAAAAAAAAAAAAAAAAAAAAAAAAAAAAAAAAAAAAAAAAAAAAAAAAAAAAAAAAAAAAAAAAAAAAAAAAAAAAAAAAAAAAAAAAAAAAAAAAAAAAAAAAAAAAAAAAAAAAAAAAAAAAAAAAAAAAAAAAAAAAAAAAAAAAAAAAAAAAAAAAAAAAAAAAAAAAAAAAAAAAAAAAAAAAAAAAAAAAAAAAAAAAAAAAAAAAAAAAAAAAAAAAAAAAAAAAAAAAAAAAAAAAAAAAAAAAAAAAAAAAAAAAAAAAAAAAAAAAAAAAAAAAAAAAAAAAAAAAAAAAAAAAAAAAAAAAAAAAAAAAAAAAAAAAAAAAAAAAAAAAAAAAAAAAAAAAAAAAAAAAAAAAAAAAAAAAAAAAAAAAAAAAAAAAAAAAAAAAAAAAAAAAAAAAAAAAAAAAAAAAAAAAAAAAAAAAAAAAAAAAAAAAAAAAAAAAAAAAAAAAAAAAAAAAAAAAAAAAAAAAAAAAAAAAAAAAAAAAAAAAAAAAAAAAAAAAAAAAAAAAAAAAAAAAAAAAAAAAAAAAAAAAAAAAAAAAAAAAAAAAAAAAAAAAAAAAAAAAAAAAAAAAAAAAAAAAAAAAAAAAAAAAAAAAAAAAAAAAAAAAAAAAAAAAAAAAAAAAAAAAAAAAAAAAAAAAAAAAAAAAAAAAAAAAAAAAAAAAAAAAAAAAAAAAAAAAAAAAAAAAAAAAAAAAAAAAAAAAAAAAAAAAAAAAAAAAAAAAAAAAAAAAAAAAAAAAAAAAAAAAAAAAAAAAAAAAAAAAAAAAAAAAAAAAAAAAAAAAAAAAAAAAAAAAAAAAAAAAAAAAAAAAAAAAAAAAAAAAAAAAAAAAAAAAAAAAAAAAAAAAAAAAAAAAAAAAAAAAAAAAAAAAAAAAAAAAAAAAAAAAAAAAAAAAAAAAAAAAAAAAAAAAAAAAAAAAAAAAAAAAAAAAAAAAAAAAAAAAAAAAAAAAAAAAAAAAAAAAAAAAAAAAAAAAAAAAAAAAAAAAAAAAAAAAAAAAAAAAAAAAAAAAAAAAAAAAAAAAAAAAAAAAAAAAAAAAAAAAAAAAAAAAAAAAAAAAAAAAAAAAAAAAAAAAAAAAAAAAAAAAAAAAAAAAAAAAAAAAAAAAAAAAAAAAAAAAAAAAAAAAAAAAAAAAAAAAAAAAAAAAAAAAAAAAAAAAAAAAAAAAAAAAAAAAAAAAAAAAAAAAAAAAAAAAAAAAAAAAAAAAAAAAAAAAAAAAAAAAAAAAAAAAAAAAAAAAAAAAAAAAAAAAAAAAAAAAAAAAAAAAAAAAAAAAAAAAAAAAAAAAAAAAAAAAAAAAAAAAAAAAAAAAAAAAAAAAAAAAAAAAAAAAAAAAAAAAAAAAAAAAAAAAAAAAAAAAAAAAAAAAAAAAAAAAAAAAAAAAAAAAAAAAAAAAAAAAAAAAAAAAAAAAAAAAAAAAAAAAAAAAAAAAAAAAAAAAAAAAAAAAAAAAAAAAAAAAAAAAAAAAAAAAAAAAAAAAAAAAAAAAAAAAAAAAAAAAAAAAAAAAAAAAAAAAAAAAAAAAAAAAAAAAAAAAAAAAAAAAAAAAAAAAAAAAAAAAAAAAAAAAAAAAAAAAAAAAAAAAAAAAAAAAAAAAAAAAAAAAAAAAAAAAAAAAAAAAAAAAAAAAAAAAAAAAAAAAAAAAAAAAAAAAAAAAAAAAAAAAAAAAAAAAAAAAAAAAAAAAAAAAAAAAAAAAAAAAAAAAAAAAAAAAAAAAAAAAAAAAAAAAAAAAAAAAAAAAAAAAAAAAAAAAAAAAAAAAAAAAAAAAAAAAAAAAAAAAAAAAAAAAAAAAAAAAAAAAAAAAAAAAAAAAAAAAAAAAAAAAAAAAAAAAAAAAAAAAAAAAAAAAAAAAAAAAAAAAAAAAAAAAAAAAAAAAAAAAAAAAAAAAAAAAAAAAAAAAAAAAAAAAAAAAAAAAAAAAAAAAAAAAAAAAAAAAAAAAAAAAAAAAAAAAAAAAAAAAAAAAAAAAAAAAAAAAAAAAAAAAAAAAAAAAAAAAAAAAAAAAAAAAAAAAAAAAAAAAAAAAAAAAAAAAAAAAAAAAAAAAAAAAAAAAAAAAAAAAAAAAAAAAAAAAAAAAAAAAAAAAAAAAAAAAAAAAAAAAAAAAAAAAAAAAAAAAAAAAAAAAAAAAAAAAAAAAAAAAAAAAAAAAAAAAAAAAAAAAAAAAAAAAAAAAAAAAAAAAAAAAAAAAAAAAAAAAAAAAAAAAAAAAAAAAAAAAAAAAAAAAAAAAAAAAAAAAAAAAAAAAAAAAAAAAAAAAAAAAAAAAAAAAAAAAAAAAAAAAAAAAAAAAAAAAAAAAAAAAAAAAAAAAAAAAAAAAAAAAAAAAAAAAAAAAAAAAAAAAAAAAAAAAAAAAAAAAAAAAAAAAAAAAAAAAAAAAAAAAAAAAAAAAAAAAAAAAAAAAAAAAAAAAAAAAAAAAAAAAAAAAAAAAAAAAAAAAAAAAAAAAAAAAAAAAAAAAAAAAAAAAAAAAAAAAAAAAAAAAAAAAAAAAAAAAAAAAAAAAAAAAAAAAAAAAAAAAAAAAAAAAAAAAAAAAAAAAAAAAAAAAAAAAAAAAAAAAAAAAAAAAAAAAAAAAAAAAAAAAAAAAAAAAAAAAAAAAAAAAAAAAAAAAAAAAAAAAAAAAAAAAAAAAAAAAAAAAAAAAAAAAAAAAAAAAAAAAAAAAAAAAAAAAAAAAAAAAAAAAAAAAAAAAAAAAAAAAAAAAAAAAAAAAAAAAAAAAAAAAAAAAAAAAAAAAAAAAAAAAAAAAAAAAAAAAAAAAAAAAAAAAAAAAAAAAAAAAAAAAAAAAAAAAAAAAAAAAAAAAAAAAAAAAAAAAAAAAAAAAAAAAAAAAAAAAAAAAAAAAAAAAAAAAAAAAAAAAAAAAAAAAAAAAAAAAAAAAAAAAAAAAAAAAAAAAAAAAAAAAAAAAAAAAAAAAAAAAAAAAAAAAAAAAAAAAAAAAAAAAAAAAAAAAAAAAAAAAAAAAAAAAAAAAAAAAAAAAAAAAAAAAAAAAAAAAAAAAAAAAAAAAAAAAAAAAAAAAAAAAAAAAAAAAAAAAAAAAAAAAAAAAAAAAAAAAAAAAAAAAAAAAAAAAAAAAAAAAAAAAAAAAAAAAAAAAAAAAAAAAAAAAAAAAAAAAAAAAAAAAAAAAAAAAAAAAAAAAAAAAAAAAAAAAAAAAAAAAAAAAAAAAAAAAAAAAAAAAAAAAAAAAAAAAAAAAAAAAAAAAAAAAAAAAAAAAAAAAAAAAAAAAAAAAAAAAAAAAAAAAAAAAAAAAAAAAAAAAAAAAAAAAAAAAAAAAAAAAAAAAAAAAAAAAAAAAAAAAAAAAAAAAAAAAAAAAAAAAAAAAAAAAAAAAAAAAAAAAAAAAAAAAAAAAAAAAAAAAAAAAAAAAAAAAAAAAAAAAAAAAAAAAAAAAAAAAAAAAAAAAAAAAAAAAAAAAAAAAAAAAAAAAAAAAAAAAAAAAAAAAAAAAAAAAAAAAAAAAAAAAAAAAAAAAAAAAAAAAAAAAAAAAAAAAAAAAAAAAAAAAAAAAAAAAAAAAAAAAAAAAAAAAAAAAAAAAAAAAAAAAAAAAAAAAAAAAAAAAAAAAAAAAAAAAAAAAAAAAAAAAAAAAAAAAAAAAAAAAAAAAAAAAAAAAAAAAAAAAAAAAAAAAAAAAAAAAAAAAAAAAAAAAAAAAAAAAAAAAAAAAAAAAAAAAAAAAAAAAAAAAAAAAAAAAAAAAAAAAAAAAAAAAAAAAAAAAAAAAAAAAAAAAAAAAAAAAAAAAAAAAAAAAAAAAAAAAAAAAAAAAAAAAAAAAAAAAAAAAAAAAAAAAAAAAAAAAAAAAAAAAAAAAAAAAAAAAAAAAAAAAAAAAAAAAAAAAAAAAAAAAAAAAAAAAAAAAAAAAAAAAAAAAAAAAAAAAAAAAAAAAAAAAAAAAAAAAAAAAAAAAAAAAAAAAAAAAAAAAAAAAAAAAAAAAAAAAAAAAAAAAAAAAAAAAAAAAAAAAAAAAAAAAAAAAAAAAAAAAAAAAAAAAAAAAAAAAAAAAAAAAAAAAAAAAAAAAAAAAAAAAAAAAAAAAAAAAAAAAAAAAAAAAAAAAAAAAAAAAAAAAAAAAAAAAAAAAAAAAAAAAAAAAAAAAAAAAAAAAAAAAAAAAAAAAAAAAAAAAAAAAAAAAAAAAAAAAAAAAAAAAAAAAAAAAAAAAAAAAAAAAAAAAAAAAAAAAAAAAAAAAAAAAAAAAAAAAAAAAAAAAAAAAAAAAAAAAAAAAAAAAAAAAAAAAAAAAAAAAAAAAAAAAAAAAAAAAAAAAAAAAAAAAAAAAAAAAAAAAAAAAAAAAAAAAAAAAAAAAAAAAAAAAAAAAAAAAAAAAAAAAAAAAAAAAAAAAAAAAAAAAAAAAAAAAAAAAAAAAAAAAAAAAAAAAAAAAAAAAAAAAAAAAAAAAAAAAAAAAAAAAAAAAAAAAAAAAAAAAAAAAAAAAAAAAAAAAAAAAAAAAAAAAAAAAAAAAAAAAAAAAAAAAAAAAAAAAAAAAAAAAAAAAAAAAAAAAAAAAAAAAAAAAAAAAAAAAAAAAAAAAAAAAAAAAAAAAAAAAAAAAAAAAAAAAAAAAAAAAAAAAAAAAAAAAAAAAAAAAAAAAAAAAAAAAAAAAAAAAAAAAAAAAAAAAAAAAAAAAAAAAAAAAAAAAAAAAAAAAAAAAAAAAAAAAAAAAAAAAAAAAAAAAAAAAAAAAAAAAAAAAAAAAAAAAAAAAAAAAAAAAAAAAAAAAAAAAAAAAAAAAAAAAAAAAAAAAAAAAAAAAAAAAAAAAAAAAAAAAAAAAAAAAAAAAAAAAAAAAAAAAAAAAAAAAAAAAAAAAAAAAAAAAAAAAAAAAAAAAAAAAAAAAAAAAAAAAAAAAAAAAAAAAAAAAAAAAAAAAAAAAAAAAAAAAAAAAAAAAAAAAAAAAAAAAAAAAAAAAAAAAAAAAAAAAAAAAAAAAAAAAAAAAAAAAAAAAAAAAAAAAAAAAAAAAAAAAAAAAAAAAAAAAAAAAAAAAAAAAAAAAAAAAAAAAAAAAAAAAAAAAAAAAAAAAAAAAAAAAAAAAAAAAAAAAAAAAAAAAAAAAAAAAAAAAAAAAAAAAAAAAAAAAAAAAAAAAAAAAAAAAAAAAAAAAAAAAAAAAAAAAAAAAAAAAAAAAAAAAAAAAAAAAAAAAAAAAAAAAAAAAAAAAAAAAAAAAAAAAAAAAAAAAAAAAAAAAAAAAAAAAAAAAAAAAAAAAAAAAAAAAAAAAAAAAAAAAAAAAAAAAAAAAAAAAAAAAAAAAAAAAAAAAAAAAAAAAAAAAAAAAAAAAAAAAAAAAAAAAAAAAAAAAAAAAAAAAAAAAAAAAAAAAAAAAAAAAAAAAAAAAAAAAAAAAAAAAAAAAAAAAAAAAAAAAAAAAAAAAAAAAAAAAAAAAAAAAAAAAAAAAAAAAAAAAAAAAAAAAAAAAAAAAAAAAAAAAAAAAAAAAAAAAAAAAAAAAAAAAAAAAAAAAAAAAAAAAAAAAAAAAAAAAAAAAAAAAAAAAAAAAAAAAAAAAAAAAAAAAAAAAAAAAAAAAAAAAAAAAAAAAAAAAAAAAAAAAAAAAAAAAAAAAAAAAAAAAAAAAAAAAAAAAAAAAAAAAAAAAAAAAAAAAAAAAAAAAAAAAAAAAAAAAAAAAAAAAAAAAAAAAAAAAAAAAAAAAAAAAAAAAAAAAAAAAAAAAAAAAAAAAAAAAAAAAAAAAAAAAAAAAAAAAAAAAAAAAAAAAAAAAAAAAAAAAAAAAAAAAAAAAAAAAAAAAAAAAAAAAAAAAAAAAAAAAAAAAAAAAAAAAAAAAAAAAAAAAAAAAAAAAAAAAAAAAAAAAAAAAAAAAAAAAAAAAAAAAAAAAAAAAAAAAAAAAAAAAAAAAAAAAAAAAAAAAAAAAAAAAAAAAAAAAAAAAAAAAAAAAAAAAAAAAAAAAAAAAAAAAAAAAAAAAAAAAAAAAAAAAAAAAAAAAAAAAAAAAAAAAAAAAAAAAAAAAAAAAAAAAAAAAAAAAAAAAAAAAAAAAAAAAAAAAAAAAAAAAAAAAAAAAAAAAAAAAAAAAAAAAAAAAAAAAAAAAAAAAAAAAAAAAAAAAAAAAAAAAAAAAAAAAAAAAAAAAAAAAAAAAAAAAAAAAAAAAAAAAAAAAAAAAAAAAAAAAAAAAAAAAAAAAAAAAAAAAAAAAAAAAAAAAAAAAAAAAAAAAAAAAAAAAAAAAAAAAAAAAAAAAAAAAAAAAAAAAAAAAAAAAAAAAAAAAAAAAAAAAAAAAAAAAAAAAAAAAAAAAAAAAAAAAAAAAAAAAAAAAAAAAAAAAAAAAAAAAAAAAAAAAAAAAAAAAAAAAAAAAAAAAAAAAAAAAAAAAAAAAAAAAAAAAAAAAAAAAAAAAAAAAAAAAAAAAAAAAAAAAAAAAAAAAAAAAAAAAAAAAAAAAAAAAAAAAAAAAAAAAAAAAAAAAAAAAAAAAAAAAAAAAAAAAAAAAAAAAAAAAAAAAAAAAAAAAAAAAAAAAAAAAAAAAAAAAAAAAAAAAAAAAAAAAAAAAAAAAAAAAAAAAAAAAAAAAAAAAAAAAAAAAAAAAAAAAAAAAAAAAAAAAAAAAAAAAAAAAAAAAAAAAAAAAAAAAAAAAAAAAAAAAAAAAAAAAAAAAAAAAAAAAAAAAAAAAAAAAAAAAAAAAAAAAAAAAAAAAAAAAAAAAAAAAAAAAAAAAAAAAAAAAAAAAAAAAAAAAAAAAAAAAAAAAAAAAAAAAAAAAAAAAAAAAAAAAAAAAAAAAAAAAAAAAAAAAAAAAAAAAAAAAAAAAAAAAAAAAAAAAAAAAAAAAAAAAAAAAAAAAAAAAAAAAAAAAAAAAAAAAAAAAAAAAAAAAAAAAAAAAAAAAAAAAAAAAAAAAAAAAAAAAAAAAAAAAAAAAAAAAAAAAAAAAAAAAAAAAAAAAAAAAAAAAAAAAAAAAAAAAAAAAAAAAAAAAAAAAAAAAAAAAAAAAAAAAAAAAAAAAAAAAAAAAAAAAAAAAAAAAAAAAAAAAAAAAAAAAAAAAAAAAAAAAAAAAAAAAAAAAAAAAAAAAAAAAAAAAAAAAAAAAAAAAAAAAAAAAAAAAAAAAAAAAAAAAAAAAAAAAAAAAAAAAAAAAAAAAAAAAAAAAAAAAAAAAAAAAAAAAAAAAAAAAAAAAAAAAAAAAAAAAAAAAAAAAAAAAAAAAAAAAAAAAAAAAAAAAAAAAAAAAAAAAAAAAAAAAAAAAAAAAAAAAAAAAAAAAAAAAAAAAAAAAAAAAAAAAAAAAAAAAAAAAAAAAAAAAAAAAAAAAAAAAAAAAAAAAAAAAAAAAAAAAAAAAAAAAAAAAAAAAAAAAAAAAAAAAAAAAAAAAAAAAAAAAAAAAAAAAAAAAAAAAAAAAAAAAAAAAAAAAAAAAAAAAAAAAAAAAAAAAAAAAAAAAAAAAAAAAAAAAAAAAAAAAAAAAAAAAAAAAAAAAAAAAAAAAAAAAAAAAAAAAAAAAAAAAAAAAAAAAAAAAAAAAAAAAAAAAAAAAAAAAAAAAAAAAAAAAAAAAAAAAAAAAAAAAAAAAAAAAAAAAAAAAAAAAAAAAAAAAAAAAAAAAAAAAAAAAAAAAAAAAAAAAAAAAAAAAAAAAAAAAAAAAAAAAAAAAAAAAAAAAAAAAAAAAAAAAAAAAAAAAAAAAAAAAAAAAAAAAAAAAAAAAAAAAAAAAAAAAAAAAAAAAAAAAAAAAAAAAAAAAAAAAAAAAAAAAAAAAAAAAAAAAAAAAAAAAAAAAAAAAAAAAAAAAAAAAAAAAAAAAAAAAAAAAAAAAAAAAAAAAAAAAAAAAAAAAAAAAAAAAAAAAAAAAAAAAAAAAAAAAAAAAAAAAAAAAAAAAAAAAAAAAAAAAAAAAAAAAAAAAAAAAAAAAAAAAAAAAAAAAAAAAAAAAAAAAAAAAAAAAAAAAAAAAAAAAAAAAAAAAAAAAAAAAAAAAAAAAAAAAAAAAAAAAAAAAAAAAAAAAAAAAAAAAAAAAAAAAAAAAAAAAAAAAAAAAAAAAAAAAAAAAAAAAAAAAAAAAAAAAAAAAAAAAAAAAAAAAAAAAAAAAAAAAAAAAAAAAAAAAAAAAAAAAAAAAAAAAAAAAAAAAAAAAAAAAAAAAAAAAAAAAAAAAAAAAAAAAAAAAAAAAAAAAAAAAAAAAAAAAAAAAAAAAAAAAAAAAAAAAAAAAAAAAAAAAAAAAAAAAAAAAAAAAAAAAAAAAAAAAAAAAAAAAAAAAAAAAAAAAAAAAAAAAAAAAAAAAAAAAAAAAAAAAAAAAAAAAAAAAAAAAAAAAAAAAAAAAAAAAAAAAAAAAAAAAAAAAAAAAAAAAAAAAAAAAAAAAAAAAAAAAAAAAAAAAAAAAAAAAAAAAAAAAAAAAAAAAAAAAAAAAAAAAAAAAAAAAAAAAAAAAAAAAAAAAAAAAAAAAAAAAAAAAAAAAAAAAAAAAAAAAAAAAAAAAAAAAAAAAAAAAAAAAAAAAAAAAAAAAAAAAAAAAAAAAAAAAAAAAAAAAAAAAAAAAAAAAAAAAAAAAAAAAAAAAAAAAAAAAAAAAAAAAAAAAAAAAAAAAAAAAAAAAAAAAAAAAAAAAAAAAAAAAAAAAAAAAAAAAAAAAAAAAAAAAAAAAAAAAAAAAAAAAAAAAAAAAAAAAAAAAAAAAAAAAAAAAAAAAAAAAAAAAAAAAAAAAAAAAAAAAAAAAAAAAAAAAAAAAAAAAAAAAAAAAAAAAAAAAAAAAAAAAAAAAAAAAAAAAAAAAAAAAAAAAAAAAAAAAAAAAAAAAAAAAAAAAAAAAAAAAAAAAAAAAAAAAAAAAAAAAAAAAAAAAAAAAAAAAAAAAAAAAAAAAAAAAAAAAAAAAAAAAAAAAAAAAAAAAAAAAAAAAAAAAAAAAAAAAAAAAAAAAAAAAAAAAAAAAAAAAAAAAAAAAAAAAAAAAAAAAAAAAAAAAAAAAAAAAAAAAAAAAAAAAAAAAAAAAAAAAAAAAAAAAAAAAAAAAAAAAAAAAAAAAAAAAAAAAAAAAAAAAAAAAAAAAAAAAAAAAAAAAAAAAAAAAAAAAAAAAAAAAAAAAAAAAAAAAAAAAAAAAAAAAAAAAAAAAAAAAAAAAAAAAAAAAAAAAAAAAAAAAAAAAAAAAAAAAAAAAAAAAAAAAAAAAAAAAAAAAAAAAAAAAAAAAAAAAAAAAAAAAAAAAAAAAAAAAAAAAAAAAAAAAAAAAAAAAAAAAAAAAAAAAAAAAAAAAAAAAAAAAAAAAAAAAAAAAAAAAAAAAAAAAAAAAAAAAAAAAAAAAAAAAAAAAAAAAAAAAAAAAAAAAAAAAAAAAAAAAAAAAAAAAAAAAAAAAAAAAAAAAAAAAAAAAAAAAAAAAAAAAAAAAAAAAAAAAAAAAAAAAAAAAAAAAAAAAAAAAAAAAAAAAAAAAAAAAAAAAAAAAAAAAAAAAAAAAAAAAAAAAAAAAAAAAAAAAAAAAAAAAAAAAAAAAAAAAAAAAAAAAAAAAAAAAAAAAAAAAAAAAAAAAAAAAAAAAAAAAAAAAAAAAAAAAAAAAAAAAAAAAAAAAAAAAAAAAAAAAAAAAAAAAAAAAAAAAAAAAAAAAAAAAAAAAAAAAAAAAAAAAAAAAAAAAAAAAAAAAAAAAAAAAAAAAAAAAAAAAAAAAAAAAAAAAAAAAAAAAAAAAAAAAAAAAAAAAAAAAAAAAAAAAAAAAAAAAAAAAAAAAAAAAAAAAAAAAAAAAAAAAAAAAAAAAAAAAAAAAAAAAAAAAAAAAAAAAAAAAAAAAAAAAAAAAAAAAAAAA//jFCABvFP/b/9UUlEQQ0VNQ8VWuZCEzr3TnWBonpLSLzLGu3S6TtXQz1uJ/fy1K1jcS/WyWtOnIQ92yskzos1/2fZFo3Qu0Y7Cd2HqObJ2yjD3XYpsuJzm9aFqXMtJsR192U1ESTKZ+KWWjNDZU+cLhgpG5HNPt6wZyFsuGq7nxoLan5MT0Ys8RG3i7tkl7a30gTr46Q6MmcmUeY3065CXiOa00WpWUrdK9qNmCjM9i/wjOy5pjpGE1J7HV4T7Z0aEtntSvDM1aJKh1Tb01eXfIjt1NHJFSiPNifvqRFm3r3RRNPLEfqwRqe/NGVTYjHfI6IURFkUeEIQqN064kt5GOJuOZIx4Y52Eo2QvM/y8omnG9tVb0iLSRjJ5ViFGQtTJLc5Iz0IXjFDvoRJ+RNvpyEdsqb5bLbiL8pKXN2I45HSVOI8So3kqFxRvCLkq9YiHEaL4aMWohUyjNXhdxDmnNYr5EZlSy0W9DEiwhZfiiOT4Mbq7qkc5kQg3LRcfIKiJbVEFS1m9qYpPiDd/+iPAjP4wjnyHDAKAEAUzmKOGpgKBhB8IUY5Lxc5rSBRDNMPcKhxKxEMlPitDogYrCmVyHsNEKTM+/uNmsuOIsdUEQYTnvLsleCsQ6pCQmOxjd+g74Y7DGsbveeImIUyF6Qu7VQzykKZ2kk+QnzWKpcEfoajC46qWbjZlon+d6zL/yCZnT2n3FMyI42EH9fcTNHEVD60xFciL3buM5TAgpRJSQ6b4RksX99yGFGhj8WWrkMjO2VS0yckMojpZXXwkUZSMjuVaYTnMq5UZmgx03p4pl1MYooZaROiPeRzK+WiJxkeFWzVGSZSshYplTqJTDhpM/dEdzLg0pC7RSzyFZwy6DeCIpSDnYtMoiY3ILoTiBR+MuZc0mSlpmPcNyHt1rI7Jrnyu35kcJoe07J5mRmtryVHjTjbslUrxSs0eZDbFhF5HUSOzK1BHNM47WuhcxoXLpII5D5k/RNKpUcS3DJ1MqruuuYlnQUmEPzFrCHyLSFisyIpurIUFKMgTtySMVSeI61qUiCtSU2IqL+wtomzIOUghVJebHjkKg20QxaVYfJWGxk5XbinEbGtTb1xJ0+iZTdXJEFk1lcpkoRim5FpcpFgiWmkY/PFckVmahB/oyYXbfo4krJLrpyyFNs/JiZH3Yn7ngRUcQnQyjrpdOjBMd6XY0vyCLSPROaqPUItaohK65siyszjF6oKJIk1pajIqoS8SkLlLKRIURkU15+pDEU+VmQqKpiZg7zxLyBCLvKleV1IxFcJmIpKxRSDL4p2R41LGGbki9ldYSxhDVZGO5/iY23e2pMdimgl05iBWfyiOyGOpqxWPsR5vmqlaGFZktLAz/u0cMZCKIslFWChJkEHQyxSYrKd2CeCWGXrDs8M2MpMpr3PF+g0xOYBQYA4IqNRhQZ3b74bsKI9QKIuRrLbCvPmlKJWJFEpCmOxxyYzbmJZWo8p/EufdU7/ZipaIfvKfaobcIqna6cTaZjYxRlFw9X3tIYlAg1A8MEo3WHimJhX/qoUlkRy+u6sWAOAHkcwPQUsyk26no6Sj4o0ol0xiQKnLFYVwG5DmObllekS1U6IJrMS/RaMLDflGC8S8kHhOygwuSVSeJbxhjuRjuGsgxQ+XD4EUVnGjGKiBSDohOkeQ1aUIx/GcZ2lm1LQvRRBE7O1PsdGDgAmKCEB8qAGgDMghAjIIFxcOE2jPBAZIGzjuRLfbpbfLIEyVl9vXZSpD9Idav8l/sdcrq9ezWrHSEV0O4lS2cTzb/rbSIsly+yDkDK4jw2OIIq5ioZqW2CmZ0p0IrpBUiEhIb+w+iJNiTLHiI9k5OyvPNxOybS14QRlI8FsXosI0RWTnP8hMbVVyVVm1F3zi7VqK+JvFkbMYh8R1o2sjsqZusXKIvI/NiK1Uei1USjL40jNlCSqSrG/VPHgCmroUb1iziC1ZCWULdckoKAA1QIQA8sHNgFxOY65lDwRsRk0CmF81qKP9+vyPQuUnZowdztt7SJKtfaPYKJZjgrvVZtY3F9uihKklbxJuadEmOWtWVz2VdzNZ4jypvSljvNdB3MqI7ES3DiPdBs5sRe5/SYIXSeifdo/Vd7JkMjRbk3LImYts3F0237WKffmMoYAx9vSUVXRtJGlhyKVN5VHw2xHDzZlOCaGEDJTGNtAoJYTzNtLDm6rhaf3c2UjGpLibgpqvRoI9EgZbsXJX6bdq5L7z/k3nimRsbaJ1lXmuk1Pk9NHeFC0Z76BC/5sESnNhWotmbQrwZhrEMEsGBd2dPsKb+lSX5l7FSpKi0MJqzJ9HomqXirlFSz6uYILUmC0XlZ3St0rmFoz3ZE8b3fFRRFwpFqJ/tfapW6JzFbF4slVw43eqkzFr6stlonWLqzAaEWMBZTFonYqyTONGbJwJOFgKANOMNwoJFIYeqBpCFqWRE7RBd9QgASABAHgwFlEHuNWQxoSAw9zSjzn80qUqQXDsXXYuSJWptxfEg0YqIFGch4Edv1MOMK3G8ST5YcCBxCCjTF0KieR9Mhq2OoqcjkhlQ1/Q2tdK6wjDMOwqdxTjUkas3zc27OVrkZcRS5EehAA4AwBQQBSgEAUBHJQgsTnESuzLjoRoOEmSTEgKttfYzGpREP0W3RGQ39x2cjhLomKirUpkRbB2dmmsfO312Um9UCAcgAMAoQOGA+YOAEAAoABABwI5FbFMLOwmD5j/CUZxL60FRrfkYkjYVDov/qN4tS0ku3qI1eZWyGhLvV/qKuaOjstam2pTKpuXyMb7CdjulxDoexZzWaaMirGHziXsEJTUqqg9Zhimi+b58hUyUtTZqj6clb/My+dlsa5jmhbhJuwsXbDfEZ4ciOiJyxPPbhs1d+xU80oim7Fl35LWWmfS6rGulRHTJhGilEDxdGa8xcvIkfLuRlRplJPE6kdFQqdDdCyKtP7xLMhRoR9fYjER9F0lgvk5ozJyRdD/VGJkLYlWKaOTVkdbYStNpEW4dulQxbUycj2HQtITSm3Qsjob/+MUIAWhC//r/+7U2nokCUMpmf/KhNMh2X62veSV0ipSo+a6Ikjd1qbbE5CEePMRMN0ZnvpGIkIllEuqjIUNmiMK1wrjLkRvNKVi0k1Xp/cl7YyZHute75lQjdJSyIkMRckhEuSwjRIq5aVW5mskZ1ukJYyiI1NNVdGKzSJatSET65pmMJWkpOZSmyJk3TytOzdsmT3duIvRyPFFnOlhM0NuhvOjpsjuJCJfPViQRVNkJQje2Y0mMm1tRywhrU8QrNTe0yJs22iLbmk4xdE9q501hkRWkpmlN8iEtJOqPeS27Zy62sbQg0zDOQhIr41qZkkEKQWC/uqSqasTiKJ/20wZnE3kqkRua4Wr8tbNmZUSG2IGNDYYnbULifciyRFQrvOqISbYbekeFivzXZmwhZV+Jtacoi4gSohG8JdmfY1NsStIy4iEEgjedXkSp71ZKs8yS7RvNaz6FMuKmexFJKk/R0KqiJIidYRmakzhPdZkrNmRPtEkw5iJWvJS4l6XQiW3qMgmiVOTyUq0y54T2JFQ7a9pJfxEJdCLAiOZTiidGu05tolRtK16QQiG9xd1I1a6Qu7otNOaoZbvvXHIx8InIeVvuinSGTkyVqm4ihNDJX0agiiJISkITdrDWr6NglTelzN+VH0+UpKQStIdR9uVLDDFyLfkzWwtroTa1Ga9L0VMTCRm3XD4EwRt6wXksRHSzzE5shH0+U0uq5GkJCyumS/z3kSmjFaKRkRkveL8pI3w2FhGxu9Ey6CJKQIRierLdEL6nzZiiVkn5WVkJ2QyJOXL29IRHj29PG5smsrdDcyaoaIdCy8iOkwiiMpbHImjCIlETZYxfcirEwhD2D+J0N46kJCdUIRkm+iTKlUogTM1rmhkVHzJMiE+G97U7I3ItbmOX5GqdJ3/qI0aIr6WjEQnhZ6TDRklmwIS+jaNlx0YjCITV3lTqpJukTYifHEzCIT4vdSJOWRvldhXvyL6kQbXV0JGIaW+JUlIqYnNT7MaIQziJkzzJhEMW41Zkdcyou2ZMsR6mKxiHs9J0KEuUtdXTsS0SJu1U16cJUasuyGht2rpqaIRIZF3W6NEDRkeZFbYjqiypL0mJ+tgsWGqVtjvuhqI02qcg6KlZERMDhDCjBwIAcBnBAo2DhOkEUJDWLNeSuxuhYpx5TZtLlkdEJkRHRSzZt3NaiFaH5DNZqifszZ05IYqUuRmm6ZKhCWmK2XbKqoR2dPHWxv+mQjJI/JKapUpF0/f57HKyKSFdiK2ZKCLds00SkvyYjxWeUiROI3XM1stYiasnRlqEnV+yrFnZMyzdoQqFEXNI0Q0tS5UxGSWb6IiaiOidjRp0+jE31sdci4llvldCkSp6+jxlpI4lIQSVlkjbNJv2dSLiN0ZkUb5NLmJog3Tbz78at16KUj2zpW01zSZ90aLGTyf1trJmMm2zzVjTpGRE+Sq0ZU4TIaU0qJZSEgm3/ywT9JN4bpI7LbP0sMk89jFaJSJ2yNIkS2dSRs5JZBNNGXJZxGZjMEmQhRIamsZ3osWeiXFRknRZM0RspF+Ef2zpltW9mdHxIQZInRKjXMhidNBJFW+pCZkYr6xoxtKWrFUlY2p7C3yJLEi7POSxLdDENEchf2biKQxOY80SbTQ6MJEESqRTmlzSOfR9a0kQfRmVLK9T7TNvNF3ZExcitmTbGTk/bhjDQ2WG82awrN/kpE+RPMiIJYr5TH2uu6eVDXLtpPXvQlSGrTNKbfE1MRNkfvtW5kQaZCJESq7JLiUxs5HUj1bDWkSVLP66kVmRPyPFsO5M3pqhF1SXaJcyARCErqQ6vTRm6dyZCJmit4ZCmhkRkISxy1i5yLocxSXwv6xDJuE0i+tKhJhGyySxlZ5G1CZGWpCE4kQ2rJMS5ubReV7EJ5WXW25LZfGhsjNPnT/I0nrxYuVmIhEa4ikIpCkjRiO2JM5Obezfoy2Zok5ImsX5KSEXkOnqr/CPk3y7cyRTwvRmJk1KSrd80TRBtlZ2rIxE9ST3NjI0kWxLt9SLrURNWPFq2u2Ta2ufRsIqRjP0cXRrsJ9mXKaYmvJ+iZAlZuvbYRCBE7X9NolfrpcdNJWL+qdFIojIpohfHhTE7JkXOX3uSkbM9lYhEZEZkndobJSWa6q+cSMbdJWpcybEJhO1smWHkTFbVfMio8IRqTtTJyRqiTIyxsqSeWaCXXyFSiZmMQRk9I+IzRceb/PFsKnRdXjGeaNskSI34IqLKXUim6HnVFRCENQnmMiCGZhMzIu0lfM6KYpKTdPbEqMhNtibb9DpPfrnN7/PXNDEIzJqkREM5MISJJGeIpSZJqkFTQ2yJp4iobCdlMjr7/N4qNkaqwqcuN5M2mZUbUm6xCYyRm7Xo36EmgzPGVEvVHiE5Pq0SCcS3oiIrZtV9l1wsJN40ySLL80vCdpkbTLW11xc0SeC5LTZsEwiCfZZYTohmxsW+lJ0diLEssiSGLV3uya0nfXCOSH7y1CMzE+U5CdDQk7Sd0s25rCMkbXk6E1EXkxk30+dGR6im19/0T7eZsppN6yF0Vrm8jeeZo0at4huyFNpMSPEmjLaQDea//jFCAJhUv/8AAAAAgAC//3/+P/y/+v/5f/ktBeF/RawFO0pCH2nhwc32QxcnIpN0sVla5lJs5MFBAqXtayHBhWmCgQOxFcEHwgFRpGdqdSt1a9WH+cbU/ruP4oVFHarV+x2/srklVzjM0rwxnSRM4nNZv0P6tuR5rH04Szk5HfUxXsxaEJInUaqljifBB5oCBpIUXzFqVvMuEVPDRhfJk2FoZXQiE8wllNMSK+BglHLOtpA0IalzVuTaeaeUJreJn8EmUJimwwPHI+hvUMkhEaJqc5tBbbVCGuEJkCVOHkyykiSZKZxt7Vyxctm+kdEYE1ToV2NlRMfEwVfU/vEqAngwzVOos5QsE3TCo4aNHHCaGz3LB3Y3X1s+16XfNvXjxjakw4QbNmiBZ08ZfOJk0GyeqoibbRLtqhXp8dQH4bVzej1iTGhJIoEIhJRTx6ETHhUh8jJ9VcqTb2bw2+ojVpGwghM090QWo8tbDiXn9YQMyfTYFUhnBPUyal/MhIqEnRSAamacWCxcGHRhUQGzGSBW5AveKKI7+vJ+Oj6xU8P0Ybvq2D7CgCoaM9+ikE00DbuW0A+aZFRYfHCqIhtiQpYlEeo9oc0uBBdslNWt6pqtz4Zs/jqkW5+iFFpXKuzDa0wsc2b7RalknxPLzjT6fNZTSvDVWNBlvbyoroLw9As9DuBq3j4gZGK1AQE8Fa+4KdPlsib89dbYAWSg/ioCqwLJ2SB/HhDYpJMPVUPiIjG0Hy+Ix5BuNfYoKODiYgU5KNaJtnI2jCvQBVsaIka61Su2DCqHMk70j8xx31VmjimqpAOYBY0tCGgPonUDtpewgx+xgM2bbdKXgj7jgKyuygyW+puhR21MS8ToYejkZUC2Y3gFRECIzJ4O/TDILyIT14IijSeSxACKlQwvo+njSY/pDNbS5NFdow8TlsxsUXtDT9Cjqtud1QsLlsuhXNzHHQPTIPMkxy6avjIn7vJp2sNorTLgzvs7AY6gVmOrtNRQCWZo5S6/Zmfhpv+9he0wf+AycpZ8BTRmgVExgi6vZgmpGvqkTv7RhoSjz4nY4Fe9GpESZ9hJen1fQKUaXEVWnwimyaS6fDzDmsFE7rePlcT4mmoeFsEVYetv0rKG0vK8FW0hWfRlLVlEzMAbA1YCVichsgcZsfNibN/SlUgmgsFSRt0+MzCL+KFR58eYiJV+AiFEGf+/2uDpzaL1ToA7tA9hBJrZpO1DSKOwUXMtHKxOIYsU/0DOrZBk9+uuSJN1ll/SOqszrKrz4CQggPigHweWPdJr5F/iG6EhuXOrKWVe/rCcAYwDigXuPCDlA3yT4FGRxhzRCv0EcLQNq02tzSd7xpLYwZsRFgVeW7wTi3B+STpI6BoUU5my7pWSgUpRPFAnScIzuhOkfjTdn4KMIegAqU/Mzyv8UVe00ItBC42vK1oliI3SYQquIwCEMyzb/WUutMncsCJxIqtlFXLSKgFaBrgDwgdt7gFAz0sXxOkpSEVS0FeFK1ygrrr43qOYhBbbdgwzKomWJEmLWsLqXziDnyqyOIqSl9uRULIYRrrYSmwhBNwSBWahMPZIqHUbBYnL3f7fSdf2lrCQOWCJVg4aaXJaSMo45j693d2cScldaIDPX3VFkgDfFDAT0HDApgN1BCf15GUQ9TpbmAQSxXhneNwxAWuf5P1ZP4akF3ngQC+DqoKsmxen8Vyydi47dNFcgu5ewfzK+OxiOb8Taiphl8vjIFavCslbuZR+FXvDNo8qME3ieJ41AR91HdTlu8rB4fsT4+caX0xoKEGUbgBjQ9vYBnira+nBgCO3mEKcRwgwtzY+EoPlstGC6WdNy9mnKTZAz2LYlr5sT03v4N84Wa98eNPYKkxiHuM1A3XlkvM0oRzI1d1L69cmnmXbdF/TFA8TDMI7Dhq7BXrvfLPgsrIp7NxK9nnecHZlE7OMUJ+heQ2u5BEhviRxM0EoWpD1InsNwK5nFFT9GiIsGdptr2+rt00zJXp1tBFV+rZaVrnhBJQqF2bX/yhXMQrwgHQQ2lzTRl0e52sbf7bDk5bjRaKE2d5U3uOY0+OtcNc/28WEpqsM2e9fe5lHcmuZgUQtielrCuts9z4YJBrhDk4j+V15kDCRBPacgq+6ZCGc88tyD0xDwo8wKabBAl7v+tqF5W6YTzQ0qR02DQXxSJhIIrH0QvlDVYzvSBYniZW5FE7W3jNPOM+cTr6aSjL33syzl80nsj/E9dIroT385m4YYo38CWjYUo3/XumjMn9kIysBDUmK1HNGhS/tlc5YCJDjkZQTFBon1PRmxziMgUM6A6Rm4gbKu5mUK+yBXs8u9afgbbLTKN9NB8l01s2kPi36RRQy7jMbf3c1wRchLZkOn8kRUiOjNI9VXw6hYTExQ4Fjc+EjrsTBw5nzM5WZJO5fPGqPb/T4cSkpILRqtext7TZkKVdxXKPGjE4bUHb54246a63VXCTVNXItPf3cf7Ot6dvgYyc1kYgkx7bCeJkVeSTImm5LGDXWV8JCQqoDJeJGocOxZIFjlFSqZvoMDXarZP4L8KyKfWvLSKQRKPfPuIFBAjbZsBfHrFlbC1UlZLixX5p9MQ+Pk+znMqC72I7YWb2BTxcWxQXUy9PqcjkrwCtOYFE4WGdidoVFgtJSmlKTKnfmLzHrQn166QKvhCZB2qiEgkjR0X8x4a6hI8Wml0gIsBWsvd6zfO+ZVf33iU75p/Bd3Dbha0lGEORXuL7QqpBxMz51IGlcw4DhLnMctyRhMV2fGEjBvFLSpP7Y4MqQkSku3m4ENGSnlApk7XZeMutIVLmJAIjranOGNMyRk/TaScaDFUyj9fXk9vxwjbki9gbst28YZDCZV2OhiDLhSp52v5YZMwmpqNhX5gKVmJCmw0kjPPf8k8n/Lm3k3DKjHs5RUee7tWWDm/VDDTa+l3idyS/kOtILip/C2urXmlsfY8VUxdxBzuCw6Jm6fa9aFIomWNuPvRLjECLH4ErvZE7rl86y+FeaTG9UxeXVrLvj0T7eQFs3NCISm+iI2GUkWBCEWMJ3vvKLWN5VGDKzsi9D/ildSiWJT0cT9bFguox0kPr1UqEfwsFlJ0oJrd3nWI4ceYt5D3SdU2Q8xpBMhWAwSM2YCP2OTWeoguzaTJkItBEuN5Cwc4U1vA2REbqDbXM3VpXuYp7JqbMH7W6sN81LmS4U9eYuOdyRyqh3aei5VTXKnq6e61pZI/8tZFHz3emc1a1ZE9bxTKhx57cErmIMge/OSaROsFkJ1VGZqZC5GRoBIhFEW3BxhbRO5ihuK9KY5jcIkzeWrzKVbhPGy6icxmGnq7TF+e3WvepBd2yunlIyLG8Zhh/kheoJTcEcnk0i5PATaxq4te+PN/snAbfeWP/yr1aFi4S8AqwRwGaD4cF3JG9VoEcBRhfB0hRUBitiuVZXE6C4N8S2haU2BepB52Vzdr61Ii2mEBaZ8PmwSXnJSN5ElpITMxJmWgEPlQ1JXKRCcnUknw7pIySDq7e/nIP98mX18ZAudlnbDu0yFOpUQyTJqFb2kPUNZkv4/u0cR5hDC/yIZilY8yAKahJRDMq6QqkWZfsRWvpIlYvJl1lnQUc8/xu9eFfISMbielURzfMZoyezwIyifi4qWJPxGP3zTnkojJ4IGLr2X6v1RlWz1m97i2ehx1lUGnIkbXt1UhQPl0oGZ2heBsh4BCpHiq5iY8ApClH4vl9QqHWe4rxOECZSnPwpONoOT98WbDEGrSeouLwNDw8T+fNs96hWz6IaEQLabX15B5aTs+N1+rOXQiMadSde3XutxBpl3unw5HgS9JWAxWYDHL4KfPPLfwAKoiQIIEmGYHPR6Xe5xRMkeSbBkVzwiokkaIRpGNt6PsdC25m0bxE+bx7bIuoSyr0hWQrYVjoaN7hxBytCe0vpQFdvXyiU6Bq0D45KuS8CtuPZx788yJYZEm/AqtwLC9UKYCzvAR5CBR8OV2fYFdihHOmWceeHPYh9iAdIpmCEUciWhGAr4QQolGig5MvK96EIRyXncpdv1VSBSvxOKBeMxFJmC4axi1L8b64/imnU04CvwVgIuNv5VYxMkoSWZXBSf7o5SSPZ4dj7p0vZg+HqDvyf63Xp0GC0daCgTUT5z/c2Mk7T49zUICzXOfxapLyJwUOninDUrCHAOWsoXArhl4uEONeO+OFpoDQqQe4WlRAgCdyQgyWuOxlUNWmnAW+GHolHXcCzNvXFId/L3b9pKjVQtszryTqvfEhb2ttvwaoykp76KEH0pWVYb9C6VLaKIpfRiEDsntep1FKQJNHObmUG4M5WK5Aomf3f4ROcyXE+B9E1MqZGkbfaKXWanmGQ0BaRbwu9/aj0ziufUzXgQTMv/RQcvpaHTplHywsH+P12KD0f14qUJ8kzftwjv3teg3dkIPCY5/s+ofII5JBaNjBqVa+KU2/ZZ3/oM4MZ3F5HU9xSyCNOPdrXAK5zMZWRdLYYBJrterF+5nC0omNyW2UpMH3LvUTJJdBRflWpu6xThQrl84qRpPz574HVVbhYogwi0XxmcoiNaRAoc2UbMhDmSpClHwWATxFebUZf1kHq+Gp51CEUHMVBCEVMXGl+lezUHmq4RSwSRnJBCSEg1T1QPzGs4gqZdNBdKyf3jzYczy+iipCiwTmrKDWKNvotiwin6EDg4lK6LQ5kiLGqmbVKNBr2SF5yHfeMHWSNioxGCANwYz/Ek5SgvCnULFWbMVgYR1FoxvRyJTDZrzfrBbjMIKyJpqcCY1v9UmDs4eQmt931KEwQXgki/q5FwvxqsyjvRlW788C/5j1t0m9YUp4G6XNXvvU8zvi4dDcqX0DL0zTvjtNlF2+2C0vASyhcGann0lz7wCz3vhxsGURyoeTIJzARZKs8l/BjfmF8OB3fC4p1Cw3vIUdXjWLeUD4UXQgdOam/HO8czLIZMTRGJnZsFKpfVOoUhdKfMmOTomWq5rrr8hcOxMfgCz2l2Jc6ZhaiufAXiImWNsIQiD7bfS2XUpBaEglCgIZzCyY7LUpzzk8iJOBXzIOboUnSgUnj1+jrovgpnob1u6SQipfn32wxJ/kIos7+diNg0MpSN21WYanojdm0S21+ZaKRmtQsHrcJtr2QF2qTbvRGLYQA6BqnAwm8kq9AilOUXCwE4niAGFWTHDZr2XH3tHTnVMXq6TfQN5XFE2x61Q8JxPjaKqunvhKL4qPr7YlQ/prArbwUw5ZeDj9ySEl2ZU1Y7gO2YKlfo79LTTXbJ45kb6V6pYD+goJkYRQA0ipyVq8rPkoSj+gSTVmqnBMcmk7BH5aJNrppbf/ecVS3m5E8kVOFJlyK4OHPIX/ZFY1KgsBsyrq00hs2s24kg1p2ic0L2B1oa96PSxlwsh9R8jqEfrcTXS1/S0unrPGoJyN6otg71CTlnMugrmxhWFQB4z6WG1A6RxA9etqne9YLOKmTzWOCFi+l+Sg6drC/vz47sd6eeQKVMMmKfSd0pQB6FFuj+Xez1PU2KJHHJA3I99sBYkavVNsSw2+vTWytXYm6FuE8M3WvkL3VjWKmo7386+5nBe6nzIO3uEftErZidgR1X4rv4Ln0mWaPcqN7kTRgl4/ie01Ro2tn4TmUx+K1z/ONDq0xE5jMA/woUNdyHBYffxG8HA0YFKqkgX4O+EtJ2oVWz5SJ/pYzeI14Wb2RgF/ChxE//ypz35Q0TVUjr98OoDIAt0UUbajrl2UBOEnyyjdVGqr7xggsph4BGhnFjlT+zIp+6ebw25E0VEqxERIq3a8/m91qI51uSKeipKafdTCP/2JJDi1ZQl25MCjWbWqnAg4X8aGmbcxI/FLahLu73FcUSURDwxbpYdRIpN9HmzQU1Hx82lJUvts6FPlbfhfb8gKflmbOLkN3MoChiUcNOst0BeXuhfb6ruOJNdRCriCwhwB54yWxb4scVRhpjTTHZPgVmmotUtMThsXucryn/Ied93FzJ1RqSygq7zWl0lb1Dc2T7lyYFhBta6l4hPy+ypYO3jaPvHJSvPihPwYKm+QIImEb5NnkSCcrlC6jUQYZ6W6WKak4gcjLIpho74FYJ0+EwjTFSJScKwc0+XXRXiygnYVX46wrheNfjsGGXmVCUjfHyF2xS70yin4FNMWzr7fzfjqOdxIUa7R045lGLfQb39FT/2DOLCJjUBZw//4xQgDZk7R2svB2ET/kSirMeQjViKitKmEhyuXe+qRym4QSo1RTBpcHTV+eV5TRLOuBs4WWSyg7Vtb0STHsWi8rkhiYxBQReNdEUuwnExKM9Cj6/vQxHI6wLCL5IeW3ZJcnN7qdz7jN3wp8JCEet3TYkVkN31Ut1v4evKRCy5NrxzW2+sg0X1DPuz6eeRsCbbn7CO+O+VGUK0c0nVLVFf5t3vGslijgNpDliwxiYRmwoGDwe5evShRJ9SZSCywm4lheyiJZk5mEJ2V5cO+CLhuwyE6coBq0YXFhS/v46rL8hhg/oWO6RALPJT8ky6fxNAzfhBhfAmURKwjmu5/x+P41ozCWgyXlMPb1AgHJSO9kkY9wR5gruWmFSUVYYxvub0PH9n/Z3HdvRx8ySVFg0dQKrA0o6t5AdILLHVaDP4cXRR7Q9STkHtBVx7CrfByn4xi3qd9wAUALWBUAlxC24WH2Ow9el/uvkRC5NZx4g1e5kN4tN1otcm31RHTDA3GPaZciz1GnMDs02u59k2Y1dpXxZ2jImCDJEIpFQPrZERO8ol6dnfKWHVBopLrzgQrJvq6rxtyrRtUmDRIAAggTytwToa4ZZH6wsKvSmo9VEUbELfIaeRU1PKmycz7BoyIrESjQjbGB2mb+8XO57fTMaEUSUsgtHnWLm65dg51VUphhH5KDskEtW6Jlsmf2r5WAMxWWkTlWw9xe7xM9NgdQhDKB1t45x1Ulw3CeLXisgeFnwxCjfs9YvOa3MK2PVLy37GYP9BcRS6WZ65kQtaEMekkmxBC0HyDm01eOSNDDwy0xjK+J6NsAStrB6H0ghmyB4pHQWWHKBfyuiOGUl9rPFFrNSuZIF6PrH8ebVlLrHRu7RETykwm4T716yyS1yPeMZrxIFSFB+MiIwOOmlOzIKm7aZ4v44kqOsp6NT/1hU5H31/xX7TxpTvwQHlixl7FnnQNEl8yB7JcnhBifjFSkETyLqL5NVJ2frwFyzRW0sNVSIto8wpyJMe9hub5ibqdhJOsObWV9mbsWI2jcjPhOGJfdM79eVIpGrl3g/oURlH5WUr2nSZh5iqepnPSKU8oX4+vf7aRzHNG4udv7mgpptAOnVHlFXVVc1azP5j9RMI1A38xtRZejiv/zIKc8WyphqrQjTyhbPLcfcV/YtEplWL2/QyvLndcCe0vJwDGIXUcySqWSruEd6yvBEJDHSpwenj8mavwR7FjCTuwoLDzEcanVRn4V1Xft7d3pbM2a9EaArzmqh6eNx21fGk0fCnjFelz6KSHo5LpIq1afTOqol3cApcgEy1/ncmM65vHq3R2DP2UKVYCMqsfxH/jcyehLLPZAvUzccc61clM2JrJqT5lPVZNegnlkTW9r95Xig1XQhHfqVSpFKATHhomRY3/FMqXKWUfmynTMrVNdeQLY5liF9prV6hnb93cwq+62zdK6uvUaE+kluAQGR+lUt8S+TqFwiRxTAAH6JmVSJVJ6I/eYL3DjjGAEtLlgzdQ7OKnoVnZpCHnBlY6+nEnkZad54sCKp6kVuza+xcRoh2h3ajnxkJ9Djl7yqYw4+zH1okXS9R11MOep++p3Q7FSSp4JO5HcvhW21YhuY9GoO8bhuaI2Z6p8XN3NCjz2Y0Mg9g5O6D34jixy/lgH8A9KRVYS+iB5Xd6I9BgwcoRFqM7lFzpbxoW5pnMgH1gnnH4wXZHSl6orIqYh9CJuEpMk/SV9Ojjosc9KK5/x3KTmUTUXW3mUhsVCXARS1BPmkVqcggeXIfSFKceSpSJo529WMMMcSWtPJp9vZvsvryLNvdTcVrVGZykd+Or+8iEX4A6AKzdyObHZVpdASouaJgYQXP5RZxBIyiSe6cTsryg70n8sRkvaNhKX3CZa6ZG3ZnyaZUJwWL4x/y/kyVLy08NsR3KyKvF1fLaAl2QqnsCIcly/4pjytanofXaTFoE0Wh8Q5/VMOR3QuT27AbG5Zo/r6ZT7Fa+36+u/M5MSDZIFNA94DQxq5QMhqFWGZMo6pOYfkTSUM3CNRuyz+xaigR1w42yydiMfXf+ydmDlVierFlMJhRZTdaFMcl7y0rsjfa2UXHuyrIpvGB4zrKd9YqdEU/rV2zV4PyzGtS/OUJjxZP+Q/MP6Y/a1DwtOetS/qqUaB+0ke2jKSEabS2Nv58KoBCwGjhWqewRs7R5kFZCQOL8Vs6Ja3jhAS9YqX1zReARDdhEkfoToNq/dMpY4RikNFix/R2yrYL9nYwnCQide0hnovBTvhCNEQCg6+zXSKLJBUlfsg0nWsh0FSl399iZ0gyLFpdcQQ2OA1CIkZsttJKd++ELCYjlpIOYARoAAp4ecdcABKFzE/Wph5PAtBDsKdoT8GuU0XguCHhDg8+MGMB6iqtOrKJOz+SvV1Wyct/FtWrWhWfEv2gkXZTx4MgV6+XaRapdt3nkiPWmGjqXoVJefesFzIrhHufGIbiY0VnBCtFC7btSb4h7X5G9xSj//Zrcj4nGiBBdIj23BZlGmXtOWq5h/Ipq765oZEnXRErKaOSWar5LBMWz8jB8h2FNq/rb8+dbfqbRZd89GuTzt1P5QPbGMzoLDbYBcToroQJP1eZkolA2xGMTesEsjhKW4ViyF3VSHpbW2GW182crNpOmly0rSqJGSw/OpBs+B+QZ4ACMiAGjA/wDE8yYEwEfGuIg29fjHBvrRYQ+3bHGNyCBQYRAzLSIUSpR0waz6uzhL3v0z0/zKqqaxLDhxbeVfZq6M1oEN783PQvfI7JiL9Qku4hDKOkgkF85aCMtNbOnWoy+1h3lD129lqvpjAO23pQ0Tw+hFFy9TKIAZfhXsK8AvPw6XeFtfoTo2M1OMG+IzfQQaoowpoKVVCMaMhzpSDrI9/nX5pOEN8ulvi9rPDd8ppH0XzsZdI5Tj9XTbXCJNU8yj0r7SEJFXI6UrmcjVNMpbiYZZPNRUUv/04Srw/R6NYakh788Fm7aeFB+jUFdA95OKXIAJeQKQzItImCXFllDOCqQIK1wTDAc9eAaLh1r9F2iF6R5eIgjvEWydGRIdQSopCsGZMbj6J21ru9H1LLoKjSV4OPItrYOpE4q9CT7BaKjNViXQsReoBEUeQiz+S2RG8/RqloaPVfD1SUxJgXX99rSEGdWBcmNBmyWXBMxQxOpwY29k2FAKLLR7GIfu3gynuZWbBDkQcMlRKr8VVhBBviSlQl+I7n3Eixk8HXFh1aAvOFGp26a3KJNAtAgUChFccuIRRQjgkNJncDKckyNwnxENTrFxck9XIy6lIdXy3y+Z8rynLNN06bMEBbtUQiPAx169j3ItkHIESSZUOILZqSUHx/rcFMHl2lyEAOCBrArGE6ccEomEiqSyTrpUikbJm6W1//fXjlrpw0m7bOz6SP1OxCo+MKhC0BFjIfamuDG1cYyimjXR4SkUgoonl4tSaj6Kxh8bXxiBhPNrlLuwQXaPq0EDvFexJtcgZodwVqoClCI4xD6JLDuP9BNAaAj94P5zXdWLZyV7mMQpDRfTEIIp2dBCE8yO5+EuuS2lyDa8BTwF2W0iHZJLC0kBz5kEqI91kzmwpiApEs2HLyVuwLDGEA6UVwzfHAYvT1nNGFBOVE6kY4obf2k0iasiCM62MIV3cTd4DvXJqSeXWkGWR4lWqf6SRBqhlgUl5OBGamo8DA7KBwbFhArMnS20dEVIswzahJ6P5781lv6yzq8bHOIMCLZ27EyysOidcbH689IxwQmZUyJ0xKzw2dXyq76R1/QDuEvmjhVEV8DqPN9UG1R/IaTQNltGamZSZUAi6EweAsJCoFFZ8LDBMyFVjIqqeuI+7kzFj/0YtZO83qusRv8f0rOZe5s9ptRK83grQUql+kmapfl1yZCsr08eLJ3SDqxJY+QkCrbhMcN3hQUjKLZIo4enhAXvCQUpCSquEkX1qI++J6DnKDt3KqVOYvW4zKzMXqxmfm5qMxPEdhTm7fuaYG7CHDLLR0QYImjQiEBY6dVEkjxE2JKGmTjRZOy4SInSCBCjphtoSXIO251jv7kU4iLKuhc3oMkWG3T6Jc6mZ3r9cK4tiTAlPQoPFDwIIBQ0Cyg4NB5Wh4+dHXSyxJpNZH5buhnUq6lpOn5KTNSLSUUnJ+7EZCLTkSiteaitWUmpC1QsapkaD9BaQOH3yosZKmJjpgUHhsYKBho+6NmTIiQGThx9phV86lQJskWMkFeKOJfmhva9r3PrP1C/RkPq8n9Uu0r2Zml1yP4elQlYgp4oUEDBBYsNChAJBRQYLPPGCDwwQIMevL8i8qLq/f+Jh9ENjOy/R2e+m5pcmnOuLaat4WwYsPckQKSYQQvTEe8L3REd1Juqj58VIhkiNmxEuTdqRfR+/31/PGKIIJtEEnBAUKGg8aECRhjhQoLJCAUaJWHFVs8Qq1iNLowVhwTgfuRPyOvqn+ots3J0ZrlPcIahrHHlOFDBQQcJEuWgx65jBXzJ0RLnypUyTIjbpsRFxEbE9uxgi02nYvCV6qIeihifFtJKIIIUcWSIeOYcIGDiQ1o0WKEnDBjSDzZhCBz5bdILzTXhRf9ftupvo/XSRSivPq6TdpxFrSkORjSKWMJMeu95hgW4UOIEjxrwceKEhKxTxJJxTBJGFsl63CpN9XpCnYmK8pE5CViEhKRi5FqsampCM15uxeoWtO8dMV0OixouNiA0MHh4UFxoIDQSFgqJnxg0IlBcoWOkSRFD1mEI0jlGvVZttulS4mdOi65kRXEXWUZI/3PfEFjRZgeIEDAg8MBAODQeGCgtpi3NpxX3/kpI356LxOKRmLzEUn5SWjN2dk6tzvz3XTFLBhHLtdYyZNGTJQ4VKnCh06REzhgWPHj4kbPHTAgVI+XMlSrjbiSKCeLLG2/9elYp16Xf/3FGx5UqYVdE1n1ixI2YLnzg0KDY2OCI2KmR08UF2RN81b1H7SYk+rly60Patoa2zpbi1rJNbyCSSCTXl5LJBIZTdXtpX01fzptvPRkx7UDN02flROYFhccEYgNDE8OiA8A8BIDQPAaBgCAOBgEA4LBgYNCTziyGsUnXqMXabTRun2FaalaFpYU05ZyiTSDXLcxLWlqt2z1z1W6r0a9yxKyN+cl5uIRCKRmNxGEIxPRqbnp2bkpKQr0/aOKmVNJgi0bNFjoiMlh4+IjgsMDIsQFgSDgOBYOBoSBAYCQUCQsOFhAswQQSJQQUjik4YlW26UtxbxTjQhg488sSJEmixRIxEtLFlsljm7iR+9o/06lKt9Ur0JCncsWrdSTsT1ielZSZlJ+/GpqdiszPTc3PScvIVr1HatqrusTIHSwiLFIDI0PhUdCgQCISFgqNDIyPC4kNC58bLip4obNF3RZORZRIpoupPLUmM+i+j/mlTD3b6hzY58715ptW6s/zTrNfV+ZIMtZtStoJzyqjlfrLdz7psmZCfwTfPjpMNlw2ZDImNiImdLiboyZIi6Lk063lWXdUsss4SNPHhBYaJGh48FBQOGgwMGAwcPBJw8EHhoKIBByxRCjUvY5yqUq7svk5JXAWobvk7pK9Nu7r8faU/f9doJ/TUr1qvWwfnifWWvAuGlpH6HrJQnl1P6fcr9L3XRinyudTupGnrJUIaeaSJIFGmnlnNLFLFGMct6cvY9r3NqR2bk1949xNSNIHuH2QC2JG4slB+W/msuChIjSRAkqJOeOEhG8pFNKThkEVbSrMGRDk1rsHFRl+PsfYh4OrYbT0R/UVZJRpRiIIAGfyANwA70AwKohrQyC6qhGE9eL9kcgvmBTUp7GRPaCSiaeC+IjvFmYJU5nkILs5X2JbkUawNnS7O0/DIOjys7yfL6XQt7iU//t4zbCFLPoQuFksPGe524EV4cEbg15BMjYeVy0uUldEFoyHNmtFzuaCeGwSCMalDIkSPWIc/+YjW1MME1DcC/thQilmIxayqBIa4q6rRvQxO+SZM/FfF5Wpk2W/8fhXIwvH6E8SHfXHtTsUUDmAfMKE1MLM4BmwDiAI2Pw8OGaaSJRXwWKFWE4/yK0HiiyieUEaMdSF/BSZqnb6a7gnEhR0bGuVyT8dI3wqcdsCEwWoFfuoRkRTqXGaDPMsYBpcIcBUO7+xKToxRg7cZAZL33pO7IGc+uSzcporFhXcP/4xQgEc0AADbW5uLD/FPS9HKMiyy0LG85Ose0czaYvgV+ll8mlGI3mp97kAF/aTqcYifLPBKV3kO8Qx4YlfEKfPjXZXyWF5lZlLsM3hjGc973+THtU/AI3+pDd/yZ4Xk7WsCmnMUE3BpWgYlWq6Rt7orYlX87cGANOE1GmGCOeITtAli3kHVJTyMY/CFtX8ehuBWyIjcaAKaWh0lXEnESJEXk4b7AnwT8yduDHXsUeaLZFYtcZrzWFrVad/VhH/3MsxzRYKrWnKIrQp+6O4Z0e7Lj5pKR3Q/aXDIbtk5rt2xaFloVWYTaSUnNJHR5lCRE6ZnVUaf/wxMUnvBSFWlhkXj2PbXXvbnIG5Ox7RJ2bHS8MEeL3qukF2+4SwyVVfTVqlCwPzJJao7RHfQ2ogPflCEhxH33KXL+a6o+Ih0TdsGX/ZC0tDq96Y0xkMZxlLlVL9QE75OJfrKPKmOk7ztXHxRE++0lxRxb7t4G0YzRU7X8CVB5tFU/bNmdouelS5NhiE7ku6a4Fxa3bPrlviE50YXWpK2eCSUPH2bCJdQx9WMrJKeT3xiJGtwFypXDvZVoqYCPlZqze2I26wzd2SU5Dn1e046Pyy2Z6rpHXF4eXQlf8X9jhmIB6v3t6GtGY2HVlJzF2HV1D4p0BJt4o20WcUXhFBQ4lE15MShYo0m/p3si6cm3UtmlTkaPb+1tRXzM1XdD1pUcssSdrBFRnRFXednHEv5omxka82DsdQFqzajALFHH7GrohE6WAiq7CIscye/jR4jk8H1Nulx8lnUD66NEJqV1Lt7vKSmQic+4Pafwavui3laPaM0MQZ5oVudyTK9/ixLSGm0+q2PMx1qMhohikZg/vs1nUsNE7WcTskY054d/wwjlfXhYgtXz8j1wMwX4wS472KJzYCsyKa5LfveFRLDStuqtfZMypW/JLN9PpQU+/eq4nFjjf1I7ErmJ0JZQ7ySOu0X/0YiWTs/DMSjW9diF7RKTgC971MMgmgu+cRlCPsHaZ5McT7Mqu7fA07xmrK1FCvi5HnM1Ur7tby/sWxrDFNViFrp1ijbKyQGyal/S77XGOpP5LWtB4ESib4dxFrftDXmOT/KYCoWWCneYoZQwxjBJPjceTle8rwBKcbEVJKUyBZqJwXDKIpb64OuSsfp3qhlIro64kxEz9YoKt+JqVfxS3vf64Ug+DfwYWLNH8AtIUWC3zHggSdwi1fhiW78/rkLHUqw/xa9lhWxzJQehFzNZvmRuwQA4Gx5FvqhdIrjZa4g+Z8LSaoBmVjGgpLI8zFbWkYsMdw9Yj/iqhO7uaGEBI5iK4TEGUhKYkgOkciHmq/CTiIkxmCuTXs/xSTG+p12EhPYWQppxAQ2z+yCyFPG66WwxNpJiACLwjHYAISlVLoxWdGoSHEG7JAK5X6lKcFaTQPdK0KO+4iV5s5hGAQhMBtKHYqEqDm2IMoUdlRjNVofbtMi4+tJKd8bmNjZ8XZHK+2ThKU6mc4C5AqpQin2/x0JOelfQuckhWEPDdSQXYXdRCTb/T3qdLKdTR6tFpjJIiJvK98mYIOYzc/VDBl1+sPJksW9zZHwvhj6R7/s2Isv1mY+r92jmB3vg5lXbnZ+GwztIh3XD170ugP8sRTWkZWKX1+3rKdt2NSkqcws+8TzBv2OPXRAWNReilqO+bDjSNETN1be0FwrhkJ4O4eqlGaQezZM6iv/y+MG4qbpZyfpbYHdsAYRTnqDpuccc4AeemmjP23HluIM1t/ra3EV2XqXRVJodkqf6/Rdd/LntacpCz/+4F/j7w3iA1iv+CwAFjMAHE+enrB1LwWA8ECHhzr5lsEgtmLUp8pQCFxBpd0XXPN2ZUuwsoe+qtfdlWNstEfJSYk2Jx9jmLCepioxJx5ZSzDFkvLEEk+ONJQKKWuyiyrxWtSe+sZL1wM2mzHSeWOTcj7rQdTZa1aTs7z7Tif6PuxanoU/tq9T1OshyimRlfhSoAtUB7LW4B2kHawUwADqw+UGLRXEVKAjEQCInp/kYhlJpakVyMTiuYvnMs7UWmviPHgueJxppF+Mdn/yeMRq8LYnT/OkhhBBcDKXNL9Wvg+XeDJQ90mglisX8Q2kxtHaSH0JiJdkR3J9pxelxdtI1mEgu7raPz2WtTp+09hOimtvcXLUrU1Vp0wWcyyZhklKpbUUzMB8azbxrODdk4nG3QFCzeIn13zEkAtwjDIp4LTJR8dRjDQuanuEbYxZpDMbHrm6pwCeWscYn4LdVeU4iNPKSOh10uqPWzLBXEoOUVX7Yr0CqJiOhnhm5QpYVXhMnzrb7dZ6NKl0+pdWLo8cK6nripi0EqU/fW0GPGC6XaUiN+pvcv837nHmemR/wVdu0//hqzXADo4V/fOggDJtRasCSRAo+houCZAKVoqDpdFWQVEa0s2Fy5iEcZMhOayzWEEH1dj8sR2urZFLOuh2o94KWhzNgtfNfu8MvpDWos+KbERVzft83SzJc5j5RRYRJlbXo3wnx/gDKLg/6bezIPpuhVptzAp0tX3lszmLrdszj48SxKuD/t8rWyltpOL+TMPPL6QEVwafV4A8ZDnt7UBfcIfGltm4VPArc4CFoZQ+osIaI65xjaYmMPiQLQwg92OMPNBCVEUUtXcoNvlApmeoNVsCGYyA5CuzyXihrkZfCJQQgcAK00HP9DKKWxQfjH/owQjvfplT/JNOk7+seMy/yS5zyn/t0y6499lzCcKd6K/zYO1h+sHfnhpES+9actF3x79fI0X7ATyDVw8XBZOohCUgJWpkvtT8YDAYIymVYsvsXR9epvq1Kw2SsyBIGBKu9rYHYwFN5hzAE4I2kTDus+bajFXD6Qw4L9GVUU6iW7NmgbUJAOadLUWSvzIEmDfHyHpQElk0K61tn7TLDN1cpn1YhF9RdeBGZumj/2Xp4+eoSRktfU2fz62twu1FZqlBJta07LEgP4AMEL1wJCxACGegEoGmR4r34BScDw6rQ5BRh2bPuRZDVUFZToINAQPpRHWjqVCLHT31gzaSQicSITY4azf2nJFCZQSNHjHUSidFb0k840UWWuNZE1/30CTUoFZ9092qcEaGS8Ug2YzN1ZZpUcQnXta4QpY89Ko4/tYyZ9NV3OLjFM2kxJmxBqbNuR/WSBgD0IAiGX0A+VBBmdzAUNPnDxmykGLwHiBC0Rbsc87RH6Hnaj8evC0IqJAn/CLeABRoovErrb1rsLIjAJM1s1H1ynkysoFRQkiQsZf3c8HfET1v1ysdCbzcs4rgRUsj8vcTNLoLJQYIpSKnNnqxM//cYck4yMK115znn+ZjLqnZ5ycG+B9BnUyf5fBFRXZi6H4jCAi4CCIvonwuVmTTklZE9yevLgkmNVkt+hHC1b6xqfJzK8QbCpPxdjIXMp3fRStXT1K+N8nUM1jLEpMUNtpe8mZgjbJvGYCTPP1ptZipSKquyH4O8cGgCWtBfg/SN6ncouWxPwgsQN7B2pCXRjj42yU6qVhyEXYrtozobCfhNGP4O4f+GPvfp37ZVLUYFSyCYUFcC9AZRU88kYE0zbG/F1dj9QY6MVUo2yFrnEA0+IxUiAVV8JGb5jG79VSkv86pPoRvX4vkGzg9mdudoq/4tF8TAL8iBzUu+B2ZvwUTiLNU7NpKhQ5qZVVeL6rIXr9tFSPp/l8ys38zN7DtDqVnjgUpN0hxLyzRwtVX75R+R6p+++Xe5s6t5EawDFYDfrn4Uw5PjRAtoWakILToInhBV2FWBgczFDn8MQ8L3ckw4iVL1YKv0Jn2JKM2a5EsyGMGBiEZfTOJh6DWPT3rJT63ym/b8imtyK9nSIzp2lZzS3T81hxi0VYpUUVCzr58IbLSslfPdxbG6F5GZG6ReW1Kts02IK89pq6PcytAUV8HpIMNaB3kReSiVCL3CyCyJfSoHcDC3QomnX+Z4X8LZ1sb+d+G1U7v/2msbMLUVqT+DzoQBEvzm5VtzZepdZaFZNnphREhInU1LolvdNoX5fsGKwKup8ohII6H584D5XojoW6QKUIxqocwca45ZGKP+Wdy6v6weI107ClCHr6mzbduV2GaOHDQsEFXghaf+Jur9OOs8ojcd69HSBTUvEtYyXRDqN1Ma0FUP3jkDiPdnR/XHtH1ndvPF94sao54WyJ2OdIjU828/QQqhYrrXPemJSkJH3OebvQXghlUCjF/8m2a6RQihWhNLQfxukn8ercq8T8R3GtOQFctSnVjcdeZclI8lKygJdV9OTxWY3Uc4GvATuBFoJabyMHmb0fC/msJCs0P3XuwygSYFHhRItMOdVYrPorpx4bmTCOIOwl4HyHimdkXE5nMFWpn2bv9WrXtc6iQ2nvQyyU6ZNxHkRlJQTSVzej1ZmDFGmPG96ydvRP34KT/h+syt9DqdSG3esHJhE/iyxYI/cIREdvjjglJni3BzQOEELTw3IJsNkRc/wYEImZVyXDR3960f18v89xUO/lxPj5uqtG/HNaTgiIQcEjErQRfDPvopmb5u2hOyBpMseJZ92uo9IvCoZF5jjMpcaweMa4w3eYarxFryWM/TqfMqJVSt115GZYZUr8VKkXiGTz0pzxVkN7AXsJcIUmCkEQNkccVcbkak7RBHvIsyyy/bhu8Jzg+qQ0NkzQ1vnMMK4CEPR5CvF8RVAyrBRm2wD6GamhYyo8FHFUvuzlEXbUsrJ4foR3K03mQNgWjmE8XdhU/Skv40IRMUc2b2v2JGHdCNiLizgo4lrnP1T5mapvoMhA8gXAdwEyBGi6EOdZTEMIwJ8IQ62UsanlVttaxPyOIZpglOtFhjiqfrAKMdBzLXpcFGPzk5d5JJ43JaVdVblFC8K1CeXMnMSMSxtQVFTxVtWOSmqCjskjKmcMRl08494RMUtMhbQUkq+6Vnank5d6eDUrC/xIu9LxonoLscAwWR3CJLAeYuglCpN8iRDloldmc5inCmCxe7KuTNv9lkn2SGHjudiJWl9QZBZ1NmzJaR921hD8P4Qs3YgBwAqqy+K8J+rYz/vWadn9EFTWkKznwifFgvALMHDN2VRlgp57RJplqZaZWDzrqQtj4SgqEMmkfYD5KJa1QJkjBXGmWISj9JwUoihd4eKsgJzXyJ0sKrs0mxaara5kqMgPQggxebDfVYaHxDsIKN/Hvc2OYOSbTx6YTgF5hmsYUXMY8DBENcP5IOxkxFLcleiqD2mejQWeMq0q/bI+x4a6/ivudakQMiv73786mg6BgwD7YcEzMoYAI6vyWEBM0d514WRb69d5OgrHdII1Rfi01AvkwXve26WTfjNOYTtcMP4fKV903upTRL+8qkSApEi3bu+1AnXLM9Nu81Kv/WfOC59kbIcvuWJyUn1MyyU6t2rp/82lpDz1DeMxt3T3UeIV7hA8uCQHm72c1yopszCJVs2iMQxt2qQqhaTbSHmPt+7qTY2zmf8wy539sDqi90nkqU/tujiyCD7VQozcpwzXvNBWhu6Y/Ad9gpj9pG1YEUmhC0GXG8/8R0qdTAxkgRHsrIRc5JP/diPCedZaJGBcOZfFVf6rEg/R8WiD+uXQdM81Uzt2q/HQzpDvVIQndfnKyJttY6g+8ucFRI1FdtgNwL9YWISx9PPGfoN3EIJ3s5kbzoTE7nhWqwY+3exD0jF9xmYdkx/pZU8+JBbLUWV6Q86GnPDqhWpRzfVs60v6wWSluVaSnkzuPXvvlrgj/f0ZN1HjFk+mmrNqUN1eZPHu+po5ag7FhypNvcKuKhNWhqoG4ygBUTh4zTct+NPirF1PXLsZnaJuRBc0XlFYgcoqb4NzjBY4nglwHBhklfzG2sjqvoL+4wVgIRMTS6soK6n2wr6UJmFrm1JXgoc14kMeoSKg+GBchJO25qiRjz9+muaT7lqjNF8wn12THAlSSOjgUGSQlhjd9KzLwTLEuPoihmV03sWmvL55WUzer/PIMRvebiGd90yVE3KIkEOoKC4hwskXiLiOxRikh0hlvTToyguOZZ/aTFb3xX+lXw62DvQYIR/XZwj/b+1JoQx89wqlHkhS4rV2U69DQJMDtZ9qc1gm9BvBLKfqsjdGVpyQ0eyVZglet/ncTYdPZE6JGLluAuITOjpBVRHa5YJ2EL2RBbelnzkwLL1prYrfGuf6xdKUEj5NU9Ueopuneem+q0HrGsjG1g/sRYTrtqvmvHwowgdrCJZlpy66oxW0oNkjoas6h3+kQASQc2xKYtOJRhOhyn3ZvUOg0tco2VZRYUbCmCxuubaoEHc8YA1qseilm/LZsDGl43zPx00A3KgLo4arkiiBFxnH/7qXj+DTtRW1ycNQsC4t6GwUEJuJUMQN6RcLty3ZRiYbtpxMCe/qhqeQx8aRPywERUk93buVKO2XYjjLnrG2QoKmTJFFByO+rSutQrdV3SSm+MXAz1PiX8QZWhN9QQbtEXRczmjT+YdbHwzRucDXwU3yJoZodH2OsXiwEjgDoGmTToW6G1naYoDAfIDdBwFAnweoWiA5Tbd1bzEX9d+xX/UIo1FhtEOAn3ryCGrQSoPZMibTxmGayhAhdCdagtxra7NnJ40BHx5caplBKll5tIl6z8SdRkzu1U4PqgHQp4rSh1v+NRIxG4vsslCZvxhRR1wpmX5mmlHBB6B4c4SI1u530r2DQbOerlkPH07E8hXKICI3V/9PpckGQ0bOkKWwlXNFS6tVDQfuBkkETuialAetwF0N1Cv4ij3uSqRBlqrqYPGlCKPmiSn5Fa/BLEgEa7kppCHFZ2CJuReFH86hTEiS4M4kUjYv4laSkdBD95bdOPo6Sp2J7QPsxPIqYBKaqRVlsm8sSjNR60osHTd2DnzCqXLHIWZD1eLaofmdTcPBVOXEusD9HxzYiBW/oE1VIBCIdxgS6qxJryiEwz2aMWYjtpc5yFbwtRR95kRHKpMMhtUx8Nu9EWmtHdlIxoCQ9ukR/0lx9royIU2S6i/q9i5+9s1xJZVxGT+UhAp3byB3r8lxD9sXDPXltERNzK2eejy1xc1KNMNf8pgzMl5vGxykAJhjoTk8wmGBmuxDhU80VLBAZJnOENIaNAygQWXUOT0QnASoKgJFwREEb5Gki00XlTRMh/EBQbMsdgCDS662LlIa9RmpQunFhEmWVXCD5mK5vaEcJRvdyGXBokn3/n8OMLDhIeTf8Q+ZQd2haZ5Mp+T9Co6uYveQ9PNCy5RpzRDq01JsBSoZ4p8X+s42fCwIqy/chAEuibZZAN5A1uybkQ+NMA2oBYRFvUbFCHWQYjV0NbpIOFw9t2rimVBfueN2Fr2QbLAj5CbdjHk5y6JBW2hXEuVb/U2TC3UabjUsuJ+m1hTIkPYRAxg8Vw16GO5FROZ6Bxi7sKtMpY8UQiap2mSFowUssXMpcuN3YMjdGTHBCSjzslZCISsS43EDZ6CewCQEoWi4TCtUPw0DUFICCCkMNz/+MUIBXRQ/5EAIv+U//D/lv/DAAD/w/+otTZNco3xS+jQVwg3T4Jg0Xi969Ep6trUSZ2WujSd0c2QnaPcbOwWZ7pmWkQeKZ1mk5yFD8jiuVbcqmS86L+E/SqQWJuWysjK4BPk/hLONrOP9Mr7Sq7c6Z4yOYXx6D12rmy/G/BLIfji1FKePtJ+v5k9Rq+4tbpmzMfwR67j64t09ozD0QbbDVWbvuGnxFqHYomhZCMBqMJ3PSEnnKLRkdDFZyy1E/6Xp1C9JHqwx3g89Hn3VMKrCBBFITEDLQnTIVw3Q1Ih+bENerHFdQKmc3Iv1TE0z/MG4pEullZkhn5N1Yo3X9bs1FtjbD+XeEghSAcKdFo9lxwxYkGxzBuJPDHKTv4g0VFJ7naRN6VmqM0RfekGaEB1DwF2iByntrSqbxS6Hameo//zFfrMJzeAgOZEGkVJnKiEvhNQZeOSPX4BFZLiB5EgBk4wodmc8W21i1rfaG/RL9jNXCvC95sPTNAMTvJ6hZeXOgTT5VKGBm2NF59tlMO/zrgmFkWFWkkIuE4vQjJHs33qhJmgot51+Tcd29BrQ9MIMF8hQAKVFSRKQWyLL6GbsJHE7GZ/sh2nFkXGi1ZFd1jWrlSEZVmL9yTia/QNMlnIoJexTXipCmnxSUV37IRkZVOnJWufvcV8T3q26AtvXdqrcKAuSPhIn34xYt6vB5HoqC1nqYqDktpwl5yaVKb/o4m4HxchRZw04+VyYdqGX1EA5jZU0HbhSlPSlWc7EVDihYpn95yWbB5Vpq/z3z/PRF4XQjT5YJ727b/yrdWZ8KEdJc5EpO4kD0ni4Axv+ZkInH6hJBTuGftkr4SpVW3RJT0oL7+7nNkTaSSSACkwR8l1EZaI8qzRkI8CcSP5Qe0IRM80ec1DhgAWX8oQQ7EuEXluhQ6dETwjymf6iU9hBI6BFnFs9U9hsrFQsS3zfYsWgq+TBExxPVOksMkO2rmWttspp3GySRfdNfYAX+8xBEyr5tzWlbwXMevu0FUve1fcyVzlB0svluLBfnnWbF/zdOxmcOknUhJMRkCczoys5AjxO0cKAeNOMCwvNnYkKVBFETpIpvZJHIvJqpifvgvG+IhOXtS7mHu2wLjZ6o7V9ovZQmz20yB6+HKKrklVejAZF7C8/5QruyNcfTaiQXeyHAhZcTcvqIfiuMPYCwqqeaMfTZy71BJpuh2hfWXMsaxjJ/sohdIKaLGRk8Fd6B+hllZOxv6kqfErOFO7Izihhl8lsYRfMkownSLosh8z5zCaKfnNflv+F6WFK5ctn6B8ZqajZwsef4DzFHrK/KRDAvIU8ZizVGDb5avXq9H9rJVXzZLYvnceWAl4DDG+AViNZ4x7hd7XxewKECEm6ZwoETO+OgErGgD9u2KHMPjvNxlaJWxIMwxoGDkgjI1iwBz1FIWTFfKQCPNNQ7vRHxFF5JiUhs0pFiqAlxSrKxP15PxffA8BrByH1sKuntZg/VxcffV8ZDvcS+zUSHV3rWyZyQndJlbczTUTAMkBcXmgtOx2dReCzYtBbgK8KAO8JoVSHwqrzRYX0E3Lmh+m6BkvsHjrHLQI82L9LIJvELvFmdHtkmNHUM2l7HdR3+tOCVsVQV81i4LuJBxeWSeFjKglzZefmHc1a8THaHNMt+TlVl9oTviuIAxnrVY47NPAm8rppXXTL6/rwOspng95WY7SiijRlAiP6MqMUQVcXeI9TNLbu5583JoqiF9oTZmtxd0uO7nB/ZWpOsWo/aRB9XjyZ25YCIkMtdQlAiqvDp/3SeSACwDVFTJCzPg/wWtuUFRLYTXCEoXKPbTR9HYL8l7UiQCqFBfk4zc2aS7LUW8mxVdaH0Y/6lHv1pnLudIUARQO6NvBB6rDfEtgwOPQsoPsFsDPl+e6MZ3GipekSQPeLyY9MJ3I0tbcIxXkUJRetj0Vt+IICGvxgUAEcIp+dGicRMMlVKWoI8GiE6sKkRemOk6BLSquEWpT33leA4rLyvkhNSTy6ZTm6cDjkXdF3fK1+dlm7JOSEMCFdAoYIqB/pAMoGcGLjnWGKaEzgr1IQRQGmCAhzhxHphu5hfXqqTYgLOCNikIuPpDXyEYCUUmxPG6TirtD7HxeJkc4FYCJvgjaL+DiK+uvkPjBMQmbOIin6Ealo61IB1pUn4T+rcdv5G45xmnu7F/C6MvKpZXKEXTNX6A8egndt5SuvnzUn12hkwt+Oqg1QPcisfPvb4MMF4vPMUJAcsIkMCmE2X7VNbhHcKZBu3/YFk4t0gnoPCnWRYquGol4zoXUGBooJghnAqqWYd+jbbUWVSAJEFI2yQiFVSIk0bwkJA2iBPNYYtmXHWUo/4xxz3JJENppyi0iLlTMU4ujpR87EWogb++f2FVDazAOPJGpuNqhJgRdP5SdVVFXom8ylLglowQ6JgDUk9sPu9JMhXpNCHjkF9Zu8kh2Tb5s2IUGfZ7F27Gg1iu30bUkDNgUVgnT0LFaEYSIe7zlkdUo2pLmJqHmqdw07lLYmWfZJnbE3NwFF8SZ1TFl9TIs7oDmVPQ88egTjH253Q5mhU/J9Q/StJEanzzv8Yg8i4YorhQeczwnnSzP5uW42Jgx+y5NaV7Dfso19q3lSdlAKoRzQlhYdk1ri+xFwuchWI0Zpx7cvBUFJF+HM8XXLzc+7tkuFsJMWIaIsSI2Ok+7SJEySN+JMmjXeZE100+bRkRMnffNwQZoBs0o42EWfHsFCKj5hHKeK7lykBfXxJas5KQhZnjZ8ggmRPha52G59Glk5uRyH2CKLIUD64QQteK4vlzLsEIrZjOmu7m6lVoRSJR/GOXVWS4vGZ2Kqldds4FlRSHUbWb5fOLgXSiPU9j8e7acGOyGd4XjGkaE2l7DcjNdcEhBKG0f3AglgMLSkUCk8VaE4bszkAIGoR/2QB0TeJ0CMlWwYh/4O3Vw8bhM6p7TLR48TDKtqoJHAUMqxgHSnwZZVWOKG9ikvVbzCJMZBUr95H1kGy3P/j2gkkXsLzpHial4+NIUTMRM2UZ/QrZpqM2j/IqLlEuMjSkoZE5FGlAj8LhQkHJcQ/3qBWSZB9zQMkGR1wwgkIVEFWqBgbGxnUFrIqBGgMCgxOAxLhR4JCKYMGn+42I/qRXwMqRqO0CLGBQARv8E7stuf5eucJpSsvZqL4UegAkEULBFOmVn9tXhc4uJFOPGq3T2VmsxakkEUusjEEe2qv8h9HEAjGVeJMkQk0euClmueFqCJKq2xMgrZyEHEhEUBLwBOABMQY6GkPE0AjYRQ2ZGBdfJBjDItSX752dnTaPuky76bpAxYZAZlLj9n2PSFdAxgBvSrQy1cXyXYxP3ie7LmRDZIhsirL2smd1W/mBhvi5ScVhOmH/UgRXKbNGIv4zTDJzkfqSf+gsCdLXVlBnm+RHFTwrYXHdOzKDKvdEivOCLRWz2ZpbBVxJpc01tLTkm8lIRSnwnowPeM9VVL4g0lpSQ4sUgyNXxNLqoVJJRZVjNWCRoxX6odoHz90gITQz/FZERphHBk6HDrZh6yx+XgaP3uNLK0inaqbVb2VfsJbzoBqlGykSMQXlhKQtfst7LOKTBD1eEdGaCVkQobLbQ6ILMI+izxiyHl8EqUKVHGDhVhWaYSUJAfH1X9MWCXQYU+k+kekutI6QLv8DW/+kAmVLC3BG/cLkyN/InZ+eHLPU1kR954zk8YzJZ9KbVvbH7Qa4Lng0WoFdwSxT2yT/CUk6dKSj6cmxPJRCzJbKHMvKkUXY5bSw5BqRMH5zQsj8/sQsV2bUj+i+G2eBbk2TAUS9ckZRKoVrWJi9cdNFHP9tZaNBC4yBJe1IlfhO3/xo2QvXynqEcsei+B3jyFTC48qpSFp74aGc57Vv26Bb42JzqkCoRGwyESEzGQNaKzcxcxL/lTj4b6vB7nr2TKBh1gvvJlniJUXzbGnk7lISm1TJ3kIk8T8f7szICYzrNMbL30W6pBM1yK0NCLIyFpp+LYBlUcj3oU1APloawKO314FhHk9PYTMMFGQTUzllVhTXBAzwlrfb5XgQMO5RG5WMQpUMrWU0qvYn5522aBgVsMSaAcEBwAPrrZ/Sd24FOp+sQgF4VtkAkMMZckVScoEMhzgmOYdO3WEddd4MBZZE5Df5UcoF2v9JsfavRIQlP2vKTrf8CRhubMlxINuZBRRLYMvlqQfcjawWbMvziXJEaXKyKGrHLtD9FFlO+IpGlcfQ1QzQm12FfWVbTlFz3ho7sspdAsG7K9Qlns4pUZGwzFTShlYpRo6LybiASNkf32SIMpMuzXyly3eUo3/bpN2/0jwRHTC5kiotZVriKKW5Hwt4XwottpnAmISkuQw6NDOwPxIqvi6mmL/w8vRWTmzoVGtEG0FBidM6FN7SEG/MljEUbwk6VJ746RwK9Aj0GfZoUHXM/c9pH+xyFd7m12OJHtmQVc9kb7yNdwmp3i9wc83zTcQDVlMY8rhEcu25XNWm1RLQsJIBd3+O67Y7jcwgl3fujK9Rw2M9vpkMpmuCc6ZD2msLu/sLPeJ/5VoIyhuABkR8Fx6lTUbDDBkk/5SVAWSmrAQKKSI6SL6lYH7gGI6UOP56a9s7jsZLGGl1agKDoL5Pk9lla8+1yCTSIlVWy08vWQiC7TVRMpndI8y6XcOco4iZHmrMALycAuNQpSI6CHpCtCKtIzaoFXV6+HtNsiPdLk/5Djzv1ubjSsTTk3rTyyjnunXFR87E/AnqXziyyiLMJQRwnFVSsH8SnYkAvZhWvBmbQJRvZLtwgvX/pQ8oRFbSj7molysmFVZgVVUdp54BqbhwGBNCEuanByIi8Tt6AQEBmMj7MyjELaUqVhv1UJdlZyMq7ZFEHJq1n3DvNhUlJItTDRO8WPG47dB86ecvM606UJ3nSfoqYpckdbRFdRXsrL0CD3KLamkwzY8GQVKyJduQO2aMgbu+MjrrPRn58G9yeVxtv3V/x2fDQLzsG5kLRu/PSlw2OmU+JR+ZCNuv60Gg37kZF7Sm5o96XxjLCKh3tafTW5HPTFnOqy38RxQTmWRdGkRQeQzgbwjmEbVAS4MdYPkE7ViAyPzJuYnxgNmz9Q5MzkkJT0kNuwtpjaTav1c/zEmUknGktO2znTioJwlEoVjMJRafuydqaLisgPRY/KnPV34MMCPO8SMESdGw2/86t95TJbVMOtFRVVJcd5VZyCcSeG85guh/AygujGf30XWmmQC05IzgTBGIispNgmGwQGTpshzJ/e01EYTkJq7YbZLL5zb/tSUmNMh3ev9N34URcZi4bhAE4SnAuMiZ2rS1iQqdsCYpar0mdnyRrXaXuu3s2+DP25I/GBt9oqKu9Vsnu4qlUZWGcJ4ewIIEMOYTTaEk5orkPBacFpqdum3ekFIWB2G4WD0UP21NecsxM9Nz8LTkla1NXR2FR2wpVqBbhf8e26iMjEQFZjYaDoeOzV+3ZMUSpqSEpi8XJ1ydSgT6NjNqmQJ9ORpt48dPCwqryTS6UT6exBFcewxgTQZQzhLG8NJ7mGweiYSCMzJ6S3X2tGgSgyDwCwFYhLWH6urqr5qG4YB8FRi8RdpVOpV/q9fLBsJF+fDh+sFjw7HozCQSiAQmBK3U5lDcrNz49tZScFJz+3bw1JeV0lRbEtA7+jk7u70/PDrpNSsN4lOWp/i5FmZ7/fZDtugVxGLhCNplJix8dH6YiwIwlj8Ph5aVny6+yzWw6W4bB8G56WEiuWSKTVnulsMehU1r6nU/fr0ggCgFwJggEwyCYTNVtRiIHpOUGIhJHafv88bMah84dPyt0gvBXdHqqFUptIoNAsVhuEnSrGCEuESaJXl2KF14hPGcpGkbQuH5GaccoHUmGYRhwGwvKLj+fnf/a/AZTkVn9weEKh2Gh8G5R6vf7haK5Te7O4VJLYDGfhGFEVBsE0zkZpQeyn/2zqOxBLpZKa+p9lD/OLeyGFrIjW1MKRp7vV6UHwoNIpNPt0lzPNcRY1wy3BGiLKEixEmLXGIIhoMoWQZw6mlF8jiJzY8vZ5ERoQ+rMXkRXxfQxuSCtbDCmV+7enJ4SNJl28tv+99DUI7KRTmMgyjYPoVQ7nPp6fFlJp8uSdUs3rNx7FMSi2xf9huVV8OzaJBSJhHb1DT4fes0KmU7z9KPYJknaOsJkPEF6BJjXJF7mS90kNwJQzn8fgcwYz8lH05zCgQUZI9zAidfXYBKNS4q75hQzRM9W96PLkV5G+6TNs+37D0+T84hNGw9DCFEHIEMJAmhhC+MCEu4mOcojRVrGT4pppCaGoQVFGRsO/VNOe3CtsiyOKUsXQvkjuvbbN5XZQlBUJcFs0zcM045I7LQ3W/svfykBHhrGKXQuA+RcJQlu6WbqcXvxVGL9a9TDkE3GF2Mk+G4U9wrRm/qlCDAlw4fHSuy7SK4Fg7rrwLoWR6NoyAogoj2JQTwWRvXHHAwGSeo4zbx5KTi8JANRnLyOocerwb9OsNB59tL/+3bQlE0YSlbXdOWLWNCE3DUgnYovicApnEHoAlwH0F4y2uJ4/iEipp/wHIiUAVY0h5sBncvxMsypqSfoHi3zFPF3T+t5tqU/rC8L57tYnTIfK1IE3RNk+40MQZQqCzQnIKlzJ//83mfKxaH83S/NEbrVp9Krsuzncqm5fdcqHKypOVhGTZ94e/o1dLedcXEZsIaDCg/YUFfixGemITQAgwA6AJ9hkePoJtrxq55WaJ87WbVnOC6rXY9nDYr/IbMLbmvFsZVpJaE5sry6PSfsW8pT9EPI03iM1h9rgnkWZeCmiyCfnbepKsfwaokscxsndwvn0PuSqHRO8ds0pUUxa6i+sf591XlOO9TsgXqrldqlUcdq+H8an64y/mzulCoixOoOnQT4K2fWdMNWHiksOL/Nu7I1XV5mEqaCOlOuGOXOjZcZjcPZXSXJYiGJJH0ck7VcAWydOfA/chVtbBkaQCMt//jFCAZ9UgO9BFwGAgg/CTIJiwpNDZ4SpRa2tK58L6noP9g6A34+zBPviAkGwr3S4DSKVh1uiEfvhtMzk954pPVNf6DH3aP2OUwnaoZS8j8KGyuNwyysCzMsI+/PBIqIqXkdcZ+SgGgGps4dkNk3pskhtEgiJ6FCOABPiczd4DSNInBExL1UVMSQz7c1lUUfIZ5bztzYt+Nkh7YG/lbIO05jBba4t5JG4dghu5UBQFeaDUKrQUOZ6uy3AOfXUepE31sYvugzSSJubOpWKvf1heaQOvRebkbEhJmNfDQho4IW/gAE44Zvg64jQUkUxgHAVQ7MY+QPQAvRxeA+5XIQZIgI16Dn9PEp/C4Zp2kwD8WvjiO4ksSFhLFbjvETYvC4LggLy/cRCKJqnSB7k4QuU7QmGLjTmWOIIn99hwESIp9hhaEiFXmeUmS4/FHWeMI4MJnsZMLO4uMyLOvL+mVEvHVD0gFqgKQqQqKcoUNeESjSKWkRsIwd4BfNA+aA3E9Wg1oec/ZQWYCEVNsBB5HxHcTy0iNlrjxwnYZrl/6xbBfktqTam7/ziLfBlg2VnGkRCtF3y2x3rAW50TcW68Youlx9Ka1vVPXIlCYSawhvOIy8HgpByIoHi0prY0JNW1EBAvYrpSACQGmB/2i7pFmLyhqiY40mHQATIYw1ooYuEO5LCtyOy3M4LMI5yFX+7ZU61M8s4jdZI8aIcxWc6zmn6n76JXzEughmQg5KOqQ55tZP2VkHiyr/UOF506i3ZyOtTH0nlZEFz0lliDqKFgI71yf8eVePhs3eRKWXb85IQkCKgw4boABSFvDc0dwvemBmoyELyJlBiACRe4FpUVkIJtNmDOjzoWSYL0oE4PreDeJ4Z7EBORwS0PAGcWwwNpyVeVK8EbBCzkqkfrXDhILdX0lS06cA9HHf+QlDmISrAFbuUQBs/m5o2PWFfeTVtvTD4WkbJgqN6VgVOdJeDoMdpR21IqeT/zgz0RkAHiFF7So015wLBI3xZ/6kWMGnDDLrNFpCX9IqS0QiP408t6Pola7Uq5BZRICmrLf29NxFEnbQgvfsZc4jlIeJ5YWiOxyMHaQ0gG7CnoedhHbZ0hsWvaIVEXusfLCNL41nMEYppQB/3K1zfVXRguaw449eybDteLfL2VffJofaji47EuuRAEjOica8s6JXcuOwjyGRor4McCyM0I73tH0XQND7lRwu4LLFFcBEiOeeIypJWHYMPK1pazL4YN0v63dRG/Twp15a28DUs1xvhV+CEDLQ0Dyp9fTi19Q1dVJ7LB5WmWc/ilGoXqRoWOpD4lMmMRtq27c+lmOKI7FGP2zOuta6GUnmcixWHhvACUA+feNDYl6JY11OtJJnhVR0UruSAGhlZSJIyAiYRS8AqHbMwaNsbppOjqF2IzTU7+a9BQUjxXqYc2tKWUvYO3PH0t045K4s9jlkFlNCZB/e3zH3knRdo/azZ5lmI+mPCZ55jMo9tdEcO2NxUdcJNaM52yTI+tztMOWsP8lQ5wL5xi6VgDEogLBQOI4JFOYsrwVUnbmeJOMArQ0vCk5Y4spsJR54OgW2ZBKKUdYhY3JZ0LUBwModDdCFN7ID7EhKiIFk3u0O1TGqfuYxVML0lGZl81xdP4b8tenLtUgwTWHmQlxFKdfSDiKBRLD3IeXkUndDKkn8VQO6Ktl9Vvv3b0Lb31lTuPMJiYBhSyBMvziumTinP7r/wTgzmoDMQ7/MeDe9vyqFRnrkipQ0cshONe27Fgqa/MggqcphnSTqb1g7X63JWpzelyZdf2/Fhk7chi8f546i5/0lrb6A8JZig/fuq5dGx6IA6btEW15tlhhSn84hVTY1JW6m3KYezvXmPCvZgTWiXiUhaQuYUFVAANxyBt1lAVY24ZIWtd6A0YSQlpLk2JPEwTRH3oHFEpop2g6YmBIW3bJiB7Iu74Ig00LR+CRyKCIkTJtmyLoforh058gFMF6opRV6CzPSvmKuVnEI4VTYviedeI66tAJpDJg/HX2Ta6Z+EF964scwyfsqUQSnr4T7u2KiJOM6RcPmdk/oArAPUCiwwIFYxvqyWfxFXEQXMoypi/AgIEm49AUgEF35uCX3LSipksdZzqJqkgHcSXbfn5nsFXFdI4jpEZ6jd8wTt+B5CIcR91+JMwJisA1qUMY1Fp7Mc/DQ5ac1LiQN7P006jVCRspRe+oq2UCoGFhuqveJn59cqJeJqiZ/Q4YRkSMAkwD/B+UlZh4A9iCkz9ga8eyKptqylA44GKp8+OwDbwuLoU5sC5hdQg2m7iHfaNGsm2S2Sql2P+TtWiR8+X/volGaudew+CoFj5Qkl1lkooe+8WU9Cf6UQ7upH0FD/GFLUTY6LfVTBdhkj+01ZMbvoe49zmNvgSdreW85vVFNHXFbDY3UAHAc4NmQMEUVQI0JC3aTHRFEV8yXp1bvhqMubzvhC5wQJ3XoEhaky0VTCioAZjYYFQs9SLaROWz8gf2OXOeRwnz4RYi8J3JHu2la3kWQNipZjrrFMtiJumXX2ua5ESbqI17sYLDTfn8H9QKWyZd5PT7owsjbl/y9lDIOKSFDEBELAHODhA/KWhVmCOJqwm4zgWcCDBK2OciLhsQaRSKeTQGroRzi3mEPmW8Yj3r9NuD7D9MGplJYZDDppi8z3zRq17vatKfMRlrVC4oUpCPd67NnUcI4kuXpHG+UJrXAODBbFyIeSD/MGcygaHWFfWyOoCiSWyGR0nc3IUfbS0I66rSjFj0lbPmigAUwJ/aamHK54zw7PXeyvmkFVO1thRyrC7E/CeBRSAlCIYIWIMFz+It15nSexkQC+VPkIZjJWxaRT9memnbe9ySNGZTqVzFdbeMNSKTIuiWiVYW3691CJOb1tM1LYS6AthdZuSZIdRg8K4i4ojzOAucCjefa+Y144bbmvMikYQ8U0U92AB7Ah7zxcOIhYLUGlg/gkYxxQVUYARWhAiBlzoFLYdSiUGLZYRdKy1VGVEDyA1kRqKFVVYn6L/MoWuO98NNQNAe2cJttonaPMgrEHttaq5iElyF3pW4Wa5L7kqOx2pwSFRWNoNKLrsbgpyEw62o27WDedUGDbtLGJFv0pJSGjuiemhfkATB6gYP3gZJxxkICEJHCJuD3B2y5fbCwOKBBpockWAZn3E8Oj1HVJWOISucXHatsOUaH2d6oCvHTVdpPqvsfW2i99FXgfqJY6nqYSatJCjVGRLbSVRXon68RDr3yCSxPtjLCUFFsziWnlzbAdJGd3ruHfEbjtuIDcaeLPmyanJIqNKLG3Y0AHKDQkRawNhFR+AeE/FhKI8hd0GXovtsAtgOqLEanWKl/0r7QtO8FeFZ0s9nIUCKfXNSg/0gNak1E9a0x5nZ6R+eFWiybVG/CiblIs1bLPwvYpJICNnc3NWqlb0nEkaBkso1T1qNca15VSsXy4D3KoWOXTdJajSTk+e0jguCUUYUd0SMPwAnwFbRlrhViFGwAg4/CJkoZosKwOALiugECAm4SItNJTbg0fqDOwYQY88hSGQhfIMZFtN8eqVuDYk8bvSzF2aQ0vKcKU7LiSL4O9mXC5sdWqFGYvwW9kIvKO5GItNpdeV0nCB57ZQaaoJrEFu1IRNgMKx8AnrE4CkmP3Ir8XeMKq9o/JCQE4YoFLoQgn6BCBKyRhhBowJ4LihU8PgHLAyijiDgiALiWK5NDoLWa99O+6O0IqnwVAJvmj7T0VBp1rSpbCHx5SSWlkOGTKNkbJIhiWn2wntK4oM7GiL+73LTbLcGXFI5clUokb+fa80i6xbnbS+WdG32vfzartkjQCvk57EHMaxJn7WKSftSw0rigeC1BucQLBRB1hZ6IN8IODxHxIslFUMuHOQtLxbAQMtkiStrCGmTXDt3JWSWtUa4VFmG4wT0I2g5VOt4U37dVTooKSXvvuZvvS3l4w7NIXoCiP2sSBS9mmTQpmohGEOd1aPVu+Vj4+pVQmdEljHJDpedEWvsl9cmSJn92bW95RSSxlrGPbMFKivhn9klQvnS6arj9FDBsCQpI1HLrY0kYcEuRtX+sqSt8uogLqdnjoyUNZH2MbHWo1xyGJ5JaFE0e/kFQuiRyeUcVnLbMupQfwgW3hrhSGh9TZPEt6aVZLIftFdQLSWpUUiou0wKlKj7qhcKPIODDPzhkDVm5+Fue/4xP2FHbJybVRijCftih4S7FIw1PHGsmg3hVSfQX3No1V5pX237QUX88xqUrWJr9OQfa8aZHLUCWYximDzRaqJtfJS/tlEj2Xd1ySUSI3KubrVXvVdLs4JAJZXqqhEQVzd6anp9AeeqW/jKBYOV6aD2yRaO4R3f5Rs4jXjJ1xN3JeVbSgnpPmvK9aIV/a3kYat6wR8KIhJ3r9Y1+V63Mod4940iU/ZSNrKpG18S/y8u+5PDSjcmDmUK6VpnkvbJ/FOntJpTYTphZ3cRyE5CMRiWT0y4IWl2Ns3lPcQrUs7KHT3Ja3VFnZcQqP9zc+5jSsx7YqNkmjorlYoU6Q4zlJ0HGClGblicBil6YIXm39HjWAgiZCk82oax/JYJLBegWlK+CovSIw2yJT9CN3yrlLQCL0Z3lQ9UYKupi1cC7wmVkqBOczifkSNQoqcXEiTz4sbx6bZAf8ptUn27lusLnd2I3PxE/QT1RJwUL6amKvmHySqhxd+7LVSut6ilEqY6JZQbqxKF0MHVb/aikChl6osBpJ5jQLaMDcbT8SCwwu5mYHXYwe5nFjMxsrWy6/05Vh0iPR+Tp1lnP1eRfq7ciZJUX3UjIWLdGdYVUWzJjo/IC2loKY4POY6FVpHjQ3CTb4aL/h5CSeir7a5c3mTK2ROE7oUi8ZiEfg1CkE7kBeGIeh6G4HIvHIXgVyJwjJf8EMM5Qi+aNLjhUBIRFRwiFhEcBMJsBcMmDRcERIw4dLHC5Em6kJkOLa1NaUur39Gesj29cQwXq+raW80ijOPZdQoySFTxk8IDRsUCokTFU4sUUaacfWa3Ra2ckKN2Y+mZuSnZeXm4nEJOEL8IxiVhKIxqIysQi1G7K8SW/FjC1urqmSdKPuiBs6ESAaFDgfNBQIhIcCYYCw2EwqKDQyFDImYLmyxNsmyUIoskU9Fm9qX//dr6Wu/SlWq0pI0YvJ2o3Um5ulOzXUS7qzPNCQzuVf/qOCafjK5Rk24TOplipUmXIOHHXipAiRSJsrEEdXH/0knE09VOF+c3KfpzXUtw1r2vwjj0ihcb2NPV2GXypt0ueTGHSZki0YMqCTTIgw0SS4bU1weodUufa1X2vWt3qkvRmJmrLX5SxN3Kc/1SvfVPdvuucUdWKDpA2WKnBg2Ki58cFzA+Mmx0aLhoRLCpp82QeZSaQQSxa3zb89o9/WP6lf6he7p3N6VfajWzkLOstXxlKFGtU4r/VO6H/v1FW7zbW7xBA8oWJMDRxw4JGnBosWGBISICRYoaSFuJPIIJeWnZ5uxI3qxF5uVYZ3CsIzvKEfdhbc1OrbQW6IRQS8lVBS/OX5u2k4qtwZJojJVkIujYuyLlyI2ImRUidFemWdvty32jUyXPCHBIw8EGB4cKBQQEhgYFhA4IDQssKEnhShogk4prTV48XltWG108ur9TN5VIkcul1VyrLrL77I3c66mE0SIvsXMtmW0WXetz3uCqUIa4SiSaWNHEBRYUNEBBo0NLIMGPPHFMHKQGo4ar6UVr4SX1h9KLOpoxtnqea7tvncYR4gjZpWDX8Yh3GC6D68UTczqKa76pVV8myIm/ul+tkZk04M5nu8kORYx4hV5DhzjzyjgskQNIFiyBxIkWWMIIHuaKZUShC9q/W7mObpoK983eF+6s/XDtus5g6vd1/KbJeJd3JN9tUin8Ti6ToyRUZRSdWj612JLa5pJZxhIsgscQYPSFEGDnihRZ5ZhprTiHmE2NIscMvfRRbNI1hi/sz5LKU8atreONpM0z2V95vtfNyv6itXXW03+t9bf+yrdu+14oroI35/14oWTEl/PWQesSwweicIMJC0CS3FEkKPSQxBKUzjvHKtiD/uY1eyyNHm6tJolF+60nZR+F/C7mz6VB3UBtRsisPyi++odbJF1UidZKxrvSdeI5YZUm4it6SjVT00lCWy3PINc1hJCBqMi0kwwV0KfqLJ2eyogmWVgxtKaVquI81LSC72a6nYFWi//jFCAd6Uv/k/9n/xf+x/67/rP+r/6X/nv+GtSS19Q7xK3RRRn0vcogHBwza01fY/sOFWYMlSp7aUtTOZfR2X/NrYPTpQ4XKMnDn9yqrA8Jz5Yvm04iuU+ugzHwbFROQnU+vpw8gmuZgZHNX2ljopCDpJjBV3Dncm/KXPfKw0t7J6dpEuhcH/oKDqvryarpuipqea7U3BlsAEkAgQbzXAZ4cIIVbxonq9RlS5FGqHU71H2HsOT6v1GVgCmytTyFFyvIxyN7tazOI6DfAsM+5uMtqJbia72sziZhswmYkpTNa9h9DOiO8lYPCXMoLvXi9pYnba+YghIaXvS9c59gffa4XFKfRQio+GAd7FL93p9kY1L+4yH2xFLIixa4okUgXIaws1+dM55hSd4LSIVK3ZLaJy7uPj82RVoRfQjYuZ8y/nFKSVN2YUmTuMdXUZa/A6pKi7MoqUWqKId0iRNsgla0u7Q9F8HMVYXL0RFE/qydr8i/HYIUslMh78H2HGLQ+jrJAkUZVgwQqwpy/djh6+CQdWG0Zq6NWZUxqNzGj91L9qx7lnjnz7vqGaUyr7WmtvY0A8SkdiJCZdJxKdbcCeg9YtDoQ9UYCcDmD2DmhcSlLFIJXjvDjCGlDUrwpGLb959ohZnEElHmdkEwg2J3hC1NMvIxI15J1hNDIpjgxUM0vBTKCzijmnSJB1J2A15+DQL8w2001yPPC4EYQrwa4fvymtLYmLD046/vdhzVVX+WpR0DdzHc61hcVFzRVU3xSnfl1TlamYmlmLlU9+aUD4mQM1ASLACurmWoEueoskvNimP2DBB1lA9IQ1V9ixS9NIWzMlVDXryqwhy0Im5qcqHML85SHamRJKlymPEwFToTCL0Q52DvG6TApTEDTEg62Xdnnox6BcOZMbXDm9tXH5qT/jwerbfga+r+t6q1f9fN/zeBIlz2zt9H5TYt+qhXGSiRSbOxtTgLmGHKfAyMFf/QSQKaqW5ZAaXOWkEJDEpPsMyFzfZK2O0zbE2UrPRrGWCRBhM0EZCL5Rki5TCHZkXGBaA4haL03nbUGmpcLcRghTUba/ap5CRaqz4xomyqVlSle6+uhttqOWOW+/xoekZKeLmW08rnzFOk627w42dRcE9EXe0rtf55TwpoQskwAUJ2PmAH/ScTio+wEVL8MsjxtiktElii24QkhTwE6ngi83ZNdogXhyEtal0z8CfSTCmLsnGdA6US0G9IgvDWI82G+4ywQxnuI8VA/3E3rVvwRBupJ+3AvMSZ/17VPVqjvXKeuOfuMl+aytiUcjrO1fffROdOasd0uoo/LCAjHsiyAA2VReUA264g2UXvQLrpz0RMexDGqcCBw4eVV+l0IRRBAd2gZ2uJ7JU8N/vggw/RLXxP+kR/lkM54c6ktwGcPoVhL6flFiKY0hDHA6DHZpujJTSkFhoxUtU8zQqfvWF7Hh4TKr7L0HnCJltfofLsmbapveQKvzfN7dutFbW3Ql3uHnNIwJyjN+oae+US5b2SF/462afGvU9U2fKTqnc0AWdn0tshs2N3bKImVGpasBe4+JzCb/5QLkzWLo7iHR+Fn2BRlEEyWdOrjpBQP8WRYcgUZYhJvg9TR4EhA0D5QvK7Wr/nAY3pywk9aTWVznS98jvtcnXb1RZb4a5vU1TMZcRkwIQUrpQw/wByi7gi8ACpifB0EPKCEPLs5kJPdHn2gfPr7Ft0jxDCOv7Td0I0q9yM2jr6LAPRszWs7xy/Jl1koQHwRptGE3yuLpOu55hUFA2UKahWFCcLyEcTG7NAUCeG9XuKjr/CeT8TYb1gud7V8+sLfqnwcPhXgYY2uEKLuGCv7vN6a3WmvZ6/HwoYpouMdWfmEOfwrkm1Fpb1Y6JxklNY4WMfr1NKWjY033zd8YR+is4VssK1Eucp8jU9lCdYdrGJoiP/U5ZD6ZzBdyiy/2CJFksN0WgknYJI7UKkcNYy+UK1VLFWGYZWnzHw5OL1Ja2pSNMZ71+vjV9Qfj4nezkOL8WnNYrI2glb3ml4E1aCeSEfywN2WKvF06nneKF6KZE2cIhOOmX3F4yPsPe7X3QMeytEeM0m5TGM631JchTmpJHGpXJrcaxRvU2WF5yNI+qZQyLosWCXJmLNwiNZqNOl5iOSPfQW7+i132ezKN4Ox323LfBd6i/Jfvp5ua6FDazyZ+iqcmpEPPKGnFXggHQAVQPKAx4OaBGBGghZpVLDnV/4kClpQI1sPsazk2SqmCyvC+QozkGTYH9s8XaYIsQ1Q6rjifIRxKnLEcZ5UIxYvxIOg4RkoZY1Ecx+vEYBytzRFkJ15qZTKvSdcmmVQnP0C/oDAYytFot3nqTqunKm9fQ2+r3P/rWUcuJcy5jLjjyYBgAeYPCAX0JGB5iYB9xd7aE6oszN1CeolOV86Zk2NZEgm5M06E4RIvK78VSniT5sEjQPP4JqIhE9u9efB4ksrSCKZcUIYIUCXWUlzeMxJlObKwuwWJmLR62Y8Uir8ZidZstr5UH46T4OBInpZqn5L2x1G4/PXkOvWk26wklOWNSMKZoDYFMgDNgLrDgIpJwIefdDDvdDxH690D48bycGehoEVHxTUrBUlFERIDR04YpmLQQtbYOlREMpF8/XHOYbSIMUaRPPfDUH4RvHEIQ6C1YQjrbXDeRHozrIZye8OwahE5HzcJf0x1rI77edEnrWuq5dJpcgutMoBhxESvoGQEwIlIjrhAOMPkC9gMXxgE+f0BBzsnKCLdNTiSVPKyRGGJh5fDmIqEZmRVDPQlYk/7gxIGS9GsWnUwdfjLYZEY2tglTrUEiC9RKfzgRy0RF2GkYjFEMLVzZg6xIIYp7jFQ/GP9cwriQZa3ofk6so97hHkmBD9rgPJK5/MwRZtaxZPQaltGrYVvtbK4HdbGFDiHznhMBGIq/Zygs0yH7EgUl4sIYBeduLM5Jw650YE4bcqn2YmyzPKAwqVrZpuE9AzyYbni9MC+KsreCvoxTAvKgzkMQV8GwMBuCPNl+Zw2guXU4sE4iQWW0TL+qjYdBReTXYUgqN6HM9tc0X1tloN9nKYr6raYqqX00oy4U3NgEuBFgv4A6IgoDIMMDYhT5oE0TvfQerlRFRV8ubhqAJNegwZDTjBLpeMGmcfXr2MEvCrsLa3gN1jEtUvnFUYqA/Riq18eEMw+mhojhLpD9wdTfMjZBTBCNQYtYphYJ5gv016SpNNyb749RQhfvOzjO/x4zXsM1zS0ZZKoNDsq4OjlHKv3OkkyQF1GlHchla7RS2dGHrfoZMWk9EqyA55kdEGdol+JoEwE+/inxo0SJ92uP86xD9p683JYlBkm+s6o6lOCgOhmkmayY8vTDPGIpv8J91tM6huoovbNCAfRKbYpkQu8B8FN7c8h+/WO31j6qTVY2mKrqziYnCKJaWtfVVURbchpgz9yU6Q+yoNuRAFUhDdrCiOvPlwXnqMoFKi1sjzHTuO//z1TMC7kqeX3zKYzNFO/17fX2K2lROe92knbvqt3WGO62CsMqRl/WDxih5OFaSf+WfUHnzelfQledKc73cXdcEGhkUr9U4vRWzRclkcDukfbuM1Vaev6aLiaNaPOQMh9h4rRmfNKOSE3HHBSgD1YwA7IFjO0EqGnCj594lv4QdBumVKKTzqH5y4gEF6EjHRRI7S9L+nKKubgnuEGlZPU1/hEvdQV7r7KE4Ta1c73etDBAH2olSJkk1zIsJhdmTjRpluShJOJd1ZSRDM+oPnmFn5cDkUr+ehrbVzpOWzzP8jVhDlf374uC1Hwq6WMtjbuQGsANuYgNtHDy+WdfpB8X096OXEgNO1VM6FNGTjgLBH6IpMhuNkyjr9l2Sff3Xkipqeav4NDeVjleSBOMQ4FD2JAm3CzJGGIVZtCFMBj8eR47ihYL3Rr0LA30SQHGyDFQii//8zdOZTodHR2ZgHfQ/hqHbZxRNVbIesrJq+iJFz+nLCKjE34BkAYYELAv4n8CvVIrKTSF4cGJ0NUUtC3YWYpqwjaHI7Y8PRhkN01qhZ60DKAJ88zA+PT3lGOBysbQUsUJVr05RKKrOMsUxoMcuSCXhcBDk4W+qtwSi8MU4kfdy7zIO2w9KmifvvL7RIkv68AT3owS/RVJcl9r5r1BYdJWVd9vxDxlz+xwPMbof0ckha5JX22ySYmJAVuKhuIq2T+CXqCdwcKqgh+pgvxxMMUVI5r35Axmge1SIErNTXgzUvjlouUsohthMOtu743XgUghy1Zj4FuZRL5v6Hct2IaiJN/yY3GPrG5373RUHfTKmy/doP6YRlqBa/XE8vV7oH32psyXkXKiI2ZWtz8bBdXBCcqrDSUxpcJ3DpSMQnauYxuM4OyxTvaySoril7r/2ci4vjXrpbqBEkGXeKXpHvhmmIvFCkaiCVc5whuZsOZtA0BqJZzGQ+tMaUamnpFE0w5y+m6cz0kI9nxxwpm3tLHrO/bgbFielcNnqsjFl8GHdoqR1jBBrhrnr/gkRScgywJsWsKCvf8kZ39fYMql5LpvGIC9JgnkZXfpjBBsN7OhdHn7THfloJoOlguxMWxAfxfFBUH8E8cQykwLwpFQNgbQ8N8mDkTptfHAoLWsv9x+uodhVmOqcIqfu+v1TBELRchHqoRgMNdRyBNkRiRF7f34fZHjTabVL91iHEAGX3qcNUp2al1YudBUaTXrEN70kLodPH0JDWUqOuI2MdR7nNOUbCJT7LNBddo/UhGKYxSkU/EdKJWOcuSIfDnU7vKYvi7vFtPikmmsOHkEfMeKQbeuItg/qqhrhK1IhY/cCSD8qVmMx+6uiMJFX/6tj1A+JzPEG/l2aKultaIK4/9n65opneHiXNlZbW2wnr90ENCllkwqyU6NMijLeHJa5nCFsB0CFsZnPXiN5J+6uVO0auf5wz6MwxcP8Vw3rHFORtqrxvLd0rWxXmjHW7t4aYecfKIlbEsUNKQigcUeLP9+kPmQ5A81Pler4qo/gpJzCgDvjBZ4dmomQWIEVE4ljNgg41TUCSxv2EV+I4s/N8hF9sIOJ3zrUbeuBX/TJbg356CmLxMDlqnPJSW2jKfJfF06I/8YfQDPnBpmzbA3vmWeijkvxX+befWWp5Ii7Q0ROIOT/Kt3HFhswF2DKUjLKSGyOTWEMrUhjn6DPQH2qePiFh9hxkjOfQ1/SB37KvsMhBk9zk9K7rh44ix4/vucqfyDgx5QmFHmgqQZSn4iN6108DgJLjS0EkcfGuNLUe4XgJHQsUhaBhOb1CspFJroVNuJV5LXT6zs1tyIkO4t1ewQizKPHAuCXfA00Zt28PYd+eLq82eKJzMyGfteTOpQtEyiXUErKlsg825WKky5qBZb3nsTYemNe2slsg5QNBxVa6MJnaw7QxDI7lU088lZlv9d2+IUqEQFEwA1TD2wnhPhpV7zs5T75UftLre5DaS2lXRn73Tlif4bgWvMNV1mZFR9onI6vNNHQYp14TQ/mktNtYuYxsnsTJeMoVhUthGLmVuMBxOpWxJ9eVPmWxGXMCAzfJsUusksb214osZIV2tJEBso+oFLiYk9zs8MUVuYkcbgvOQNlbhSa/U0cMNFHbNPbCS53cptvD4gikRMiu5dsIPbNJZZ8l2nOhJS42LkUXt4//XmiGR48/cgjc2kMJeU/vIK0jxcYp4mlErFKiLrNC0LA56iagLhI1CFhyJlWp2r07GlOrBC1BQbaNdid/ASqZMyQzOqiAk6pLWpMCKpQR2tnwR0yc5zGSD00GFTKtMDDJhfucWbwXs8tbtasILXUNa/7MDwpIjI5bR5WJGJxCNU8Fui1iTc8Qf5Eur/WdLUMFqiTnkoobqVQp/ySNnj8hmE9StcTcKH/LOdcXL00YOGEdjYnRxAl4otsiG8hjFZBQIghKNHkeOl8lfEckFmhXrdszLEM5LAdKnpppVhxa1vqKJHLC1zMkvupGkCod2PqGOmrN35AotZXs19kUxTg0Y4UyEjgjFqy//GkhvKkKqdKXVjrFxTwsHZncOR88UIK/bQt1cCeZZcsrnpFWtQxFRoxg5ErRwuuLhwBdahomp6QKQxKx3QnBJNTWQxlNxGMiVGCoZltF4LxSNjxfZN0TFKmSXYQfz1hSGzVQWHNX1pESG66jE9AM5CoGAsnqT5HfyA7Qz0o6ZezUwt1qyoVPieDTacoQ2AEAgt4IbYl1MsxAhUIGDzS9E5Fnzt9CTpSbdJVBKd8yOiYxsIyPTY5TkpvhY8pZzuXhfQamqSzEw98wstT4UglOE1rQklwoVML7s4sI8sgh7K4pxtQgsIQGxkcZbaK0GwpA4ncsafqcUgGuZyVUbz1HGSSihrsSphu41xE+l2kmwqd4Gi2DKNFRwpV9Wg3a+Jk/eV9sdIc7bjO22hWwIPHeQ/gPCbzP1dCKwTQDCwsgZSMcElsab07mgytigc/v6makKzCZhFtvi2hmZAlQZzVSXDeroRsiunKTsZZ9yOt5a9zlHS9V9UoSqV733y/iTqUJRB8fz0jkK/dTXwr3a6GlYhoUKN3RtRqBdlOKnmIZfcsfhMaKG99cCRZ1bVlcZXeXjTSRbBDVKxUmLyJ/g4cI6SOcOPgtUvcVZ/t67VYb429aOQmaNt/LKFIInJxdZNGX/yZcA9sYw0E1MGEHC9OIqITiLmWqCwRxG0mXnsUMbjryXrkSfjod4PbxF0UQiISGskXzMhMId66zxWKEEm+NBTeXAIRclUCn0QQVRe96JQyd+usWtyKj+7UPmFZ/oqjdim4vFAA9sI6Q6ps77/aFm/sKtRunQr0TMKJuY3IQWXQ3Vhl5FCqa7dRwpUbFWI4vzbzJmOq8Wmnjqb5H+DgMrj9Qyy4d6L9sCtgYRv6pAu32LTDorQnK5u6U2qvojnKNNZbef+ArRJzoEIBPYoxfoNrv9RGTfw9oTZ+FyDDDsTl/F6574qpTPOD8lHbm308QxPRz9BBNChGhyZl4PkC0bHOkK3QBptZZwsF5z4yHCyS5F/y3z2t6Qut23HFOlNfn/s0aehLqZ3/bOaFjRXRWYxYT2UQQmvYqVt1wx9EedXkj+lp4LGZHXIdKN2Hp2iNSFk7AIMcbBEwyx+NCJQ3XAq5wQuM6Iyd/khNHEhOZ4GSz4ghHFBIj24Fu1AX0BvISpcCP7XUViRXd5n7CvTaFn/lCsj0K18W8K3iUEQCQUP/4xQgIV1b/5P5d/+kCU/0b/6UC+f6t/lgBSAGa/Mm1P9yDnpgaZomNaEi+jZaPE19qDUciR9qvcdgrvORbFbe5TZJCkxIKCvnVsb/TAxU2elxkMgQEgx4RyPVitrZWM667zMuH53eFMXPCWfpkEFY7tSpTGIr5aI+CUpLjwPTEnZxUO4Bw5UzWFbnygYcD72iPgIhxqXfyQKmk+xV8yligtQKVpgljD+R1eNxWQplpYEcBQe5tuvTwYPV+EwCK0imgRauWQ9QXM33B3VV/9cLp6wezDCQkgTamqOPZrwWq4C6hOEC9rwUAoU+Zn0iRN0iKJgGm3THESmh0M+EWLQymdIelsmZtJJGeykE30V/teTXMcxRO9YTZfQQXqlEubO/EGd1YbvRcG4Ubku2NvMwu76fkFW1AlKDK7vFa3vhzNHBFvOlOYad8Xv09/hd+jE2mEBiMZ2bp2aScdZb8NEnblT01XzpoES1jIbS5y3+RA9VRmn4luFJXWCIKMnljaJYKObepTp0/TloprpQkQNZ+9weJHH10Zk0xqig6SIcLD/ivYRtV4UUL/sVIolVhAN2LnvlrUy3SjEBCxtxSmDwrjh3ERiYprXxCFW3XLBN8aKM2qpfV8RJ2/dbpys6DOItUhukKrpYmVyqpk52WmasWFUc3nOR8H3BlhUGtUbCSzi0oEzOlFae1yurWW6dcrYbVnXctZZSFHZ2c089/LNZiubJZGjdrrozkeFT0pTLCcTB7PWDjKJq5uMsYPbjkz1tnKtzcUEeL8Ihob/OGPLqAb19Ek/XD2ixqN1YVkDwxAHZFKlcSIRV0qU5ihRoHpCv5GYrK9R7GVd8pEY9oxqxrNUiXTDbwXH7jqhFQSmW3UOUxqodN1m3lmtB3TFbPNDKIbSEjaUNEPFonZFqpaBYsywexb47ns6X1EsRx4+TCM6QMPnhDkZjS7r+pECTuuaG82wQUBPKHOyW3e7PNXnJFP+rwEPIC2udmzFF6MRE2GyN4HgqDWg06iTJextNPx6VWbZinepvQl7hZsgJYroNdYvlWj+Kd16vz0voIYhIAzbUNPqQCdqRE17wwm6l8mMXcLM1lt+t5t35/Wv9Iz/ZIiVtb1Qc8slbMX5UVszx09GUsNMrHUSqrrvzFp7FJbvdPW7OVwej1aMjDoqWzTBY8o0JWhQYJWkqqzc9WuxCRWdGqImi+GdzVqKumtmJ7jkNiIuCFhippW4yqJyH5/2ItcRWRLJP0lBBPkyxlI4291ZnkDnqqVwnDSXBQt2ihaPd/E/GTatdI9HT6JUZIk3pYmNvl+tz93cGoyyI0OprrjJDi69b0GcC+7pH09kQv2PuS9qATktvDBAm7i4pgpudXBCwU1l5uD6xbtxSczlZDbnul8QK8HISVGL4EK+lXGZ9eR1gBwPjWHFWfFYc/miCIVEj9+iOB+Or1PnMb2X79Z7cub+peSbLlpqhKwfjDoQmu/Ms7gkqoT9lkaWFm1OvVbzfZFQNglJWQEziUPEtjQDSzuRELXCUOmu7OHpCaj0ZCfSc+3IHsfzapKCBMEVgRLiH/Y3eEZhUWusb2/mzIZvOzPz9ohby8icdDesg4jL+qvsOYcXbSGRZv9BqUFUYRzMihiW2E5u+sNEvTRhSHzldlbVQru5AWJdyVvjBninMnalIOlkCv/WspY/9az1Q9ecpQ6bliooyyi7SnUE1UG33CUL7TRaFWQ82eH81T+3NyKOxb0ItmdYPpqgQDkrQ2Yqs3T15RKgvT3q8KpxE9Er/BEdJL+iePL3cET4p0kh5OFEh8lQ78R+d+7cxJMgF6OlCI8i7H0t3N0TMFTvkK+fqcmCRCj1aoa9qp87k6bWGG000NMGAxmZs9X6CqzlJfL9Kc13QlHruUKux/68J2Vn0yoD+3fec/HbRfR7uIUS7IgOU8AWcQ7XJ2BiNNTmkw0DsKctWczmEeXM60tRItXr0LtNgIPJ0MpcFzNxaq4olNmyqYXWJ6ttXISCZMwWzL0vWN6BkRFSrcqV6ICPflpx2c2/WqPIQfykZ+TjWlmRaoYimqKlCv6hUnkOfKwJvQQ6hTR0QTZA1DUl+vQuIioI9Ai37jqt0zMLmAxATvtjOLPyY+jo6BefeqDiH7+G6XNviH2QnBwdxlk3Isz/xL4T3WQlTEhjU4DQSn7s5Ji9t17kb+aaUTHGXKE4ghcId6S4fbywQMAWwBAz3VX28UbcAkRsTph/ihuEFtFWgpEd5YiCPHLWoPLGX62vd8EWT+Gk6WPv1yYx1xXmQUQU41AuQvgy1qNow0d0ySqDPEcR8VPyflo8qyedunlr0QfdYw6uadNALbBaEpgkow2Zn5F52lhHS1hSpClnH1/ZrY+siKDipdRLBbotYI7kJJHqtfdRAdFKpBG7h27RBpP9azN9OtMPQtN8+lqpuWRV72hPWatSiylXL/1SbHYOMq9MQohEIbAe5hseLUM0swp/Dg4kzmhfCUZttWsIZ83FIYtjmKcc5LIf/Xu0VX6C1Wa06Rboomtp3SMwhzNRje/OIxx1TyrUrDgFfe0h5L1PElHPGNDLh0Q1IFLBNaqAVAAry4gtMbMRy/N2DFBKoAkgNQBinPAvOxqHTvhsiBO+enlTMb8grdvvki3CAcbgHUXixEIb7hkVIINc/lo6SSJer+nSiOr0YoSR+vxqcjzfg6Wi1S/faCTytx3j3ur9pB6Q2h9jsf4tJcKXeSy3dspvYpk49OonIHtHsLbd/5xXFf5YvbyM2cAYckgscjXhYKQ9Zifb162D+cqC0WjvRS4ZsQIpzEEvdRIGrRF7aZZon9tO4OU7vumQOg1SQax75OSMOykyXLylLToMk+T6q6JCkx7/etGxrhkOy3HkS82qv+4hwec796Uikql2JjIq0c2E8kDgsoBmA8wYe99SBoX9+Rb2vRIh+g0hhg9oTkUd4BWDijiwlVLkhhKm0O6056AmTsYtG3IMRtJ4yrHvr37YQkyu2MsQA4ieYeuEQMFiL3zijI0QaTxu6UlRitaMv99fhvLKlSQTod32RQ8CXn56Hdbr+l5PqgocZKYC8sauDUwocV4AO8A5DFQ9+bT0IvM/h/xWZTmrZC00CA2/o/IEY6KdrYUUhqDZ+RFqWNkRKqzHPaGzqzPfgTxr5nO3OWn+3D+WyTOGHOWIoT5NVPxB+cc0RailFGQlwqCdWu5HeE+RyUzy3ZHlZDTXiVotH/44RlPqrWJ6vlKIcNW6R6M9ENmVj9w7keQAG7ALgKNHOpIG9FRmsrvoOJK5BzjvBnR38q9TfDUhv6cKkLcMFKFAMkYQqn3aF82/Yoo3HoaftqqvEFYThuyP3RZBkjdHWHKEeqBlULo5Aq50oox0PRC0+ZoaYm01RfNJwjU2RYXPRxkkEUOmuz5jqN+vH1zFxGomU2t340EdaP7mUAo4Au4QAEQsNFEFrC+3pkLo21un6OcskXHdfVdggnk1FTjFGWWduCXtS9ogqZljkOx5zmHKhmeh6kmoo5se8IMhunvc9zUFzE6JQ4+tMusPgYzsasLXtiUswpSAK3p2p4mxTLIJlRD2AUbccTcL/KLZZjC6VA+n46C31lPkXnpj/QpkbuPGAHzATY4cX+zoEGRuQFbDHlF2i8/ki3UI/KMIQRvRt2XVYxBQpmhYiwZQO06ydkxme402fNisut6T7chKGKutedIvBbKaijdOg5jbI9Q/fD7hGclyZFjmmVa5vLND0diV3XRbkuw9pUoITRTRd0/r4+77Gpnk8NciJtF5mgiPwv904CogDEhKAyO4T8j0D932szwz/1d83zFV2bbCMrIW7l65Os59pNnoGNkbUVdHlCzGjaOoWUWdL7itfUaJ+q1VI4VZeCCNsyWSQ25kMEU1Ecmcx0eW6EHWG1VCaWjwcKB8vC9bpa6YVTfpvWcmV08s/gFvMCb0ckM+C6hNQYEC4gEJSkACuQAAwwToXlMAeQagEVfn/psElBsRxRHF6RxKV0eaU1naTNq35hxGDhHoHCaZIMEZqPtSYmWkZMy+6iEWURDk2KAeA2zXdaJceLcZ9tdebfRphMJln5jSFdcpanJPk6/Iggm6O6ga7bznzR7tuihUyoRrGCd3VD5bYSuzYTyzixbol0gYHnBMlG+6TAPERUu1o+Xwq7M5dWfhVhHFm4ZzHhQpGkaQ3eqnZAQFB1BsiqJsXwTYhEsMy+pmyeo76anNcOrwTQIwIYriwOpsLVhrNRIrU5HMJfoK9woPH7NaJlBsBRtBSO99qVe8Hi7XIuygZMWjzfJcUmp+ZcSUacKeWK7G85uEFBdCQmP+kLCE+WnXPy3Umsh0yeLpTzLob7wZtSiusneAZFUyp+aveXtkFWf0XYSYuzC8nh+HuPQmoXn81pHtG5MgWtySokvI4uSeIQOt4PN+GZI9arXdkM/1bxuB1ET1Uv3GE1WK41GrEqUkpZW2xRHssaasUsbsZsJGFdBCQM+GLGQApw3RLYOIwB2EiTzqkksq/hU6td/ti1hQ9wnBIAhrsRP+xRU3eaYSSklsA1ADAAdSyRqqCCcH+N0sevvXpkPAKgpBzC6FohCa4tu55azehlldWkV8SsGXOrJ4FZd2+sqFFkY0fTRq+SyfZ983UNqyukNLGZsccLuCQiOmqF4/Ajrf6gQLdNRJYkn9P4ZVpQy2/29dESEMN8jrfpPALVpvj7Uhnm6c75MxA41Jl6+WW68TrGckTtQyghhxPYnF8QTgsoHig6z20lAisbgwNT8Q8Pcz1DezeByTlpE3UD30qLpd1KuEny9NMYYyxjjTBKinyHgmQwwP0NM44TtNsDLcDND5UoiolUhtlalgLwEsIxVsNEC+C4FJDzpJDMDMHYWRyOJ/GAbjmd15pWFPlOouD+IxFKBaPgsHRWanAxOLgtvj4aiWjaHLhr/AiSzGz8ON5uf4Oez1B0hSdQful6wkXI+7ZLW/IGVcSN0et/LaQsclaSDu9I6GFPFnZdQDgZbivDzTdDsCwI92ZbvC2EaTC5x1ClKJE1C1KJ5nLArnUwvLYqrmrvCCXhFILy0FI4iEmpa1WkHzQl5jXSu3rKvjbWXh5j1RPHBVv/iWanWKrS5Kk2ZZ/maRZ8i1CfFOFiEaOEpInlhJOLrWyYt97fCElLOh64OFQUZW2tiECOHQ0ya4BQDZKBSt7SlmRR2MkrSOOAjCQXzFZi9dyQTmc773fbQRzocpUE0oFCqnoyV6l0+ikV7YWrCTSiRueVafVeN0uMyO/wiu2m09/c8NIfWqKorW27At24poz7ldgShS1Yx2VlbfjTBAz4j9qLHSDSlAXp4LlDsPw6npQhMiVNQ8LfSoSz2ezISQVBUDqZzyfBlHY3rDzjSUdT6v4zaQQqvJ6Vq4ZnBzUaYkcSmh+qg2tbRypWNvEHM8+nBNWxIfVXJAo8ZrHhk1vYcr6vmHKqJO1u8v19ISNfCijnQUuQhSxCeL0ihfVj25oIhQnhQkAvbLLcdJEK1bIEQqAottEYWTub5CFSaRZFkkkgo2iV6LwuexrQdR3B3d1gWCAc0qrvWKiJD0vaaHq6zYvomzw6m/tU/QkHRsFdsE0Xe+RJmKGeLsVIfoa4GPsKiPLEAi0aM0wlYf4oQAjabxC2vx2iVVLnMAyHsFt6nofQngZWsIbCOZ5WxrPw+k5xNIwhpCAPxIJBaEEVmhWYdR/VhMQa6qFYSGw1FdeXnP9XEvac85F7nprxOzRSOrhxw7T4a+ofRQ9F+uS1QzEtKxpXSxjRyDURZGQifVUXrMYT1AwR20R1qJyQlT6SkwvGmeKPpMUhCBNogRzgJcsFFdRbGg5lr2SfNE+Gy/0U/TkAeCakueRWH0vIu6iEYhnonFlIVmDPJCt1m3BxVMiuWe06HIZsMl0fSnOoXuWbjEqKEaob4tRWgUodYO8XWE8wrwD7EUKkCIKMeYL1wEeJTGehpgQ8bLheAqs0PpkgmCGFcGx1BxIwplNdByCyJKqSopjMCiIhCKywEgbRTaFfFe3F/IqCgolIfiKUmpwRUP/WvVJ21DVwsUmTRygRPX4mpyuly1G9Giqh9dq1LcMhbGltEnM+2ZLuKgYtJy2KT0Wo0aAjVrywU0qRGy/6y1nu4EGfrlisTA1y1fIpGeazocgvSPcKxVdw5mwOj4yiWuhxEUvvZFprgmiSscRGyZKTrc3/CepyWyehL1nBS6EDXwfX2WKzrO3c8SDjDVkmu/yFDDcYRYrxEgbYY4Ct/RFCXiKghcnp8hN4K7PgvdS2FYxbdkpRrimGiXERqBEoqRekALQpSaIJnH2cZ9LFLLQoDVfT+eqaaayLIoEOQrt96vo0iGjmWd/Fki9Yks+mEXyZYuVQLDS2iwGCRWPTuH2+a1LDwzZ1fA/mjoPv25Ud8Wlcl6zni8vzspctpBwm5QDlhKiu80yJQywSueMCVeGSjIFWc0qXTc7Dd4vzJOFwpnc7BBAlAyGVGQQhBxH4RWd3bRWOo6qhxZ6e3PAyOVUcc9xbXhqdOxNrSXgs9I0dinKmbIfTs6OM6/VhtfJW/+x3KU4y4XFsUjaUsZux3yD1KQd0joRFLnfO5kWbQkRsklcmHZJHh9pV3M2fkyF0VzeNI6jILUo2oK4oBqtxrFG7xXqsiGi6SQdDRJpKu9ZJ98JClTxs/oXDmvtveVqqgsCuf8J8wkzO7Vfhpf7uaazp1CQcG5a9Ns9wmmNkgz7J8YIIkFKBcn/8d4hQ2wE6FoEaBEDDOFgglQSFbRLke8U/J7jWPsT1jlEZgBgHEcxnMI0B2DYDmVD+bxjDEWRyIYiCEXRfJ5fKLsVyCRCygMCMTHJaXE3NRFZYR+rpyuXVQsb4ofby73zig9+07+/59AdOm/fVlW1tdlZy0k9ExIHBsKoLhjmqMzJQLa+8ENa7WGhUcXnSoR1yBdnedjMrNLmIbZGl4QhDiLNETBEvEmy+NEhiPb5HHUjWKZqND04uREeycmpO8vPqmo8DHm66xvue7llzibsrJt2mY9SqfVAqVBsH7cq/XpGlGT4kX2K0WISIECM1r2hAiJBOoPxWTuQT8aPvwJzyotkVIrnWIxKIkUTxOREEILwjCeMZiD6CUGQKxBGoeA1BDFQknc/koKZoNysuk1oLrqkKXYys68paWlh9jDzatp1QB9H/+MUICVBS/nn+l/6+/tj+8P7Z/s/+yf6i/je0rHRupqg/WpoY9vdljV+oDPd7qVstVyyOu5cfvSJD3rtJ/lESIXP4Hb60QY59CbDwbrvNgOsP6so34468QhIhXHK9uhGklBMRCITEeEkYzC8PXkYGo2DAahyYz5WbHx2tMTL0cN6V8V7DE4lpJg87kf3enGmqgDCYlVoE2w9iKSiTpZBrS55xmNaWYXsl6wY9rmWSbzbrKGrP24P0qwLQDdG1UNgGaKwWRq7wzgoQwqN7IDVKAlQgkn3EpTbr4+qcS0Ipl+cGmhGFIeFmjIyQILJyywLsspekZyfXkI96VDBaFd+kh95kFI2mNl41XR0sTe6sPW9ebILWWo07py6RQcU0UvdkimSXMd7mHuOcx8wOEXA0y2Vhvn8WJjfTK0l4rx3ONgP3zyBeCeNFP0oEJNOjadG6EcDybECmJykxiwRTIscxIfydMruHl67XflCiZo1yBDvQ0CNKo0s/Kmp3HupdQ9Lz97CwmXf8MZ20dCz9NAv3hUpjmO8WP2ot37o9xwBZjCjiJP4So7s5IOqQSYbRNh0IncdxJnJE4WZwJMmG6Z2DAqRtui51tSIZK+Zxq5m6TiJFU2NL9huP1eI1VM0aSkXf1TC3c7WZRsT2WGmzoZbdifEsq8BZ7Ir/PVT79NoVXkcQSQRQrzAtugyZqzdPQaoUBck54oIuOR/fUgxnt7E4hRAOEmK2k9sW6o6LHXC/XTZVm3lXlytLv6lmpckRp/Cg0KhJUfhyR1lIWFFKRr20JWSlTJQV/lasZI+NZ3xErX1s/GxmnMzzdvOVYx227cEyVO4z7L06ZAv2enVWpX4IkIpNmBCoY8vQakE7ocYXGIxVrydaavFVwJep5tOrobVBAJ54oazNacl6CFSeFzFQBEhD4laDkjUDg5lC7QuHEiP6bYKOT7fvFVoc4UmcruSzi316Dr1KNHtRfiyUqVJWlCfprhBhA1i1PmJbf2JJSnARzACEJMDOzwIr+zIE3td/Ya1zjryHXF8/nUoOjU3mipv+lkAgo4mkFyfiu9HLKwtHdiOzDdyDbEdX5l/9f8J0x1PWoeDp9e4c/RlwWAl+60k6SamrW9kFfkslWt0uzPLkWYwTjAhTJ0m6Ve34GqAXwJkBgUjguu6cBeXoHN30xCjCHmNQccO4SfqSNcAkT4EeazRGQoXYoqh3KjOihnK06KRFehUWnKZHSIhwnEdZbbtVCQEBDU75Ip2oJb8d4nYvWDokvxVNpUcwG98GTkmPo/jtuF/vxQV6+ixpQ3pb0yNE5RJ5ZQqUSgg2LFGuQ0RRRym/MlgOe3eaUnI/AyqBET4SxsVBpEjGB8HgTh2GGcap+YS4yRMNhWk9INpqGkMEtvKH0xYCrNb7n5NTazjI436anRfYi4KfQcZRIDwQu1FzlPRecqbMaWNinxNs1oh9ygKk4x5wa0+6kPwQuff6TBLFs84+SYG2OGZw8ImiJqyVWNKTIVaLuyytsIq5pLFL/Ao7aaLGIezHXIFN0ggi9KFA7MgLeW6rpj4PHmqJtpBioHrs5EZtl1gt7g3NguRzdOgsQ6Ec8GflUwpsU09ETW55tC6zWUlqqDrzp2vKK8alhJRdRThOBb2o/hIgSqN6xzj8V47rmBkTvOv4yw3Lo/z8Ut2glmauwOooVvFtOoDOVUecH8F0mhAGmGtepkn1viPmdSSEgBqYQwCSRUQz3wQfeQpa6ZEOPcmG9WaZrZm/iveOaKAL2KlWCxiriCw/x51vdyQ1TTGtmYU2YRFZQCYXxh2wFifoFMM3+JOVQZ+/CcvSNoddSkPeBM32rUdQogZFdSVpScNRIQZgwhELdglQoauKy2uvRPjPGnkGRCCnWAlUNaKn22UQtw7fqMlfaRK2Yq8CZo1fwxah+TgymyXq6oFuvbwaDEmfy7G0LluXa9GrpyVrcUbVwx9WsAGQCAi+dkFmqT9JjOdhexN4OIDeiYdWuMp2lbgxqCwtBKAqc2jGSdYhk3R4IFsPRTSVrYKrYaKxqFNRqpOUTJXBZGP9lDrkvykKXjFrF9qs7fe4yqp7ckXVVwHqVXdT+PdzLbx5yrNx6qNN3UZIzKWIKMvRizmpds15+QnrxiOgB7AWwR+wCpFAG+EtP34O7j+T/CahzikhJI5EBvZf3nPRp3yL4wRYQY/WM1e4PFWF/Lqq8SjsmM4TxJC8Vgq7jGzv1O1MGW7rOYhlUym5scJvpH71LputWE825hngpfVR3KfBL6mtmbqPqux8aHn17YPk51jby+qjm9NCMSLudkAxkAMEEr/0qBCsh4gUutYicFNBCA1oK4Wu/GyLSXXyxrgsIgrerwLlAA4y83+NINbEpQ/vo5C50I18rjrfwkuyxNS+0PbIyyviRS9l+4zt3UeZayLKriAW7jy+qalZXo9MH526vPEnFkOzHOUdNWVMZdlf8iJEXBJKZnhjmhDzkk1ALYAPAEVqcJPtFZaG9nyqJ1AgrhyTtVUsKhJqGrd0jV6bRwLG8sBXboegVYWt6HV2bJ2O4qkeaZcLVY5R1IuNMoSyiKa9EUD5DcXgbrekP0rlBhysutA5V4QqKOhuv5BKX6PTPMXUYtDfzhe7PQte+b57XHUo4ijNs/Z5CR23U0IBcRJrzabXRNfaMB0rSNOg4wxRaH0ZGFoCmFs+Q/9DxAVDZ3XtkXVVvaOLTwnTbtY9WFba7uTbKuqIpSaZnOmSvTyBsTjEXOtkwczq5yEUHyrs8etiOalEPoyQI7pUi5sY0mGrM1sSn/Dl8vcweFLHw9QuuH2OxHFE94AlIpo1qkgJEACeCrgU0nW//j7AlIRZrvZIQHGgCCvumwhexGeA5JzkQUYSTYAkaNjHI7AUkbERogitcwlKF5bNEnbw4GZ9TnX3DPKjzaTV138TTSt1XEhp+B0E3If4HWx8/Wqb3udowQWgpYsE1xENRdDKcGx5Iifcokuo7iQjiPd3fz6ZZlVqlFLLp99Cxgw4skLPEDU+mgzNNy1tmhcoxIws+XnPGw1R6Xl1LwxH0kOfXHYCTufTtXO2siX9uSv7ti14ltcgeWVqDQ04N7sNMGNyPdjFExkNbyp2+aK2C52BoQJ4obiKtnvzqcvIcyQ+zXXjTQdIRTHY+F2M1G90EJ8i8Vqjv5xPnWGzHJFmGIIOU+EnPdBgTOJ3MbxhieM6dq6PLikDYBEvaQhCaBc5o2ilpwzM0rN3JUj8YwWl20JyTETOnV1OpB9lijawW3hLZGNxW4vHsNSnJLKSqgtuWA75pB2UZuUTNzGTBUyH8u3/1Pe274xL9KrZ77Is1WqaY8TzFS0n4Id/hwiVkDFD4CZbw3RQFEiA9iTImAjQSTwZB+OwycQYSVjRKgyy2YK0Mx1ikdqukYYqP5LQOSYEMdyC7HMm14nM7WrkaRE2jvZHymrDJ+M48W0IVLVu/O56Pir/R9sGArO146dza/FXahRJq+ajIk2x4mSiHgQ/6LsI1qDxBoCj5FXsmRLD2R5L+yBBBZSwM4zzYRoxEBhqgzyOoVIIhylk55JRJ8T31H+iVMLwdEMzLTCtNj0Ri89YCw8l5Ydthe0mD3POUkUqisfJjEj9+SbxpKZi6WJW6qWdaohLzxusO5IVgifH6Xf6L4QfaYYE6YgbYdCrf7z9shPo1pIS6QWo1jgwBePWy+uAqP0viHZmVNCu8c74eaIpO4tq1kZCAuNRpINTQqiVl8pllr7yK0da3+rTGiJKxIPsSrwHQhYSVQNll6M1v28pR0M3HNlCEffrlb5rHMEjRnlXFpbHKciwrcl8sTgIuHyVwlCugyF648/DYRwhEDerCKLj/cVymLbKYHYonKgS1BBCEfHbwQt1gmMEbkhCAaCgwFJBsEZVGZ5Vk5VEDrNKb7l2s2CLXHvdv/uBdq6Sf2jJcojiSwm9rMrW5blycpAs6lRLTHeI+geo4C9hWPQIBtEUUaVj4sPyCEMhmTrbTisfy0vnlonJULl6ccTB8Ca+sjW+oORLrtg1tTMZiSTm+8hmRw5vD5tJhGXfRhQbDS5I2XLxSeaIgycseDAj0XuAv1S6wl0ZyiWQRw3ib4ngXXIAH/sB5Ep+NbH/o9jkKQKar1CUBEbAEQkApjggDktlKoEruWheW9JA0cbDAnDAvjRPYSouIkdKSCQfKYuJaGWkjg9QkZO6eIS610cj8yZmF7u81aNWSXlcnM3buLVeXBpffWadb5av9FoQgeffAjSYBOhxL3ptWHhTzoTQr2UcoZFQlCaV9WzoRvR6g/zQ6V4nJf2i9NNItjbSiipKDexmrCWk47swNqOoPmvjuqfokdHzntOY6tnoOaS1G5tGD0JnVpV5FpDswl4f97sDjiLOVLUQ5ahQtsFQAjAS4Bz0yOjiKKQ8Hf+aDmS4MFIiqJAYA9hdiFFCIJRAy800m0iMI8QVpyhfArEMQ9ww0UWk2TdwOIfVAxWivZQXByQbno5+PTbbr6koief7JVaDmkVF9TSirUlDZqolUj/4odLwnQ99F7mW3l3j8+X9BEYz/9wcX7PpgySovvdOZ2ygdRXAJaEvKIxSDc4+ntE3loXILHRLMzx7Iky424lZNhnpNT0cHLhC/hh8pYl+KBFxWZb/VGNVQtlBN/q43XdV9LMXbvmPnS39RpLFhvXc+YTNLzCZCNWyGKCYVbBHnJ15JpURunqRX/ORQnDkk3qV8kO+9zoNY0tE81/Lex4IF+udhrf2JLuJexfxjjryDsQSspO0QbXGZwcCqqbuYUPS0vj8gtOxM3Oc1rCKhA5tHowcCIR8MvfqXqhIKVWL4eLAic3Joo05BpKyKXTXAU/Qnoipr8FqSJsrFp467o0F3/yCwPkAUF4TqOkol6fRBxE34DCAU8GEEpIEL8ERihHcSfSXVOYq+X8TBa2apmRcIqpeKB5G0BBPVnMM2ScsTS6KDni7gy7zDNpaLPdJdkoDsxvgjb/9MdaNH2ZlmlyP9611ZDC7UvQ7Oh8UCGj45B38UjN5JKzQtexYEx8JpMkDmMGmwYKT0KVsy4uTl4velMkRAk5XlftXgScykrtfAqr1ak79eh02h3rxv4bNPk4pV40IGpqT0ss4t7mlPiCwo8TXEzUhChVURmug3Xj6KcxNL7Sxvgrmnr3+K4Lw6RQ1K0dwYKEjQqa2kWyJLsQvAmp1Badn6UXNarxVnRv1sYO5K4JoUNliP/SVQl5ERQxeLBdjqr3NSOnkeHNIE3EdFEOE2r/QSj9pm6qCBbX0WeUPEZqBcp02991gyvR8okJQI0zBbTlm0N/akNYzArMsi8Q3tjxNjFj30CK8KPFlfQTchc0uxZ9bLqk4dolu3KGdNPvVdtJbpCmCr2HWKtbRWVPhBnLbREmFvhVpSP2n7fBIzQRFPrnEi6Z6ZO488rISVLFxFNJRMTAz8jOQMTVQNTAS1nQTCaB7Aeo2QhhpAcIIIPwEqAc4ANge5a3AcWaDTDizTj4kMJBgomN1G3NHtNGS9Ej99bEnKpfgWo0QegkF2ItLIgJx8mqhUdk7GciVMbol5CyEQh+USO/SiFWYUF61x/1Vjb+o4xTb3VyzfkWEVKOifDXETgivz7CxZjArZrY1hIvLhew0dUKCJMSt01vPKHKeRkg+ShJQnmStGo5btFG7UvEwPsLqfSWNpNL1eMvem0zM8jR5X7WSAjQSG7KSERxVnEkIkuuHR4iW6tlCpckkozQy2YjG1sMXni3WGm5b825tK+TR1iCmZtDK2zBlaCOJVtW1blkULaKvEi5RM2RUUVzacKlmVyz9nUsz5aSZIiQ08ryE3Gxhuakl8NL44hMiEjqyW2CK18xyJMpNQR2t01teM04dQTLMrDpqqIaFeLnCeiz8obU7tReOq368dUw64wRgcF9gQF6hhMmEnj4SGmpCDhJKQh4SGRg4BeiXEF1DXCCHcD/e4dC5GuKIuAqeg1iRX/h/e6UgcPZQ6A2FHgMJjmCQFASL0WRBtUlM9asKG56VMdYyY//4xQgKWVb/uv+N/2b/ff/aAGoApgCtAI0AlgDqAXe1MfZEC3BMceARAbe/jw9BBie8CvJbsCikEntKgxFN6RuP4f2lFc0zrw0xDSEd6oPNu8XXdZCuNT8Vhbt8WoXq0AAHQB5ADBAAByuIAZwDeinyLMd8SdSKGGeIQQIZag1QhWseQWhCMAWYwYQPQgoCWIpVkKI/gbAxEVJmCbeCXB9NScibWZ7YjqUHZZMMUJl6RHJ7zXqx25Oa0oHe9mQBpFX+ehGSiuKJtU9xE1LePxC41yEWDB+qZbtgnO1dFjUVNB4dLE6qj3cjAkI2Pvb+XIeOf7Qb/tveYlCpJ74afKR7iJ1K7X9sMFS6aUth/7P02TR1cPV3FW1NCtTTAAEoAEIBfAAAspIBYBuHRqAYwBRlgWEwG2yGoGryIImj+zAAmAKRVDq5L5+w7lpMzFu8WT/rIvnhAsF37q8eHZZUOr/5OnHym1ZuUj0fL0exKw8NQvVqyWptIqoeZtsGgQXRSebLUdGjEAnu6Z15GUSS8VSGwKCRnMTcVy2UFBT+8B6JZJQ0tO5MbTVGE/nsYoIU6VDFJaHCBC3E6zVrv3UajSvQNpVDMAehoAXoBq3wIYMCgZpcx88jPKCoM/bwkl26Kn4NOicFK9FnR+Q6DcReJVLAWfs+WWcJIH8FU0JmWTfwiX8YSNfdQ9ZJ/XpVcca5rLwc3UkWabbYuX4t7nwQti7hYkXliNfVO5vbU35dtotraEhKPkDM2WdVUILQQT3syFcEkz4GR3A5wdaGqWakxLasw4SIlvjpbNR13RmV4WQsxOpw3KHqZ1LC6elicrz6VxcZnQ9ogW2181TAiyjW+G/ZWsV5ICrrSr5nI5YVMr8CvaNXNuG2+X53VSvkDR7jxTcZ7r5eA6OfwNWeroaMtLVuKZ0kZYxfQY8TU/QMcAaQBuCugAtoB8xagEADIORXOmKi+prwuIbexAFMB4OuGhDguTQBvgnBQICo6zLU1IiLdtgpCHRJPWtTeVaKTXjGEcczrTNE7oUotSfR0iUIJ2eeMoUlyDSlykpBRzU0yT3RSnG2Slatn6PP8V1ZAsExFk+P6bPsQab8Kd4R+tzKx1tmahIpdIT4ACJgC7iGwB54MT6EUsREOWlbHmirQtULjArdOIJaB9ysKSTyxcye3DemNQdnBnD4FTnakzrXiDFCoPkmNk9qpmh9TuI64x70CUGoewg9x6sY63YjRAlzbT0Oq0bVMXoES1xSFvEQ203dfGi2ENs37J0ZwXnJOK8Znxtsrka3J9pNNqF6MUNeDAQQAEWhSgBJ8X5vg+sUxlNf41Aoy6En1l0CbJv9SQVUoLxa2i+UiqQQtq2o36tlY2gr9YOttvdovvrw2fQa1R5RA7hW1cs4ZjXRPazEDwCg2ary4v3X2vRtMrrRIuNpirKN8G8nSGzXgrwGppQS4xHo3N8rppzUpzDyM8A9KpnuCrj+Vz3rXwrmZ9eXAGwgGcPsB38muy10AuG5XTlSL+RcRJDv4QdXhsR2pIuVyJxFbbVrMxaql8IquSyZEeSw5xIEoHbmXkVsJU7PT/Covedsw73LJQbeF7SRf1LIc8roJBUrUaLkURMovCbm1j5KU7tR9q6VBE3fZiVc6Pj6BW7sP99HLay6WLpzKtCwQUOUCA3oABMQHvBZoaC+4XQJrBY5mZBRHxORzSZB6p2M5I4NlF/0WzxKSHn3GUJQs/SvykJYe05pxFiwv6XQIbMdxMvR9k7pdup6DJlYcta9/xanriJfsXQEZTxE41XyvvwHvmBUBd1V7jGGTZ9GHu9byaBf9tuY29k2q1c609SJI47cOlKhD6gDVAmIwdbYYgDCEZgh0UzmCGlKohVJzzhjbHeMXH8k7yFJvcqHYAEDBOQo5fFrpbuGbNzOlPp/lkS/qe6oohu0KeDbts1Hm8G45oSeHRJo0KE59QCxns51keb6YxrLPI7SN0MrRRz1cf22jHHd89KGf/7Vfq7SBy6y6z7R443Vd4LAkD8n8EU5oDsgyY1UIDZLaiY3qwi+yU7Yf0W1Gaqcrypa5irzYb55BT1hFBEyuGsMkhhfbyf9WCjnL1GPcXN8yZu+VdxFLKxSXa15T7LGnIGyTpkjRh9+A0rM6P0L4/PMR8xP1z73gs082w9EOx4emtRqfWZmAmXmxiRS/zyA6DnHxzgGAAgrWWc3AsqTyTXyqA6mTaOcgkCjN3XBR3qvF62AYw8tCjaGMKuICI2QtGzabtbsSvbq5kkPoyAHmLM+TmMVnolLcdaK5DN+v8jpFQmsUpO4g1hZdv/u2JPzNlxT3sraTUspRSvjShlQJCB+wU8P8Ap1zDZs8ACkABXHjJSKgFMwwUUYcjTjvLLWihTOMYPdUiTuTYpRIy/+vPI8a4ag0BBiHBjB+LU39tRTFF/EHQdUi7KVXkQEMFALtVNDHdVCHBN6kPmg153s1qcs9E+SEgcqDTmmlEq222mIk/ufIbPdP9nELKIaXj/p9wKYKYf7b79kyZuwfX0rbDq9xZNDHgY8ky5VJ37KUt7L8N66d5SOlvacg52ROCFozl1Sn4VurlP933du1fTXUKXHeLWqSGKomKK7lxOX8l/u553hyFYVh2kdF2PM/LYS8sjtw74S3zhxDIoNlZlBSiZ15vwBWwR9OcllxEDROwXz/i21F856xFcM2Eui9q/reeIqhHXPdFTa7zC+J8sxpg9QRY0iQGwOoqG9et7dD2o2v6dpscIuyMI4+DWcCB/VfV/SX0qexuvk8v9aqtKibHk9L+P6HFDdgloPaA8YCp7IKNixG9MAS4Ad4SSPhBgd4Vqyu/W9+/qIxC58vnKQv1OmlslGN9LclBQORcyb0tsAoQWY5hCDAD7ClOBffvCE0xJNWn1RHPhE98VwQRroVS+HT6iy75tGyM6nv+r6jwOv9miNBrJ33lEmkn2jIz9ZO7RapFeHBAwV4iCJSrhPTjKEh7sKA7miZuwfE6o9rDMxjf2MGmnQ+hye+a/h/N9nuhzDhkcaYtAzAo5Ml7TtgGCXb9uwx1rVcT/FXIJ65KYoOi+RpGylLqS9ls3TUpol5eudVWWy9h62XFmInliBTF5p0BU73ZZN0GlMaiR/hxBICPsE8BD0kx9lUFS/h2FWZkeHww3+0aCoSkPvb/j51r8aqz/PEvDeBFBhCIM00DbLpDkNRWZ8bUSGdoo0CxIsiEJ2NfqqPkjKS264rq1JK3xJO87ciFjejNjXj8guIOG9v4bc/a3ikA0R4r0NsHyCBHEewqQjGQQpxsRN9QkTITRXbZqpVEEhIOsqd7vHuqreYaxhEo8hzhViSK81i8LFtINQ4DiutaKkgCPXSzcTEVW59f/wyLQt60ZA3jeF7yelZJ6aEQUR8W0X0J6H5MDhEPL+zrpBvj8UwqgRwYI8BMiIH23H4Ncw0RnSnFGZDv0VIotKrOxaxp/78ttUZqysJwjlwfY4zEdT3eRHuFaIFY78rXWyXIvmksUAgmr7+7Vkuq2p+zLHkTcVg3rd91T4iXilikiKi/hDfbs33VGMGyP51vkLkIY/hDmiLQ+3UeQmHO+C1N87DsKWIjcs5qNx6VMy/xC6iW4kgSTiaiAvFspEt7Y25mdzKa1RoLziqmKi7srzPFKWZ+nCF2I8yxYi7E+C5ChBShtgwQE6AqzRwxqjjTJFAgldaAoAbwthiFoE0CCIg3goCiKAUxgCWJrcPoR3IxNzkZ31D7ljpOyskeD6eyKrbTckKjckq2bkkpG3NNIUMW0/dqlGb5xn7C7qCSlkW5YFwSRlVLOZUvoipT/mtLi8WMot2pBxCYNkmC7MQ6DrLg/jsKw0BVn8Zrkbh2mWuHGx3+uki+Wuh082minlyrGWpsmhsioEQjskj1cvEeguPjuAxd//6G6PFsfl/OwaT89tVBJWwLMmdJSUMzJLXdaHxoqhNFjmuikQQ73bDUdxOGeT5WngI81xHn2YhalUWb6eCzc55xua3sQz8YSiQjIzpKI/EnJU+P/2FvBwrAUcM4KJ+zCFSNybaJV4qeV035clyjbUS5GkqIc+x7jFI0KNCj/fPKnaeph+SChFgpr1hP5KMZ1FcWglkIJgaycOgukVwMgyJP+fWMtMZYXSuX0txRlbH72ejS0TOaomOa3fQXsMzEiQA6+NXzp1kLxsER72bLPjHKnvc6y+fauJNjxc+pNlpDlu4vNmz+gydw21RUaxyJOuVcPZoFEsSiIlut9uGShN4SSvulEtRIuxS7R8Il/yRR9NVMrNVyHPcAkJqnJnf4W1VmRIQ3t5bgR9GC+Azp7EDbfUeW05fBxF99dSnDqZcG3Om+i2i1mkV3h3JHDV/BgGn9DAWelRnGIKyU562BdCK0B8vvStdlEZh5uVa6VHPHC3El8lQwr/+kTmODdybcNh2g3hWUCoCi9ayS4h7FSFoVwXRdSjmEV8x4XAZOhFODImWWOXwyN0BD/5hW9YJyhp/J5il2vnXWU1DplK96jCGhFjD9DVK2ShOZBaGM7Po+bsHbIdtNnNpbr0RajKKXDSbCjjMGBYpl2Qzg94Rhve8l60T3Im0fHBbAUtllEqdZ3u4HTHgclWJT+xQjUyLCbdn248chRB5JSKZr7XYr+sBs5QhcOUeia0XKp5jRysmLUUmhiM4SQfe0owYkzkUSntCU+CWs2e7L+kdLuPLkXDGrXHe9BASAHE71ISESvk6o/TszIulA1VfkIbKy/3dSCBPZwEQo5sMopGJiIQo9czkFcCNVjkpf7yx5IMYDzSfoBRzUvTKKDtQWkxcmU6IViMAKV2EvZS8Vp7f1PAv8EmGw9PDIkokFooc8GVzVh7BapW1iuTK+GYmHEMvA2g18XI9toY0BKrkWlEmC6YuHYDi1sjlt7KTG6PHxkgL2f1dpxK/+S45pqxoT5opthkA8Xi2+M/sMwwjdvjpSBh1ItA59xVHFUi0BQJLyf6ejvWoLVq4Q1PsjFhzJhFYOZkk4hYYl0BDgNrY51Wl8nF5BRfebEqFtlQNTRo1tP3ku6Uv8BQI94K3BIAOHDNmTqDdtFXOuoOPKAZ3jWCJHEQDrVvQe2iQhU6BOTmYMuEwA2/wKy/IX+MaGYggYINwoSEIVgvQK6X+RgU2aYeCTom/leC4JG+GGDB8omyfi8bWFqAn8ZpYsSrxE4HX1HlndJTsRXwo0EkBB6+PvtBPwXaAiQOnhEMMCA5zEkGi1lsGrC2S8jvgQqV0S8f+eyA/ICBcSNG+dIfsU3b3Wu2FHjUOtbDaxZxsfNi3EvlRiDGDklFn82aQRPwZDUBJjaQQTwUm5W/Z3/sb31C37ovKvqgxROXFO9Ok0DFa2nanp83XCjBfVWMd0FXcdY+4ETtcQgQii3w0fIZJRQtMhpkvYTv2xzT+vZtyzhUGaFdadHX0QvzFvlnRcu60MkbTcQkqUSzHhphtSzM8qoHzrhOpstHnkngzPY9IyWqObInz4k8OvLHmLv7Gl1jtV5tKkHGzBBq8klT94czwunEib0S4V3yt/K9A4iCx1Dbf6QhYMZ+PX+6mdFG1nu5yvBLL0flk0g1bJe3jVhn9K7KVejttpWtyMBB9MjKXufSlPP0oa3yYSZNgwwAgWj6rdeXVq+nR6B5ervCyGEyrsyW0J5WLiAXdeQv6ehU9MhPm9qQLfqMPlKP00FhFqRx0u4ZHOlEE8FfcKHnxi2aEVZvC50sMvq4J12fmvfnQ6ZFb6n07mhI2Udj/56TE/i/0U0Tx/FlJoVLym9Z8tdjWMUn8pMPj+wLy+ORBxxjJeX4FyLDoVoocCdR3MiknbHVShGGw1h7yXTm11qTb13d0Q+V0aeWoomxEPqs5wWydAmlyTm8rMuXbTq0Dbyqo+030wgIE+iPkCpmNZKIl6MxGILkHIq8IJP8PtLOQWoQ0UeAFNmlPTdRNAjsL6P5jpki37gT4Rzyk18MQeLcFKl7E9vWIzVFQXf1q/qFj0YcBTQGohCVfoD0xJbcN5+Fxz8WVQ0oOKDCj6dsWwo1GI9wIZc1AEGOtEiRSEhhfhUdMbVGXOxeqh0bVKwJpMKSWzsjjB5SwLrCyiK2tlwfj0RV4nggdC4IgBeLcshNCPnxEcMJL5yyJGwmqEIzo/J4+DMSPHXpdM4QvSE76cyEnhV9lliDFyGHgBCY/4MxD+gg1aBTguU/AYOf5Er+W2IBSV0e3mbCjxIR6JfDu1wVjOswcKoJ7ZS3L9/Ojojf0uXRKNSxWmh9JGTrYaUBTrzS6p/VDZGfTLU+jrAjRn6KLEv/uDfT+O3UOhZH3fpv64nYZa7rJ0LIRnpHal+bfFDUSTvx3egiTjaS2i+xNQ0NvEhooult5B0yG/ilnxxIsq3c/T+ImeTZaaoURHyWv5FmzGUvSmsIfmZI1oR7C4uoeOI2FZizha4csDiwgoqsZUHLiJraQGRCEvCf1nITPuDbwrwgFD7Um/Bd5qXVOzxpKDuV5FKhgwfeXt7xPfJUOccE8oaP8K/sL+VmIWCWTcCzhSMWbEjwk1i2Ru0ffuLyF3v6fngzCCOVjIniY4II5TxIkwR/LUblRGx0lBxchkcYJwve0YZ1if1UCf1nDeA8eiAlIIbf8UGOqcGcuGyOHfaJGI/oBRCyUVb3MV4Kv+xgxpLFMdnjFYsSEmuSViJlry5NbpVqxILMJ1RrmjfjnyDoMK1aNJ1AIXlcZAGTyEE/E+ijwuSTRZ5umR6cimfqZTl5em8sxAweLGRIkDLxblPVMNbGBUDz73wpITmX8GZgmxTreb8fEcOnDpvLhdHSXalStiUm5nrOn0jwFQ6heDZV1RPodPYlH5BpfUCFOrUSU6md09XY5Mh4udLy7HWzqQNiJ+5DQQcB9om5HSd2QqwK+LNSSvTquheya1qQgVWnmKaBrIJykYdOXhI5FQJ5CdrvUrayWxMDQRNoKAMduoUGDoE5gR+B+hDe+pnBUQMDiUNqF//eIUpFVdU2SVJSwXeV8L4GtsFC9mYv9TRdWUsufCkKziWVled5sHTq6ouvdOQ1OhrxJeFz7QLIk41zog64j15YFmOJJJE5PJp6asuw2K8JkpTknvnbRGdX/MxWeCWPJH/gzraWpiDQJsNJIPLM94VyStIWqu5B2gJ7rkdUQO31vm2ZSvFXlqaDhMTEOEck8gr40tZIhYwWSlwVQZqtAqY3trYe071lNXieHe/fCYhZq5gZTzEGRnHjCPYE2tijpcbXLeIhm8V48Mss/b2hHPChtB9dW/ApIU2aBXL3zJpvUzSWPYAqWdMXVclwIDBlM//4xQgLXhT9ZAC5GpMFX+2psxfXshBFIxOC0Jd9XwQCPDuznYEaCObEZvq1xgHHSg0BN42ltlhKciBOK08szKvyD5F0wpihk405Wq67IlI7L9UhhJZK/E6UlaK06Htys1PxaupLB0Z5NHWgwq2T1W4HbE9jwQzJNhop4YbBWh6+ci2uXejTzgu7UG2ScnF2EYUWC28YtIpYqVIMtrmamg7CUzSu639CeEKjkzFBiQqEz0fpcxru8isp4H+kHIu6PYcYmNqoTTchdBs6aRpHlmPwgGqC/yZw8D8RPb9FPOP+0uizUKyzNRgRDbv2UOgWCkdCGDZ3INoqowdIqpo0xeo+ahFHtHflNS7YqWZQS007lRe8dPQYhKGxysBLg5APviSyVJMyRN234yiGkRW71atc24YBvUl5IpUfPCvYEOWUZ3BBLj47GzVVll+C6oAfJTXz2S9ZuCSnJtNY1/xiGaPxrBhkhkOH/kWmFbiktSJ9iBb5icystTxIrLctikX4rYXp5ZwqFgxbIwl7PYaeQea3W7fu6uhDn7onlq60epf/mvVAV1nNC5qqLsiKO+R3vOT2lFG3wx9wHmcpQu486Nmqf9AQF9LkTubkSXr+FMBf0AH8QoESrgJorzzWjS1ZJoqLgI1wjGQRsxQtuk48NJVFQyaonEHP8CN26IojfjPBiPODVTmMFvvnF/I+rThtsIkFOFaXBqRZfoySvEWu5DNdENIE+lGQryHa0D+YnpcOuiILwfOc6nJd1CpudLYJl0kIVl6KtS3yMYOe7ZzG7uesHv5yzCf4r0iGuXqHbt0omna0z6R6jpzN5MqnOJFreRuemdzNXvIjsvuaivKCPznwhCjlHxoTwZlCAmsd2WoHJXwD+9dAu4WUFKji1VLGauntj0GCLCfXL7hXGrDOreE6BAt2HDKqQ78eu8rci2UZx3o6RVuY+SwV5FCAou+zWFBKypCecvkuYuDziWwjIVdyUguFNWOUXJJSJpQc6dErpJuPsSOUI54t6xKPhOxpPr3AZapqBdjjzmo2+HXYWsBMNY7R6Gb3A65rWZv3Kdw41Yg4i0iMtIJC4MKLTK/yFWi+kUZgpSuh9lBqm1BzSkZxnHLjdLM/VUhxca1JjVFEhKsxWTJroTnF0mrJug/H9Fx1qyKxwqVwXBnVyW9i8o/CJpXFoMWslrjGq0qS5ZeuKqsqjGtRAQbfE3lbbVNecQgnJijJTk0ZDZyrypIsfp8tuDTMDUahxdlOfUTts4Lr4UFECoAvcZWPCBG3ZhG6a3ATe1mYHtRY0XdY8pqH1dkXxScY8xKr+7D0qI95qz+pMr9GzmKTeH0f6I69amNRrWHweBIxhfeXZwOLkex2yY5XtQx/dQy0nIjAt43JlyfDNK+IiZAqjPnxaBJlnlgxjGFBMylDHZV9ecpUhzfa3q8xuxT9c9xTHUrYS2VhCEhDsysAxDXcKHrR+C2xT4YIFfEzhYa2AegogYaU/K1w9SpJVVMonx/FppWGjWqYkrws5RRc5qPLLo7XHe+zCStqYVL7t1g6IuL4KehaCruuC/U01TUGNaJM1pzfsp0npc33JLEF5RaizWy/ooJnKnyJmWMZRGkz3mb/erRSWy7WkbPkc2fSk+Q2hi7kq6XnlMUCxOP3VWQ3etitDaS/X/GHNTe76CIO08lrM4EJU+qSQiLxwO7cqBcwTcDCw5sJiASk5MFe78d4JhGhi+BbxUZ9KoGydukte/YwQ3oiZG5JcJNeo1vM5pew6I2oIGSisWMk2VNkuOYViG7Ste7351QJ92D43F1vYZnrS5ofFuI6mj9+jZpq3ylFIGpp3Pkfse/t7AJhS2mpAST55IAqr900+NzlgzLe7JFQxrYkRxXhcK1mRwpdJ/+m2fGqtJV0Ij3taWCeS3VVTSPpaP/GxbDKQC8r6GZorLYPsMhPtZoPWuN++mY08XpfuX8qNVejcNDPi5vm+eqy27z/hzDBs3w2OssxmHllbcr+kVnQF/MHKglrV9Q/KbuhX3nTfL9ZrNCQpA42c3jyNlH7suZJ5KqanXf+Uap5CXB2WhK54zoCQJo7RVdAlmYS+NIShiwa1GTX8D9U2AaME6nG7QP6EQ9uStdNqrta5IGK9zLImwutzYxySBhuzHXJ9cmnJA0KrWN/5LTxbC4z2W3tt1ydUl5ERLqIvsvGgth0fal2RW+xdztL2zqYbh9WRVSB9HOMkTW73FpKAQHaPIsinpWw2Oi2775LOwjtutaIQGfhntdU4vRo4nBHa56izbhHO1NN69KOOrrwhb9hSttjFpwHcrcOiUSV+2puQgskSxaf6h6LrI/jnr7syVs2grZVOLm84ND9g8pGLP41FlBs45QyXeCqjjdqlDIX4HC1stIj4gkx8YtayUSWWWHWGt3DMTjldzNcBH6ok6Su+fyGNF75MtiuBhJiRAz+0g4cQwymu5xJu2Eqd2SxmroXTpnCr84jKA6zgdDpJ0zH55kQ9xsp/2i/NdryI0utK1A2mQhmT21IyaKIOB8rZ5TL0OB1L6tnqJXIrQ5PezHr13dZacBBwVWkixKsSYZ/QEUDgBvtQqCWke61bWCG3gE3hmgEAjWGJiyh3aKQ15VsiXVyCTmlhxIEsKrcHtkraIj31RBiPSZ1PE9HcxQSU+nIJQgGeoH1ASyYgaIFQ5E6C1DkyvppZi0KacNbOEEK3ce2EHHOXeGdeCnr+FJtJFWICTOaG/pL3AxO/uVcOgSWimwkRPhd5Xi/X1hpDL+ZcaJeXenZ/8ZKc0T4b7/F+y1DdSXQ3hPO7+70lEKsfLSMHN0tUpEckM9ftGv0suZqnhLeBKqdHXFrWl4s+2SOYCK1MKFl4jWBjfNh8wS+6Ig9lhEwRSYpuNDbjxFWKFlJiSN4/uRKwXyLaKoPF4VWILOFm0dbMjk9FHsoJbfAmt7EDB8oRYtRuah++4pDJtgVagI5yxgtstj9RHB85EQgHDpNkuwS73I4Iqs2QOBFBbpVrc1IhGClUH03MTdneoouHNjgwuA+NE3L4AndeHqKLTWwqo6jz8S0X/x81PK8u0W6B7o2LzrSFWqGQp0gnk3RiNuP0JXke/ygs5nnblmzOG2ES5jS29JgdanVgxWhB6aSKjI0CL23IWG4yg8mvBUP0FWmWWI80iYs3YIbHDAiPcJsO6f/fh4oRAnP/c8SyvbwCJ9S2EkhAwJ9aUexcaGVBrwY/J9HetftFVSqoRCTxdkl/kKN/xVnvEP4eYgxlNZbX8ypU9/rsInKgilTqPZ+Mw/Gom3oKrraYM9CaVn3crZfpADjYZodfkWkTqydERyqNnTgHF9cau+BE0kAoyp7M4lj6Uut4RVSQ4OaH8VnGdGZ9yyUTdiHTBXbEl1RW1dynT8+r6EmgpUskwYtd6ZNlTkeGB5VQ8k2RNRDwqNRBGpokh78o2wiMcyT8bsV6ZieEvWd0lM0YcP/71BbgpHMlvxErBUhJNBxzMA0QQnRJhYcRQLv2Kv0xvHGyEakmiBsHZEJVfpy/ERu1F8Ez3DZdLoS9pat7ezMK9P38Zt74szlrJ0RFnrq9SyZjFC/Js8IuYOteo91KeeggEbjmDnDrDaUuzWjijs/dQXO8yPU79L/jcGR5+qKO24uYQxz4qEw7MNUfjl3kmlEe+V66bpcsXK2IvAiOdNtkVY2R7siORYgJkxmpEmfy+shQ5VJYP20HlR5jwwiX8sf0UbFzyzlE4onq6GMuQw/Yzyc18236bdc3iZGgIaRTYfHVKv30WMc/NEf+DHGT/KGpNJJekTG2RGL1LLazvHC1bYprNrtXiL3p2m9TDwJE5aDtKZhEi3u4Q0nhdVq52fwDSuJEaKs/U4BIYmYwjwqO/bL/CyxBDj0CRuBGpQKXAB0rYfPH6B1IFBPoQoZtHiUiALLLnuI/ENLMzbNyUYOiYK3pZvmPuiY+590G+lB4n5VqPUBvb/6qT04cxVJQjqKuk8eitOhSM5RcsBTWV3FMkiH2OvbZ7Zfux+ltOqfdZ7SWaeEEo7D97XJ3oIWZfKvi6TAXq409ap72kKlpEiS2vKZOMouhfxckyky20iqJictm9V0XTJkerKzr3mgWmqygNfHQb805HfGh8TS3oQl13N5IkKAiIRbMG9vOuek1lYuCpFT8x98CiMAt/Cp6/o/zTy7mBX3ohFz60zK1myWnq2Rlf6f869Yy/SFIn4TF8ZW1gdDKX4JCiMUGPZaiDZZ2qz8iktc3K2v21lDVKbflfPRgxeSh0QarQuQQhL+yU1LjScZCLd6M3BaWiNEJlMIwMhQ5xR3nKliIZShUoC5AhfYBGJeJuf5nFxM/o2IKl6WyA3hVekKkpFWwtIFOtWpCSoBcjNYzw+5sU5YVClXM65l/eKkmuF1atSVlEkOcRoSK/ZKYZnuCnjRckiHm5GUF3VoJN1zZxTfxCJdVaDtXEmU/Rn6ppWskpKieoPIHzgs6vWRHdrZWPUQm3RWmftezyz2SJDvCSCMkCnNl0DEFym3rWQhvmmHSYbiiybjGyzJbNCKU4qvYOQcoaoYihJYlRh6pOWeWR6IUeKCg0NMhMtwCPIPr1qNZsFRRJyDUvaoJS3ghbJevNDoSE08xQEBEQnsDiBKLzmDd2ITn+nmmGi765O7pnmj3SEBgwTRsE0CGBZtNbumqnr/QmbjWjZkp2PUWrhh9iuDMfllGPxZHrXN0H16aafu3/FvZUz6TuEauULchwjgko+zqvy9ith/rR/55KFyYkLhoaCAWKLSH/ufnXG9RE3IXJKUt3uNEHSqOhDijerYcDcO8FAOIcJQII7AMBQ6M5dkjz3tvGL5HMqpFEKHKWkQnP91ZmmtmJLBI1dLtilqoix1vrpilq0rlpym1xgwlgjsi6pvnh5/vxvksVBMHB8XBEGgfYhSC9iIOCMQkgQEhSGIlIVWkYrMb1ll6WPxFe9e3po/X9xocTKZhgTQM72xl5T7AoSZtU8Ukq97foiopo8+hqy2nTURWp63W6NFGnd8HtCIbI9Ii5/aWW1T3GxOrznSOnmIu/i8+/w45NmaiF092SmyZ++waZKYCUUmwoCQdtzmQ/eJDKJdopmRHPLjdurLur1/GCzzs7Kldby8ETZNjKTwiY5v54YqknAoJllNW49yysrqr75qI2fqRFet3sptwhwwSRWdEBMOBl8vMgTOh2EL7B2PQbgpEvLECclNAqSIDxY9Py2+LBC3EwFwRF8Lp5Dba3u7KKscmfhciRvc2Ij9XFunEUBZMhFaRYCoUhqj3+2RTGmFG9UcS0+d7f2G1Jv9l5ctS9qT8ar42pGkeR8O62h0w5gMLJYvGtuRGkv++iIu1jxzWhApVn/MzSp9j/MpUT2HIqQgE57J5zN76sdXESE221vEoBhEhXI2DXWISoxyTGCuasqTrXMfLqSZIu5bKYhiKTiB5v5yOWQrm4XRJx2MBmNFFLOi7Eorp+Ckexu1wok0ziGepxjWCVEU4rczJ7twJOHfdEhhJOeKuvbZCKTcUk4sJ9kdckpW15qStfjWNceY5him8+mGzHBL2YWt66ttb614PoQRBTDrLXpWWEW0pNh2lIluQdAuT1K15LJgMBZfugMYuEc3MHXok2Q/+JyVASGC2mpT+KZF15EdIrVAsOgT6XIKdV+fJbmF0JvBPp5ya0niKYsQETeME4izK4IhypWqmQq95NI3VX+9wWOVb5NITDGOOy+QtTT+8bYBugfzSyfWjcwIxg60DFxeJwQRBEwxNu5XQxKRxkZieeckQOZPnQtQsaFIAJQFTOATOYi0eY417/x5F/5kCaIUy/QfLWevdWPe0LvnXccqxvSeoGx3S7nmGtf/zdEEBDDVVqGzrBbM+4UEz+jud3Vg0TpdjWaClbdr0DZxcEXs57DLM2QHTtKR231kuNVLN+lF8xjIoytY3W9pucpMjKo6lX3/+gxNyE5uo0/h1HelnNKYXVqjMqPkyYw1zxzGbdUgK04EQURIamJcaXGuTjrLxKJSEavSnOBDknniqpIm8CKDNoiP0tcpPKU9nnZCzXBFF3UaM8MlUifv+8C1ixWSsV+Fx7Xf1aGOfZrWemREvKehCHIrx/pbFvOIP6UtlniIqoBHaIcrzPx6Zh2BZUS17Ek+zvKBcVsjmpfpRUCoKQWsb9uofuMdfsWcnMtOsVJF0PGUOJxTb92qqFUA/yPKiL6bgk8b19j8XEL/ldMdw21FFyFcmb67bj3Eqad5vUTz8nILtEsqv1ty7NnsVhtS3bt9f6KVoknDnQkAyKBPcXdG0h5YSHBHu0ALLDICYYxqvfwSmhltq14I0hN9eeXpB1z9jvQqFxJ7AUlXwxdWZixaCPzs2Y3MraiWnwYTljhjpFe9OY6i9d57ouj6mDoz1a3ObmnasogOV/HR7e8B9/p/LK6t6MYuh3AbZpbcNSRIhC775gUCngNSPeCyFqDLvuZZ6mKsIcM4p6CQCnveKYEKhRr5mWxREVUHU/omFyJS3dwp0kyP7in4g662W/TGcNwrk3wK3VJk2BlFx39uXaqJe68J0gBQx//4xQgMS1TvVPOJ/2ANcBJ+C14FEAilD3INTQV9tBkNcyoeh38BD24omf3f7oCY0a89RDhlLr/ANSXcuf6JzgmgfBVvJy1vS69NIfYqTRVyPsKpqB9PW2LCLxlX9dtW0V/anIYkxjNNKIJAfX72UVjkOwmUuf9Aq8TMNQye21JlRwupiugkuTIPhjfeM5titUBSETxM9Dtn3q/TZVFBBkagNehShRS/YYmW6ZWDIndQ12oY7LJ98xh7r6YBCKN79ZYd7qZLo1Rk81T3+52fkvYO+93hjHADQC0NLCHcKeBXe/DlybgKIlFoExPSD53fpNZWVSSTXPTk93ECLGsGEWT7VFF0n5O+eucnQwFKTIJ0eLljIg1GkxtKQMGJyOTIDSejOq9/R54aI1ppH7xZn7Y+cRJldaWnQl0pb4xTbXgHIAlhNwIJAKkdM0SQNGbGAU8MaRbOkbgZSmP1SIRuZQieX7h7iyTqvxePr+iPkT3t36k93/1TUrnIsfxZ3iY9+0FryNvzi0ZbHG+YVYGEAhhe1RKsY9fwU8fxeucXRJOu4GWBIgWZPhWBDIfFMJOiFE+mCUJADeBPLozhE4AnfItv6aZSETpNqkdabmaz/uUFA98o/t7q9tyY5JbX2txTUFRVe+J/w2ShP/NbybVFn9doAyTSc6E6QqAwR1piHhnMIhJJjRy0mhFeJ5nReUBlSFqrAaMt7EvY/9FTR0Q/4e6+IZ/wjSPc0uk1PmRO2PyyHobOVLyAV/0TNYRCg7QGoOinb3NDbwZkII7GAFmishOGJCvLstU51dW2OwBGXxkDTeh4ni60H4/arOSTZGqpNcNGEFuOHq23xEj2rBHutLvzKmhxokBzl8haOQyHJcJNxL6kpCEpOskw7tZvI8Cd3j562v8go0Midrh2avWpWKn36xROthJuMrv6Jb+cBhwNLY5Frfy0xC1MjEqGp+d+LwYZL7NOY/XS8aveNM3zDVdOY54zTAEsGEAtr/vECouoAjQxkEDgOC0CUHeJEyULrcSOQeizTHNoMt48CQcE16MpJ/qAZDEIxUL3zZ7mJZWLmTNJlXTyjKMlL42cvF5+yMlajIpT+1blu8ckJEvR6OaUpQ0CyyQ0TFxkCvhkhVqj67ORWJQ4SJ4iEY2gQ1JRmmTqQ6eAmOiI/4bzDZlP4R4Z9gXQGdn0F137QuVpmRryOR/rmhRQ2Yof7VuWhc4ETpRQnlrmYMCRY60VQ9TPmxIsYNOPmTRggNKnzQhWI0gIBMU+jguSNtbgaJ1TonhBtXhuArKXf3fJj5VkRoynojIy0IiykQWJhKzlHsvQWm8snxZuyuxn1ulPa1ejcp7WdtV0odtk2uuZRybgOyDIjsZwRGTIRCITb+X4RorQXvNaMFSIOFDCE89UMKBBYwIriRFp880Nlzh9p4wmSVaKNOON9PeI4+Kc+mfMROu/WQd0Nf2frmnNO3RNqiJmI6svFJPHWcKqToowissrzliXwoJnMtjxU9pQS6hLEWnlGvOFVm78w9JJL7hvOrwIsuj7wqg4qWCZwCLFS7kbHZImWbC9Ca6pWDryM+oP+ua+KISFqIBKOBwVe2u0zKc6lyQV1YdWLNEUtzBL1RDDFUpQc2apOb8GcGbnQhh2NyB/ohuJW1xOqL1BXmifmRicFrZNSvoyQtK0i3tvZD5fJ6FJrcsMjda4SuCp7rK2VIoYSEo8oMalqspVtKNYTh/LVW8h5PhzZre0oggDmolRrZlhiUKO8+PZRMX1vlIBLnIdcTXQp/4LmQjrfmjEWEFUZ4rN0TMQTOhG6aZkbxjL2D+zlGBW3KcWar3f6HTSFTVwLe55kw6wmI1ChoXYEkyovLZF9S6+orbn6nqWBvhmsmTFTDD40LmXw8BY8NJSJp6XJNRCTVv3hYOUv4aCiL2RkKGpn4Opi4ympKGaRcrC7OPEU/Cu8uAMXdqWS90SpXapjWCIGwDBKP/EASy3Gd9gkCP5JPVc1EsrniONCsDOPAMySRQ0lGJUSntY1VcZ7IDAbuQmX5pldmwSBIjrL3s4YNcy4S+a3zjw+zCmrpXceHhkgssSl8XlJK3SM1plBYTiJgqJmubEYJn3HdZ2XZPwp9+CTZhI4Puha8SeAWHc3exGXZRGiKRPE4R4HN4giapcYhridmFM+2GFW4PQyEJ9OmRU18ncNzOHPvUQuaWpXb8OHwQdupTPyi35dIBgB+AKtzmCCWwtMXSnJTFMgi6BZLxe15PG+1SnEsuMfXJ0pfwhrRe3LKTmX/h4TIZWrWfEnA/D0+MqPf8XHZLxp+hPvrG0g/5xB/zqSDiRtbbPKUnojYPPA5RqiN6j3+C9pg6pSIyKsolLP/MTHRRtVmDiwUfIuKO6vqt3cGLkm7J0XiuLdSKlohDr4csZdz60m6lydZxrwAhiySAQwhu5VMTcA8MCg0gG0P4CUKwbE/VcWgXlk+HMGon/pKCwk9YUDQDC8i3TCAhdyqu6lZaRDNnZrxKpNEBmpKUAw3vpU6kveI9jPkVd6ivteb57ygbMHnX0QsIEkYiaGTqpOtCBGQep3qV34h74OZ6y1pr8UI4U7gkLsXxEXiQVBGBIH4BYBjUcE7felGi0wHoRzFf0x+5IzPo6N5gWb1tQ6rzTCipv47jgc1HdHIcnHUC+QogKpiE0tAqsSkHftSn3V+kqrQALgngx2AkMXmYWQsA5js4NdZTC4EuBsegs1owQobO9CWuBcm9nksZqkQvJtyxS/OOb7L/QIwy3LtFnjreRxaM6ap2FXxaRYisbipO4tvJDqB43uHB+sLSgNFBYXLlaQ3hQFXIRaIpHplupJoipJ0zMESosZ8C8jvQACEEic9/fhLIrqfDVvjksWZa6hZKRfegdh9GU9Qo9gfTuqPXXcFWoJD1cE/W0spno1cvRLSTb07JNF5mI/WoEtlWCQrovqyL6guYSA7rH3UXkKKUnLTNSoQ3JcTeyONS1p+XEknGBQks560addR+WcItUfaWX5W4qkImkdjZK2ojqRso+Fv8f0IYmK2gxx4J+4HaL2N8b6ecmIMuycUFyHJ10hcaXWSrlWoTHIWLz6vpA6rVIS5yLEZQxJlBW1qLV6Ku1qbxLImp5LO5SNoihILIq8EQ8vZCby+5NPQ7pkUst3BfyM2hDeo9DNDetslsuxEj1RrX2yDAmcI+BdCrzJN1CTOm6JwhLGO039MNcfpOuGKq9jMjsUyVzqm9WEO0iCV1DCXMShO4xVdb79SaprWDZ416F73W57Dq1s9mKstfIskOyY2Mo9Vt+EwPQYRDbgVBLMwliY1vRLq5xG+2G8yBPoQmDdHUamgWLvTEdrE5MxI0DAsSBYBLHNA9kTqTuyfYGSRsjdQq0G7t0GZfexsSUY90ty8kbHOnkhYq58zFoJtCGkji+QQeMPVSHaZJFpR9VbnMjQ7FMlMJH8xySwJZ5yYHehE0ArAy39lOGskguI1khh+TNmIQf+SLFKskiHRRcRctlpArIHaqe116jmtg/+RrcWMB2diASnd7IKxC+MwlySmopfE5+0jHoikb0BkcqnG02iZSQpCjGSR1igIF5VB+UVqIEniTLIkrXIKOIMpIklvLAjQJc52LAnpjdy01o9jJWmxNpQtA8N2Y2ZAJrk3NKY2LMRqq9Xyhl1PXnKZm2Pgkrdi4S2brErzuaCoHGTdefKL5LftTZVn/xfQkSGNSRGmV821ikKrMtoqVrJGUG29t3m64TeMEXxQaZOBB5kWTfBBOwOJrqM8aZ1PG926Vc31ldv5H6mGN+s3skQUphJ9LeKPGLlhDrlpfMOqNMROOVPURaYyS9USsiPE+bRWb/Ijto/iIvodyI/Fbm1yKI5RRQBESBlxtVD8SWFD12iDIlsgsQYIDkRo9cacaTASDYGtlCyhRTEntyenMYrB5GcsPrLSv6LWTXmVKplYpZB2yEvan1XilnIbYz3BSvpSxk5oM2kavqXW61R2i48lfX5ZZaquUku2COTIKa84qIJtENiCiSxiL3kySvuZScMhobLZn6uNLiRkxaKxAmFi5iZjXijxECwRFtkn1bQSeQJFLbVC8c/d2T62QM0DvAl8aufhKiMfag5IAp/QjegWpUb9O1jnHi3RpqQH4fBOTLSDKwgUoCx8cXHi4UxALfCXtAWKgW+BJ8eYIFDAwsUIYlp9wbcZ1WEk49VbTJrrv4MoL2jdoih3eEyhJZJBIwVHiulM0xzLX2Jx91bZRVCE5VjZdBeie85dUN1qynM3kyzdWDZIdJPpPcrUicJiSpxcxVzFBRkxyxqTx7YskxohRxDiTHRZFy0quDI0JpZpNUgTysJpMr3uhHxOTe38vlcCOUUXUUf7KuBPWysU2d5Ti+QG3L95alTCai1SGzSL2NMUJewcposmJHrtFpiDSBzhhBYtcc28tah5stOyCZK8PWnt5+lsrkiNdbMvFVbOoydszHbODqT6Tk+j1VnvTMj68w60G03W3X8F2IcJJROS5ZpUsTENJmvbQQpEUGQUf8UuU9YUog4nONcUJRYKZw02QN2cFS0IclS7AmUbTneG9W1KSyNEk0rVIQgKExLNDyuhJVqo0JoaqYFTAkB8BYbkQZedEj4sNnnfoXImH44Vo6s72UD7nVY56/W5ON055vudCKX6/EBdxMKrFRAj80uiW++JDJgqsnWk1VtkTAqonejeKGRAulHNrFxQ65G3JrR1b1fYslZBJGtiXSHPNSEkRLiTBiBJ65CWtJa0p6nmHSn4QsyptUwf9JuV0VcEY5Tw+sTovNVHeFZxVt+KN6vrFUG0MpmhHkX7bVwzr85Zvez80Btp2SeKT4SzpzeNaRYxsSbQ9Nb2CEGlOIOaJRGovPYaS49xpRhqRRJcaTyIEyEsKVWhBRFhPnc2yilfrn8TwafYbGGq9aJ/phZDZpe/I9xIkUBogE8W9AJEBseJwbgbgJ4EoeewlcL4SiB6am2wyhTbG/dQiipJEsuUTQSXUttTZZ85Gpx08y1z7ChESzNz5IiKK2INkr+xBKQJr7//jFCA1MFABoAGsMu5nSiYvSJYLo5ctmwak3g68ibfCEfj/HGMwiMpVUIeNRlDXs1bs6OM5k8M4ruI8BLZ+KUpq41tEa1SxiTvSTFTfkcZWKhsQ5Pgo9ogiVQ10WqU2J3muelpFnZrDMuiKqQrJMikNsYev8EVaiWKQQXzEnyZVjPliMRFTFyZauiRHtzfpLUmwnFOkI2CfspFi87XqiksiSH8zBPyOP4YfIiUN1xPUNHK75EQYaib1zlxITp6j3rr6GwvyVNs6UJp2JyyoiPsb1R+z4jG7pLvXrI3aVKW9n2RSeKqz8aVjffEXvTWm0DO5KKvlE22vepPDe1krEpyfxqmL6SxmKV4jhGlTHWI6QpEEhJVrGU8iEcnMu62KVikrawrMiLUVolVuojsmQstn0ZdkXqWonExPUqfxJ0IW7fw0rbxnFSkLjXRIQ5PdEs0wu3jIuwijCw6kPmxONyL+FN0S/JKl/Q+JkIjVF95X3xkOxLlM7P/V9RImRk6VlJSuIxaUlk5CmeE7F17TEkiJ5JCMQrbzUXZ4k8tVpU7rte3QbE03iN2UulQXeWhD2vZs5CRmK2TmumXCkyMSTlpcparU0SLduiNNxORUX3pITK6YtyOiJ0UibHTlNi1qIgRt/1quuTtW2WT0uhN9saV/WlkNFay95N5rLqKrdlEzXoua75XKJ3mXucjNnoq/u+21Mjpxar9qLtDNmLxGo/k4joTV3UZMxOV158fMd213b0Jr2kYvIZ8JMbEOuIjVqidqFTSPU/UVeTUquuqt5Gy3FoTN9PORN5aZq0fVz+sVGITKtmdqojpRFEo3puaieVvaTl11qB4AAAOAAAAAFgAAABwAAGgA4ADRgAUAAJAgooDwMgvGEkPYx9pAoA0AgGhwsMSSYEyxTRh7ngwDeimjPYp6lxRqjwyJVh5z5LVjyFisU2IXvQrdnMeQtEQiphGoW3IvNdBT97Pr0ZJYeAAYFn4CIBoIG2v0DvshwJHaPyPWGLkctM4LZ9UdanT+WbWJZatZu0TBD8hlOm6JjamevOqFTW1EtcuJnLVGYmIZcXVMuYivjK37VUZqpXdsm4I7GrN1iWaZVJ4kYtJUHl7Mb7pafykIjDCoxRRhe0Ralqap0iHE2tWQjeQnY/sR1NSjIt130XmxC818WREZ0SvWl0nsFMmlZxvlyLrKokEciOtKsGXE2QqctEYn+mFIelxEtJ0slbsh4hWyMUiHbubaHITucTUi23t/iZROony5YasqFliOZMY8Wik0RyM6ElqQc26kZSItcpHSI20uJX3eEqYrSv5BJriK9xc2NEXsU0Y9PiVzJw1PqVvs0JF03S+NuSu8JVSRSmdEumS6MvqTfZL5GiLFb+nQJojxK5FGZ7VjdEibcijkVlUn5MtqVMNVqZy+MfxI/2ViJWIqDoqPCIXUidNp4pOsJ9JakvRlRe+RNBMyxYXtKiSzK0j9JFwksJ1tVow88IRkaVfp7uRxEOnIWW5CXosMLHlRkQoksxXJvmJN1Nj+ZJ0XaUqMsyWRDolNWlqUueb5E7WtoVFbvUgm7aXLraUiIltXWuQqYzLtlqa7PUqTjRenKJulfkiHSMKabEjtqrCukTY2aCxaKSdsZWlk3tfc2xtNEvX8hWVJcZbyX7mOkQj1WfKCUw6b4ptVjVKutzELN1dKk+UhLTUSPOqXkRL0i5z+w2Y1TUq/6IiEcZ4j6p/dpLWxj8p2tdDeEuvsRKo19ktO7cgkdDZUdK6W5GQQt9X/2PDRhMikdXWIgmRHnijVWltTOI8z1Z8mIJ8eu5ExkRP3VMRVlJEpC1e/JZDakTp4h90CoaM1J2f9r9GqH80SE6XHknSImzoRdf+ZSRKTHvqR0dmVt+RGWRWv0qiS3ekZ1uRlvkIfVIqVkj5Z4YbSZ8vezmQRe5JMh6Znl+ToRU6ep0Unpi9lTCJPlOusN0+FqJIxJ3aykqI8fY43a1OiIzucSHmzI3McrdSThGU1y8+W3EWIxHx7a0RDOTQvzZr8dDpKiSEWQtuxJUV0kE2Z1UT5CdtP2uqpFk/+YpjdCXPYpuaOIKy54ZlJKVKW4zm77MtIyvZuiNLzS6VZIsrcZejdU+/bFRmO1qZZra0T5rt/k+sVtLXSpkksQ7WMZYQXQrHJ0yGU3UqPD1iNW6xRl4ITh2iXTujZ22YVvZN2fHEGVcZSkVyKlDKismL8jsjcp8yqM26sX4jOqNlJySzIroXfdQgAJwCqAkA4cQah3BBB1BiFFIYsgRfC+Nm+SHrFfZn4MhvqtvRtLubfXIVV2yd1VHSDZnQ96IbKIM8NC6LVzoJRebFFaGO2di4xWSaITiKoZA+THMb+0gLjmlGKqQWMfMZAiR1En5YmTE+RT1oTxLGX3KuZqis+zIRCzfoQj9x8omM8JcUwUyKR/MnhDRUMLWuy4rs0RL0z82paz1RmliVHFEyL4MfpsmKbpn1UozSjQ61FQmm57k0Mqn32yQukNSICEUXWumxSVC29TFG97kIUXs2agnVEXIwnRy86EOGU90kYyhZ25POEWjXJtvmLsX1WwyzklXXsh786JhEIg88fRLqUJCfXniaydiPu383QpjRa8Qia45dDNBl3v78kN5bPJkpIvMciHWYxKbfkwVFSdVTJvcjplXCYgu05p08J72qaKlvpUfwkm4kjboT90+Z62du1yxKjXkeByhkuifIyqp/H/+MUIDkVC/+z/7bU2ToSCUvGQ5k2RMwhoQYQkCoqsokjVqU/XDiCGhmbvdEMhMhLhtKnOXitzWdNYw+ljCDGXCG+NBGS7/NVze7rdPND4RLiIZBEhiVhGY0aJSZ465bUy++/qTPtqkzCJ0VHTXNuX5ck1KVvYS6BvGTXETMZKgrEYhmIXnJSiMIh/HcWCMoQiqs1+Cb1JaTtYs02nJCypVdkatDSHEZlMiJKhIYwmXXfEZtxCEhmh6ZVQIQhF+cxVQJDxj6oR0eSxXQ12wtzqS0zZDl+tQi2F5fkUhma1U4gQJSTmftgjIgz2/slRCdLRhY1ZnZO+JqSFg73Qvm53RVd0UXZFKs4ghCRCqv5G3nntWbzzNWoz2jJEJCYwzBsQ1dcMaQj0rG8ESh1vWpqh6J4u0MGbPqdOap4kr9PSxv33rJGRPxSVsht26WzG2c07yYgnFd3rkIxND+LUEvv0/qVsZSrYmzaKtQjEzJbNftUSdpi/KiW2j4hsIhHHKxGITYeGnqExz24xmanfy7GrPNVrZDN07FZqzU2SIxlTaxla0RPYlyMglsKLNUkTmhIlYi+aMxoqqeoQQaY6mkNVh4O3GMJ5nKSE14j6MMm3j9hvKj2bI+SYITd9NWSHeLYG4hMQ9rCbQjFWpkJ7vaT0jYqj7QxjS9EjhiZWjNE1JYNezdTS1I57UEIbiG6YhkQ6e1EbYxv/tcxFdzZcwbQkzquIWkQpOlTCpoi3z1lZNEO5fGTQVmKXxP0SM21TEriZESIvUY3orRC1WTGF+TsjEyI2bJm+Zm/03JK75TqkKaMba4xX3jENmJr4XE3Qr+RyVLXTlZPlSMxpsI8J4Jl7Vk2TSmTTq1MdYIRiS0sj9jTKkTJpC/M+W5EZEM+Xqiz8qr0/6PhfNCNN8aVNdNjLEEziFLcR61VUyFzNREMhv6REDXo0PE1Z2PinkYplEJ1bs5p8ipWmRm62tXxG6QR3Ky3GYRGRmXGIRsYsXmSkiQT5lSpIlwhu1oQojorunyiJZVrPJal5cvkUnqdLHtLKmuapJIszG3fkTJuSZbIzu3wqUzmyLPO/zIItNLHbdrnXEniJW/p3ITYTTrP3JmQlp62lCE0VSwiQmiEjobjMhupTIsMamdsq1GxGCHYtKOaDMYydjqzISE6VMx9iM+qUVXuTbLvN4SZmJNiBFJ0uxOTeoLejV0/8kduTISEmHTWIusnbkQ/WNpTRFLpujAmrQmREGIeXsxlEb2O59GZDUnR9d0ISo00SWYkdiFatkdMqZVlv1Q1yNnqTroVP4j4RdsirrsRCchONqmyeJplxGpJqUX65GaBCCcmRHuadESEfWveWQi/XbonkR0XTJREqEtStsmWmYKaN5ubo4mtdEyQz1kMUxOKQ0JBsSaohTt/Ii5MrV9ZrhI2huY2syNj8z+Yi1LVHzW9iOJ8X1qSMMR3ttTJiUk2bLX80bYmJOtebsNk6XdnSG+lRGZuJ9Ij9hFTS6jRb6Ka/NnI1qFdmTziSryEfyEzH+hk2bl2zMZSDb8JNp4zEJtPliUiEgkXothtCPe2xiNPHqzCoEYMqrxWg5GtE6+NNrTQhkIzazCQYkEWVIrZBlJ/3Rp2SSapmMxG0nKiRkIylyPh88SLHokuhGaVtGSCaWOT5Ok9MdL2ZG9E8TXEZkIzdOZdCRlTLpciMXSWyztkWtahrUsc6tMlRN5o0rXGSbO3TOJ8ZeREa6NCZ7Y1okyVnMo6NfkZLunyKhybr61qFCRahJkfEXoiIzHGZMlnrLoyGvzRI7T5c3JDZpLJcTKiRffrabPbenJNEVIjJkaZEiTaQiE9J+hFM3m0EyIyZWniDXFJEq/MjJu7aN+St/M6dDXPj3JpSI1TVtJEyCNHSSGhEmlfSLDJWJjYQuGdOm1qEglNZL7Sw1ECTGnxYsuu3Qn5LkPLYgjDkyqEjDMyXLt22ITTL5DmyI2Z25jiJ+hlyptcr1akZaj3Y8ymGZ7q9VPZkSqiYq26cESIu2JBMYhGosXITovTEtVDFRZXVItRTdSJYp1skxb4qlkUb1LhlxROvnS9EIXVtTWmzU13a0QZCRsj/M7bXLzQSxMp7usOTVciKl5enfeN5Xa5cj+byGRJ4ytd4iNkRmv8LciMwyZiy5YkEfSpLXNfbF9D5T6yRLfOrTk1iSpWZoVDu16Kl8WT2NSVtI8mT9IkiiXSw5HZZvcnrO3GHycn8RHtL4zkqxHioksTtET0jRpvrFyosbGbt8R5GZnTCVNnmY5M1dskz+7PttBFzx0qqTZGRC9F0khHQnSS1aRGkJs1uT4k8/TcJEEtSVFRiqSKnvxsiJFq3qSlTVLhUVjsr2Qh8sT/b1oRE66bTGtMzRUzNdiTlJH1hMmJcTrE2X6VpkSb9KlTebu90TS1NvZf7KoRs3qLl9TIgImZkvRnkRqEyaeKkpIg29bL9mybGPqs2rCTo19mpFftjFpFJFQpOqKiWN+05NrejUzRI/1UjKiMQgqVM+RjQSeI+ImTZFI7JdEMqtnaX2WRHSsn+akyKm0SRU1oiTzTS2mvhLZ7CWTNVAjEoiG1a7JvKEMz/+MUID0ISAAMUhxRznfKrGYwhInHqsyMxMyTaOfvcTEJClOoq9iBAwhJbHqCBBiIkMmgoocOHOdiBAxkkJrExLdtYqjlL+q5CGMm1XuOSzbIusaiMQmsupE5iJznOdeqDGYylO9IECBBGfv7WjMlru6NUS8qji9CSwpyhQ46sIEAgIZKxENpko7i9NNdqd1xBjEaq7n+6ECAwhtdNtTsie91sdb3diEyMm9Or+Xa2qcqpqgjJtkTsQxMZH5ShXO5fmIiI2byMRiGRrJZiMQggwSFHHFFKBQoq9znXDGEMYQYEESRMhEEWilFK8SqpXc445+mIIGCAQxmMZmpS2pn5bL49/OOKcqr4xBAwYQYhEY1Zpsm/WilzwvKRy09u3SNL8MIIMEEMMIGE0d1FO6xEdx37ijl91iESJiEMIGaIvc/i265RQo4UeECDMaqlsakaGGRskvxBiECNjigpfMMIQiDQiCNPFcor/yolewqlVZ1/Rmxfa5/EIEEyT+8VxXfxhBEROsqEYIxCSoJiNNpy+33X15F+0tmIxMYxEkclOUUpcmZElKUKcpzyVqwhBDDEVxSrTERkparlrEIITcjqdfGIQhCCaEYTCMjIoUpSlPFkQhhCMXnFFdy+tk2uVfdGRGMST84Ue4xCEzMRrk/l6/u9WI2JGIiBMRsv2mZhEbKFOK4ufldXQQkRbk3tYhEySTSvV2MulTS/FaTutCEEGCMSTxeOeL9NCNUypUYhmGIhphEjvfcKK45wUK6oRm00zGMQwMMyvvkNPxxRQ5YhJNFOKd/mogQQyEzYjSNMh389vFdyd180mRiZsQgzI21mSxFinfqqM6nHDhQvuMYIIGISY/XzIEJTMylqniOsZDMi9VRdXXyiDDCCCZKc4qoYjE28OKOe0jDEaRGElaebnljlO/qRCJK2lqMhrCwvn2JiJpXqM0r9XLP3LKxDEEM26+QhJmQ2tHUpSv1sy9Zm7L4hfCIRhCM1uIMBjCN+5woKCjinMQzSdU1rihYgIGYyS2vbrkQYYmnlWr+VVVcmnT13yGEDBCJCXyLUMYwyZy0t/0VHc7uc/fdYru7UZFM5RBhDJqJ8lvpi73UxfbK/Su5zEZnKzkEOOIIIZN7MzjupKzSxJZJL2v25mc5Hc5nOchCEMcpCMhPr32zN10ylrXks7k2EGDaQr+MZggEG3Sjhw7rJ9iaLtIhmmt2tOszIgQ0LmpTjnXkTGEGCCErhSrVvISSUccKd+QxkIYRpLxadYGMyBCx2v/YjNNK2Ur1JaW6aWOGCDNgxqjPTl9fqydWQcU7TqRuWBM4d84opbH4g2iCETaU1BAJAAoAswvDAxDsBhra4458GYDBjIjf2174Q7tZaG7Iav/iCLcuYpVAgQtlOMtm8Gpm7vcRJx8qT7yNLIe/mSPcOYvFhOpIIXVy5B12aS2oIro3sU4XOihBdNo1jX138+gk5vhZ5c34shFbImI9egysxNUp9lijhuk5z8ZUJ5dKvUeNW1tksMuWEucv2U2PqdPd5HRf0y2rzS8qEyfFtg376m7l2YSr1M2ldOBM6xw3z51h24X5rijUj7XEGKnQkQtal0zP9gUHsZFQctBkjPWpNqL7wgEgpXixuS2Q6zZOWZz1wR1foibWOb6r7/GChCQ51RBT6xQuIOFcmJq74eOizj9Wk1psFSUh0tkDim2+BAeUFIOiC2rCBv12NnXe2dCvCEioL8UUrx3MLk8TV3O2ISL30ZIxZjkLoKK6clxH/YZs/bOm557EqTl3jsrd5yhuwxGQklxrXWCwSUWKXuNW+5JQT8wlZxFZh0K62gKjTlYlqi37zcnmniEYqKJ9vDd7GHGNXdlSuaTNobUY2VzrhiMjHL1cIFeAxVqRXRRE2E17UggRhV4jtsE/+JlFzk+NRl/u2Jj8kb0JaQaNgSWU4DFzGEVoJfLZaExxYZb0TimS1A7YXJXoEVRmv8qQ1FKUsEvqlVzSGgNm6iJr0VaZvCaizD7EZNOPkOBDmuqFlDNm91EBGoyVQsvxIF0ohvO2LS0oyeMwsmHr0RapOZSXz4RPvYEVZin5j+zVCuTidwsRCjeDWBDinD6YgtVO7NC/oaDNyo3ad+7nFUuWnlKax7Hq4Gcy/lnJg8dc/P+ytaDtonUgqXMUyVLdAhPK3BF6MINQPWDTTOMOfXkOgJFjoCyuUimVNjZKjmGYq79EYDPIiJVaLthVaPifJHBoC9KmDDIWp08jwR0c1yFaIUhnAcvmBQMQGrajcoglz47kP03YWwtRY/wTi3NtzMzTGaU3h12dkwiD5x+ZwKHNAzL8cZWJn7tx6DT0vV0KXaI8mE99laKaC1nmWIhonjT1BUoUsqBbhlehXV5K4jj7+81lNTlKyOSHWovzl6bdJXE+RE+crDI5fyY6X2t9W6L48ZOSmRqLbVCM3tr86czZbHHj1SrVJI8vhFYSd3XSYhT7DlbGTxHChiUmkGwckbt2ivIHm3HIAkytlVYo51vM+24mAqQ3JbSWEOpY7rzClEFBJRVBgOKDNrgCIOqFDVwSDn92VJ0mcpTaXKymUzdmeMR8r+VKV55NKltsc3aKbqXg61YO8yGK4dne2oawhPi60Jg1Vl9/VVXy/XlbrmPXX6gpEduoKXeUU7XsLE8GWLgx9eBKcEuSmGUypVuOS6/h13rcbsn9eNANU1oUOqjLK2x3d0HZWrCyGFotawr5YryfC8ZESLUYo4jC9Mt/+3NmnOe9zQhvjqaw8yGVksQnHMYqYcilpe7CamriJbuDmuLDDdECLpVGu4dJoX4uR9bQIZhnIee5Wk6BftdpMdVDYCS2c3cvCyCj7gRE4QqXF9GsimO3bM/nb24dw3FSZhWawJmdZWHNRMhjupp64SRnR0VBSRu4E068pbqvnSbBufCKhKaHVcLwSDNCldCT1gj8fBIsUwJ7IMs33fo/hC6tVgYVQs+TDa6VRXj20Iw+ybljsYNLA+gTPc5yXiC9UWM8yEsUoZUxXbDxtmDn1lzZjYSG2MIDpqd3Rx5OFVjRGfocxg23OBGH8jOVnBnAbHJeEE7N9v+buO6RceOv2lQQPEAI+OLJ9joeomc7uAw+wzETqZ8WIYuwt4SQCIZDfhirGYOZh8ijRBIQNbwvfDwgiSBzqIGHUlzZYIz6JXcpvC3kfh74yY1o4kQKLycQyk1HkBS2pm6+WCnm7mi5kv6Rzfx4TGyG3OOyWacWvRQCcjC+JI6IuKhNJ1QLkWKW7O5O2fK9errRallrL60vKaYKLyfXD5nKmqlMMitkaukI7aq0JrxK8kPAjLbjbo+KEA72WgfNVIPxvEFmRwYK9UXFe819jIHllBT6i/5eeMid2n1dlSZARiQsxOpNY3pWv74IVYgcreEhh2mioaqDTj2Va3CIElYJPOSWNaYaaN4GPAq2EHdFoFBmtm6dm1QpGSeK4BIxsstkIQsnFRZqn81FCKZ8wkgQYCFWZMOmdi6eKxUSrBcBIMKqw2xnqH9o66tpog3M8BIbmBG7IPa+lDRHNXNomsyvYi4NXcX3JtCgAoPAQoxBahSNxuCeAvt8lZSJek9oDi0jREb4xVW0m3keOyL1giESGiTc4Ur/yqMFGCjOJ8QnzupR5gGrH+roTBABSKzE0uE+YpVH4ubFhoO1LMrJh+/IFQZPS+h85qmQt2Opf4cuOggIfLgQQF9JGZ8YFvPX5lVailZL9TgWz6nUSpYhOLJiKx1T7YDfqT95EOBSItybMqdi+tMaI5cd2Pe9chMlDeiJyCxpyYAsslUCMmHB36zRVwkoN9SmKmoGQxW5dSjp58cYGEBG5CDxCJxjDnZ5yit9g6wEluHVoDihvZBaRucWhFgVqmQeA0UWKYsKMDLWEILNifjs/zT+QwIjQNO8BqSgdrP5hfFCgQuOgZIV/EdBnYfWfKZ5fKxim5DYFjxYpgjUVDlVfCnyJjb15Zs+IGOjTGxObXXWDBpyh0qmVggY2FvL4CYgtGUyPE8dFxf/1izOhIBNuUkJVZaHuEBsxUaFbcWSioMLmNbdMHNhQW3qUFdusSoQj0iwyemX9tu4k4VKqq71Yl+UaR7R4uSRBPsZmpREzNIYvI+s0Ad+xwSwaCnfeCwiV9KPxEfZFep4omBbAlVpo6Lg+pVy6TfFjwOljiSjRXVqLpQzWROyyz2gq3vxJBSAyN1JzDOH2nYhHVexEEXitEOHJwAV9j5q6vhwwaLgWPG0I/GEnnYm1prdJymWjPZL5o9MSQKEvKvrksqZk06BE6LzGx9FieD7qLhfNhg4gfr4Yj2W0I8xsZIfdz5LRJ5u+SEg/LV0x+Q3NbTg6G26UEhyzvjrkGt7KoaVGoam3HxLZb4jap+vJ47Bh1dVJVRaWZWY3fp8HE7WE4K5tA3+nZUyeKnKJUB8CSd9vqaaffPtwzotQVQhN/hexkek7hv2pD6yRzhbhIiZhvnMnq9kuheEihB6CcD0J0YqyKu1DTAkoq3excSi6qHEliEQqGmNPqh1qbPfL2RpzZdN4zqkT0VN2+yR4oonhNn77DKvnS1SJObZjsGMS57PVOr2aXHNSLMpOrAb49H7tRzY7RBMe3WSLiejVZOCfTWvXAQwf/iZj4p8J10ebgmyxDXjq3VHc8RdUj/r/j2l+q1vMuLj5F2Zyg3uxFxBHQyXxqfMSESqRpv3JI4Ti1ipWudLLweKdzUmgvVCjR1XYgREerJjqjglM2X+NKdfLIj17VFU4taprrG9miYxaTYAU6OlxF2sYAINrDuATmbb2Ur8x/BPJFbqS4nlZLRoJjPEshSE1jflqL5KNfNKoS4Iju8E+rQ/R14vSw2qBd5OXyk0svw2LECRcgm3JOuE8G2R8lmjGcQtGwaQ2d1u405cNWe4GarM9tbws+uD1BJCO5Hl1BFeTDZzuccOhnElC3cSClg9BFRyX2VclrsIr/LRSU0g0K8tjPmIronwORwQ8JSyRfCQhrUlqjQl7QZ75SF8cIg3/+MUIEB9SAXQA/v/V/nkB9v4UAFAAsQIl/aW0rtRdnZldzhnAC9YQmE+ACXqQYDlEWeKjcRUDM1eoQ2Ckf0xQ9HIaZsCBVQBJqNHuRDVdi1KtBsQ6nXVupbKT8ZfGib/TsH7xE3O0g8IzT8gbwi2BKe6zEEy5OePLczaIIXf4SCP18a5pSqZ+LYT8B4A/18spWtsX/oSJYrDZ+4PESjHtR8lV92yKMDzjT/NMKSPE+JuYaS6qMtmH8Ycijww2rrgNyhF6ycQTqrtAU8r/jfeaWcxBqSDNkaZqj2JyGNMW60yGEMpmtlzWHHVgo2lLeMkyTlytpduu+fPvKgyOVQ9pdsnsrvc1AHh5ykimG/5otmQYytTp/pWWspj4ytpEhqsK0LiO7+TU44UWSUIGYFSdISZmAyBm4tSE+VI2Mk344l6fU1CtHGk6lZLCgY5ny8gpuBwFMWBZexI8AxzUxoJkkxE+gIlwpRlm4XTxQml3434MvdCpeJ8OTfxEHqJhJer4X7pWr06zmbog6M3/HLMyPQbrnv10rB1slUWofZCZmwSc+t0kZ/V7hqKg6tPEpmCxvPohsYS5G8fYtUXPbis652H8gUliEDbwPpu8emssbjcqVCFNRSBWFzEWqZnZrE+DRqmHZ0wkl8eIMCBLxh/YDT4eimQYzmI75dde9Xaqt89FR5nN//+GtZJLOGzSKkqn62TodyNtrciT/KSLjutUmBDM5JD9+lMa0t4pgngHm4kJSf9WxGHhE+9SiUz2H+BMaPD5NbCxXnXglH8BvLHjVvFmjCfuusSGIzphGJgiynwYeEpfYOYGK1SuUFJ1rliDK6g1wKUpykaF8aBWi2Hs6a8UYk545PaVM7atpebR75m4Y+z3CItNv20mf+PQokOxE+4F/Kw4+uqZmpyV/T4Oj0prD4XkgkYunoCeUnka/zUiUbRUrro925ge0rk3u1A00EsCGNEiIhK+5HetQ9RIgN+14Qwyz1leLNuw6rIZKTwreeKc+gQOdF6lmpan8VZv756uJ3GbVqJV2PwlIWpN2pGclRKwXT+jVUqG5n/RN3ZPorO0csfAayWCbLQpp/KSOU9I8vzl+DjSAE1GUrkwWDY17NnhT+2Zah3Qsfq64Y/sMn08i9UDrqqpmfpQp3Hu/Be0tKAp2++sTPARfXvpWkTIbwmO3JHidWCk29SFvqfMBvmaaaS4xUr7shRJbFo9PKkgbEg9CSyCM+s3m678yPzK1VToXC6DA2p1erPSZqMVixEbjbRPCHDb2HtyjTOuuStsJMbH6Yva+mQ4U6uOeXPmfNM3f3rTpHLqqpKNwlpXeS65DAFtnHoCIU3lSygKCkK7sE6412jviqBTnIStMja0mVDemrb/dVRblBebInnOKYOo2yrhheu/VmOKmx17UxH/o6yoNYboUZzATsBVRDJtIl9XSM2QZQe9JsDmkK0RLfZGu/4WVYJK5eTdzikkVYyl369CijtF6O005EpW8/dMldBT0rOTdqThiN124jvWQtc7xEFQ0hRexx3tC1UKLsoLHU2TW3zoPwyEUJ3KpywGN3JExtda2zqc4k8yqRzpbHV9vvBCQEkEVonC6zLnerUSQvhHecDGOs1tOAjEmveTEm8aP0qaeObSXZr5efi5FSSBCukCL5weYHFbzD+ARDXZLVQTgpui+z0RSFyUHE0Uf9qGKQ719A+pYlYL6m/94AQAklG/lROjXWa4YQ4XUflSKUvIqraJ+8hcTfuY3IAlBmfwjabwjVn2AuaQLDI4qDtsXIfmZvfWXEhdyv1weOciPyrV171ZQgpAD4Pqvmi+y86vvC41MPipEdlhd97/a2ntyW9ldx5L43Jd5S0ZwnL24XFCFuafLfcpMq9DOR6xeeowXLjZUny7MSzeDVzhLZ2YoxPjcAAypvAmNL6UW9T3iXLWuKJH2LESgsbeRJPF26/jdHKle5XFY4ZgBYss4DebsnpRrufDoWZlLbBtkJJX34CtpfxNDOJ6tB/DdepIWX2BvNpQavbq7TlM2yOYthZJXWNU+6XWf159+bpSFvwOWNPVV1D3kCDMhCwb8TgAA5QEAAVX8jhglS2stSHhBVQ4AJUJkOACijX3Tml6Sgm4OqPmWwBOjXBd1s43vGCHe0pX+WfahMGYIsAgq1HgaEurW53F6AhARLs7tjlkqi+YPy1+tZ5UI/LLhh/fflFRrbrT5+2sV9MTd0cNOTNLiHg891GXzwBSTXAAXAFcAIKgGpB2jK46OlPG7CBFcOctAteSI0iS84Xyhdwq71C0foZt1j2OouRlv7DMF3Kk0q/tcqRUrDVkfw+nm/2wyj4T+FW7CPECX208BfnBpc+SKu1mbks4uL58Jjxb39onP7Kr++IiWkzkwl4ZEMrjACPBPiLtSUwnBNqPk3//e3F4zUX4dVYoYp04juQqJC0y/uMNmkZ7B0N8ykwhmGkxMqwgROSHITu7pBhEoveoQrNdPvqg518Wv1LxSLqSTFz/6fWTZ/up9Xc+uM1htfdf5FrKbHaee/RjJ8cz4RUneqA6x0g2d6F0GKhi+COs6a5lRNid/aoT8+RPi0+C+mFq+DaWHmXY8ZQjiU+wzRiDSYtBUjSEn1KZvm2J5Q8mOKWqhCoTR1+VhefTUiQEqy6UwAoiBLfHk+IPKbY4MgQ9pyKIWvOn3/DFfPynyXh8RMxJdKAOkoJ3/g8AESjiyBVTvFhQLKH/GoVfkhjsUQUrXuHDzUzSvtAlpRxkNjnr5pBIhAmLd7vJjWkqUFT7d1XCxM9eQnHDpjAIJ5oA/7XYSzoNCcaU6lwFVJx6adu3/yNSZfz+NBYiz5deyblxxUzfj0gIQEWAUcuT1gNdsCmDVoAST8jVBF06YeWhzIil63GiNnGYyRKesQ0GdGuyBC95NqUeI32VUbEN0j1be3YemUXozavOtpJxIVu3Rqt7mubush/a1UakrXbbz2t028hutLvZzVeGZi+gD52oo7+lXKCF/bYAaoAS8pSZjNCNI1yUXO4t4sSUlHEwL+dQkBEWgZ4tqXJIIKWogIfE9jJDgt0prwhamC1K3UHZHIkSXkcNHzi6Cxt1bcBoL8m08eYhouiG+8uhC/1KpHFMpZ5aQ4juOQ4X0rRbVH+afqWY2siXrr6QI+grTgApgDM+eSj5DHU0pw+oOsHTBkMCZEpzqtIuyHM6NEmeRK0Ut1MSGdryyHZ8jUqy+wrxtzzZGaC7cHFOwzv/C+DQ/NoqlhfMRDPupRkclNOc5udFEbS4j++CDXzL4zhsuIAPCmT8nJKcFTJnizolRHHKa/oAFaADSmgXUSYJ55NKioMEC2gJoZ1ZYLE5abO52DhgR4avwEWMWXy7g3ZAEIb8htrL6Mw2g3Y9hJRZssgUa6SS7w+AReWHQZVLptJOV2ucnFO1Vcn9nUjo67n4tJNQw+wwtMU+S104txoYnpbVRSMEnXUfUFeUQGJcj6gcytewmIN4Q/oBjAR001PrpakPyJbvIuq8ViaIUPHkSrFBpaijPvUZ457XS+Iiicb2RipV4gRCYGxUJuOCq7NRVRKm6Vio1YiUOsErsPV51VsTWolJH/TRe01YeJlVfk5a9krCAiznQGgA45EiwgI1AEObMM1VPuFqFfeSs+sWAnM+uhYk5onemrWPeXsxTd0UqKIyJJEdnkKvxYNNvuQi126iZO3jl0t+X50N23ix2ep2K0kasiaI7B0PUaKydnbheltjOzzLL4NiS9uyo5nQ5qjnayAIOc40IEOn3sbOAVr8t8QIibtZ2aiEEthi8QKVphl1Qmi/quS5E1fePvxRjCUzJSybK9vIyyiFXcSCite4GWv9tTCW7qnrRspVgp5ZlCp8Thas6jZb1Xc1MmJqM1ZWFNerZT3/yYUsR1pQRoLyi9oroea6QjXggBawoVWcN5JvNzKN/XnIWfoIJi1KoB560+DNoWs6p/KuOfeZegyqWSiPdI8EXb54EnGDhcO2m2o9U9ynclSq33PggrFMLW0UsOnuMUjDr4ZKeSnanreZvgnJLaJL6BcgP+M8VcRpUkmV0zDNa8Qz567JRrsdCs8yhRfbUrVRqnk5eyorKkal2aQaFBZPwsVkqYqyHYNlslY7wkEi0PE9ULhP8ULL7iU/zERC70RGexNtjg4hZZ+ldH6+VI30yMtq65oxF5qdIrpEVcwDgvkh/I0DiIMUhRHeIzz+BoESoimTK0TXhrQAPMUkK11uCn/oLALGLpFA2OAvikfJxMzHeXZmzZDfhHZcGLTKk+LGsuaZu2q0qPF1aWuL22Jtfo81Qiz7NcCPFOB8yggsgBihyVwEExGQkwILbSx1E2TX3JiwR5GKrPZSuVyG1R747YLd2hA0O5mErBkESSMrBEO7UoyQuVZFUOwiMQxrW8FF5TN1VYkNaqeUm/zzrdPg3US4Vm5RThZkqOECDAlRuoMEsRIFWGoWwfhMEMxweHikCU9+qMcI6Ix3Op4oAmGBPpcInNJQYJ2nj/QymT/0ahzWBaEQvOJJuaX2UlEZbyJb5vCCei2qVy6v9bL/hp1la2tt0/HKINFosVI3TdC1EGBvgVZSlgEsBA3DqwBACqKAqmeJArIjM9bWSUDCjD0uUKQng4CpHGbpMfpUjN6yG9H9euQ2hVTwnPyh09bb4q3JlUUYROKNIEZcPJKp1XUtLLe8m3PeQyIHtZYQ6neoIs/wvR3glQFiZr+DeINkjGGkCgSTe+lBWroilCnmz6DKt3ognPzQ0gnz1CnRSMf/zeqgVSC/Agtp5QqmMBCm+5O1UnBL4qsUzETUv8E0QPwq8RBT8UQ3GxKix39peivpAtVSFONcM09RNgQIEGpwygH8AjRRZgCuERQkyCwvE7Wui6nC5QgKj/9LIM0RirXsCL80T4qtVdWg3j6tM0KjevTLuCAaoLdvRE+YmMVHwgKQxoBJUcyqIOYWCT4uIwJXOX9xn0gg4woT5fvW/RbgyU+OMI0LteJyAcwfssEGDYMKhRi2Mgz9yiSqqqjtm2uuyc10lLR5ZcNo5q9Y2WSoWVdhqi6LzV12org5mj3Wuoj0EoWCBosR6RV79XreyLBfnL3jbSuB4Sj8zDIThO/UNLxczlu+q7K7OLiMvXkBkyP9eTvwD6C8uxWhtpSl5gyiQwU+RyyZ/B2RPKd0cilWV32h/Nq8tBCISvAThVF+dQn/RSLmlLu9jtGilN6bT5RxDisYurVv1MLhLtvd6x0/qFD+2NQzc2OKQlAVMWPuIfMHnV/50QJXrbKd8Z1fDKh2A1hjXQsQinTnws7yf8ZfJae2IZrzZUO/wilWeER1DYNM7oJlOkwkiqJlcCmzfeMK9OLgvAQCnPlvM0gnU1k5u942NEh24RuzIVAbpQ6JKYbQLPdtbaKtX5fG+n84Yv00cVVo6qcsnq9xcdwCuFbS6iCrf9Yx33g7Z67z4OhNpOIRNuim+OStdHbyiFp9UggnUZrl7ZAImS9L9PPEXXNknYg6bKohl2ksTU5qY9HfBOLdYOFTZZAa3LqpOYTKK5oJHZ9Nv7jNbMp6upiguDN2+MwL+Tcg/eHEB5Cb2jrDoKWcsJiZDGjh21cnmhWVLEkj3pTyvTkEHoUDejWDlWJFFVj+SkQtdlrPW5PddYYBYYI/EFoPznZWlLVUSqaVvGQnoJPe8ZKDNigXWJSzcRquKzvsikcimy3xZS1ZiBISa50p5cxCVyfwA6inxaZhXiTkVBiy0LCRtfRcrUqiVikV5VxASuG/92JxVEEEQAVjabkrOujqEl5h12lnUgPeIBbL/6Meg/BS6JqUvppmqhFZQr949k1oyaCz2BYtdTKrkockam6Lr+eqXb0KejOd24/al8IYkMf3SsBIgHmIz0kHFuDPiCjHn0EXpfgFqv5jHdCTCNpOQOXHbFYrKGJwEirojXzQ0Z9Vnf0t5Qr2iifDArQ7xtb/WG9qt6I5dBvteqlvbwe2qfvXOyXL0qoQBsigkEW1B/zesbBY2hUm4GJeFC4qUMqIrLCGpE1dM5hFgDIWrAiGjgBQ0JAT0JISMn3RCBX4sB+S8H1YcWXjd0fLEMEgBiOScozMLCyodcVeWElEoGMmt5S/qEHZ+yK1548MIIkyJFN4Tfmwx6Y5C38suYbjxYOPL/RdkjcFeTZyRTIDn4ExYxuIqpHy5pHomJC7yL5HCAX63C3pGIUSP5gISeTeJZ/ScLspAVNoImqoas6CjjALc82LJVufs6NaLis5BDlExRp/OMn+71viWHb48qkJBFfACpGzvcJ4xr2CRUihcTBR6Cz50ilssl6pqxfkr7lYjNGhUyWdK+WZeIqITUUXVVsecIWnBmjQAMcUFc5mzQ8Y/fNLl3eQMUmxlT/Dy8RGyhlPFShQWJNJcrmpVUtAkPTk+xMs93JVrSRNB3hqucaWkEyViRyYSQvxaXxLIx6nxkbQgcPXQyx55awlmE5dBAOzZyIa5ZdqJYvJzWMvY9c0V7RmHclLCYjsmFofeB7Awl9OqSa6EBAXMkRHvC2ofQQgZdmxCrAFJFfJZ9mtG+E8SuIPVHsis9hU9OwsihEJxB7Pi6LGlMKy0KgCcVWRYo40tmVjlqF9yz0rDeKIIJaYgUtRkeJLMCRVmYyd4L2wqpfQVmuVBRWru+yIGLnsIcE/EJ+ZcA0QtSuBA5xmOcB07kYggwqJ3AjCXhjTsL0IqC/vQMkX+LOAVDgOVigLIjgMUlyyNfuCGI61UowmQCjQUAuSjKgWyq5QtCiKeGg28gS7TCqaYsEBgIlsk1wumircTb3Cw05Pi95EoUPqEOldohWfXk6oQR4VKYGQHYQQuzJkU/gG75WFcuAmPvof4giJFC3RsIdMEBSoWSWyQZan5EShCInkHD5mlc52TnY6U2shGIqCnK3oVlQaSRUes/OJpVUUhcJbeCd0outtX5QePbjXOdqxFvs88aSdS1yvJEq7E7i4bIdpYnzvv8NoTu2O8FtmoLFSwJeL+wmlumk99E2upotqGp3krRvg3qdqEKtv4hqRvZE9Kcz6XrafjWY6mf0DX1h1FeRCgpmT0RC+VqopWHOSyZIZWyXXs/OT56SZIm9ECkS3fYD62P/4xQgRGEryuvFZ8eL1gfpd/FC0q2zCHVgkcSBzDOk60OAF2EoWYuAOsD0FcNqtI4JCwRAkCGn144Cog5M3Jhh9CHoCdWjBsDFeVw9rHS8vi0Ym9ERSUKSVk/xbQ0fCZG29t3zb1ymP4MPbQtA+728wVOxdDDq1bEJ+ES6lar3cp+usTf3aJ4a/Wim7zDvAkAnS6PMDSXoKbVDuRS6iRRSzSXwgKx+1AXGDmPH0G6811LcJNkojSuIUwKD6UZ+VVNitYzM/gKCQierY3vWq/tVT49jAslIxKvT6Jrv3p9YhM5cTRpm/YuagRGp8nTRChEa6SKob5Kyxz5ARYGMI+kD5AIprgsOcDCw4TOAxIhVEcml81zQDSdP5eUCnR7UTxemyWCLI4jywmqNDkUgLdoXp5KErEMmIVgS2jyktVPxuX0QcYT/o2eEq/Om4c978TLx0fpKVa1q9kzh72iaJ8huouVLgL28JNT5/aEg2y5UwWlGEo+A6o9sgqhQZksKqLYzXE0Po6SAsXpU/roRYDZoVh4q7NeCCOtcEElJ9DIwoku1jMyoHJpk4m91bSuX/+6+Jd/oipeJR9DAdYkd7Ce+r+8Rpxq9kyvJtXj5b4oyRdXk0YaJS5AlQGWPBIqIToNROgV0MEItktiDcjS8HE8V53s4MJGy0Nl1c/flVzgmRXaoLA9U0iVonxVQjHLj+HkxyW3IW+OaVwzjPohZjGp+E3m6vbkn56Kpmua9hSpPFoiaZxtHE4Zx24tb1tXcy8enkid1KU3PHkLyG3v+1oN6CK1gWOPOEQiht2NoerGCJEpGL8Pa8/VzNn/ygUO/KCbJdnDYZBtL2XYiBma4RbJJTrSLT5C/0Jh2TG6Ywk2M7YTyRmNqSIc9uHY1Anb3fSSjQk1LhHubdc1OCRpMX5BBGYVcEHauHzVDS2/gqLymDICEhkhEgNmfpAwAQARCJzCSg8BZYUu6wJYXUSaLsQV9AUj8nm0qRThzLVUQCsppN8/WlL6SFp8kKYioEpUWmm2pBSTDuxbRC/CcNzuazvB9B2XtWhSty2carLk13QnR9L1jMtGSqnu2VJL51fM/+n+MtQ/7N0R8JzuQ7vK0m579s6pFSagkl8VqX39oV8CcFEHm1cYAFaBPsjqsFBXKg45KrN1CcYP42B+3USx9712RX2sThCVHkgfQx2VrgZpMElLfDp0y+ZK0SInqlMQpQmY0/0NVR/kShWK9kUyzipsbubQSA5VwFNMnBThN+dl2WCIdQWaseDIbKbbhUfVNGdxhm/lxLMfr6U3kysqV+wCqDmFbi5Qm4JuR6JbS0OogOwyInWW0Pr/HU80WeqMl1RUfJ00/TDR5phV42yZRTDkljJCs9+eO1dJu7W1C8554g7LXtxdVmI1cvJIU0vNe6R3F0N1X2sUtIzKhVK5TLMoXbf8ErCjSLI48BCN97rcCIahvOXOpxFdq5W67KVmQ+Iro4KKBRWVDE24GADADCanEoczuEgCGKMeGTzsMcorxVpMfeplGNRzBCSKq0vi8NY8yddhKhrvqt/dI3ZI6Q6Mx2FNdi7fD5hGrmnxQk+wTuz7n9h0cPKMMolxkDDyCGSNU5w13s0OB7na8pCXXps4L09J1z3bi9DYKqM+Fp6b0CBvBTUpMjIwFMeArvqodYkmUt7sErPxIRoOuu9aet+WK1s6tmgIdmGv1sdliFSS9x1qN0pGxFF0P99oRlYiS931LitIikxurTGHFgUTG+mmrJDrvD1xgtKR7/4Pw+Coxyk2jFzyM2bOZXb1O/yHw6dwy9t6spEzuithZQj5PxHgCEHqn6vhuBZArR6Qng3p6GnBXLgYyBB5W36VJ2VM/pDXrt6XHQyO2WsQJMCrJfcsSzigeR2rffUTUKldEwaB56bpd+COauy0QjESi3rs+jn1U+XHpSY3aq5bmwTY1CoohA7FHhmlt9mojq6oDK/v1U375hSIum8IkIe805QRUhWhtqG9BJhlCafgnzG9xVRxIsKUe3dPu5jJ30o/pFTZ1aWi263fU+1YOpU3GRXuVNCvhcNA9yush6LGjz16sdXszZiZaFmTHbcE+bC3XT/+C7X02dizzuOYy2145CtqqPuvSKWM0naZkwitjzhfZnkKeIzy76xfeXoN0tHe/E5REOmFKHegeRodHEhmsrmQ6vy8/cimwkBBKSUSynIrRLBvyJa6CR0ISyWsjOkMvH5C/mX1UxUXC0j0VIOrGWStSDHdkcpAK2m6aqejcr3y71BxeffO+SKfgI2Wev63Uq9XmTJtnG1ZeyLNUtNYyzzUh+o4JcthDhwdI5oYKDaEURwQT6WUyQEUdWkIpvQvczcNjpMH2eE2KcygqsLiRTxgD8RWQb24ijwneletCYhYzEoRbH9iql4RUwh0b6Rh0s+uYxsCD5abav/184gnvQ9qNRJQluJ9j+eYtVz5ku1h4m8M90Aw3gSoyqp8EQiHwuhkHUYV5wr6POpPNi4gsKCMS/ex41rtiJWIm7/V60InkFjKH2RKMfCJC3yMdHYms0qfM9+605KhA1C5ykGvO3AUdNn1FHc9qVvcWOsb+7zd3R9XSqTncYr2X17Dne82JkrA8QmAQp/AQYzAlQVjHcYmkWmofxFBBPRSU6oxz+jzskUYg1YoExlJuDVfF0tRTwaxwexTeU1SW81weSc99xJ8E46I9AY+NV+l34Nn2eL0YLOI1cO+5DpkbHpQOPCbsrf/cQx85awjjS5AtNziNfOein2i7Uk0gMcqC5IAEGKINkCWKUEMqwrnaF9pB0dhKJd2K0c2mMwxS4Ik5LYsou9byL5O8iEXdpv+mjQPRJaDSJyaESZQkrJCbmZkr8OZGkE5nhrO3LZo82Vh7r9l1T1tbZZKPXf5xF1EeyS8Ynvp9YXwyhfSaBHMbeb/ItoTjwBd3BFDgjBEVhKVAmBaBoBE4ETwchECgQmSTiPApEJA5zG1UkuBT0lHhGNFCDtoq1YqQ8Wl8ZLHqaaFtU/k6PG5p+tZy21FTe+5r6Osk60SfC/2YCrOY91OXzR0llU31NG0wiT9J/E/qpzWSun/1UokXYujcusHpdBaoAfmAC10G5aGxsBAtCtnPkYbJp0Z0zvwg5kH3h+pEdA56L7F4SJ2iLYSunqJBgboGzjh6/4OtR7sfv+1tD7uNlxio+lDx45tCJAm0JUeXtp//quilNfa3l3V20jpZlmlOO9wVmZX4XlRkJTUUC4Si4SnYjLTw5JBC3IAhAAYqASiGrDkXNIJQen9z7W2M6VSNaKRlvGL+H9lf/EWRUMiZs+ZGwR6TZVXbXnBy5Be0EaSHjfL1NvtvajT9u0ZP6zIUYlVla8vVpSeF7Uj0nTbffMnDp8ddHTAodERQSOGTJJwkYYcIaeuWeetgkgoxZilvepfCaFez3t225TXzHueM2bir5pL5hhdJiPGUFd2VMkTaMvlWxMuKiOSbrJFPsYb9SqTHdIQxy15KM8mRScE1ggBMJSDx1wJE8hTGZChVwg77CKphVEiPWYqjAwsIYKQKEOsCl0cGCZHD8JHBP1/mFs3+YqkXBSzi7lzYw3mqs6XVGLMPLUklzbuGNSaWSPQF+Lbj+NIG4haUtm01cPMmyHnZFVkOxGH6FkMMUY4YooQUIcM4g6DuohyxkR5GqXFLUdZFkE9iZytziUG5sVS6OobUXNoc8r9SgXxMHytcauX7V7hKBuH5LWbFT1jswdRCEGaRToQYhfIww8QtmUpTYx7F6d/MJxLWSlXsxU2IPGLVlnaxDxT5OLhH8XvNP5UlPNT/2tBbl2i+zwolQolXRVw69O/znkX4xqmXWqS5KSC0V87yd2UJpV1GfJTUhrJCuXu+hN51bPtNks5xiiSL2aSokXEFTIQE6rM7VKVMmCqw+ORI4RC45JYlAYRE5lQ6wqR8xBkhnlfum6TvqR2SRsnEJD2gvgIYABvQHcZIirxjwEBj1AyqYICRQSc039Iqb7cCH/goTv1t9NetZZJwXUnnedP3MCJlviVTLfxzmEQ6u54bAKaoJQXfTI+rIYhFfQ9b3swDkE8VPVf3OTu87k7305FUblXHtz7LefUo3P15DeJa+WL6iUbXHqJwPWD4U2jJ25OLh2dfGa4oT+mj2PyZWko3+q16spz2yhnZWUoJofrIdLIFl+nkNfMqFZMsK547S2H2v3dQTwx/vnB8wlxPzacBUorTf91+wXw6kMLx4OAT20EXjfiJJVWaxkTfssIe/ueO+khrFrOvS5V3M7ElLDmFGuEahiit9UV94Vsd7m8NeBOgTGNbr4IfnAtrdamKhAhORhqL3xYCNcSCmLSAzLE5S0/dqkeKTgSvJTfBMV08F9bwMVTdMOUWDn0SBmm07mSHe1T83JqAtGzO6GmQyDqSmFDRLrLY2kOeoDT8lJ/VKVg9hU3lUsEGpZnN/tOXabK9HVCsE9g6+UBXgorQZa5kHtwpwl3ZM8120W1c+GeYyMujHJ1+8vYaWzCi+/jS3MsxQQ933lAXcWuwtyOhjSpSH7Kxlsmoo7XLStp2g1ummKIo4DD1YmlkOC1BRGBfl3WK0NoKhvhIiWsNNHsuoXXGmLKPsi86tBNKxZqNxj6Lj/LLRtshQBLLHLiirV4nmTCw2RsMrePQjtTodyE//fzZvKB1BOj0feVd0lnEJQ+zyz/vS0L3FW3DaxSsIdvd83nVU2nyQR+jXEsNtZCEDnKAkhitrkqUSwNgx35G0tdPIFiY+BpEZaK+Ubkt52DYCCLWw4nhTbNJBCoSdackHNudgpnIgDm7EI8pjA39omZTUlgpphqP7YjU+rROTd3BfqNRfVOzMPyFPiQ6UjGjQVMpL8ApGuqNwQ2qVniZzMMa8qMr8k3S5vYTwhqJgOZ2LNg0BLFLbTWCCMRVnGB5gp07PGRme8zIR2SNvwXI12kzGszT/rkg7oEbc0lxFgZMF+X+s6FUsLP8KAIYTGNTPDDPJRvPDKlJgmhGZVEwUyeZJxfcE4sqzeGnA3ItFIxP5ub3oonZZptiXGTGuowL8yVok8uLpwYxWIeaUoRk0iVD6ICgJ4gR5SCPBZYtUumQnUhb+CyRk1TQJwLB7UsQFKYsPWlvJZ7ifcqpTxyXdY6aDQdmB4PRB40OS4qK7BEz5WFQvDpuXLRJJNh5SoZkzdFDw0GV5KBL2frd3dAiTLPrq6IsJSvkUZl0xhsN6KfuqSsdEfYqfZbxtjokVGTyA0mo0np3QJPZLVJemwyE9w8tjH0RiC9GEyMv7q0G0SC6rb0R7JhNdCeSv6axQ11Ajd+UvWidUBPXv/TWRBBGgtmo9nj/JlcFP1Osx6mxL6Q6mlk7PFTE9Ag0bmBlMBDfn1a38lly1q7lzjwaVKznNAinQolRtZlVGRVZDgIn3NBpT9Ee1Gj6Lurulf+Gn0lsgK5Uf5TouwtlKrC8YEtou/CuNRnQK/jz/Oglr12tx4bd21EIo2BFFxt/IbAx+I1+lL1LpyOZSX3hfVsrIIY0KPWBOFgr3HRTyWEbBydEK52LBKXbxrlsR8bqLpYUREEo8lQ+JNnOBA3UjQlKx8xU3KE96hEQruL050jXmwkM+FCHkgLyR7xazNBWs5+c5bqHZAYjR/Va6L3GOLgTiw/YTOzo/EwrDYLwsUoTDdYfhU5q0Zc0nQClX//jFCBIRVACaAKYApwCsAKMAmgCVAJAAeABfAGK0GdXyjTEpXaFwAEcrC7+wANjK/NCNtESjw3gUUbrTRzZn0hxKBLswI4KmgYnXgr64pLyr1XxLbNn5rAhICFJasVjyMGqEkqW3EyfUaFbb7Nw5ONokVXsoi3STuVykYFcxI/GQIT4uE4mO3Rm4TFOamhE1N+uW4Q/EoxVs1ksQ4BB8mH/x9N0srGZcEraNy8IyPgi207DhWWyvRmVpBBYFrSSfmKeQDEnQH4QmZbJXhiP68Z2vUyVy2Mii2PtTfBV08l3oX9SKx/6cyVCzWyhyzzV3ikAcXT8/wVhMHBKyVdmFx11V6wL/NWF3Wb8N2tdholR82mjf+cLKJc2siE9FsB+yxztGIR9jubk38fthlI7i7bRKzsJEQqBoPSWsc7+vN2mT+vBz61UKlQ+6r2KvVi9xIlWFwPBxAhfwdAKQS3uRwiRPQU+mXWI+lfPTs5q0K+3jlPEQMJ8f9ecJEXBLWOwfHsWDtpp2appOl31OsHRca26UW7qzkVuGLlJnptG0fyNl4bqxkihNEo1iQrxTpuYAy0WRNueYtXYjg2lDg7WsBUdi6qp02BF3dWqDS2V0zYnvqER/mqV5k26B97ikJjgdHjEEkcDuKNC6MDLRCslMlNbHk6TdSskESS6a57rDTkL7X3pLSSWgo526NyvebxwEag6ht3bH0STK00wjS1ZwMA6voIkEQhgZV6oomAvjNXLdGgTTUuuuESdLSOrynGGSfmZaEV4VhhGVgKl5KRtYq5ll3uNOBQzkEFyQdzE62nJrXZg+PJjHs9uxRa/ISairf9KomHaNXpY2KtZN0kqwVCIdxMjdThhBXNhQnZ8AYBLpJgrRZGDuiHEMwBgW2lhOO9eLDPUv+dH/NeizWNILZTeqArEM7WrGYm1Ww1EXzUa0JTJGmYqZUPSRGG8xQq78umxCVDTx5VqwV6mOWbqKNcp39zRTo9zkaGKc8iCCFoJZUkFJBzdvXWY4xhR4QoTabw3FluRDVIV9neb5a0Ntgy+aSBBOEg7v2fsaI3W7kKBYMScrEsviGTMTh8K/buPAl4mlFZ7EFHwMZD/sdOumZZHptVEfPHrwt880mg0CZJajJSe4BMH4wBugSDXcaQKEpqc6rijbK/D6UQhIdpT4gSLHy1wQLagG5owEEqBDPyOJHWp2uXPmmBDE8I6L5OjmkGDJyPSyb9mko9HFpXq8/172zMPqP2wnnGkhAw1ZeZJwvcgdMza1y8o92bVj6GsRDnF05Qsgp7znEYalYu0+OaIEElXRC4pslONU4bWqXnldycq4mBsou8suZkpeWctnga1MgkVTRCnRt1lcKLk5YusWcwsGilVKnYbKZWTn5mlD8uL6wqxSJTp/jW/un2SM1DtQEBclMvw6slRG7WbQwJSzS7yYORWwcxktkEQQCSEcMd6wiRHjlwKBdZSOzKVMz5RiPwmFonD50vHNxv7iA64CoKi4NN5E0Y+JHpzIy83oBYnkdLQ3F4px4pF5PTcudprEXq94ggMI3G6Ck3YkkYacEVEtz7TDyeWu1OjU6StKE+Sr7VNrZTGwLLBS5e1EvqanvmfSWRyEYRmc8fEP8weylFNH+DwxUPLzSRjYDwhu1RUMVA4iHmdusQPrx5a7jEX0uNWlGYIv8wbDKNB8hcYbOHjQxJfKbom1QSCsRmaSUzKHCw5g3jKrtxIdioyXPofwwpuMWKMYQPQWNWhGGTFCe1hRRrQNkr8L1Etl9D4tfYcM/tyZsbaQHPiy831hWkNhv6RRCK7FUojTrtdwNSgFc4xCQhGvfTpxIYhUeB2bDOULG26h/x5itda2iuZWJmWMF9jhIGjllIxq5yJCw1m3FdEPaZUawOZmJKi1nwGDtpHJmMLS/EFZ4SXy8enxcWRmrqUpZvZqWC7yh7edrjPk54cDQez9FQINMDbWu0VBfC2XTCIJD6tXX3sHE0X2maipYjKhDU7t8fwJpRDIVPwwFCA2DKLLGhMg+QQQvzIjZI91O8d++i36ejkz0kG4VRp1amD5Thu61HLbes6TmKO8uspdB9fn/AiOqmWawrBZ86hTQQRVLDORExhGOzv3ozvxYo1RqKkkLLt36+BFb3wjYT0HfUtDJ1BE2iOYCawtK7lEdjdqQ8GZr8T3MFh8mVw2UzL7KPmotBVEz0yUgqZ2Gjo/rSLD+0KnyrLv2Do/HsEyXiloBQsNKDUHMSVnPJxf2eLJdy6/kgRrFyqWCuFq3z6rlUI/oUJmjFLNc5PQDKYBmNUzwW4mIyKVZgCBCzDzsoqBqFVoQpOgXc5089j7DQPUF/Utv01hLi/b4l6TiNb+J5E0kB/uZh3Qk9nAMAQB1SWbATGzE1WAVhPVL5ZddPqeuxNy+pU6SPOzN2AwKPw4ZT9rJghoCYjknOEJAzN62EBVrX+eNyGZCylLG6hI3fxIOq/kNdZ+2bk+kT9bOPDmLFR1ytXC52bGiyHAw1rmL1Ggj9gjiuBPf0eSdc7ZXMGsliG1IAE2SfgnOJ+gmqJ7y4kyTQJvUFBroRs8OtnLXu7tyH2/SQQzOy6W8grfDuGxuIDHtytYk4w25dnMkSnN4rUBB2DSbqEolrX0yMy6WgdIyiVgyDVrJcOoEUdzjAxQlgT4hAboXgWzXDEXbHMPDExnkMeRENmv8RkleHQ5nM8WdmjN5YlfzBZP79ETFUerbTHDVN6yVrLfXBSPKRd7dEx389xnXHnf+mu7CQgSN2VESpHLc/sR+mQVKhhvZxacG4JMSNRywGe6t9tlHeGKLsbgF9DjvA/QYQzS5DirQVxm+CgAbayfoDqrD2nb8Uclbp9ZAvNopf9Kt2KiBnHq4tzVFXb6lfuICJMWIIz3Vf4oudD5TKbrCalSQ8YoI+fI7gR9LF9Sjb2VuvJaoSE/61s39K7002+R/1fqeY4HDsMizjGx3VRTn52VNihZfhJCGjE3fLESCQhCpDsEX9abGHphLCUShydkgd4iUwnmGXqkEFqkBmN77nYQ9+MgokV7RdVdkX84v8dSWJK7TiuMfcimLTlggif2mN/JHf6KPPYm9g5LmXwp1DpOg1gyw6CxWqc+TUIOcH8lSB531Y2/QjMd2SxPgXc6pEMv/uMcrtjmRxaluH+n5EHEcMV1ahZpchG40aAW3oJ+C1DqIW6SGlBXknBET5V3JaSyr64WfTaAilE86WJ09N0x8b93nan3tqaugt7cycHg6IFAlZj6MY8NulzIpPF65P50sBMt5h25CVeTI3kXDcdxFMvgl/2f6ao+es+gSzDAe4f4LwIR84xeMoAX6UNpdKc4QgDIIUn/zU7peiT1DfKgn8mVaTEvLEgVT/f0l0wqguUvETOrJo7c5+26qKvt0LSA2qbB95tMVkDWqIDl1TMlxGDpe1nUCtoeUm6EXMnPjk0XOQYB2fMj8KvyBaSBFAe8FyWq7REPaDw9NnKVkl3Y2IFpOkZKjOWFCn8iQn61NGp3wtIdtf1u5kU9M95f0HS367dsWvLZB4xQYwMqm3CT9cRI1EJoSPXi+gWRKTIDcihSNLZb0TJ3y6SpSpLAZkKbszv9TiWhJGLQjEq4wUBWPatsL7EqvwbZNTe4WcFSRr1QQGWNKCgcIWQV4GFB7ZMcmuJWTWlQm7CHo72bdisv1dfKbe8rFY+DPtqmBsh0uIfqakbGmcI5YgkgpiiTBzRD1yGzHtHkOQuawkeLlEmTUY+UoqcPpe3Ffz/4kfWbXgV/v7Jltcne9LGO//3ljHb/znOhzu2QyU5I6ipDdxS2TrDYpZCgj+bWXShY17CJKlacY2vNYZbqd1S1ctjk+d0qt/DMRVF5koVtk4UCkyo282p8shnee/ZUyboSQVki8vZDOdSRoUM/oGvJwO3QKwdAXjECY1JFBqQDgPziBFkOQqyvZbjg7mMqECllhaqjME/ZF9eyUhUa2KtIqaCw/84wvTmTWaztMb+U62f1Kb1sNSgviyW3REZ4UoqI+EJVgpNkujqkggVSZMIbk2nEzS/KplekbavPTx7gPC9hk21ajTdLtdcpWgIhn1ilzUyEta0rpN0p2xUnrE1eqXqtXy9etmKlk5JHLTrUgjccNlm5x90oaMLkAgdjzVgTZky2KFlZAgTX2EW976WBi4hY1R2M7Ne8bbev3f085mEDOO/pkSsCStwnHSNsZEYLjcTZTEzV5YxLma8H+719oKe96o00I5RHgI5CPITg6ldILEcW0xyHPolHgU1O4SmnhopaW0zaucGE3d5DhpVM/pco/KJQpIaNqyLVMFB3UNH4yO1yopKFclYpeXsYd6BSsRp/6YK2rh2mSokGMqJl1LK+aelzzalc+WcrA4IZw8QmWbOkuxWToWSHesQtlepQWVpxVmvPUJNBRSaJp1qZHR2Mk24MQFuSvPan6uJYE0HKrTIak4G2cP1nIMowK1GsqMC7vQFySb0KDC1UYDC7UdFytkSC6sShBRDWsSPd2SIvWwXHr9UjH8khOc4Y3m6KE7INCcscibH4UHIWTMrZIZkxpz9M4XpgoF0SpczVfelP9oTeHGmgw7rO80i20sa/1Q7i+CPSkIdW3WD6SxOoTRfaHv24MlI1lE5bpq4MsEcgHzHN8aH0SgSFhFoUCST4NDJX6Ijb1siyt0MoTeG3C93U/f8JU6vtnLetKclePOCecVckLN1j+lFpBwrzpZyFbQUzk9Y0glabCUtQdzNfuMWe1AnY4V5Fk5U9Dqo5r+whrL+VDvtOEKbX6+27RnP6G5clEZbiLzI4GQnGP2AbcQusSA4dFVSQ8LibQaHiou8aGRIaEXN7AVTbnieMk2qEfvyPusrY9sfbR2zRFKt/WrGnuFCtH1Lcm61+HSCasPNCxQbJpwoXJBx2uFSojHhkv2dc9wpi9bq7N5BGCFmZgWtU5CQmoFYYvG87/dMTTW+PxRd8e+ywJkMkpeAyXK+zRQoOj1/3PHLd6bGL0iSERS+JDFkTexElwq1zFhRLivP0zri7xtrSzYxkZC3p1fo81cBK1VaRV0KN2BtpNKaDBIgIEShMEBYmVhgIqUQ++ciYu5YSqF9EK+pG1L1bcEbd/p5R18m4abqaXWbr98eaqaZpYX2P3LzUsSY0r6wrbrEVQwXF5OlfOjV6+cnZowYODle0EiLJwbGqrr/LpQi0Xu/ZdlJO7nTqf+Ss5oRu8yWfV/7FBDtRPyTHCCdIyIEQaGhmkBFkUFjLjwfE1HxdWkOI4WtQ6sWbrg79/lz36yKR1trIaLQdXEQ8JFTFW6U+7PA9QnP7bRKCFB23dmAtaYzhgVIS4pRkJuTJjU2ZF7suwu0ECSZR1kowutSdV1/zN2dRqtjK93aNy7nMVuaVenmENfiPCtVgQkQg/YWBV70PBJ2eFWzARMwdKT1h/ESBeZKOTBsowcnOJAw38/HqhqushsuEttb6sp/xRDyr/truiURPH0nDA6sN1PtOjlMQyWoCMlY9itnSAcDK1hsEwdZ6DAEnaIYLMkg8WP8Xwwa7oruZ1U471j7xJylLz6RtdzdqgatSHn5fTfjBIiy2+Tb/+MUIExZOAfkCpgNJBAMErQVJBcYGQ7Uh31oH2Hx+f9kCl4AM/8ikciOC6pMDa8kAjF4uktxWkpDyktUWVJHSdr0odEo9TrVmtlqul2kiSZQvV5tFts1vsXnp4vV1fPbxWjzdbDpqMyZupzaC01M2rNsYCsZjEXDAZj8cC4RCA8PxEJBEJTstIXxAyWIde/Np2+qSg89O9TI5Zfe+ff/4txm0PVeBKWm4rNXqIkLjgyOSYmMBGckzRi7dPHS9b/rrSSy2fxVGMURBOJ9E1ZMwNw7ShLGcp6BONCqEc4rg1Nh9BzYFcioTAsh1B9GfX45Q9clEWJjS37BMCoPgSB+FQmKWCXcaC04Ypm5eSOUSoiMyRnO4tl3vAgXb8m5W0kMtrsflUWeTZEgymwTGBRY3f9wz14yzTYvy9Pw+LCoifFxg+2yYDAIhEwIBMCQNBkdHQwMgi+lEMKIgkvV+9ztlR13zRs90VP05ZdnDj8oaqwvbKsobu8klrdSWcT+fy2u+UNVX/sOpSiS4FDkheLFS1y/fu2CpOtaMWjUrAiIiogfMGixssXJlWXSpcmWILJKaZ65bcacad/3b92hvu4ZTdqYNsFTImcHQ6GR0qKBIEA0Fhc2LJ0Skrlk0YrUWnzQ2FlYX0klEtiKNI8htDeMscUhAhFUQXNHfCkoHs0zxUL2EIYxtLsdnYohzDm63GC5nSdxeJ10rs1oh2GQbBUJH5MatEKwQDQ7WItOVg4fOiIpaEcyn0i+ZEbanoMGl9JpfX5dy9Bz75iUybJWZubkKFbp0vCopJdBYiupzgUEhBlTTgiVKGDQsJmUaW9EXPMpZZoeVpqbs4483JC9ZtW5G5aqSc7N36emuWfGpURYaLETguImgmOCTIiKGjBgu0yQeQ8+4od1rchNS8xMxCNRiNRuFo3M3JK/LykrUzZSo1ceyybdbrAqzS1ut1yUII4ExUaMJLPiYbBQEQoGg4CoeCg4JjAobJPMlCBNdFdBLqzLzMpbsWrVKpYlpidlLP9KzVejR4821wSXVQzcJGjjxBVHBLXrbZws+4+dGRA6TEi54XFyrpocFh4kTT4SdQc/480o0LVe3v+jrLSws6uytLi9kcqmU1lVrQ8+WzNs1pna5qyJCUveEjssKTgmLFzdc7Yt1RA2KCB8zctyctMzEyKjAiKuu26QJlWUWOuNd++OvP7F2RvyV2Qkr9axYtXJO1VqUPuc8tWWmCRk+XLFChUscLmChJ5ZXGmap5nOs6SZXRSljfZzvObjTzCXJwCAWGkErPMMQvXCT2ur3xBcqbHTrb4dDobDIPqIRmPQnFbPOeTin3XR54gfFhAiYZe/9GT7qOvtPRppZ8mRXTazxCARCAmKDBkgWPG0XyzyvWqdU/fiiliv5Yk5b7WlT4oyUVlrVuzS5wzTy2SVYImy5Qi0VKPvPljJcwQOBQeaf01zq9biJIrEbV/XSjhnQcf/DK4eulCHj24by8mTqViqj/6PZ2bOKOnCMzJR8WA0hFEYHbE4vQvKJjSip9mhAFIkiHeept4kfme3Gosi+8+OIxjyYx1CSZaLWbVNGynsisgyG6F/d7acIQqEyQxtsaK2uvxe7iCZXVRhtiljXfMtMJzQpEw5ExKQGBi4cDYnUecpARrVH+0klvUXF5U+JPO7+l/4XKYkrPfF6iUCUMBgFwA3AOmsP4mAOTkEdqDksHFKTiCQWbMrpN4gmnoXngL+irrnDo9Xfn51VtFXoVltVnv8udlGZD9E/Dj2CWhB+n7+GJwY/EqMVfztwmSVv2JsM8013WJruwI6dw7ZrOLo9F4irB9ohCwKojmdGddGpl9uQ9DZoFerHz06uElUyTLnybzMkeXRt4rC4EM3htDGuBG04cQNrIdMuQV9WxdFhKrUWZY6ORJ6jKk4Zn57BEIjS5VIsXv+rtbTMJxaUJX9tWF9+z2vpocZXUyNsBsgYYqYDDlvDJDSP+rogBUDCmJQp6lfY34EE84lYjPLRJ1O5c1X+9N7ykfbOIg5OWn7IE4IIIAbTaJE0ak8DiaU7grVzmm259TfWaX4lyt9cJQf0+uXK369zHMSglAO4Cm5QK8ux+B0EoRj+mUu7nx9k3wLKnUuusfOPkvUbTvYwicyfESDtpbh9im6RxGLZNl3fJi9q4xuI7103hu57gZoVQRMCfv6MgKtFIE63obNXdlbmpYf6Ll/xhxQf6mDdW5N3bzO8/WE3UN4/iJRiD6BDnOKgSaxKGl9sZBJqFAZJR0xZtMc/LaFep/70f+fhqBhnaRlyTOB0l0O+x5BDEfjPeLxIEk1fXfL+rYXJDJw6L/8Ao1wV+EZi0a1KEovZ79/J63JEUdjdSnSGnPF7JihP3U3WyqnYpyh0hNENBmRaz6AxCIEVixqtEyO5ymxUWM37okFISyNn/yHZl10fsm+vl6WpqEWegsFUoEoWQUw/GtsrObWT4VmBZXLnF+e+G2u7rx/j4pC+EJDBPlqiDgaRwCmOSsnInoXBkFgVzA6T1ebUH8JruQK5Ruaz1jBpKJ2z7vqTn7XM4RFcmrJDSfu727HhVVKGXs0LU0oqi1UVigS4dAcEDyqmH4G6gGIJ5GDRuioXE46bxavJCWc6aqzREvxaMSvO/1DALYlSEWqbvCJD+3C+C2CuZ3ek4XK9nA7ubrIddzJMElSYqAQDxOWDMJ1ayiqiJVOEbToLQ0nZdQkpDJYqCUbSE2rvRws7jXe37kCV+fFxc87lUZJCUP82anVPA7NtTLknTdMV16OHutoPgMVpETxsUdF5dILYUbdLIv2FKukukgNTw0ke80ba3WHzxCt1fdXraTD64niweLIRjAvaFYEIPI7iKwOWtQjsIphSVFyRapbefbKYFoHNrgZoEGgfTmcByLKYSnhdt9PCmHYNQ0L9c1gnD0rNnC8uissG6TqRrXmRfLGJ2LrG7uvLApLT4n8o9x+u2b5lpeOc5rGuWSMg5OUTp269AvwdAS67m7C1mnspnAgh3E0iTEvm5NTiEhgqgYksIm5TfnqidFCsSGlZLTlfQeI8EF6R7WaVA6/wiVCjHk/imtOjtgSIkx6CRYkhJoXXYvM8gQwYhOmxF5J3/9s5BxCpZDF1fGzHvFkLF+IjnZjW6w6ioZyT1uBQxL0thCyT56Ya1Q9ciqr5bIJCaVtaxV6banD7JMZig5RYjCJmpZJTQuLGZT1cEUQbAhS6jzq7jrTQylHKSbF0Gld0ovHR51qNO/uTVu4zNtJashCMbIXjdKicBZFsqKuAoF8JI8ig5uyKyGMThwIC+RTWt6GCQiYjubZbdLQyGlTSUl13iKWxXNhkNyno1/MCuPKldzAvSrj00k1nCIEip56c/V2xiyak2LjUK8sqV2A9M1yzYxu2boSNr0mWFZXpW5D/63aT+9RVphO2siyEyhZL3HtMApaNMwqkJ26Bbp5VTlS4JhE73Cu67RbLOoL3gQEnccOb5L4xjA9Lt/csWlCqchWJ4kt5qasQxF8zvqi77KJ3UPSsrMuZbF+HrrLJ4XVMq3pkoSsSycLAKIPEqIgq7xJwFpbrmGTyhEhEflH9MfXLCZCMuOu+q7iFx+HaumKv07ZvmnOnOkCjr1u/A5Dd4/Lau6u125a5ZAUNIu9DuSlHGtWGfUbT7LbYB9BSJibp1PSuYqujV/eG/mpSMlCo5OPOkEjzHxlJxCXGsmHhvoQWlEQy+xy3JT4hxLRbFzOZZ+1fqLa++meoyEubC+YpbRRIxYYClBO14SZL8NIE9U5Xtfj8ySBH4R1rocFqqmQ8nzD4DT0BP03YpAURm30L+QItffu0Ki65mcEHj2mRvu2r5oUlJpTAXXRrzjeY8bownTxCeQo3bU9vY48XmTkY9U5cq7uoXpA7W77Q7gRlOk3wg9Iqv/0QDAa6slZA8jdMRedVbMFEIM7ghA0+43CwBqgvoYiSkTDJiH7STSKseFhLis/8S5MYV7pAJWXaGJ6QJO+e7ilCM7c4Cu9HXvkyeLRTEKLkoPn1m66k8iwmF7zMJujrxckXEQrYq/wy7CettCC7rxu5RGZ8LbCFqFODvoIkSop+axCxA1kknn6Pc1awOaiLYUlXcyUiKK3f0ubm6EmEPLEsfG1EWxamV9lTRJXc/MhC9rswxX0OZy95FyNcUfBLteI1POQ1YIwyS7vs3rdOusmz7IphUXqqVG8ahY+d9ymoARE62BKuiHm06ePCLYF/CHIeVsO4FrKtm6kSGpKQqBBbMwSwpMPOvkJdKNorYvQkanwh0IdHXEyErGyCYvhAlXdl6FIJnGVQS477PLKwD509oqetrHZ18whw7MWJ0xaCo4gw2o4UrKa1noJDPDvCR70qm5cs7nTX0pkOGdHYRQJOQQrwU2H8XC+3vojcByxPsvzBdRLv7Vf54BsQ7k2B4QP4dWg0zA27lEJPFo9OgjYlwb2rKCy1vk6aJSnTkyUsSb1Tp6TcMq1xA3cQ+D85UUGRn+Vq/RFSaqg1YRYLO1CyP7F225KkvBHzvj5a8IiOhPTHogpkuM2IEIGZKu5nsut/ZG0Lsc2VStE3a0JASyJizjuwRnBRx3j10J4GV0livRWedlkxciGlwyFkYcG5sEgQYE+2nqtayvis7kNDEcl9+FC49LJu4JnidxbyvNCbtYu7+JCc09lzuzM1xyiRzCF5SrGFCHKCSwUF0ENqjxuJkacgDjwqXOyvP8lmSR34VR/U0b5RD/xrUUS8waU/kRhPaVX4FpuvRa3nsT3sZElkGVOlBRGSqejb4nBXNeSrbkT0GkCMrBsJazJGGv63GIXokLgiSi+AhhJdS6VbkaMw6sYeZoYk/NaJFcFK1+EjTDnq8iJqC+tVz2zWRrVewLbLWQY85UvSupoiEpBHJ6ou/NAb9ntj/k7QqXqGJgIGmUvp8SyvZfCz8zwwooil8zG87d066oEzZAC6kyX1YEJsTiG5fae5VZGXk5LC/o4thqz8G1GOJXGoLuo5j85g+peVdWyjdfK/xMiNpEjyVwWA26F3IMkNatka0sHs2mZ00ggJqhRSle3STC50dGCNoFCqBl5koRkXe/Ng8dO0DkrhuiCkElrDqRDXBab5zTGMauy3oUvrTQhpTrCSvpqUD2kTaV51pn5axUXULuVZnVmZlCNDCUuWHXIAraWe2Y/5o1Upq8E/aS/02vdJgyMKjBZTuln6l8l3QssCsF15POyrjHFKRedLvKL0NnqEpcsk4bKG7XBkqUgoxLoS/rc7l3r2kWnOziflqbrX7ibYQBwsaWIvKlLLnLQhbSJ2dfen6hDiCEGdxhximWMm+RZDBSnwQ7mt3gqqBqe3Q/7Nafe85ifQCBlctDsCbz1hq10wtyUOMEoCLHs99Oz2KI3QjHnOEUlZHI/hkjmIvoic5a62ZCSOtd5SDEYJsQGKyPrNDbXEgdWCWfD2PU88i0EluXRwOYwE9jH4nzrYgFtWqL4tFHiaE1Jk7ojTYSM3M4jEEEdi6bikjkGdHohRNQi8MMRhYqWyO8FfBUNYwCKzEMuE/wLoRhPGhVVzEYYCMr6dHGn7h/3YrCeGwkznWdyEERntEYGPEjQ4SlHiKbsmzI31E2q0OR5Aih8fnmr7hBm0F4QByIDkKsqGnm/KMyELouhLCnhWuZDU0ewy3VP3BYr8SZ2N1bKRgnOoGZkrkUmT2guqgspCdYQ4PQTP+1QjXZc64e273V4YJCUsP7LOa+ypesXI0ytKZDFxsloQeoyLV+fEOKASEyj4cL48c+AgGYCiZ9Y4q948ktvNLzDBlpA4Z7M2EFrj0cknyhUW+k8syl9NLxGgwIuIgO64Xwh4k8gfqqTVWFXso2WeYFnX1xN00FxBKBPWXBcgRLF04kn0FPzfqTWrkSeZJCiDdGLm4bOuQdBJdDiBM4TaHwhn4lXEdsC5JE5DBx5GS0EWstJolHyXVLRITWt92xewgY//+MUIFANKAAAAAAAYABAAHAAMtK00ypfwkG0gfAzetBfGox9LKExp0RdFgbdgnBH4Ea+VRCNZub/LMhCiUOfjvT3Wrqm2Q2N0R8nAvszcLbBaVCDXNwuhqBfdBEATeOXyRx4zuu9dbXaBUkrywz8NlaLwYpXSmDu9X8UJBNl2MlHKVXTjl5moarstZc6D/kGM+VoXITRJ1NGTHyUqW9uQTd5BAFFb02Ci4lkm/bJsyQGRIpxZXMrm1Dcxb7XZn5M/jRyqxoJP7vbyROfevC+zhzFxlRiOoiul8G5kaqLncqBwCjlA0aDvYzuen2Gb36OLgC1G1K0znalccYbQQ9sL4R83qL5eqMbwidRZEy8kysuW/yta7f41CtVSxVVrVdNUvqUQoZgjfjP1K7jRBJl4+08r5ouBC4yS2WeUpGWay8Vy8v1HUYjXW0IDbHPQIoOgXSMu9oJRCcedJUcbDSMQ+tnYuvCwe8DgktZ+xs5e+kUKQw9uTMtwzQEV0bhDdZY6Screv8tJNNCSWAyUl3Ev0YmAULUs8JBwtl3M3TZ0m6YRJN+Wm82DjWXjpg892k0zdQDx8VrDfBBanyJw/2HAgnKuCcexwHtXRWx2rvhE9XWnghUul0OZ6xdrpZjA8WjiSrxkyGQHrDhABuV1bYZj30BmHJFIS6hyTgs27Q66SEMn3c0R1r8SnAm5CF+nehn9K1OrwFaoMMlH9S+r05O+DbdvxVzrhFWTIqzinxcWYDDCkhLwqIDzIaltXBLAg0NWY3ibCDjl0uylWbxvCqkvy2IJ2EBfGu2eeroIFC3GSF38CYzupPiIBaBfJZezanvyNI4rKxXsdeK8/w0WmxUErEEzHEomysWu1lNtCIDgCuQK1xJEsUmwmQ2tre6WWr0ChZ2TJad9OSPpqU/Q2IzSV4yY1/d2HboKtMKRFw2TheZKb7e7aZ+FGB1ithvRSQIhGkJScF2CzbzfEeN0+YW0UeWDMHeuIk/DZKtC7i0o3MWn5vSGIbhlSY25xbZWXgmQEICWY3UlNQQpi+3cziPis5KM9ytcu1b+PKGxUoey3V3uVjHxfIaBDZUzS1yrW03hpt2KDO05O4RdGj0nZPLQ082JdPfLc8XN5rf8zde7EYUkqHp3oSKr/Y7L01pTwqAUBe9WEVPFrfpEiDC1EOa7HGAyBHRoXPWh/uQ19UsWQfFj2XbU0PVkBREOSjlzuSepqwpyDUBmDMDQFoRrTGq3URJ211RIIiykkllaU9exEhrWNYpIQQrCP/RHrngsGq4dFRYcXku/fm2ujJ27AozRTaVlmlxgFKZuM/9n2vfV/RWGVYzKpJjroQx/WbWNzqj0OkkO6HX/dZJ+PQkFgiPFCcyo9dE0LCZB0wbRVI8uzFztinuBeu202eCD6WdAoi4oCQwLtnSu+SHNcTCh1J/cjrr2ZERUbXwbxVo4igVIl6rRI9Nb3m8O65ak1eHNhav2xYxS6OnL8zMxO9EdFqNfqWuzcI3vKfDuGeY1Sq9yGuFJfxCvnjR80QdOEhUwyVJ4WCAWEgsEgPAsEgKDgwGEgkcQOEuFEqRUr/tz/2eVhGbDTNetfukgSfx9BqfUOtprzjxI45ra/0ax+8WQne6LY2oihanU0RddeHztK946iR2dy7tmLe9PvkzMSKMkd2ikm+UvjZB7hwoaIYkp7WTTyDRLEsVXkQqaawsSR5WlsXONYknmuYqqI3nWL9U9HtkpXLVIZXz2PJoZMlYxstMnk1HTJZHvT0seJYn176PPGCy3B7CNg2oE6g13KxSanVnLYZpWfKX04rjnVUckzIEHHMZFszWJEEWKQN5/IaaI/luQSrhMbHVhntVweZksRCFzacEDRFd9iC52qvBW6KLJKy3EUIJOKTeVZCH/Zdl0zym8nUlq2BSKZ9WlLr0dZF0vDSLzDMnPrp90NMQNVxal7Kdfbnq1WP24dKCJIkt3vrlR3sal/LVBUjBaOvqdgozCMP1TrhSoIRbduHSVHENqtMux2pELUvJWxqIuLvN0i+KayHTGFNgg7VuwmD6FiCb6Et36iaQIeq76YhHaxEMSaUz8I7XVrFuiBytpVLO8rBHmYJKLikJcxiIqqxCAhYqFK2HfxBIhdYJYuryo+5JFP1WeimmomoWp+XcpnmxHTqIhC7FGwQmZ2+hJ5gmoN7tWKfve06aR0IhajSVNFNcvZ7bKmSvuOVanO8golytQg5fOU8jF8Q2DIaVmq/Or0cvj1C+acXpQ903buPFE9rn5Edy5y1uewJVLSB4gv3HkGxxKsziXZ+W7T5V8lTBYMa0c91iE4qWcrMUsqcVyPYMEoOEmKbw4TBk/xx8CC8RqXICwhdG7j+Cjs4H6543tZZ1oHOniefyH2baXGRU3kdENiDGOFQhtaPfLlf3sygTionlUM0ilEluAQOQeyUmis/7y1Y+GorpG/RFGe7QqkSbamLZakGOQvfaf8V9noF9eug6CvXC1VT//lVy70PiLsll/wkdAkS6EsbLUCIuwOsPAWgZbEkAbAdgBvnNCjK0yLBiKtIiDORRKvhdIgfHEMYTFom7GLmujE73zB1j/uTTqdFNdzfm1CWibDRIC/rL18r7KlO18/t3LCfnUkuImZjXHLyIZ8pa0HvCyZCqybFWWzf0ON4m1rsql4htuhC25dDMtt1tlQKUNR9Jn+5+ZaZoY8/xfLWpApIptdFWSeXZOyi3obWd9L1rr83VBUMZxVGMXWCdTIfIYK/Ej1Mj/uWPdzJPCVOSsQaEKtbLkCVCqEwjYuoznboQsmGR3o8lNYERD4n4s3IhIShiLnQpL9iJ2u+VoQirC9gn5Jrjv8ON36dBrCTMY7BWtn1OYFnOKzafwgQn3m8LM83HPKGYvjmLDEd3kIxPro1Agqz8X5ebHHiyu9jPey8ygjvM0oZ3XRtwZZE/81JTuR3tAIRLaRikiCIG0zqyMw1WAg9l5dO50cgwrBYUQxh8+jSfsCWdQTD2tnbSmsZ2KKZtlY4HIjk6z5cXjTs45WoE42z4CJiHU2JhfkTXZXUyN9/myeKpK2CupPHtNLz6vvC08iSIH0uPPdYVu48hka7LYSXU0Imc4sy8W0b2QnNbOjEwCWnBeFGQmlo6kaIN44a+PHlWtLeqfid0gmH/OVrO/jym3UJD59iQLf5y30VsraS6nFz2azZaEcXEkQSx7chFeH/Feluei9VxatM2iR/rL1rNdhNPMWRXwQiFSTKYIgub8VRg1G1SwtuQxA07wWd75fUWr9DcjEWiEkbqOWDx+KhRwy0n322mGICSzEQQ6zM8H+CybSMyrLIpGvSxWJSX68F+SGI/u4hI6e9UBHFK0F0K2A5zCdQCmOVVHnL3vmULtFHYGVU4GkjKTGNSJyHrkmIx+FpxskRkCmUDcNMkIB9K4JjOUXDpPTVJXZrsCtdXYhqOqBKhz5aU4ylI3u4Iw83khFJx9NBf5SwghYZLLdIubwlnbW45dBRlqBPQS9tP5AXghoz0zuIxbFcyDZkmBSUvKoeEugobL6xOmOGKTIs3ZuepUhzCdIa0hiVXxcyRwZOy45ruseP8s/eWkVPs8XKscioUfzWp9l9b7/Tr332YYj1L9AZwFEQ1xDHRqJ7+fCAznq5U0UhPWXSQbNf7ZXKbu2EPndxCYCwGoFo8aOCFFU2GWpvrmmyPz0iHaRu7umTwV3CkELY0UT8VkAcfcbEbxt62WqIRVJqKxnqQyhZXRhFUkR3YHZfwqaxmH3L4se8/NOwCcEg3OJswQK6uI5qiYDhFtn5XiEM0I3dzU2J94AQHWeXup/PE2T5lECIlV0ecljJORR7YcoecYXhtrEYLwKzE1nigZ7GezmQ/TRnnY1CKldoFGbpob0keb/s8rGPrFJ2UC1lWu1Gs8L0OHUvX0ut0/O59kUXZd6zik7SPkB/hdh0hMRGEzDXEHMApp+HVagA11IFkDiY48zFOsxx3tNv3SVOEQ4qAoh6NgVBYMpUoivD4hqECVxTZpgvcRUlQZ9GOEliWSUbTNxRIAlCWSiqZFFfzXSl8+bUL1i5yKRUbyVrCVmTcOmzHqQqccmd6mX72m9lIX3Zl+2ZMqY3JkcApgjQlwo5ou2PkhbnZs5HrrZaeUzRyOGlZJyhvSQ1C5NkvDvVJRZjk+dZwcQVi0Ikj94wPrfEayS3NEN3EzB8FrymmsIWoj1IcyCa1CFwaAYViaF/DhKv21+lmr2zKbz2zvCBLgv/8tyQVVHWI04sl2Cj1XLFjIuQUmPxIum4pKOpiD6BMAyRTSeMSOIZ10piwBBJXFxMzOcIvBY5kur2jekPUPl66IR6b9h6uo9wlwyEfUMs9cnfq5+N5srxr98WKtdSa8+MRJa7t106+TEabyLt9nY6ikXNXf2se76sB0GWiUFsli2E/1VPsas9WkQBEkAYTiRDNqb0WVjDo3doUHIW1aqkva1gR5A8Q/kwqcCI0lsR1E08OsynMJqoUWPAS/GJOv4+It7zuv6oma7gEuQKMwUjQ8mYurQwfPqXwZClSKJo+aEt/jlNkyL6b67fIzFWnMJU2joJFqMLaYPPP+7MaHKz6HOI1VshMfk5JfHK/chMs0SwYBDJtCM0llzMK9/bx7V5GSQFG2Dbs0JzzP9oCKAxgSQ8riImswhubRA3ATa+TUXUziVUwydMo5+Qo4beN6zJZHoE2cwv12J/iW+OVn8HCkqVVkUL+BJmikxKVDatHRB0llDGViVVpNEYUJwmgbypSNWfHrd/S8EwlumMd1FiXW4yee9fBxmB9pZIcDafTSXP//WadPZ/GRZuby26wlFemZV4SLvOK+QU2gCvAkBeL3htcK6WUpJNBxAgDRZG/RtBhQcHo5MM2IuIq9cNqQhxVgnzXXoSnR0ibY+KOHIW1MItNxh9F58ixPMzw7QJMfKuGYMoUxnE56V07+EYIROJezZPCnXsfDK2oLbEiIMsbZEub+KhApBWE59dmpCaYo2668DQbmJpznuV2/7P6pFt3d+rYTrqHBbhnSvIzuSWCe3cvdSc+YTI07bMmhiLztVv5nRS9/XQnQ9ZxCmpThCynp+Xvg+joF/WByqmaf5EVvTbHumqjSjksgdKslx0lQI47BtBgBzbWWJ8vVfIpYwAYgWRuMfmU7lEGVsD25qF794hiMc3Qzr5XvfPupFHIJoZmznqvnR7Vb6JLsIEfbzjGKnRnj9DjF9AMMOoZSRlGio3ISc4r6DgAWAMsZTMS1/QJuGPNvgFT02N3yL3juaRHCKJEQ0paC+9NYaFKCVDPKQxHHccbUJKE1UNYFisE2XhFKTt57qNVC0TVOMxtmYZQWIrhAIPwTAiBnF39wQJ4FCXao37211U5LTZ1q7N2mK9SBVybfdQWpSf+xyX5yZxdy0XYW+krXsxZDVzIQBMBlB2N2VBtxQQxJx2AHYgD5BThUnYxDFgdMN6FfmTroBAiScpKqSn8oqUuNqjtLuG/VQWQMUKcziDKKWsfkMyMH1THEYe7yFMlTxjFlLys66kRS5LCiIV5HkKt8uSoqokDJuLQB//jFCBUETgAx+BjywvEL8sD3Uf03Arq0GVXxEeBwa+jz+7f8jQ5mWoOfn3V+u18WYs2K5kwlNXSVXUBnkYglL+1ZuFxurDoehv7UdV/fEzDA4z8EaVsUSukFG5GR48QK5UrwzhDBNhUdHAxtZHd3ZJauixMhnHqMkl36YH4tqQdXaA8yyfTXKZWMm84uLvp7cvXMtYbBkkSpGXi29kjAyGYKN1kGT7jXSK8Nr3r9t1hlc7yUb7+Q6J7aZpNY/CrNlsAhEMi1rrlL+/bvsFp0krUlsEDkyM8FGYLV6ja6nK6r/3TZ2jDsFgL46Y6DCm6DU7sUfrJhktkp4u1e6RhW9blo9W1b69+GsEgLwZiIVxTwYxWOdL+NYSAiHh6V+aE2ClCl9aCMtFUM41OpPkXK0jLS9GYBSCQfjg2staluVpGqmBby8a2Iuom7bOzT3nQ+UxFs+PaQucOJQaBYcwhJLKgdzAi7dM7szGYd3VaKf47n/eO/vn+eZloAXwCkLhtco1IAYIJ0J+wXwbUfrHcSzGBtosG7IjvnHNPIFAawyIw3OnVX9swSHcTuCWQxjK+LWv2NEV/JUc2S9LTWne0j/Xai5raLa8UnJ7adzkIPn3aaZsv62yYrAxWXF1kDcP4cFUkkZD1cB1VN9H0UdhT1HARFJKzO3J0WFQ1eBZwWzg4NjIo/HXMpToNSvF8m6c+cHgBaKzcsjCRI+xzme1iwG9H+B5Oom+FCyTXRJfxG2lCOJxDTXovUXm3CFvzQEocXBpe+Ttuki/Uok1G2991+KJVN3OrC0xrz6hID6kbGz1o6wttisyu7VUrXYCK884ClqUrSJ+iK+qlwwlBKUCATL025N7q+219sbt3vZeSecOZhqTo+tQosJh0z2n7Xhl9/cQnhFDaQXUYcwVx6EyurTPCdUui0jcOqSoEwvidKVHwKtwY+5q+ZXUOFZwCzsERFwawPKyluGDqbCkvcpnIJPoXNu9eXjIqsqsHt6VU85GxwQZG2hWxRIOnVc2h4hT3MpzVfQXxDavogqITPdogRBIA2coUJEyDMBA6ZLTpqUk6IMgvOP8QZqmn/L0hwZ7d57hKuxZrt84h6+CbjRVcsmVZItZ9WEEGwpGANpoRYZJ8m5KC47Yv8shAjl4TxMOaNLq0UsvP6EqwqarRwbjKIBIr1lpeQjQ/GSZ8Rs2SfZq6HN+p+6FL7HohkJffumCZIaMOO4UhRf5GRRU95W43a/oeGl3aFi37iT4+Ppa4XJHa7o+5IFadj4QOU24cFvyUyoV78YRubu8SjCXRAxPMI2cTH4ISGvvHYhubBAK+B8ZLIPaELPPpYKq18xqNBILatQ5JsMyPa5pPRP8MGG2klxt/WsUbm8P85DTuNH5v0JKZfj7EqBPsQbFVCjUWSoeTelWIcHZK82plSB2tJVmMgVlWxcmY+CFl48ry3MzWf6HLfVdNoqJHml8jk17QRqAeBsDmAC+DMYxmJYxA5EZ9xNpMQ4ykVOdCjIwNm0UrGTbKJRM/J61yTXSEkKWtYzxR9SdSUk6zxmvFWSPdpY0Y1YqPmqFIbCJU9XYYtFDaUlkoX3j1BAHWNq7+0hRDwLC7BHaipJCz77HNW/rw6IFIl9xzy2srRxZ5uCSz7pKhhLEECSfVLnLPFdh6hFs/anfmV95dYJJ6k67KnIFtE3KxW4pZtXfbPfpsvlJ3DRlJvvKlIGCcGm3GMIxNTLl7vM7vtWkLNG0ESttE3pI3g8qciQ6hrKTGxz9OJ6jZ4m8rL5sWXqcHMndrx4IhAuTlOCc0tBFH6rtVqTTR4alN4ntqTZpYTFeKWBjgt9S9uN619FM81pgKRkRjjFNAuup2IXyCoLL/BYEWl9CfG3pCbw+Ut7jZCdCZbXkCDFXoqKNqUtU1JHSaV989UjRm9WOVcFSy5wvprrsuNcOKV3fVXqKafKJJXNPNailj4xVY7BhHWBaFBuYPiwoAYtk4dA7C650ITE+Gv+QMlLE/Xxe1SRLjWeF+QodJVK3vtWickDHFo98cvlZN39sTj56IN/o52XLKxJfl1B+iwk+o7aMcEleSEyWaOsUqhNwmorjxVC/v0U5XyZJ2SyfpsQUnVxWhBNSbUuvJ2hlTDLz246hgw0IoaUtbM6XsD1sPXLCRYywaVx/wNfK6pG5sxrRBtihfcUrxkoWjCXbxuWMap2hBLCGqgxXOUis9XaUYNOY8RzztWY9yMddoSxopbMhStIIGjF+eQ5XjLr6MeMEmPaEBZl+4+9QLGQmNcNVxpR6raUbjhc0Jqvc/xDWhE4cZGsEFjgw0FVAzSFHTjuyyFNQm9e72sNHoGv0E8FwJ/Qlg+CbN9BpjcjTjTIUjznaEW5DmYHJUDixwjAywrtZqqKhyCxH6YLYtsraw1CVlyJvW3zfjzj/pK56yq6OPKgsKeZjudkGUkc0RY5DRGPQYSrqlz3bt/b0uX9Quzt8Je5JaiBplPDhdDgkoq4MRZGQzzkPBi8CokYQaCB5RRoyIzNRJFzX21hr/l99bmppd1ufnLmbbIgNEYSHDzk4tiVVxVyIX7kwxZGL5X9aVPPOScT0ptuE5uqupV91a0apJn6Qme2KjqSKt4QmzCTt4y1SpNleo3jBZl5EkL7auWNIehA8KE+omI2qTLHlmNLFL7NRzTH5O5TlldTxCWmUsjLxiYduXlaUadNun8ehBLJjeIEitlTTPjK7+iIVyRzcMLMWiDqMRSOKfyo3xwtgg8yZxFz3ubSPypyOnIQ8qi3IahScj2JqVQkg/Q1FfCI6sI+yF5aMX1ZmlL0heUhpXPGHuhbl9RKGNg7UVVd6qSaOCrHBEBB4OCcLxoJOHlLIUU8g4Eu15vaTVXgU86dQawSUbZx4jOMVHZvPIMuFNKbjNGJYwFhmPpTeewwLDv0h/qgkhS8lyB4qzRQSKUEhRQaOol21EO+DFLdyXbSxH6oYagY9HZ8QiJ8w0pRp23hQaOokxsIJ6rrLkgSxB5WzHHtRSiSlBIRF85OEPQqUmXZSylslm8QSdBIqRYOFozTBpTjyK4kjexZhdGxKmoj5c8r5FL8yBIr0qto5eiE5k8WVtkLVWXCFwqywYHqMPFPRjzGwfV9ChtHaeHCVKLOWQTzGs3k5lSRvjjUGEojnkYWIXmlJtF2gk5uKW7TU8xKSPWKPZ3umo785KLyIwgWOX6Ke7FjiXObRRdObFdCu7cR8Vp5M8qUlRrrtWxSRBqCCVRlWQ0hOVSFlbKtIJ44WOu+jNITGIapDUGrsszEirxF8YJDKsiTrwpRowos6SkqZCKUpNEb6IUe5wWGF5i/Q+ZNYb/iBLPXerSklA+PJl8wTZLDZ36GkODxE6j2ISdzBHgynGHYoY8c6B0jkualcUR49n2rUWrpS09UQRayhuC3+8rMign2zaT8E5dZqzdNNmY3o+ybPkxsTE0TTK4IqBrg8uNDBkJTQhUYsgQFiHGljC03IYhimdqyvBlLMLSuhZWnWv+qptrV3knVa3lsZea1IliJrRhcSeka48xhriyC0llNLRU150tdHkPxdnQbhkq2TZuE13wiq1aRsTFmUuz1a9ZroxDQ6CaVuPI0FrbTOiQQbuC7hUy2SeUas0EimvlVrjU2tpWT/4IL/bLbk64sg0wwc4UNLkiZJAqS+tAoKCXrA8Y7g5YbS8w+gNBKIgD2IMJPlfp9DajSs3vkYqg2F1emJiIW/ZaL80IvJx6Qik9xTPC1aCgOBsEagyzz1OCOx4dNvBpUyOTBCKeiVqrdZIeCAkQokEi2SwhncLZ0qOjKw+OKM2lhfi6lZuHgsmWGFWWbY7z3faYjBIRQiwi33lVGciRFfaJoIYiKs3MdEIziVoSlqdL/HWbaSRWPmyuJr+rrC3w7D+JBiriizBmVgvq42LdeoEqoglgRvreVCn3G/hlZ3izenH6cyzvUEbXjtbkEAXFOfAaCoc5iCcvUBJleGQZe+EUVJS2eyMCKKY8rYS4T3oJ9iQSeUG1llWCVjllGlJLnNiArM3s689azny88fFF5spV0qrGIeEhk3fc0EMIA0L4IZoAlZQ+sYIC3/GIbJJHOhsF9NeB7+kUQEX6eIJdoiMSS3fVogjhsUGdeZlEgZkQ8/NzYGiO0MHhbKFCZ29OEl+CS9QTkUMSacRbzJijz1Rh9ORGj8k0SZ1VJ5f6rac0ZD4hL/Xg9vlmIhB7tDIpG/+9lr1Nm+ZuOQjLcArGqZPyMBZC5m3tqNMmHVwEvfEgbtxdTfKh2xq2d4hHa0SquGnSoyKbOUSG2r1wxWQUUWjYM8oWvxlNCdfzlJ0Y3s5FgU0jNcW3RW3qrI7J9JalWu5o5KKAQK/F6sUkO0UmdrblZ1c3iclu+Sb7I7yEnv4yDycuB+1TUMX/V+3HOtaRaFwBTap5vs3AhBx4kw/FrUHlWPmKdCHrqe8m2qwoW5zVlSl+7IOLzYbKlVGUS0a6L5mFqqZxsiU7L8fuaTuCYL6cSstu1UOzG4mizWx9U6Nj8I2ejwpSVDCsY5ZgV/GyBK+rG+J6WeEWfTwqbBpW3xFjXUsLdpGuTuXmJPh4e/JnkfZpZP6JIWa/Mk6DMItJ9zmR6BIgkmiwTmqiHYk3S0UxOeSloLqcrf9RYTj3ri73bxeJsNMA//jFCBYNSvxi/Ln9OP3U/lb+0bSlfWyY1+F14FiM/l4dxKOjyOYzHwRAuloIAxhDMAnFM2vplKSNvqWvkF7a7KH87N1pXduZzttfvI4Vp3UqvHM12dFFQ70I5oWhRTkqJwqT3ERTh8jyC1IdbqQNcngGC7ATLoBcoklTTV5rq8pxCql3/ZW7tSgW6i7GDj5S+zbxJeWgjJTcKTw+FRmfHsmlxIL6uUnVxMREgtfn4lOxYeG4SoA1ExKLRggD1gIDIXN4qWS1JdOmZC+VXyVe7fI0RYj1mCfEXIdS0kabiVflYpEapTlfm+xqNxdXGmGj0cqDZb8bz1Z2P2wm1VYRBKLSI7+UTqI5ZFF/PZNOpbNp/dyeJ/VlFOYdVn6669OvHHzwambVk7NYdkZWaCshFYkEhgMz8WicXHorND4VFYtIT0yM3puRPS527IWq16zYO26PosQJ2CfCjQr8GLfuwlWV/io8VAyVZMtrpmcqqzTr+lY6SXcv6euyRk+r831982yOkTYiKkRkmVHxM2Pn1QiqKsomat1+mNw1XzEkmklHiCBgkwYaKNOHlDhRR4o0cYcINEEiRZIkWsUSSeIIMGplJa9ikMKxTNI3zx5I8aJNJFpEkyJu0UQhSmHKMdRRViIh0Qo9W1N6T6yaGw98j5FpekxOkm6aklpK93++czN5GIEeozVZLGkPxrEq3laVnCMUQgzAhFDIEWYk1k1p4JnDYgb4ntWCsStpoqM1ll8g2lfPotnlYobk0rDTRcKCYoZEhMYnst0si5sFFFISI5mG9C7PidcrycOdLs1C8oMyZmy9o8R9mDe26e2eeLvXre+lE/eI4r9pVpVylcF4qYry5r/lUZUTjnrVG/5nqyKuPbuU0JdSM8ejQnb56hKKJE3zPTXylJCvYqJxfMmJRjQELAm0XSXHcQ6DP7BaDCdHcJnFKRhCtr96Kgswthulx9oRQrzL2KfiudKQpUF/uJXrAjSq5ZnmO0fwwSoUsipD/IBYBbjGeuBG8ctlbdhu+yfSkUTo4gqwjHGSS3Lo6V8Tby10y2E7O1v1LkyQ0+n69BXxJ52AzygJOBKo5aNkJoZotDb5l0obDVSjToi+Y5Uj6If1bE/tDlDouQoxVII+XcjXW1cdojsFRpj7PY//ZBZdq4tP7RxFBHjaxeFJcbAm+P0h2oVec1DNP6lOViEIU+pcJeLV1EVL+McpIRD0aNHgJ2sWxcmEUozgRcFcedVrYRVZr+iz7txs8HmVMvDp2bHaWG9kmjtyTvsZuV9PEZ1DOX/rrj9025dmbtqdV4teWPsOW9FHyei3OqlCeownO6eIKaPk7KenGkctnXVX+BK5aJ2MQx3ok4yTDEX19N0Vo/QddVGx/iqlEr7t4pOhJ+oR3dlgIHwCLrqT+i6BEIBJIR5RA28Ywp+7ea0GDEpQgIDGoEC99ksyLsKHm8uSuZMZMO9eENNX94MQxDIKNpfLbOeowz9b01a0TD0xDRWMjQecUe2QCCrCKyy2ZNAIt9MvRbJTQa6VMI4DgybEMkzFPy8sDmfdS9eBBqCFPFTrot2c4p8pP6VLDrdKYVK/V8MgfCqTcj5rXuKwjnh2dWL/9RGQjp7PH+Gv52SMWuaTmarllHoK3Ho+XMPkBG9cSNEFZYPnni3sKVQNj5NsMyoxrnNmZEO91vuTwUw5T5QfskrJqoRlbJCkeQahKR6ZOU9JL6iUpVUuwrKl462PEBpIYJUIw8MOGFzIJsEIpub2dQsVLaHt21uLmiiWmurDMk6chE/5mNsfi8SQyx03WUvYeaF0CT60hT3E3iHAmdKDHN5qcyvpTwpLOgysVrjepA3+slDGW9scCXLhzfauewruooquZB9stepxje1MPExuf5LUcX7Qsl931BzEep46NgIcq8iIwl7+zWikhyfbyBkLVlWFJZ0b9b263n8yoxa2deM4Bb4KUq+ja7CzwMGfeYqNYKdp6VzJjFbXwRfDi/4RcY7+BVQbWPCnQUqKcFlnRa0q37dkQKfgFihj3ZAjefC7KtEqBvtveRgXFpUkp8/NQhp155gRCsBxAuuUmDNAa+3RwnNiGwaQUWEFgxYV63pScBFKBAoozdg48IATTAMBwjdaQt7tVkDg6sju8n0BQo1RRJTZLHjW/7sz7EgtkWDoXy67XQFwinBgMxi+F//jIpvR8OrEJT+5uIUEUD15YmQ4UM9DqgsVyhaxDcqK5UZmRD7Ery+m/p2Vqasc7SRmhzr3OJshqrTI7liDXmjuBcviKgok88QtIxw5aELWuQi+rI8KwrG6pTiviw0GNZelLh8nMSJNWU48sBZ+numU/Maji8yMMfQwtWu1qMno5u2/pf1JFiJa5/xBMTpa/nEKkWyhJJ6IpQkeEJMT+0x6JY0tm7iCkt72pqf4a/v3kCGwljILqnRo0xt2gHCAUkbhMCr3zYdLp12qI61FsMaqBoAzZIuZPjKpM1g7oQCVHHWKjprnDIGDjiAInZNFNmrEoFJV7gXOOxyUISTxo0QeetL1pVNVLaMK44QKrNGiIJ9oytipEuUkMgROmdQKU6EuOoYKJFEVdcsG/2oaAMSC61XnU5OLs5sN3kIn2MiUEUOcLws09V75Om9oQ7FOolcBgGevGG4YzE+FvgooCurRFdQFuZnaFUQZ2ejpSDTk8o+CuW5TnPlT1lZ1u9vx7MPrPNo3/rrolqTWZqEnplF78JA9Pz12xeJjGdECgpKyvuZNRVUVG20I/Gur9bRlUsp2hup6d9ozFyIWLyvnz2Vqk8f1YKddJfvlUkGSomRVluIkyxwh2h4hfhKwQln3p3p7g6ieOTeWybAQoO8OkhGwESb6vSJWoxZaA0Gdd0jJEyq22JYnj0Oi4mSeSpUFQHq6CBPsgWJlXOh1SKMy0juH2tup1TPUbYEEhCuvW95L7r0mojkxhmpQOHbSeSufQ7Q0G9Q/g2GIROx43ltu1unSVUTbnnNmd0Q8JCCEh9QzMLA2ADlEaHPMbuiMDpAWoOswzGHUdxI+DDlpdmJFrqWoZwwnIS9wa7w48kneQZhGSbCqKYgHyLFwGUo+TQcoPLUNtbfc4Nvf3JNna41gjyHaMA+m0plAXZ0IDXudwo1IbNw23xfK81sRSb2k2ma63K2r8siL4vla2IConC/x8nD79zNL6l1Xq7Zu31nL/S3S+yw0QnPAmAToodqOAMmZYXI+bdJWYkuypqJuVl7+0s4RAm5pHXSz3U9e6KbaW1xyIOoHwBuGMlLQWpk7ByEmLF9mqPEJ0i1yh4SOUgih3BOF8wiMfwgjeRSX4TcEBRdqVIuv3lZaMRYZDSOZkI5zEstDCGIzoRNOyMp0dMBYvZ8QyjU8ny7m+87XpOT+iof5etSCyFu72StRGohNP4SoBlg7BSbo/kMCbYqiE4Mownhh2JVz2J+p0608+ve/+J6HjfaWVoGEz9kCVHCPASdD1L6bDV8G6peekxaX3WU23w6Wiej+M4Qp5nIbZJk8TCMatReT6YZLUZa1o/T9HKJVeMp9i3GIcjiVafLsUhdtxLY5aeNsqlLan34X6OJ183MM4DScjXhKV99apen469VQ7EVZlEkjppOPHYhRrIwnIBAAJEjs7GdipDCLM8OI/ST9uGAdxn5/Ij948l1unPJbX+AjBV08otilKS4FrbBfcETtKVn4TncDPhFyMyzsVq9a3escKAUq0QOyMQWIklQxetv/zQ9K3FLjk553q7C9chT9FKPIazMJQmzqdboX3ByZtuFLq1ZIzR56i9Nc5oIahtFq/PmT6MqqCpdh+28B3vmUWqJ33j3BkmlLufduKVCBxOpUgCKgfphRX8PCZC7M0aumfLGWehFvxRsa2JxeLLGUrtTTuKHjTimtglfAPu3DWMGm+oLAxixedY/AUkYP/yyTWOWepkBGBhDIdKTzhUhJnghvJ1fT2qHl7GZKmmtm6HusDrGsI4RJumq8C1K9dJPl+nRegvkjztIUBRkknrM2tbFE7Org9ercyzGkZUnUsg2PduC4qr11qxer0tIL4SMSLxAY7UWaYQAxwCPr8LtUQM2Nwn40fW5mW5MtZMW+Q7sWe6GLeBLl4GoyKDgnLT5A64loURTtS0LSVfU5WKJUKwIi5/RyJEWrRwQARY+x3FAvU2ynyiXpQOcVD/tr8/+QERHsokt3qSJMC7CyCcONFZTl/xuG85uewLqW6IRnpyOkNdYJjY/1ZonzbDTubM+TlFGl0PBWt33ZvDk/styW6Uxktl8mAmwnaj8eHBbQCThMjB7hMqEFbB5pBvQSIgSHkxL6ceZyXnPHVliutsdsRCzgp2Sx2jPsDkm1YpjKlquhzMUWq5grvvS9ibnXCCLsdJzle+SMVZfuFR3FRu6yGmac2LpoHgJvEJ5hBmhkBGGswXGoyHLRFsrM1YLpK46/fB0zpZSo0uQW7TZif8XpoLEL3MwRRHGW4LyPnpzYC4FDf1pHaG6sqs/MYOMBkkBSAFVPGOfZELgP+SmnEl1L0ZdMxxEGyHvvrWDQEDFvuJvclBjDhqycRYSKqr+KWrTgOkL8mPO0H6vTNiwaUTlkbETQ9hIHYTgtTuI19LC+ad7XlRBbT9knsFOaVCY8XgrApjcFiUZdM0lVgr8qaLFUKro1vo3U9Hb5ByfAol029nU647G9Jcj7R3mcklXQ1T7Wsdh/l7qs0lNjbnS7RCY5E3U3oAggJWvcpEbIIw3401sNCcBN1IlxdVvYumm4js86lbr0P2+a0GYe9KMGzjivz2XKytqxjGlYfy2Mpqv34YpczATQ/Hctu+TwEI32HZ4SgtsAjdFM/f/WDMF8WQ7ALx1TFg5kFNGMIIeXAvlVwOuldxVTPYQWoqrX+7+Ty1k3LIKaEHjihDlCNnxedT75+Ssf+9m5WZEpHp9433AQO4AqB/A9NaCbC9hwssmOmWEtkeYYUlNJ0q6bikth6782JOYhyDMr/1JTund7emupA95Fkr2hJN31vcdqc7uVYKSgf2n2rIJFb2zhY9SaUtAr+ECdYLHLIsqE7hQBUV2wokY4/osh8CAShHW8gKahNSiI40k8dxbRWSteoiiW0I5qGEj3yyzbHiBUhBnGeJMykdj7H1DnRlJl/u/CRSyxXgBVhMHJm/m1JAYSSXQ93UxZHHCEFB6WNXvq2ZnXTrz7Hhbdl2CQBFu9w9GkCK2rIgKvoOaXBFe6Up3qoSTJHG5QlFlXx7FsRyF4n9RL3eX6kDSO0shF06SAv15rKc+xu+t2BJoAxXOYzu2nULlPFo5B4LclmipUTjkVQLRIxOoRRI+k8NfFZTIu2ganoKR0dMSkQkZOSdy4SnRd5j7/gHLCKpRD8zsLk4AQOhjEXFKjJUYdC7exJ9e8NYcB601j/qgq3gEw69uatMAwz7tM2zdLxQCnnBtUp6LFRRbF3DxZXM/yNM1oV9PmNQ7C6vOo63wN+nA9CXMxQSSz+0WzDNAknk4yiVHJInzpSebPlinD5RVwrFTJQi0T5Xsn+pR1OsOhul9cnFDc2y/0Ime0pbyhSx4RWxkQkoBjxZYA8gAAQhYAlYasWZGGPg6+XVPo+J8ex/wI+Gtx57KWSL8DmaOQL61kXpaAHmMMpSLUKPWHokdXRADHQMp0Qvpi//b12gkMapZt639cQkjPh7zPZyFY6a5WT/pnFyDI+6RAEub/KVviT8v0BVJPp1UiVZaSRQzGWX5TEoqdsauC7fULzel7ib3uif3kys/JcyJljDbj7hTx0w2oTkNzqQAZwAjViAApoy0SANkCpgQycE8ImWBzIKBbQRHbnEWr1EoUjH4wUksWDOVYh6vQ62Xrzo6zA5+ai3dZslnhruk198bRJuFK3kCZVKX9h2yhL+MhfOzTVF4+bWyYW2hCEVVbXs6wXXGIatkn9Q3I0vSfCt2Zhe0X8JNH3Tzg0Zp0rGQtzpjh9/SLLmUrt8mh1Fmrtp9tuJ0rQyDWTjnUnkAANe7RWIIzIMl5clCGHI68qBIVEXJ+QHBJONECGODD+fUigrf3Qj1oEqfICGUTzrCyXEOtflKslrh1Ip5vSt+yf6JnE+W3Q53UYm3V/cqxQuhJu540i85yscZxLftyEC685BIVYT17HUQTV+OcZuUR4Fk2LV5t0dXhH1mXNqU6zLFkRY/atPpX+Of0FplzXB17vDY6q90JUbUSwStzESmgFFW8bGBHp3UJHFWqKyQq8hIKbKkReSjHjN8DTSbWB4U51qCHbHqhhjoaGmoRKX5dhwAqzMchzcnNEo0kzRPH+pEqpiy1qn98lXvzKyez1GYlqVc1GOhpAs9n0V3DjFM9ykWKHtQik2hH+IeZp2YcJT9Gb13mIWh/nAQlQUIWpW1hRdQ/1qJ6PaUdqz+Pg3espYu/0ld7bRXfnZlup7BJwS16IH6o9QYNSw4p6qII1Gfo53ogPE0dFKZV0pJcH1X8qnKyhzOtins7VP5bJGoFmHSS590/3NQTbwdC5eecwmbf3T3hBof7pIRPW5XRa+XNBu2L+guF8NCkZrNB+B/qsmrjjBIVRoqV6rsxODUVK+YXtpGzf9EtNY1wVHJMhiK5yj6Adl0ni8x+HFdVZOtdrKtSOVduLIRKdeuvsSwCvmDg1scSOEfQRZlzsit9MvbiqSbzFOjFzI451X5mMPpOKg08iFj/+MUIFwpWAoYB3gUVCKwJEQZOA8oDlAViBysIyQn1tSnmcQ1oKXsoWwMHcwsvWgQ/wg0bYfMG7Fn1i6UtObYS5CsPW9tRlDRnpXQm4wrdoI5VB5sOKobIXo6BbslRLpNqakMAVjqJvv7LuMDQ800CYeLuVv6gUb7I0yxhRKAc2MbScrXTeq1lLt9117R/f6xKPMy433Z+zpmuNx+orJsNqB3aCGgF1B4BksYjVHdO5c9WTNuyh1GxWm1Oj+hqq3eewQUWLLzrS/OfsQGpBJVG6AzRnPKp8dfxbiuRAy4KiPnqAzh8NWLSIbbc9LEbYGXFGaLzIalexmOK8VKtaf5cyQ3R0njMbdysIN0K0+jAEiqWbNza7g8UuqnMdpLle2yXTfGNblmEDUDmczwpN0hYr2Oo+H6qjVmo73eccJ/1iqq2JkUmcnImQ5uDZAAKIAfUSCAV238OcCUC+T912kqWeRy/dqbqzaaJNcf8VuH6knnuBexG0dxIzQr4mpL0FWqyMk7veC+Y1Zt+EPwcZ3R+ydx5eMNvJxPZvUK1ULnhcbFcVzIVNYd5iBGaaqykDgaxFoMEjnNbecKthlNneJaDWJ78YwYJtk4gUFuNQcjZHim0uIPQkg5DOreh7M1fq/qP/aCe+7m2x56n7+1H9P9S3rP3Y4m4gKhBK7sYVV5Wa6McLVkJVP9fbrVF/nFOz6L+L+Cc68+SZ3a98dcSAtHO3I2rL1VA1hdiEaxCSL1ATDmFpxZq8GlBMTk7Zzv5EURVdNbzeFo4ESu+q6G8mCRPYs20vT7WtGU3Pg7VgIygNRYSPW9xZMvxXHSvlUeAmD6WPeqHXO0jk/l8GTStCMiYb1vk436qF2jrPZqkuf59TeWWUSntircSpyUbTDkAAwoDfE/gJDUWGdAgroT2Sb0Aces1JdE6CXWiO0J4L5DCSAXBBGxEE5Wq3I94RkxxYCWPUsOL/OfGOqVltgoxTj4hHXDIoewiCBdEqoifR7TfXMgLm1hUoGqbQpkfY5BLHUZCNfQ7gQy2IqKTA66ZqeWR92gjEkan6Lc0lwWTvJZLN4hjVLRN5Q1C8SUpYPhq19/ke1VytXgYbydXJH6yVAszMTIpbOuXgRcwAkABgGZAJzERigAJai4bKLfShtiMTl+Zu9WJHM0KQr8YOdLvQW8NoQ0gPUbaVQtogohBpkj+TGbgL1mHi4qRmlfHRNXCyKN9siGiyvny4PGF09monnY06WrigxeBKDcNxoVrnBlidIVH5si9Dq877kwUi8SxP6yiAkBbGMtm83UN4s0IsYKcoj/l8743E+1Rul36+h3PUd9TmSG7/t/pLNEXvtTmwXOAO+ACLg4wJJBxMGA0IR4Q6EJr/S9pDmW1pHoFMeN6lvBZ4aGb2VwHjGbV3/v7PucN+jRn5LYhG4cTgsIvJGXoFceApYuokNh5jVItMybkrQXKVSwS5yCvL4R0KOZVoAgglDTLwwGZRmgCGEUyyMwqF4DoyfeO0qkHWFD8s9CTa7vOkr18oMTgk+2ko2vzbVf5PMexpn/n3flSuxVf63f5USnVkrAyPyzyH10AIKAHbBzghEEs4iP2K2ZqdHsPeR2SyuXmb9ajM60GcPlCtxdfwDFD9vetZTDoussLtmdIWqayrwRHAaUeFZApgqWjLKJO5aby5cFYqLgqXBLqQV2cEI8eq8P66shXZkiwBGBcrkaeWo10MnakoTa8QFn3PgzuFmTKnzXSchGvMxXm4EPnUfs26cyc+ndIaP00rraf7Nf2ihNP6N+dX+z0gNo5I5AZNf2t6A4QAn4OEKNFq7uVllDaydYh1yG3BrP9dKL3+VVo7rwRsYoOKSmCMF9NmMoJA3Sb5S5DvKSty9pcQXB6196yQW6T6dMWT2MAlvZQWQeDsRlHWd1uacZJtVVO5xP1Ys5Yi7BOgjmwYMo6N5O4TyAwHrQDL0nZIQlBFjrFg1nnR+lMI2naw2IjE6Wj9IOt4PuqNVXq/TygfoUiob9nl11vhKvK5OFVG0YDJgCKASpw5urGUOTO1cnO3l+bonfya9UiLNECzuS42i32tqdp2PscaMdQc89hDXKWFXaHexjZDSMIJ832eWc55w2z2884iIRRrTelb/sg0ibMEx3Wsa2qXj9ktRZC4FCShPGGJMgVHR+/wmGS695ve0LiKMqiVWyoZb6erQVCYZBDOtRpZBIwKOsykO3u/ZYsiJYyHp3a9ywJXTenXO+fUTEWE7fRPwBpgGqBBkySNf2vKie8xaK2haCuHCLFYmnGPHPGnKPy0mfJ3P9xPsim0kEYnF+zSHL44Tlkru53Ozor7OhjIu2pIFJuVj/eDh1sZRUvHg5X5IJtg9to+jAPIviG0pWCQzA/kAsC6LB7aiyIIwFF5dnpF4+3Ye25JRGrBeIZAYnF7700J5OLruBy+l36bse+5AyNkLKWV045szQvb4eo1DJWyp6PpoenvNl3+9HSVh8HW0FxSFQ0t5dfq246XQUJalIvEdw73d46iYN4qi+Lg8BAF8qJFJqvtmZLM7Paonb/j3efTq6Wlpa2FiqO1gq6iqoqipv785tBPKpmEUZRWEA4EV6IZRI5QLhZPxeyC3LKyhbtBplS8eXsrtpvskTHMMyzlEOKMV43Qjw1wUIJUNs599cEMrLNJsdStFYoeLRj6OoTx8NSpcpunSZKfqfxzGUIoQheIZ6P9QuTMKoshIDOH4OITRQKi+pePfpdBUMRYf01j/v7t+PTt29nd39/np9sqGTxtbyQxCE0ajiUmp2fimeBEFo+n4zGAjsh5ydg6jwRSi7LiFn6G3v9FAoVaqFut10s9hsUiS7EyM0J0NEO0P8P0OceZLzTUZVgpXSQqtWunMoQhDcEgYiEyWi2Wf/wG4tGc0GMT0ndLnLgpLB2GwPAKwNgPgJgaB0NxCXu3TRy+cKkbHn707/lbdXMsvLeh5fvvGjGwqG54aLGR0LAvCsPxyGIbheLT8X99Kp3NpRIT06sSuyIyRnY2Vt83728O530KlV+9ydLc0RFibEKeZ/izG6FOFiFuFuFWMVi0OxD5a9YqLt4SB5F4aAlBDNiKRLOfGwhKS8XBQCAJDJir7nobh8HAWgpB4BKDEORqMROMxAJTYpUJ1Hf7SfO+LHo7bOeHtzz5EqHCnYJShkcOBIWCw/8okEkEEjEUrlkvFg1GUrvLi1sq4rKKgoo2x6f9MrFTrFZr9VqtQstzkuWpunOep2nufp/n+J0YY0xti1EiRvbNyeX1+O7HxbauAtDsCcEAXGjFuZnwsFwTD4JApHwiOhIJBaJB4MBoKB4MgiGY5EYmEYrPzwrdu3pS5WocWvBnw5MOJQsScqSmoON4+Bn4mGgpKaorSo+P5RKpjMRyMJnJjy5tCksqiWio2hobfVv+H5TqtVrBWa7Yq/aLTa7fdrPeLzIcgyJI1rkGQ5TmWaJtuVJVvsg2Wkd+vi6OUqZye2vhAKBvEETT4cisWyGRXMiFErlgwGIwEomkcqFR8IbuTyWTiOTSKQXJzcmVSTkXLSsVG1MPErhOxtJ8RKjWvfW+70tpYy6T2VyEXhAUKjR0bGjwZNDogfPGGxBownhPXasYoTs5EYTnoeiEVjsLRiFpawmkUlo7ftXfLmvk1TYzHZc3PS2+cazBVdzHxwVPTlEOEB4bPy5L/OQACALl5bhHaM+CQzG4lEQmLGr5/lHQRmz88fIyckqMpUTnNuWEzSVqEr1Ajo+DUtXjzk8vn02fmJWXMt8mqpnDcnEhkDSWakwb4wVoMIJeoUxeOcvTSQnSb78LBGmPwPEh4AaM+KI4Ac6ucUT3v1CGEYsR7r5CDjrROW4/2BZP4KeUE496f9RHdwucpkLkbNpsthI3+WUTzhL5kfviQWfi3Uaite3TUw9rf8ygccxSLBy6VTdJpg3HJ7EfqJjTKUQROuho2Uf7QBGuT53BQiQFmPYESqm519Nl3mUPW1CsBjhwBhhQbswZI6mvhBjggikAboKKeI5+adeouI7PRcydpCZ66gK7Of1CWdK0vK3XNdnqLeQ2GtLv0aVe9aV5PqkPKjrq/VQGOmVPNp4jYdqLqfC1QsNqnLEp6tsWw3B4arORqSZN7d4ieblt0ogl2R72e8JvUhu06PV0YiAzNvi33CI7vz8f+gJRc6K2ulRPqFnC2+ybokfI4PakaGTI+XmGfGd/I5JCth8GaM+Mgk9RBNZ++wqmYm9O0GnLruNAk/ExVFZpmSlFrO2iKW4pY9rt59oK7q2Xfmyrv3WqSFRiqZbVJeff45a1C/SR0bic0mHx3KXzrMwfVn+H6dHsB4bOCpmz7NdLKlAovdtHxcbuoOpX85WFSOSp2JxLk1v84xYp86Y+Ka8T7rovYQvhG4Xk+tKVXKDQtTMmRvGPYMzcpcZOYvoi1PpTGazOz8kyDkxxqmaZWTqOQOSgf6XA7VzHUttFcFl80glZ21xTU5DBBYW8cAsKzQtc70RQI+KNV3BejarkfMUwrpwhofE4XvR/AEOJf0PRPHhEyK7VRBjKqpsXcEJvR4Ce2sQ4Q/oCIBNTSEZMcTlKNbukIfXfJNMwLrT1UNFc3V5bBjOaRP7n3zXSCsDL+2W4zWHWqKXo1ljm1ZTLUBa4th0qAUddIRLo3kWTB7UwhYJnf1iceVYvVF1uY3yrXPNsxS63qFtlEZC0DGNu+mYsqNFTIvzXykzTqB7+ba2QJ6+NzIzb7yWxaE9mY+U9DGSQW5LeETo4X4XqREwfDEXIv4DR2zJ54FCS9Cwcu56hGl4MQsdyoBFD02TbMTGxrYm/4ZyWlzfO8U4iXmNgxW6V6ZfxKiv1kqI0gkhKVQ2TkmHCqP4EiRUcA7W+Qn1FCbyLk7q5N0uVceTQ5w2xtLOGfGshi6lJ5o5nK2Ju71q5jU0DARNFHq50qR5AmTNru6EKb4PSM5eMJZOMvVgrktBmdFj+UHc8QelCS+wJtUdRSNDTXvUw2nEJXtyr08uWnu4Zv+b8mn2OiJew88vZOxFsbkhJtg2bUxKjV10vgiSiv0uyEDGex/xklS8ut+j3TCDlXtYbdC/UoaZcrNy5ka5dick7FOhEZky25ioKC5Qg+gkTvEWzM/VajX0v2PYlMQtps4LGZeskI8EixwspZ/LUPmv4QX6M6SpxvbPvFrVlhUpFjd+IxRZ+SKEytNfrN+OV55PDhey3mJUxEKkjEe+gu47c27K+/+BYJswl8gq9elNKPbwwjBW7VRhwrMyos0153OqUZHdisINPfBH+TwxFmNwG5GAuCZwXhX17xTlN4rnYfmlkdee2SRyOU6hGyKLCoScCPtcQgJeWySR1fUIUA6JitzE7F8Ye5gk5tHNIUf0R5iUsERDQBBVqVRnSeCkg/UjgTiunZi/qx1hu6eW9Jc85sESzSe4U7OHgoOSyxba/xIs6Foroo2zNm70KeJhSlAfCFZl+ePAmUyJFk90fR+uQ/AMw85KmMonZ1exneyECPjsP/twnBzOQu4z+z0pZ/P7CHLyOdkncVOGcKLT7JCLvgLzxRyCT71kjCESGakFVKzQSfQAsY3u/JszrJn1tMg2Q1O3UnLzfVQUuY+0nTRfIVb+CK+0shSNhOiNNgLgks71LDJba3S+KH6pjB+xILnS11J5phlxQlxg/bdbCt6PkF5FKqw2I2mZfVCPyJUDf8oEUBN3qWKUs2/ksI+LYEzWqpWwiaTFeElQZQm/FCChksmDMEaitqo8r0rx1tdfePZQBa+FQEk3sk4Ed4AaAEEtkKaEc9h0CWV+OlXdRWj1v311Etvmrp5MlFmGX11x3tp6Q+jBBqSKpsn6kZzpmLcDIUvNEYzAs/1AvH0MoE+Q9ufytOH21VT3xExpsUFBCMyYmmkDLnucmhpNKIaabdlQfvVFvbgYqxBSCyfpL+s8h/gGbbO89Yy6n61la0ncggFyIwpyLYVHZlFfDw1zE60mWu2HNHUB5MTLMPHIESQWSlL7VzRsILGwE9tEe7ah5A6FwiFCd2YQredGcK9IVWYBI7PUHbdm8h0FQtIUYntdkgE2l5L5iVACx0eZygDI73SJsfxl3S712gn8UEUyiBdpnR5bDMW3eIEKHHhmwpfvRIyn2XlEEbswyfdnsmNR8aelzVpB5NhI2R5Oz99KDlgRyGfEqtgbblZqFol2kOW04WeFITi7EjzC9TZYw2K2yS+3Ks6byy6rEIx1wVN1T7BDJURaKhrid+X8h2FkKEsmgJlxGv2BSuUOfsktRpHloqV0TUozSvNiUrbo/cHNmccqUekotwzuMEwekTatiEdzil+xj6tqoladpLUa3y37lmEF0Zk26dHbu+KlJI1MiVw1uZ3H92k3O5s7Z2ITodKo7VpLUD3WoTPfOnQ7XM4eQ71UGREgnqFuxlzGg0JUyaWnMx+bQZCxRJMAOOgyP09VRUXNz8SAyZvQk3KcNW24eAY3oIMxZzi4zSfJENmEiTu0E33gtRvRTRkvhqRRz5IUre+Y9QCaBVzCI+KMPbAT0M7336LKznL4W3KYRWiqNHOJ7ET1BB2CdQMKcykVC3x2SSDmVn42K7LwKyzSBWY2qFKgqOjbTIrat52P3lC8n298XvZ9iq4nms9jmvv74TZ6cS/l2eVHGxIVDc/9SXOMFBrz0Ot7EWJggUE0iT5+gcgu5WOfiDWc+eXYBMt4kFSIQSLYMNSPI+SU2eCRzykvJN0wCasCV2Jl0hdf5ygxB9rxjup/7y8BM4jgdW2L+E5DiOu8jV0iTBLR4GvTwaG79xrGHAPbzTFSp6h6CraxWL3dRVj6cec29aB2oS256S4oC/ZGjjQffQRlh+y+VH1TKBBLA1GcutBSFdIm0+DmdE84itElGtLD0JLmU1qoantdNWWv++8ie+Qbb5GhPb17RFP+Q2Kzo1cGHQsPVP/dZoQP//jFCBgnTACgAIEALgAoAH8AnQB9tKWdaJdwOO8Iyvw4yo0X8Jhmz3CBz6On95AzjgqzgIpzd176WdUFYupFJ1cPzjZvPWrHJEhCEmCF2f/yP/7hW1GQZ6avEV58VT580tlxP/Ff5oq3nz899rX27HYiCAanQqNxGFgjFA6GI5fnYQqkw4Sl7Js4MGM3cMzpW4FKdFWklQlkMjkxgMShdVgExsern/t3vRwKJ/PuuGx6NmVeEvIhp0RNzanTtgBVABjvcCCoOMkVJIcUNcEAGUDMD/I0OKOqEprIiRdC1jQia3Ai4nLgkdiZIocQaYryjoP91IPcKgQakrl+oioKrm/XHCoAqknasWU86E0+A7yN+AviVJVS2ORRGH8Kk3VRU+BWqywe7QS4z6TQJY6xqon8GOWa+Q2achCh5uiKYJUhiWdB4nx8/3tDvI7f+bOWsstI9cW/9ULfAMiDpr5H/2ATEuxNNuJ+LIL4K27S4zURBJz8sE+c0n05dhMX7Kv9bee8o+AvoqjopNSH091QCGBQiDYmUZqeG3FbCbtzTVwXiDPyIqdOfp58tU2Rwi2EoKMhH7vCzEobjKN6SdU9liaDCf+qdorG6nUsk/MKYUinSGwQ2VR7JzLbzrF/udDQWlPTf7Tv3/CpxKZav6ppInuqwT4AR0IYZSLdQQ/LTmM26iof0bk+KfPpEwhypda0jZrSJJOJ22GdfU+rOX14HwGeO60y0W502noyxP0tX3DcfcGQiSm4mET8yqI5lXZe9YY4tBinAYwT463AjV1k3sP8Ri4zZAz3r7EYFo8kxmAlCbQy2z5JnIVhaqVB7C7142Nhva882OztTURqaB3XdmPZtw+TPU6HtbN08oTX6IPKhNcAIKCgldhDqODGowczqqGjwjzCINQQ2RyK9OZ0RxVxL7e79s96jt7q6jaAVYV0zDUMdandqUndfxTUjVxDuRtfKfZfH8rZRgUwKBg3ax4xymQVRKjOEYU7a2osivIR3ijK6ddGYs59h4kz2+y4Sw+NYkI4CUK8lWkxkQmM061fverjGhXvO+PuxtHWZdUpaYqfZ3rHZMKbUNDJj7OzaAG4BECjQhVHRwFhu/q5UxoRnhLiHljkYivTPUePQnohV7dU02svgVJyOjIhohhbVLYGqmiF4MyUdY0KVFA+/vZYLt9Pxkgy+rxVauHDZkT9VUU3pBljNLA/WyrHmJUyUU4fric4iUnu0fWnGpRwtTr1GVbocxmoBK91ZKz10GxqwwmJI2RuMYFWWZgtdE5fPZoCYUXM6o0YXUfd8w6QAD5AMoMSB4Z/ozhHas2FFBPwIuLcR0RWaiWn0Lnn8XKa28W19BIV5+1Zi0pXSruqtPp/L3Z7i8kHZNDsARBJ/S/fZ9VWFgESK/YH7cd3xVWkQ5GicF0aZWcpIQ0qF4ZS8JnO3cznPvsg7vz9GCSnC/JOstot9x8DuFW72m6kawdKtqnumm8vl0F6rlsqQl9fHOVXIO8ZsQw4o52Ry21AECAAlx5ADijEhui/G5hQEGg0D2BbATJhQcMVOvowKs6xLwp7c98c0Ue2/Ohr4OVQhNSP52lNAEKOAnF6bBXIT3VVsN4KJ3KeRcyKT3hBoQi8H3GKtnFv+sJcdL6eKuVaFbqONA4l2vRI+HZ6LN7JqOB1sFZ8r2P5ZKfDYD96rGNja6tppQkKirW2OpmONc96bi9YjJGaeQMICWHg8uDhhBWGbHRT4LJaiDoEGaJMiAxTgKgUoGi4gbD0wSWLEM8h0QU4Fm1aCmdNxbhshys4WEvF/gSGm8CSIBq/hIBoPpAGFVy006D2c6JYDen2DzfuYliy6yxqUclVj2SxCOj39Gf916LTNXhNK/DaEntGWDoAvx6BdgUwMOUf4YwX/VmCHagfppL4JX6oW3KGuEkCTg1qVwmWfaX420E8YoX/fM8/ZFVBd5fRTIdiOG7ssTAtc1dkCA84DkxftZmRyZ/+FTG4RdTgMZULx3FbOPGmgh7sZGQi1mT3p8uWFhE26jQr3K5YJLEJz6hI6QyQupyfKmvykoN+Fof9D5N62CEy/yabp37xIlJv+NSlWyh62zVHOVU69jRaf32xs8A99SHE/nfS2lPbneXtVL1OvQpwrLSY/3EafJe/yMVfcTInbW9VINCCMwfCoqGRQLBwIg0NBYLj4YCZEQfFCjrhpsuuXPduZEyRKRxZTBSDVepj+30JZvBkmJhXv4c4oqno+suspj0sUG8sq3+j0uRH/q/WopXqKL1jP2aPkQJgiRGy6jdj4fZOm5GeWTcwmQqeLEhbjghwUNMFizBRStFijCVLQaeezAkSQ4YPFriEyBTIhaxB22FrdcqjYjZMzVVZ3/++TRkviPMr/J2zbNdY1zNmUONSRPUpeNEmqvpk0eP1OidEtEvGoDHa3glNmjhxnofBI8zAyWk2ny0tiGOizVGriDkEU8UJsUcOZLTVpI/DCEkvtaEOYhBCKe8n+tD+LeXZMd06F2TS4NQxRXcpqhAq+viPIKMFIyGxikGV9y9L0wXIs9LY6lvSLXi7VzEaGSYalRK1POj2faSUOcRFumr5Wczdep17cHWhvyf4pW1DHJ3klVsSUbzESzUqN9JwqnNUhWKUitjvOnjtI00ctEEVE0T9PkpaosUjDnZm+dEwXukrf9QVxOavLnNQ6VtVPUa4n6JGra5U6a24k6M4Qup8pEW81trEiiUNlRuUpVxWycRUT8b6iyqpUi6SnEf3b2iBQoMIHaUxwqhWaamt5cHRbN9j1NuyCXIS5SFd9cn6fkbOpXaehakiI5sUTml/byCTfguunjPQjM7MEIxEqKw7667TzWVkZVsIwogggIQoMYYMdBCvZ9IozvKS1lKhn1ikqzDlKVWHuhJC2bJBO7r2L1S8r/tuxtXVrecaVxJ5VvS2tJ2XrhL3E4l8Hv+clmkT+bGFMYVRhEHW07JRK2S90zkcwumIVhChAgyhqOBAUiQMjc9tyMQ1GFcwVo/PqxwwqT1UcjFRZDjaXF7BKv2afBvE7uxqaWnCUbJiZcshc29k3X+wShD6rEVyXW4ohiCCBmxCIDUkkJ6jCYIjYjEEONN/BWJetCoWNEUYFlApMhSZ0Lj7bQgf4DmK5BcV3PgVAdDqK+Kx7g+FKjzwnpYUUMeCfGJUUUl4wr4VWOXDHItjAzCDZkNcTY3PleiL0chEXXN452yGq54jjyi+rZvfv7eu9Spux6IejZhavVNdNlN0iV4QnyCzHprOhYqo65o/N/I6JI+v1X/m3rxbVlTqiv2rm0/wzivijmmx8jgoogiwkg+igwAKAAAgAAPQAWkACIfABjHimUjOxoVVQ9OIBcaPjadMeW4H4KanGm5PDkl+ccoW3JBrvi1viNUFlC0Gd7XJv7pKSqJ+EN5SLwFLBNVW8U4X1YJlkBGSNM8SH5OWCoAIfSyCFOIq3WVllNaO939nWdx1aVAN1rYdP6T+mrTpnYUWaLUjUHLaPwouYPlmncXhEInFcGkFCB7xROsuQ4zmKyydrbSvuUrsrcEjUms5MUogJgvQMk1UgpjFoRfmScAoQTeUp4lSYqz/P0LaDEB438mwr4Jsavn5CuQ0oI5jkndBZgvrbatSOaq5jD5iNHNrxIH9w8PGMCD0cXYVlGkoQdu3W5TB0mmY6/pscNwKJ0bpW4sMZKI8JRRYrWxcVLcRFJSkaHe29eM+t7xbXENHWkshOPufWw901XlkqYf+qsQjdekCus1W8cmaVIPUMwjPM3DF7C6mME5jzmLzXIWsTjzxvxAwF6/HG3CFqC2kxsoh0VyLeDx35YliJGUF2xm07Zp4nQh73luC0P9SdMjpV1LXzuzN8lL/IXsU/98kFjpmaYTFaFSx5WQlZoyGNAUcCMTP7t92NR3IGRnXoJY306xoKbIgniDJpRurEpSq+ZbHSyx6u0hNvRFVhXJRRICmO4Vm1rdll+/Z0PlqwEoiahV3N+TeP84N3FeJRpH5SqFWN3+kHUlmrZBSxxECYLrgQPJpOokD8MR5CCOaMpLpDR6qUkTSov/XP7JXU2+uhZLRVag6OJaMZBR6gdnsvHElqD8RlLzaygvZ/M35n7nU6kZK9ieFa76xWKLRq/7999u1uv8pWy3TLNU2T7CnCLMUwzBcbrQG0CqRQS7DkEAMo6hiCMDEBIDcUEbZZdIyD0b3M7RiiTUMj08frK/9LnvMl1fVyjAK4hGFyI6W3E43mkXB6EB0eiCrrP6xvjUYidHdLV0dfdVS0hYpeNNIMpYTkghELBdsUbOOgSvEbREYVtBzkFRpySCJo9jmPJnT29fW0sqjWFsKY9iqm0WIuFhXBaGZ+hoLBsfBQePHhwdCRkbMJkiM5/sIGxAso9czGJLDpQYFDgylTPrpuFxcwKBUq0XOJE1E1iO9Y7O7EnafpDt9eyXLiogZJjQiLDgkNiA2LCY6aFDh1sQNlxYsadKIMrE8SHVGhct1Zq1JRKXnYnGZ+zK3s7W6uLSSV8huLu2vLmzk0hrZLV29pUd6b1z9dcvHOobuHJQUGRYIjM7EhoIRQeCcViMXn52dlpc+IXK5cpLxd1dJVn/ea3t//V/dqNHv+nS89qZc9do9tOPvEXCBEscEhUVExQ+IiZg6LmRoy2cURcRzTLBfWnTp07PlmnI37ktftzduSmr85KzU1KzUxKzMnE70tL2JOQpTHf1zMlmisQVNNnCZgRPiQoNGQgLkHAeCgSBgJBINAgEA0GBgIDxg8cYEkiizSGLISzqMeq2divZmK7qLbqs12eJ3/NfOZ9pSqKR5ZCWCCpBCtFr2ikjLpF1MuqudMuhUXOhcXFxkuMlT4mbEyoiRIut/RinKNUI0UwxhFrLOWJNINJOJEiBxokYUeIMPIOPIJNJYQ9rlMTtK8czuvquYR/C30LxgovJJM+dpmedtkRLIsxbsnulmuvTCyv6iNxhaoveanhN6W01Il71kpSfB5jYBL9a9H1OSiuQzmY5BRBAggoyARZRjDmcdjjKIojFZ09vOW7a5aMMlijah6yShbHaV7n9cVpCSqVFIQhxnFS5lhniK45oiJMxiDvcQSV8wRnbYyhixhecVynkKlLSpojTgw4ZlEEUTWOw/xxH9PwXAp5Tgkx3/+MUIGSBS/8T/zv/X/+H/5//q/+//9///AAG0qOzfH0CS2cIT909Mji+ljHylhDZCksFNFWhWCNHVgIWKKzjPYK8QyRiDGOMcwopjDlMKEIMMcgogyx2KYqhDzuJGJsQlCt8p6DGiP8gWiFyj/z/j/+flBrG7y4ptHLWJ8YLO4sQmCi2c0qPV3uVLHWwrCCKIRRUnccg51hluKVLCNGIUorRhyojnOQIkVhTsYySOtjOKx00pLul39qixCdIT7tWZpYYL4UPIQeqDe018Sx84bkL2ySVrbbfauX4fnmselxvYaQv1f6N8hrlsxohsKSVUivNAiICP4QrxTHjEcxxHiusYsyWKhyPIcsgokphoU+Dnsxz3YScuENrfyztxrI9GzP3xcUa5dcawtODSGr4lM+nifUHnJapvNVduS7rKtUq7SkzDGrpYtVauKepS2o44lO3IetVbG0LKsOGUnGUJ0/7FU0NJ0+8NnCMDQCICA6u1qLRh3fSTrfjOjQUlsf2Tnh4f+CDu+vAjjEcYTcZWqzlnYbVxNncHtGxPrAz6lPcl7saSKAWTtdbXJZ0KaRHsRQIeCNCFp2MsWtCLX+hTisoSGaDP1sIUXvFIxWuSq1EgUagXYSDQq44qoUT4t54/VwIteLBbaZLZKgXr+EiuqgTuj3ym3iTV1KrOmVlZ+2HU+LeGPpzU6ZgS4xiCCFR/NI0B5bvw5nzsOoKzySTAi3dt1mJdb5x2HcwPZFLQ8pnswMMx6HVUqHuSwDbEdsYksPBp+e+MwjqBL7LB/KktDkfvAWxSIb2OwaxAYifZCAbyCPATUp82lB5trz+tJHenSQaIoG/goFc3JuSxQQUZd3FA9sOglw2IzmZVzX5xrN2Y8sVZQG8pGFKJKASj3QIj712fTYBJL3QrkdGOgL4rWd5VKUt5q4J4yj8O6l6Kua/4G8dm8qiU6Rpb1WJFcloUvd4IPi5UsrZimhtvwh3WRFuuV9rN3SQivsFIQa6w6+ek/JnqCiXZPKuO6umenb5N5m8qZLI/irYi4KNHNqOYlNsF6X/C+TNOVwJZ+FsbnMtiIf51JvLS2ZQ7DHxEgQ4cbMioZmKr4JaFHR1A+k5VbysV+2OJt17SY6tbFlJ8xlI+6Ogj6kYw0sDzwhVyOqd2FCw7fLsU/J4PbeIxHLJoSAnkhoGmF45otHwZe0DjFjy4tWpl/uB5jvyi4ulo2snY8M/DhRGfjMUHHiIDar7EpXSz4dYsxNXk25b8S21e7DOQoJBXlGpXn9GGjyc+mxz2QGlE2wkJF05MBTzNKVaUKfWSblW6p9r/21bQmnxTsbSK5UAimpsCCgFQzpZoXUFkU6cSl5pdl1Gk1k3hOIbJL9rH4ukayo0sX9aRYI3hER2qOWaCLVG+2NU2KAv8NgxebFJBbhdDvVotyy0J0SRqm/YStyrNWqrrixnYJ1J5aRulkWw4Y9/Zopkoi7RtOaJKY6YLKYkSPKVCXKc2zHHCpX4oW6k1Bb8UCVKJjVD1i9UZP/nqNoIVv4I9FOS2NII0iGsnxWCOzpv1nPethU0lO1K2yjP9cxWqkZiwwF5FQTsJ8mfCQvy2LbPG8pNurM8mEJI0GNQoG8rzdGiSEKTJrDsjSsEKdcj5j319nU1yNYolf7JG9ZI2dt9q2bNDkvshI0VTdNKTVYYGQhEXDFXxRpewLFcglNE05Uw5c0tgxrBRaDjnGCVCz2ySGT3EyyF0wWDbxgJi32hRpEeHOt2cXPPJho+Ps6xZCrh6zW2frcYaWt20NLTebKr/Uvyjybs9K+LBQKxuEoRhAEA8HApGAgERmdHJcfk4MjavMa0mLy0pr6q0MK6yramkp6RiZuvkb+hpcep77tB+6BX/m1XiySjMc1z3FWM0IEapxteJ1IjkLg8hGGcwCmMYsCqZ+CwejcajA4HKD+oSOZ1Na6W3EKZ9WUWnc25H7kbPCAmUVDjE6JqViZixUFxSJz9pbp0P8sy2CUtXVRg8Zkzs9LRTtBaSWdM5HpHbm1VQ0XE/Oqx2WV5qkeK0UY6Rhh3h6pvk9nftj6VwFtpGKAsNcEsSseCqG6CCTwhwqKtmDJVhfBusss/hztnDMVi0FTQzcATB0MRWoiROoHUmwV83uMkrJDxGDxVP2Y6dqxI2NQiCVs2BMDFp1njQo3MzAkmwqSCICFkrCUQq+XXMFsVY2//a/bti+JSyflNErInsGg8tFZQYRZlYybjSz+cMlc7IBaYixrcWS7I3Xsr0XzQPG8xT5TqXGMIul2/joOolFRk8Vvm3UtGZdAb/D4W5lQddL3lw/a+tbUzOYZqF0/sK2cy4r2LAzN/AdZKY6qXCELJxXO5mMCbRt8zuWU5ISdk0b7myRpahKhym2HCBqgd6DAzgihRriBCB7k+xvdmEa6r+n5S4nV9hcVMwni0ofgERKScfe+SWTnGIYLMEO5G3zioWYw5aU9udFj+BQYmiYVBEPxS2PTWM19FaTdHeLku3eSZnL1CauDqfvv0Bi14RxcEmTjiSqu1+IY1XYnrOVJswr3qpESnvBT2z8tXUfvfTu6Tva25PxWx1f2P4L8n9OCkBlGkKqzeaW1b35NWtxiFi8U2g5kaEdamVExFxe9cBQCuPcvjUDAFyMOMCqsB/5hZm8zbNo4CsbrLrSo6BpCle5VA6hgEa9xAk0sZE291epSXIb5WFYaJKqRTY9G9vq+jFkihLlU3ke1Vepcfwt3nFH+1yvGYn2N8aSrG/rdsGUdr/2aMIKnoLoCQK+QkXoMRWggKxoAvqNyGVNUyiRRrC0REx7yd/jjKvy2KBBjpY+MUBAHvwcIkUQ9FlbtAPZOPlCoEhRjk+YQpG0XzCF4EVHnKZ/vOKmkamgUBUdxGV9G5R7/lI0wjmxZXCKeClEW4kvs2DknHEyGt6kjOZcInWuCs/JYna7kZMlbQktC4jaigAPstBgW4BElcE7FTjKcpGRZAkiFezVReuo50HJHBP8faxKroh/iwUNl2rgn49tjIsTRHNXHmaR86aL7L/d/6w0whRSqjBvNcZOn+9WSDPAiGVxGaY2J+X+Rgi70LdDPBRbJOUZivIgqjVCzphQ6xQpVf43eFI3OhU1u7vPiVuuSlJXNMCx4Us54sADcKlAtucEatQ+LI5q2UcvzdIImxcfGy95toQ2bi3ONclH4o4mmIeospMkpn/M1/s7QUBkdLV+ldCnKQt+XIcx1qVdGVQ92c2CBwvaXDpXdUUEid4zScuOUHLphD5ZTIFrlKhs42tvo2NxWk716gFkiNVQmb4NIe3d9r7Z+551yvlJPmMGOoBlhTA5PeaBfhwV7dDLVQzSobu4rHCtPkbs4Eu8A0lJ/hElOcXQiEnUA5AwucvOMwVLAD6Tfy2HpCYWDer6+cmQhXFVMKfYOsulZyGM3cFOEF7CJ2kRU2pGQG7eeDiRZMqRQwiEgjGAvex+34vN9TvNlXX2jc9r5Gip1zPkzNiImE6AgBSAaPAN1DBsYCZ5CpMX5gFVUVL8ij8+QxN9GdzMJaXm8pxjpvwtlqvhevJAOXHXUA+teXl0pGvhV9U8b3ktOMdxQ0Fz2Fa5Lbi/U9JLfwQjjV7UKxX3m5wHTObWrfdxRb8k6DDTPxtEi81WvShkz/HjUghR7gm4MyJeV0IEAS6gA1vp2mkdevECeJlQh2L96t22OrFxkcPz/20qBBY9MWuf6hUhCeJrLJjPVz4WnyqQaqzB+P9BOfx1wvlwj7ke1Ns/8nFkMab1WercJv5qWjVs3fyIQufwHJNjxsBOY/aIhP4Hr0o0MH8sN+aP07B+tH0ZXVmSlk3ctmx6U9CTABEgGDJWE1Bxhp0yL08HBj5hguKrY3oPlEEfgkJN0Dgypa3TVUdJH7n2c+0zOLgzCX0f57TJJ93DFKZklBc8xEQ1xbp1zl9RLcse6BSLbEJcrdCx/OssadL71uMMvwsRYp5KpDs42qhXTP37Z8HqOPHlhtrEJWq7eszc2/LHfVXDp73cAHIb8G3MSUboaorXcrR0xWDAsVg0uRBwFlwBn6Q54ljTX8xpuuD58poylPIxiDOPBci+8AvH4+ksKQW7SIkCGthdGld8A7Y8FFZ6CIbgWLVJBYKUpCME+58qaIeFD8fcmj07vsRfLm+473xqBIz9C26mlww2w01WGKbr5D1EDA/cZBAgO8AOKQkvIKMI6GcEU5o1rMI42LgOxZlM7/aFVh8kJQu1/Ijd6jWlKkvgIUrPM7txSqLlwzGLS5lsPrF45LhSJfOjL+pgJOpUXUmx8iYTzrPUKdDMN3SzNV94tmdKTxJMCSbllmwJRF919Ncd8EkWnPHhWWkQ/A92yko7je5BNEpX/W//KBkwE+3OPdB8TqXoFIENphT+JugjtP+3NKC+/qpePUgMdCZCevH+V8ra7T2SEjbqG6LXMAR9Pq4nE9dxXMJAiFnKk/KXhDL8MKNpPqezYjl0LDIN5n+SQxNnn/ePrUu92I4/7+Cz9zGTiKR6Nnv6PxKf9EFn7W+mq4+Fsav70i/zN3X/+oAq07ABzSxicApzqg1W3C7hMQeAYjkhNmZuclSMFgJS6n38kJzIyIbS08FeC+wquVE+hU0K9sqjn6u0WAzR+xhKI5pkLgb5Q7qwSBsV5lyO74JbLMl51CZWGcQi6SSjDyNFvKkqOeim4dvMyra5WbHrwkPf8EfS/XrQur21maH9ZFJXpKiZN2hloUYAH/6fsA1VvXwgojpJQtQSRXmwGjlToesOxT3sC5lwx8tU8Z7uH1wKq2MuWbJQa/SxXfv1tLtacVc2Y/WGxl8cyb37VLZjKVyG3eJbPDPZhMCTzCktSv9+/Rb8/0b7o2qyJ8Wd2hj9VTHlVUy3DFY2dT+E6l/NBbXitd6rGbTa2J7SbPrDhhwHvxYNPArpi6ZvFSylW+Q5qja0SPf7Qk5iiuCRL/cRgq1cukyWArLY3zSEAj5J/4LO4UXZxpBUZG12VWrjFQhzn9o2UlcSwUqfbKat8wZsubj8onK5ahM5JY6jT7Kr0JR/P/7sbWiaTd8tnJsyCtd2i+cp6LluP6eIIBU7VElfGS/PSE3s2wtY3IDDeZIjB3jh+GY74aRaYCEEy850ul+hkowq4e3iWG5LS1XVyoiRTXKD/SfMmvY6rzOCdMUpOK14p5GlVO41E2YuGDBTxeREGgT1HP9BoKmxLG9TF5EXsxGmb9dttGmRtuED0K4qJ0qKoCLxX+6hcqZYMLM4zW+0y5TK2UXLq7b9DICUhqalPZ9X7YwSMgOxieBgSgU7ty1XU0S6AQx/8R335qWIkFaZKh1VqUIp5S1EDIRTzGtbo2TdHq90L4foiRPsq8hG4KMtBWUlwXLdrVChi5LAlK+oD8fmEVRNZtNZOe8wTrJ7W9nkfjwk8R/Q8zr2n7V+TpYmvo4W8uMN71ikHc4BJaChlxRJw7vu0vduB38IjCCui1uKDWAtAADihD+AAE4Byz5Lq8pkfQAuEEjbqnkdZaMh+EgdE6p/JPPVWkhjhESPyNHj0cgv7ZpDBn+K1CmRV3eWDbCAVDjwteIDtHU5Ufg82nkyfyq6WFsiunUy9pT9nkB/PG6C6x1sJu6P1IlqoQ4xB6JkMRlM9IG50mGXIpv4vKkyrkagwrf12+mLubEoqC8xQagFYAGTBFxTwAfQj5fjpi/kBLEBpG8gj5l56ilBABWOmPrNX4iSluDkFsbYCXRW2fwJJaoUfNBhAby1xJVhMkJBaJyCPiXc4mjE02M83gfphIsvC1Qh24H9jKtotCVNNmYSr0S01Y+koEupi2mGETuMVEZi32y/S7j66q9ef4mPYfi5VQ156cact//+Qc56MiTsIFOWAAOOCXgogYT8YtnQiuPFuOMZqQmDTnTPIrAnTgmzfaDYXfhIL7+1Z/KBFGn2UIi9FoncGlTeBV9gvGBUCYkEu7Jp1fKud120+e+GsDRC0meMZoYE6FuOZMFGxQjniqQgG6pLNvJVReU7kEdx1Rod+A8vpU/zChoZ1AIIP/4xQgaKVYA3P/g/33/df8N/ez83/wr+5T6zfm++E+0qpyHLYcdcsE9+FeADE+MgKAMjRTn/aIrqzGRSTQAHgwwHlBIw5ADlJuL+e0yVi6TnpIijKkPmzgM+tuC5UoNvIYCb7c6Zl8tEy3XK0bdOrWjUYv9I9z/axk2quSIzG6tZU4X4hnILltEqfSlqmeQyGo4tYoB5a23LvJtqbNSzR+v3yvIKqoei/T2DEc9Jg7ETq1Ecosecz4NP6kZGV/u2em/a3y3/HelX4LRmnry+kqFWAZIBUxHTygC4X1ZAc8sldI4de6NR6yQ9y61g0+WqJBi4ovaS/SWZSbfWpNsdkJ7ssMgWL/M0zVCwzjXhNVAJ3b558hfVoIsnHDJOpLcRSvZheDVPhQ9QhwtHmKgy2wOsbCH6v9FuQ3S6Sa+kPr98sefqsxMCdqMghrXQUf1V0aXREQbV0e24eBxeLoDDbd6ePtbfd5H/VnyfP2RLgOhPAlITMZYKtbDH+n4XSCsfloZEXHtUxTcm98XREk5YGIsp+NBaudL9N+KDM0g8lV1LS3GOREgaZbC9kVau+ciiZV+quIQJjwbyXCCIkj0LEs3vmQ4gxExBI5ywGFjWPaBmEGuPEQrn6Z1EKRtuick4BQILO+FmTt3ErnXRFuo4iJRcUr9Gan/dmx6bu0dfmWJ+Zy7p3t0uwvgSAB3eJvg9RpAiDcGHX2fEo4ZLwZFxHl3hylXIDQ/L/ponZ0OiGYtCeRymZ8vNqpxUFrtr1r6cNmwN5td5W/s/lnd2XujG7aq9sGBQ0lx0fNozhAKrtrCOKtBuJIOmMuMGmDGozv6FsdrsDgZuCRV3Leb29dpka5a9kFbcGAz4mpZMivi9i/SlXsfTsG12FOgUg86PaIsiazNbrn0CTdwnAeQnv4GXjikHMLG9VXQn85gr0l1fSDsEsBPMo7KRmrkSIVorBqArFIFzuN5bvZ3jlN/sRvFW2VaRQ1Jb+aS+wDBzw2LKCzMdMiHz3buEvuEb16Zm7eUhPXveKjPfMvVaZuJEPQacJyL7IzUEBnLnF9NVepZyormnsBjkQm+FNo3dsS9pLfmIrtupFqcEMCTjRiu7HIopy/QkQStVzF8QAdgKptiZ71cQytoVx9INMu/fTspgJBF/5O2CStKt0EouumV1rJZJaon+Oph6W8roWj8a35TchLxVG3ww941nWTvnCzy4ZUNy4fktCiRbbQqE5PoeLK38jtFAIHgRV1mgJfhE3ZKaY/pYpVOJQIbEs+3RnVRWaceFn2Oj0s33Sj6d9b3xXub//g1/KToaXNfV4jiJPKHYa1PUvTg6AWg+LYOpYNUoI9ADJZpDW/FsJshMdKbbN2dUlNUFQoBBiNJXtAqSGlGxpZKX5ovoMs17Vv69hi2p6X32+NvVDLC9Dpq0IuG1j76JB9WfYcJuIfF6u1esk5Fi2lsVuByOgnNk7CnWG6xyTWXs7kKHEnbFNiO/lHib3HNZvg7pKYFdaVmldsyeUltWryaxlbLUcOu90SULHoBkSjykbZdOidQ7OpCgzTC02YmG/i8Ij0FhyEArJJiaQINWl1dMvEfEMLPOVDOjzLEokahcl17qDhPQQNjjoQ9oFKDAkIWKDypRJKzJ5lpJSqxNWgjg2wLufgb4VJyu0HQgor4E/qlDsUxv/28BbfanSzrWe9rNnSZs18wRxK52dTocZsGmbb0DhBYUYBU3BMIygrGFgiYphDFSgTRKICAuEjo4GwlELNBYseucMvezpOcW25BPn0GE1hNXOeoVKcXNGR4XCnDlj1LDGBIQaLNK8TrJbZJ3jFlk3ti/58Kcn6ZrBB3R7E5wNdndjWO9Tf3itpQs0qX3eB/MQ5qYyOF2jJeSNGts/88VIINajgjGAhAHRaCQWgcJTQ4SsCs+hHTFAQx7rLFDkKi8mQkwvEiU+nGl7CjZGQa+b5bz5c803pn14omSc7YT9YvOsfmqpFvlpiiphA0oemJfCTIwTHDZplp2ex9ARsfKBM8F2PtljMKvrJ7Qr4X8O5EdfsS+TFjv7r7fE1hZyJ67deXsJHixrI0i9hOeHScy2mMqgdIxYjG0OBkSkSs4lQ42rfJDAcIjTz48ZJFQxgWLOFqqRna0ZCbQTYdtnUYPr5No5+7/v+tpJ0JPuQtcwVQcoJINRJImoOIpaX9WaTchgFRoRFAiNHzCa1DbBPiIoJpaZkmkfcsus6+jptNYrl2h26VZR26LwNsoqp7iEZOi7jZbxYPIjCAeKgcPHhxISwwhZjxS5oTknNcILnNcWjtiBQ9UUkkoNLuXRWfIyJrqx/LKRVFMqmr1GhtQrT/bSxTnSFlmOIPFiZ6iq1qJWj6PGCfkZ6IVWCwqws82LCqDI9v6F+/BgRLVRYyQX/yeyFmUicvspE6TFzBmjPCoygESQdqbOrup4EUHZErCVzm0nHhqw4Mfe4EK6MyLU4RSGcsNNqa9pxfzpBRoLHwpKdyU0aKhoCcoAjRW8tbMoEq/g/sXt+UmTdJKoKsTjj44StkU6hZkRJVfVE7Hu1Efyb125vGrrGS773Q4wQyZei5hoIRxlxWJFFcRGWpwX7Qo6iR1j1b0KF7pJkAvcsqXe4SUTbNtXcfth09uk9Fs1dvJXS9jXkfeuvRVNIwBrZMy2RoEkCljq3KQWsCCCeFRgOLadRssuuWfI8qPhgQZ0xSaE/K8NxAiIPyHp7XEW/fg54ctvzUIuVnkx5VjMuCsQS9mV9e77l+dLZiTSWZ83tcKYp6rGNPi5nJhp7IyRlESyVNixPuVy24njGg8AsVhaAQgEi8AXgA+Yp+CMINgVVZyQWrHZgd4861uWsJBo2dPRG9PfPUzsb0l3iEd2+beadC49qeCQJOK2m18+gcSopGI6WRYCPlAnKCAE4AJwHwHwFpKD1Z8raASrict8cHm7AdBwW9CoqJq+itG1mlL6LYl8t2OX2PLZaSvJ7dNFOcKW5ZTxUpCwjpabKqL9kBD5ElZL4tNoq+sv820d3TDdk8Tq0IiGMio5LXkh+qTyx54bUMhkAOB2ANQAsJwzvMm5BrCZHBZbDMls5ipJJUQnFgobCRtW7q4t8FJRY9CQQZlafXVvT3CiZ5ywtzIajIQnlXLgm5kw9vSDdcFGJOR11XMrPEAmX9C7eDZTvRcRqLOZjpCvNHsxQxzNqKCzbdIm3QqEi8wxQ5Zq6mnKNxD+RFMDSDetlLjVRMaIjUkPZFbVahCp6ISHcm14uy7DndecDfCYL2m/f94bk5Vwxu6+wwz/Y5n+hfgoIUALgGLvENZlFxj+ZlNgfhvSRbY5ccoSdLij0JRGYDkVELIw4m52/IiSQcqvWn7JtDLzR5PbwzSI/3jVmcNHiZC+75sTYmQ006/sNeBIxZEqZRnoxxHQ+opEIEINKqkNCSjEG2Rmy6+dnflSM8NKc1fWnmr+s6jAwNiTSUgSgJGJCCEkMiBnAxBGu2YqYPSg9yimKKewVPDmmC0EqdCtWX5Swwg7Hd6FJrO/EwtiixWCRE8iVaQdSFGFqwPI8X2jem1DE3lFu1ZRvDwo8pK0/yJFYjaPLZhFF6/K5zCib19muimv0ENDwSH+OGLIt4/Do24v6f4WhQQQx66yoJeOgtFE4Tm2vD/hcMZGArSRujf6IzERecIfyw1VXxEVaDaLXzlZmglxslqwgWSyVb+b6eaJESVsc6slt4VeV3xFgrPhdjbDYsI4UVf0YBViRVw3IwfrYj7gnjg/xBEv8WA2Ehmx2JBAfEk3CQUBYMNlk1PtmOS/A2XzCCsPp3jV4SWMKTeUcUKMtLs+VmQbwjFHUsqU/GnU15i7WdIsVgp30aLatzwoiKsE7Jf1Zy9fsNvSEyk5xnzVUH3ZjZxlfQrdUzjlUTxoZ7ArgnM78uZK8eRYBgJcLVBAm6UJZYswydIzM9I4kdg1vRhQwsQoUYJcFK3cZj88FlC7NQF55fyaQ9hAhhUmfrk2MNOQlhwk76lnRzFDQgTFJTSM6DPqJo7XjPecbm1dRkobbmvYoSYb2ySVs8hS2cnvRDpYQiOrfdWkfognjqNRpWleyq/E5DljHsaqWkQkQ9lWzeqe/KWKGikonLRqlJMr1QlRr5MrzVaUlm3dvY2+LR5BIYSheF9qZp8JV7qtUJMNENZuT+R4pcijPIY92bzmkV1jDxn30XAwaMYSdOo5KIuLqEZBC3exIpo71ZcZsMWUloatr4kCJIKAFQLM9qOH5ixmDSfskH2IXhjvuofWviduodtCM5RugulmEq2vy6BvEHmJypxFsppBaOnHJRHLKo0IPZE5UOecvSDTPzulmQyNxBZWNdR5DtzXFomPKvlWilPFfZVpZCzk4xLHnLdUkJUg0IEkLRTxj8ZFo48w/jo6+ILFJJIEzKadPInSE0qf79yW8rUOaQXUCxwmhCVOjLrFuyyDjWLvkq1VsiytRU5UsSiISMElXiMZKJioYkz8VMOSimijeQ3SAk4147Sp8heM13d3ubvG9t10Rk3Scr+mO/s9UaRdQUWQwsqCRSVSebE7i1b1+pOZWZLqSOFmc86UTmNQlebuXiIztQml9eiCyCCSqg9MFqolFejkkRbvrl1u7l8y2V6ttS4KLMr0Y8hcIeonJ/I1z2XJoap7IWRCSF4lDarci8uUNK+EbUVsUtELKXZBaENKxogmueyvITAG2+//jFCBsuQv/+//+1KxcvCk16PCYRJ6ykmMldbNGTXdEhCeISGmtTaFlRl80S0hgxDCJJzilSRo1K8e2+XVEUHmKYl9VytpdLanR3J3+nIyIIhCWq3YwYMGMj8OpVyu/72Vss1KuIQ2WYrr3shjJOXuU5VljxL3yfmSo1Y2bENNqTiq6uWni0yIzvCd0XmQmZmZkQYIMZjCEqNJFqbiISEtRGjGyVmaNmEhCIvVfZr+W0p/7mQSKn/qERMMxitpmJ0tWL1nI2CUIhDEQ1Ym1ZMIhjLnVSupJTMSNqS+IYjCMMbJrVFHHljJE39ywndmmZmbZN4a74iIhdV5CWXanvuhrCaG6KQliFp+UtWISCCRt2iojGGQkkcdZdku0sIlrZflia4QwQEIYk5pYsJE71C6xSrV/TvG7JAxDCGISImqGVWnknI0WSGaSKWO2WKGCi66SKqqeyqarqyrBJJNBhDPbNBPXxNvvLTbnFdtTLYmjnvoyurlmRTXxS4ZQY20Zf51ZW6ptNwMgADyYAbgxAGx4AQikDwsAZ7CoCcEYLAJh+D0kDYMQEomDosgCrO3/wy6LKmTgdn8xYhgsiT6HQFRtYFJXKKBERYOciKQG/8nQgKXN3bL11iCbabI6q4kXRiZJ7zBapFeV19kJslyp1+8c6w+EXZ56ssh8jutdpLQ7WaN2Iq80VbQUrlJBNeE7OapaZEIsJMs0IG0TpByWzziRZw6C1HJEkMfRSC0WbZXk1j0wslJMFRENPuycZ1bWTbe8n8XRCtKSFzT3kQWTao+UMQmWcUQyoYivwpSqhPxWZ14Yj6i9gmJUGNMhIowi7BSGRF7nUcvesnfsKU+4OiEv7/emZb06hYgVykFLYUron13e3/oc971IpW5fCD7Kmw/WP7pKO5S49KKqCyC8vVKm3ZBERM6W5EXFnHd0VVkyaaBgFAGQAQfAIFGWQk2QtiFOfqlS0RKaeEljCCEJs2uMnMhY66+cgzBBCImOzMGhoQZEMJthNib41qEMREJiMYhtfiIJiGeGkRBFIyEEMQyW5b4jUxg0RPYVWfzWQhENDLjYasJk9LkkxLqRjJORViMwjJiQbbHRRVbO/WrYqusO117pWpNeiBEZCzW/bUmVVOUdfMYgiZk2tJbTIgSszFJ7+vqQbGL53pUst6KxECCRsmRCE6JYbZMaGGL91QjMEEYghWjNdSIZkxhiIghqSxEvaJ9CaGGi5V2pDMMQNiGMmzRdxEEEIMCMnkJfoTIxBkRKaIkR2hG8VqktjVHjrJIl/qldeUvxlvp86lVVeXtCOiyqr3lWP0MkTaSLNWdGyRkT7ss60us/LO7eJmTITomqxvavd65VPlVVUo4VxS6IxhhGbN2hDSp//HjGTScmKUtxBCGDAxAwwhEMT3YxAw1yv9MXMsqE2pqXtmQbIxFMnd3zolOm0U3x7UMpGITI658YlaQV+iEJMEYIybL2QxJaX7ckOld/SOFk5ehY7/MTMNSsIqE5TuIvYi7SSuYyEzcxCk6rkxjHIUyZzkppTCFXUVKc6Ut3x7iiwkBDAJBLgQtsG0URSstXI1LSFXyOJSqcRCb2v483qssoECS7EXthpdxWKNffn0mWZ1INS4xGS/jlIxzf5FOGCGGHIlyBAg53CCDCihGbsyi6QiElnrull79xKa1qbTvWQ7NxCiEK7kVfUMRMoquVjGVNRFsIMXaCRWCBjI0F7+tAdSwkFO5eVJyAwIZUwbaCR6YYlKVqL8RO+h6s97CIzEu8JOy4QSKMRSYShS+yhDCE7KsjXQq7t4yNyTj0j+YEZiLbfsyiBMjlo4opDFhkCxDz/uRtsZozV8cLZAwwxggInaMJCCIEb7ERAIJ2RCCkpMG5gIZOzO/IBm3lWQxrXJXH5R7C3aj/nLayVBsTBASZW0myQmhBEfoT0QwgxhEvsQMEYMxs5RiM53UOsMjharym6ilqqEGqEW65eiN9PpIrUcjomCCGwo5mKqYFA5ZdaHc4VY6ark+BjKtuDuEIOdCFBXJxxzuqkhMl24q5iEQ0jMxhgZU3tzxBx1MsbVv72/QMMptlTMRk0GDJCBmf2oEGEQiN69KrIpmWjpt8wi+JnmKOtOdiSolFuccd0FFmroIjJBL83fpooQJCulPxDXrlZVTrGZsQIRCh3ctCiqXnnW34sW4PULZ3hIhs7o7/GSsmVcyU5FpIyIYioNpEEmwhhE5P8zqnUr16JfsWc+CILyP5KkWkIMuLoKFKkyRnWpXgTEG+DGqAl4wTmnjasITHVGIRiEbVUxAwwxtLagjIQhsNVuUs1Hf+DIRtEI1aI7j0YghgjIYxDLMR1pGaelVGuEyLG3RtdcEQmSGTEGgRhGbIzVbKY5Nh448i+ta0RNyBiTQjbYwxkRMU5dpPBedl61bSQgQICBAwGYgyZSoggQwRCOOUUcOUc4W9uwxCTQkgwIkhKmwkbqvX0U5xTnO+uajEECEMlwggEGBAyCJbhjIMk/6u6K58i7siEMSsjcQlIMZk1Ir2GkXFds9phSBshjEJYTpTWTSxsiGlvd8tzIgjIhp0zCET7qeVK9vUoqWLRCJhiNScgxkQhhsEGtcfiikX1SnpcpXsLI0z+PWVpmsVI/Urh3ClVpbXFPziYYGEIZhEM0tJszaWo5SHVSSRFLUSCG7YNat4KtT1s3UpVFOKuU1IxCGK+HQiCBMzZOiSS2aTo+XKbIIZKy/7rTuU61FWxUqlVzuX5EWs+EMlmDNkG97jld8+nuRS06zumY2I1/w/vLk4sL3LmTszyiuKPdbsqzr8uTIVEkRCRI3ippy1FWw6OesqIWd9fppIWukTRpUTtr3PIqLCIlTX+rW5RBXstyIkqxM01VFvWkImX9FSFRjZEpC/vKyQyba3q91RBCRGxXF/eyzS9C2F7pHO1s5bIUpaksiqUqqDivv/4xQgcO0L/1f/YtTZOiAJIIYiEk7pUxjGaJY1StVhMJG8fGqNqJMxbnt83KxSUVIbZ0jcKl7EqIhKzCeyJqnjyQ1ZK8WEQ2gj7mlbCEhMiIOul2Qu9m/81vZI016TwRUIJET/yd+yOlxbqiL7UmaaRvhEYhsieNkZMIRGumeI/aRSNCIIS5sVnCVFCUgl98iTaIeF/7dibaOT5ItmRtkVdpaR8mu2io8ZiUiECE1SYpIpGk6I5Jjew9X0kybXtYQR0mU5LLGdJl/SE4l/Itm0hPkTMQ2tLOmrWZYapMjDMRtPS4hNczppVx/EPp0mJhNfL9mGSpJdkRkRE+U3aIuWoiMWG0ZYsft8iqI9XmyyxtG6aPWsqLNiQe6qyWxmaI2Im7Rpb4mXPKlV0KWIXJJspkxKR0ItRlk3Jsan8VfrNIZmo2akWxNERsX/paIjbzmdnpM0ROmThIlZaR/vG2IVlsdSYlMu1mMa02cxM6+9WykEziHEqW6NOkWiOImlRUIraEVCdr8khrWE21ysVsJvhFtMimIkSJDOqxFn88yZs6InpjLF9dBIIkRN69WRqmRUYsCFjTm5kxGTzhisTRLLumiJ4+KZChNERIuj+VSCDIyTCYiZG1b6fGZklXOkbYSJV62URAyRCWJDMa73foac7ZbInNSQlWQhCBCS9iITCboaI8LFEolPGvsQn2uVsjEbaX5n0ykIp8pYW2oappdxsujbJIMzkkEeumaEU185PkEI0J2RkMT62WeI5ZGVKnd9eTG2CaxjSH2ZM2YvyO1+l31Zm1y/oZ0wgnv0L5fLnWQo0ZcRvLezMs+n4mOZny3pXIiQin77EJJ+nlhiXPVc8E5totv1gTGxSLycRtyJEyiVWmGjXZUItth4yqak8F3XJTOZ/KRN1MmVInWNkRFa+wkpf17ExlW2RmkbmupK0JIPki7In7LyusZlRq+3CMnmjNDUkJSLvfZVtfWtvG9qFJ2JGi/owu2SW0pVWLMknpKysmEnxCMTN6iGXPiNmRPVqJtUESdNc20q2L9q1aRPbaq5UTui7Q0sTIpOar2cRLnsyJEWZNmdyZNUbIYadF0b6uT1mie91Y/2ca7IgnQ0kWKaJpYV61TMeKnXEWDOtnT6tiUTrE3WWM33JcfE3RKnQjCWxbLjWQRFnJUJU/MyoRdSx0dGTidCxSL/tRMIhyEK200XZQla4hMmG2d9mRhDSSLtkiQ2y5csYsI0JBIm/pouZkasXNa6TMSqhzPgyoTuTVqJEbNVTxoya3aFI0nTXszIRSjf0nkTLGLGXUlNPGgT/I2yEjGUTc7PZOjkjWt1Ukc22zdrbUW5PkikpU3jvH2YlzIrdWZSEszUZuTJJUZqkkqErtLDQTy+yVBD4mZyd13Tp7t6TRcXSpWZJ9MpozhOnmiMs315UvauawjkvyKmRoaQmqS/p79TPNLG9QlSkb6uu7dIbW5UdXSVaZOR30aCJLiLlG+JfGVPhnRPjk8EpBRE6ZrtsVPGEr4n8Um30stt8VPRVNbe9v3UEK3SLkdpSbZS21GM1NlQ96MkOGs61NmnJvNa8EqIjzOxTK6eOMspZ0mU4iOQRETy2OQTIbNMju1vbpUjZUJrGjZiQm2tqRzb2snZ4PY1IzG0pPImS5kRctldUhokaUhV5WRGEzJyOkuqXx8nRGJUZdlvVFpF2Z9FVsgzb9o12mM1Ja+uJ73RdF2P2exrGqt5GyaERbMs1//QsfJm0zwRYyEJkIjCYSNJlepqTGiHUr1smdNZWaNpCKza40fTUxeIksUsUSEJrhjmZU5phJqiTxG7k+f8kRkbqQ/2ytM3NSdGf4bZYbLXDTkw0abLH+aEiJkJrDT2XERMiZo6qUwuiRahyVsaaaEcwQ2qbxJYacmYuJ3mSe9MQxsgi/9BiOhtv95tOxXInbETXokioYSojY8liEYg1pop1ZI05kZNFfw6SEEJ13wlSbfcRI5O5LOznqwIybLatpiENibrEnsjJkad3dMkZjQS81mjRjL+h5SUmsrkKsWkhMbsLVZttqJf97yLmma/WiClztUtkE6yxJHtSf6ZOzc16liJqQl19S0gj3iVcjFt3zVIyPIjm3Nkex92KhYq8r+Wb5eteZJU6kIhLLkhE11kVWkf0lQnmrytWIhI6kkJDOIuWuok2hVu/8JkU63Diak3ErLBExN2xWlbWIXbU3venipYyosJIkQkbWQn+wwjtd5+uUSbwna+UQxNsn8JyZEzPTI1pHfd2dSfRtN1QKTp0RkpJnavb2YaPpliJEvVkeRMsy5HyXIRLmpuTMXmm+JdEiZ5k6vE5BjYRkVMVmCRghCSsS+Uy6ZKM1Yv8KxEwyRpEsqxKk1+Iu1O2kEtTbiI2TpUIpjeX1ehrWbs1EUiYpDb3GXMJ2yLVjsg3I7T0rZECIyN+Nkao8aFII2IR50q5MhjS5rBlzMkE+OYiZsnQQnbJWMorG+26T4TOmTmSIxPDIXK1xEiT2XlfN0bpydMubifGQkSGs8QrOyKsZMbKTzSwjJjY2Lgmsi2dLuqZPJOTWUBHH//4dQgdAt/9FP/x/+0AmkcTM+I66L8pl7REQixqy9PdnNL/rSOlVCsSqmeLGXMTjT7MqvC8JYS/zO3+7EdqzD5ERYNlZZ2SzHc4nzJ/izJUI7etGkM+OlXMhB9uq3Tp4ksUzJxn5uu0LARojwuoqEfDFIuXpC6VOIxpuqPYrTmnbc6uGitbM4k8mJl9jHTtqURUCHxU6wjVJ1q9mGNG8cWdl+Q1VokPiorIuEckNr9z/FMJWap4W//yGyWS3dPZi5Cb7WiKlqEPmKqHzHI0RnsSsU3T1RO1wkh0mnlSrV6EU0yuj3wiCPNDLX90YlI7JnXqZ1N9cu12iXx9oiVq1aB8amJ9dFu8jm+X8j2ekqIjJW4qWqITZ8vWLoSRHlu1SkcRM9PUZaqINBJKXnvRqjKmxr6STovpYrRua5bYSupJ2ZSEpU6JJeEHXLHuITJG9/QpFQnGOWqnYgmsoXT6iLHIyb1CMsxQpPA=\" type=\"audio/flac\" />\n",
              "                    Your browser does not support the audio element.\n",
              "                </audio>\n",
              "              "
            ]
          },
          "metadata": {},
          "execution_count": 156
        }
      ],
      "source": [
        "from IPython.display import Audio\n",
        "import random\n",
        "\n",
        "file_id = random.choice([f[:-len(\".flac\")] for f in flac_files])\n",
        "flac_file_path, txt_file_path = os.path.join(data_dir, f\"{file_id}.flac\"), os.path.join(data_dir, \"2428-83705.trans.txt\")\n",
        "\n",
        "print(\"Text Transcription:\", read_txt_file(txt_file_path)[file_id], \"\\nAudio:\")\n",
        "Audio(filename=flac_file_path)"
      ]
    },
    {
      "cell_type": "markdown",
      "metadata": {
        "id": "M8jJ7Ed81p_A"
      },
      "source": [
        "Now, we will combine all the speech & text samples and will define the function (in next cell) for that purpose."
      ]
    },
    {
      "cell_type": "code",
      "execution_count": 157,
      "metadata": {
        "id": "MI-5YCzaTsei"
      },
      "outputs": [],
      "source": [
        "def fetch_sound_text_mapping(data_dir):\n",
        "  all_files = os.listdir(data_dir)\n",
        "\n",
        "  flac_files = [os.path.join(data_dir, f) for f in all_files if f.endswith(\".flac\")]\n",
        "  txt_files = [os.path.join(data_dir, f) for f in all_files if f.endswith(\".txt\")]\n",
        "\n",
        "  txt_samples = {}\n",
        "  for f in txt_files:\n",
        "    txt_samples.update(read_txt_file(f))\n",
        "\n",
        "  speech_samples = {}\n",
        "  for f in flac_files:\n",
        "    speech_samples.update(read_flac_file(f))\n",
        "\n",
        "  assert len(txt_samples) == len(speech_samples)\n",
        "\n",
        "  samples = [(speech_samples[file_id], txt_samples[file_id]) for file_id in speech_samples.keys() if len(speech_samples[file_id]) < AUDIO_MAXLEN]\n",
        "  return samples"
      ]
    },
    {
      "cell_type": "markdown",
      "metadata": {
        "id": "mx95Lxvu0nT4"
      },
      "source": [
        "It's time to have a look at a few samples ..."
      ]
    },
    {
      "cell_type": "code",
      "execution_count": 158,
      "metadata": {
        "id": "_Ls7X_jqIz4R",
        "colab": {
          "base_uri": "https://localhost:8080/"
        },
        "outputId": "27b9127e-3871-4869-b166-c8d0124af9b8"
      },
      "outputs": [
        {
          "output_type": "execute_result",
          "data": {
            "text/plain": [
              "[(array([0.00054932, 0.00033569, 0.00021362, ..., 0.00061035, 0.00054932,\n",
              "         0.00048828]),\n",
              "  'BUT IT IS QUITE PLAIN TO ME THAT ALL THE ARRANGEMENTS FOR MY WEDDING ARE GOING TO BE MADE BY THE SNELLINGS'),\n",
              " (array([0.00085449, 0.00073242, 0.0005188 , ..., 0.00048828, 0.00054932,\n",
              "         0.0005188 ]),\n",
              "  \"A BIRD IN THE HAND IS WORTH TWO IN A BUSH' AND IT WILL BE SOMETHING TO HAVE BY US\"),\n",
              " (array([-0.00015259,  0.00021362,  0.00042725, ..., -0.00048828,\n",
              "         -0.00094604, -0.00115967]),\n",
              "  'WE ARE GOING FOR OUR HONEYMOON TO ITALY AND THE SOUTH OF FRANCE'),\n",
              " (array([-0.00112915, -0.00131226, -0.00158691, ...,  0.00067139,\n",
              "          0.00091553,  0.00100708]),\n",
              "  \"IT MIGHT JUST AS WELL BE SOME ONE ELSE'S WEDDING SO UNIMPORTANT IS THE PART WHICH I AM SET TO PLAY IN IT\"),\n",
              " (array([-0.00048828, -0.00042725, -0.00033569, ...,  0.00030518,\n",
              "          0.00024414,  0.00018311]),\n",
              "  'BUT WHY ON THAT ACCOUNT THEY SHOULD PITY ME I ALTOGETHER FAIL TO UNDERSTAND')]"
            ]
          },
          "metadata": {},
          "execution_count": 158
        }
      ],
      "source": [
        "samples = fetch_sound_text_mapping(data_dir)\n",
        "samples[:5]"
      ]
    },
    {
      "cell_type": "markdown",
      "metadata": {
        "id": "TUjhSWfsnlCL"
      },
      "source": [
        "Note: We are loading this data into memory as we working with a small amount of dataset in this notebook. But for training on the complete dataset (~300 GBs), you will have to load data lazily. You can refer to [this script](https://github.com/vasudevgupta7/gsoc-wav2vec2/blob/main/src/data_utils.py) to know more on that."
      ]
    },
    {
      "cell_type": "markdown",
      "metadata": {
        "id": "xg8Zia1kzw0J"
      },
      "source": [
        "Let's pre-process the data now !!!\n",
        "\n",
        "We will first define the tokenizer & processor using `gsoc-wav2vec2` package. Then, we will do very simple pre-processing. `processor` will normalize raw speech w.r.to frames axis and `tokenizer` will convert our model outputs into the string (using the defined vocabulary) & will take care of the removal of special tokens (depending on your tokenizer configuration)."
      ]
    },
    {
      "cell_type": "code",
      "execution_count": 159,
      "metadata": {
        "id": "gaat_hMLNVHF"
      },
      "outputs": [],
      "source": [
        "from wav2vec2 import Wav2Vec2Processor\n",
        "tokenizer = Wav2Vec2Processor(is_tokenizer=True)\n",
        "processor = Wav2Vec2Processor(is_tokenizer=False)\n",
        "\n",
        "def preprocess_text(text):\n",
        "  label = tokenizer(text)\n",
        "  return tf.constant(label, dtype=tf.int32)\n",
        "\n",
        "def preprocess_speech(audio):\n",
        "  audio = tf.constant(audio, dtype=tf.float32)\n",
        "  return processor(tf.transpose(audio))"
      ]
    },
    {
      "cell_type": "markdown",
      "metadata": {
        "id": "GyKl8QP-zRFC"
      },
      "source": [
        "Now, we will define the python generator to call the preprocessing functions we defined in above cells."
      ]
    },
    {
      "cell_type": "code",
      "execution_count": 160,
      "metadata": {
        "id": "PoQrRalwMpQ6"
      },
      "outputs": [],
      "source": [
        "def inputs_generator():\n",
        "  for speech, text in samples:\n",
        "    yield preprocess_speech(speech), preprocess_text(text)"
      ]
    },
    {
      "cell_type": "markdown",
      "metadata": {
        "id": "7Vlm3ySFULsG"
      },
      "source": [
        "## Setting up `tf.data.Dataset`\n",
        "\n",
        "Following cell will setup `tf.data.Dataset` object using its `.from_generator(...)` method. We will be using the `generator` object, we defined in the above cell.\n",
        "\n",
        "**Note:** For distributed training (especially on TPUs), `.from_generator(...)` doesn't work currently and it is recommended to train on data stored in `.tfrecord` format (Note: The TFRecords should ideally be stored inside a GCS Bucket in order for the TPUs to work to the fullest extent).\n",
        "\n",
        "You can refer to [this script](https://github.com/vasudevgupta7/gsoc-wav2vec2/blob/main/src/make_tfrecords.py) for more details on how to convert LibriSpeech data into tfrecords."
      ]
    },
    {
      "cell_type": "code",
      "execution_count": 161,
      "metadata": {
        "id": "LbQ_dMwGO62h"
      },
      "outputs": [],
      "source": [
        "output_signature = (\n",
        "    tf.TensorSpec(shape=(None),  dtype=tf.float32),\n",
        "    tf.TensorSpec(shape=(None), dtype=tf.int32),\n",
        ")\n",
        "\n",
        "dataset = tf.data.Dataset.from_generator(inputs_generator, output_signature=output_signature)"
      ]
    },
    {
      "cell_type": "code",
      "execution_count": 162,
      "metadata": {
        "id": "HXBbNsRyPyw3"
      },
      "outputs": [],
      "source": [
        "BUFFER_SIZE = len(flac_files)\n",
        "SEED = 42\n",
        "\n",
        "dataset = dataset.shuffle(BUFFER_SIZE, seed=SEED)"
      ]
    },
    {
      "cell_type": "markdown",
      "metadata": {
        "id": "9DAUmns3pXfr"
      },
      "source": [
        "We will pass the dataset into multiple batches, so let's prepare batches in the following cell. Now, all the sequences in a batch should be padded to a constant length. We will use the`.padded_batch(...)` method for that purpose."
      ]
    },
    {
      "cell_type": "code",
      "execution_count": 163,
      "metadata": {
        "id": "Okhko1IWRida"
      },
      "outputs": [],
      "source": [
        "dataset = dataset.padded_batch(BATCH_SIZE, padded_shapes=(AUDIO_MAXLEN, LABEL_MAXLEN), padding_values=(0.0, 0))"
      ]
    },
    {
      "cell_type": "markdown",
      "metadata": {
        "id": "A45CjQG5qSbV"
      },
      "source": [
        "Accelerators (like GPUs/TPUs) are very fast and often data-loading (& pre-processing) becomes the bottleneck during training as the data-loading part happens on CPUs. This can increase the training time significantly especially when there is a lot of online pre-processing involved or data is streamed online from GCS buckets. To handle those issues, `tf.data.Dataset` offers the `.prefetch(...)` method. This method helps in preparing the next few batches in parallel (on CPUs) while the model is making predictions (on GPUs/TPUs) on the current batch."
      ]
    },
    {
      "cell_type": "code",
      "execution_count": 164,
      "metadata": {
        "id": "f-bKu2YjRior"
      },
      "outputs": [],
      "source": [
        "dataset = dataset.prefetch(tf.data.AUTOTUNE)"
      ]
    },
    {
      "cell_type": "markdown",
      "metadata": {
        "id": "Lqk2cs6LxVIh"
      },
      "source": [
        "Since this notebook is made for demonstration purposes, we will be taking first `num_train_batches` and will perform training over only that. You are encouraged to train on the whole dataset though. Similarly, we will evaluate only `num_val_batches`."
      ]
    },
    {
      "cell_type": "code",
      "execution_count": 165,
      "metadata": {
        "id": "z6GO5oYUxXtz",
        "colab": {
          "base_uri": "https://localhost:8080/"
        },
        "outputId": "4bb1cde3-14e7-4717-84d7-8a06a0d29512"
      },
      "outputs": [
        {
          "output_type": "stream",
          "name": "stdout",
          "text": [
            "{<_MapDataset element_spec=(TensorSpec(shape=(None, 246000), dtype=tf.float32, name=None), TensorSpec(shape=(None, 256), dtype=tf.int32, name=None))>}\n",
            "Validation batches: <_MapDataset element_spec=(TensorSpec(shape=(None, 246000), dtype=tf.float32, name=None), TensorSpec(shape=(None, 256), dtype=tf.int32, name=None))>\n"
          ]
        }
      ],
      "source": [
        "num_train_batches = 10\n",
        "num_val_batches = 4\n",
        "\n",
        "train_dataset = dataset.take(num_train_batches)\n",
        "val_dataset = dataset.skip(num_train_batches).take(num_val_batches)\n",
        "\n",
        "def cast_label_to_int(inputs, labels):\n",
        "  # Cast labels to int32\n",
        "  return inputs, tf.cast(labels, dtype=tf.int32)\n",
        "\n",
        "train_dataset = train_dataset.map(cast_label_to_int)\n",
        "val_dataset = val_dataset.map(cast_label_to_int)\n",
        "\n",
        "# Add a .batch(1) after the map function to create batches of size 1\n",
        "train_dataset = train_dataset.map(cast_label_to_int)\n",
        "val_dataset = val_dataset.map(cast_label_to_int)\n",
        "\n",
        "print({train_dataset})\n",
        "print(\"Validation batches:\", val_dataset)"
      ]
    },
    {
      "cell_type": "markdown",
      "metadata": {
        "id": "CzAOI78tky08"
      },
      "source": [
        "## Model training\n",
        "\n",
        "For training our model, we will be directly calling `.fit(...)` method after compiling our model with `.compile(...)`."
      ]
    },
    {
      "cell_type": "code",
      "execution_count": 166,
      "metadata": {
        "id": "vuBY2sZElgwg"
      },
      "outputs": [],
      "source": [
        "model.compile(optimizer, loss=loss_fn)"
      ]
    },
    {
      "cell_type": "markdown",
      "metadata": {
        "id": "qswxafSl0HjO"
      },
      "source": [
        "The above cell will set up our training state. Now we can initiate training with the `.fit(...)` method."
      ]
    },
    {
      "cell_type": "code",
      "execution_count": 167,
      "metadata": {
        "id": "vtuSfnj1l-I_",
        "colab": {
          "base_uri": "https://localhost:8080/",
          "height": 321
        },
        "outputId": "aa76b4d7-12a5-46c2-c68c-300bf023549f"
      },
      "outputs": [
        {
          "output_type": "stream",
          "name": "stdout",
          "text": [
            "Epoch 1/3\n"
          ]
        },
        {
          "output_type": "error",
          "ename": "TypeError",
          "evalue": "Value passed to parameter 'indices' has DataType float32 not in list of allowed values: uint8, int8, int32, int64",
          "traceback": [
            "\u001b[0;31m---------------------------------------------------------------------------\u001b[0m",
            "\u001b[0;31mTypeError\u001b[0m                                 Traceback (most recent call last)",
            "\u001b[0;32m<ipython-input-167-10160d959025>\u001b[0m in \u001b[0;36m<cell line: 1>\u001b[0;34m()\u001b[0m\n\u001b[0;32m----> 1\u001b[0;31m \u001b[0mhistory\u001b[0m \u001b[0;34m=\u001b[0m \u001b[0mmodel\u001b[0m\u001b[0;34m.\u001b[0m\u001b[0mfit\u001b[0m\u001b[0;34m(\u001b[0m\u001b[0mx\u001b[0m\u001b[0;34m=\u001b[0m\u001b[0mtrain_dataset\u001b[0m\u001b[0;34m,\u001b[0m \u001b[0mvalidation_data\u001b[0m\u001b[0;34m=\u001b[0m\u001b[0mval_dataset\u001b[0m\u001b[0;34m,\u001b[0m \u001b[0mepochs\u001b[0m\u001b[0;34m=\u001b[0m\u001b[0;36m3\u001b[0m\u001b[0;34m)\u001b[0m\u001b[0;34m\u001b[0m\u001b[0;34m\u001b[0m\u001b[0m\n\u001b[0m\u001b[1;32m      2\u001b[0m \u001b[0mhistory\u001b[0m\u001b[0;34m.\u001b[0m\u001b[0mhistory\u001b[0m\u001b[0;34m\u001b[0m\u001b[0;34m\u001b[0m\u001b[0m\n",
            "\u001b[0;32m/usr/local/lib/python3.10/dist-packages/keras/src/utils/traceback_utils.py\u001b[0m in \u001b[0;36merror_handler\u001b[0;34m(*args, **kwargs)\u001b[0m\n\u001b[1;32m    120\u001b[0m             \u001b[0;31m# To get the full stack trace, call:\u001b[0m\u001b[0;34m\u001b[0m\u001b[0;34m\u001b[0m\u001b[0m\n\u001b[1;32m    121\u001b[0m             \u001b[0;31m# `keras.config.disable_traceback_filtering()`\u001b[0m\u001b[0;34m\u001b[0m\u001b[0;34m\u001b[0m\u001b[0m\n\u001b[0;32m--> 122\u001b[0;31m             \u001b[0;32mraise\u001b[0m \u001b[0me\u001b[0m\u001b[0;34m.\u001b[0m\u001b[0mwith_traceback\u001b[0m\u001b[0;34m(\u001b[0m\u001b[0mfiltered_tb\u001b[0m\u001b[0;34m)\u001b[0m \u001b[0;32mfrom\u001b[0m \u001b[0;32mNone\u001b[0m\u001b[0;34m\u001b[0m\u001b[0;34m\u001b[0m\u001b[0m\n\u001b[0m\u001b[1;32m    123\u001b[0m         \u001b[0;32mfinally\u001b[0m\u001b[0;34m:\u001b[0m\u001b[0;34m\u001b[0m\u001b[0;34m\u001b[0m\u001b[0m\n\u001b[1;32m    124\u001b[0m             \u001b[0;32mdel\u001b[0m \u001b[0mfiltered_tb\u001b[0m\u001b[0;34m\u001b[0m\u001b[0;34m\u001b[0m\u001b[0m\n",
            "\u001b[0;32m/usr/local/lib/python3.10/dist-packages/wav2vec2/losses.py\u001b[0m in \u001b[0;36mcall\u001b[0;34m(self, labels, hidden_states)\u001b[0m\n\u001b[1;32m     33\u001b[0m         \u001b[0mlabel_length\u001b[0m \u001b[0;34m=\u001b[0m \u001b[0mtf\u001b[0m\u001b[0;34m.\u001b[0m\u001b[0mreduce_sum\u001b[0m\u001b[0;34m(\u001b[0m\u001b[0mlabel_mask\u001b[0m\u001b[0;34m,\u001b[0m \u001b[0maxis\u001b[0m\u001b[0;34m=\u001b[0m\u001b[0;34m-\u001b[0m\u001b[0;36m1\u001b[0m\u001b[0;34m)\u001b[0m\u001b[0;34m\u001b[0m\u001b[0;34m\u001b[0m\u001b[0m\n\u001b[1;32m     34\u001b[0m \u001b[0;34m\u001b[0m\u001b[0m\n\u001b[0;32m---> 35\u001b[0;31m         loss = tf.nn.ctc_loss(\n\u001b[0m\u001b[1;32m     36\u001b[0m             \u001b[0mlabels\u001b[0m\u001b[0;34m=\u001b[0m\u001b[0mlabels\u001b[0m\u001b[0;34m,\u001b[0m\u001b[0;34m\u001b[0m\u001b[0;34m\u001b[0m\u001b[0m\n\u001b[1;32m     37\u001b[0m             \u001b[0mlogits\u001b[0m\u001b[0;34m=\u001b[0m\u001b[0mhidden_states\u001b[0m\u001b[0;34m,\u001b[0m\u001b[0;34m\u001b[0m\u001b[0;34m\u001b[0m\u001b[0m\n",
            "\u001b[0;31mTypeError\u001b[0m: Value passed to parameter 'indices' has DataType float32 not in list of allowed values: uint8, int8, int32, int64"
          ]
        }
      ],
      "source": [
        "history = model.fit(x=train_dataset, validation_data=val_dataset, epochs=3)\n",
        "history.history"
      ]
    },
    {
      "cell_type": "markdown",
      "metadata": {
        "id": "ySvp8r2E1q_V"
      },
      "source": [
        "Let's save our model with `.save(...)` method to be able to perform inference later. You can also export this SavedModel to TFHub by following [TFHub documentation](https://www.tensorflow.org/hub/publish)."
      ]
    },
    {
      "cell_type": "code",
      "execution_count": null,
      "metadata": {
        "id": "C0KEYcwydwjF"
      },
      "outputs": [],
      "source": [
        "save_dir = \"finetuned-wav2vec2\"\n",
        "model.save(save_dir, include_optimizer=False)"
      ]
    },
    {
      "cell_type": "markdown",
      "metadata": {
        "id": "MkOpp9rZ211t"
      },
      "source": [
        "Note: We are setting `include_optimizer=False` as we want to use this model for inference only."
      ]
    },
    {
      "cell_type": "markdown",
      "metadata": {
        "id": "SJfPlTgezD0i"
      },
      "source": [
        "## Evaluation\n",
        "\n",
        "Now we will be computing Word Error Rate over the validation dataset\n",
        "\n",
        "**Word error rate** (WER) is a common metric for measuring the performance of an automatic speech recognition system. The WER is derived from the Levenshtein distance, working at the word level. Word error rate can then be computed as: WER = (S + D + I) / N = (S + D + I) / (S + D + C) where S is the number of substitutions, D is the number of deletions, I is the number of insertions, C is the number of correct words, N is the number of words in the reference (N=S+D+C). This value indicates the percentage of words that were incorrectly predicted.\n",
        "\n",
        "You can refer to [this paper](https://www.isca-speech.org/archive_v0/interspeech_2004/i04_2765.html) to learn more about WER."
      ]
    },
    {
      "cell_type": "markdown",
      "metadata": {
        "id": "Io_91Y7-r3xu"
      },
      "source": [
        "We will use `load_metric(...)` function from [HuggingFace datasets](https://huggingface.co/docs/datasets/) library. Let's first install the `datasets` library using `pip` and then define the `metric` object."
      ]
    },
    {
      "cell_type": "code",
      "execution_count": null,
      "metadata": {
        "id": "GW9F_oVDU1TZ"
      },
      "outputs": [],
      "source": [
        "!pip3 install -q datasets\n",
        "\n",
        "from datasets import load_metric\n",
        "metric = load_metric(\"wer\")"
      ]
    },
    {
      "cell_type": "code",
      "execution_count": null,
      "metadata": {
        "id": "ssWXWc7CZvNB"
      },
      "outputs": [],
      "source": [
        "@tf.function(jit_compile=True)\n",
        "def eval_fwd(batch):\n",
        "  logits = model(batch, training=False)\n",
        "  return tf.argmax(logits, axis=-1)"
      ]
    },
    {
      "cell_type": "markdown",
      "metadata": {
        "id": "NFh1myg1x4ua"
      },
      "source": [
        "It's time to run the evaluation on validation data now."
      ]
    },
    {
      "cell_type": "code",
      "execution_count": null,
      "metadata": {
        "id": "EQTFVjZghckJ"
      },
      "outputs": [],
      "source": [
        "from tqdm.auto import tqdm\n",
        "\n",
        "for speech, labels in tqdm(val_dataset, total=num_val_batches):\n",
        "    predictions  = eval_fwd(speech)\n",
        "    predictions = [tokenizer.decode(pred) for pred in predictions.numpy().tolist()]\n",
        "    references = [tokenizer.decode(label, group_tokens=False) for label in labels.numpy().tolist()]\n",
        "    metric.add_batch(references=references, predictions=predictions)"
      ]
    },
    {
      "cell_type": "markdown",
      "metadata": {
        "id": "WWCc8qBesv3e"
      },
      "source": [
        "We are using the `tokenizer.decode(...)` method for decoding our predictions and labels back into the text and will add them to the metric for `WER` computation later."
      ]
    },
    {
      "cell_type": "markdown",
      "metadata": {
        "id": "XI_URj8Wtb2g"
      },
      "source": [
        "Now, let's calculate the metric value in following cell:"
      ]
    },
    {
      "cell_type": "code",
      "execution_count": null,
      "metadata": {
        "id": "a83wekLgWMod"
      },
      "outputs": [],
      "source": [
        "metric.compute()"
      ]
    },
    {
      "cell_type": "markdown",
      "metadata": {
        "id": "c_cD1OgVEjl4"
      },
      "source": [
        "**Note:** Here metric value doesn't make any sense as the model is trained on very small data and ASR-like tasks often require a large amount of data to learn a mapping from speech to text. You should probably train on large data to get some good results. This notebook gives you a template to fine-tune a pre-trained speech model."
      ]
    },
    {
      "cell_type": "markdown",
      "metadata": {
        "id": "G14o706kdTE1"
      },
      "source": [
        "## Inference\n",
        "\n",
        "Now that we are satisfied with the training process & have saved the model in `save_dir`, we will see how this model can be used for inference.\n",
        "\n",
        "First, we will load our model using `tf.keras.models.load_model(...)`."
      ]
    },
    {
      "cell_type": "code",
      "execution_count": null,
      "metadata": {
        "id": "wrTrExiUdaED"
      },
      "outputs": [],
      "source": [
        "finetuned_model = tf.keras.models.load_model(save_dir)"
      ]
    },
    {
      "cell_type": "markdown",
      "metadata": {
        "id": "luodSroz20SR"
      },
      "source": [
        "Let's download some speech samples for performing inference. You can replace the following sample with your speech sample also."
      ]
    },
    {
      "cell_type": "code",
      "execution_count": null,
      "metadata": {
        "id": "HUE0shded6Ej"
      },
      "outputs": [],
      "source": [
        "!wget https://github.com/vasudevgupta7/gsoc-wav2vec2/raw/main/data/SA2.wav"
      ]
    },
    {
      "cell_type": "markdown",
      "metadata": {
        "id": "ycBjU_U53FjL"
      },
      "source": [
        "Now, we will read the speech sample using `soundfile.read(...)` and pad it to `AUDIO_MAXLEN` to satisfy the model signature. Then we will normalize that speech sample using the `Wav2Vec2Processor` instance & will feed it into the model."
      ]
    },
    {
      "cell_type": "code",
      "execution_count": null,
      "metadata": {
        "id": "z7CARje4d5_H"
      },
      "outputs": [],
      "source": [
        "import numpy as np\n",
        "\n",
        "speech, _ = sf.read(\"SA2.wav\")\n",
        "speech = np.pad(speech, (0, AUDIO_MAXLEN - len(speech)))\n",
        "speech = tf.expand_dims(processor(tf.constant(speech)), 0)\n",
        "\n",
        "outputs = finetuned_model(speech)\n",
        "outputs"
      ]
    },
    {
      "cell_type": "markdown",
      "metadata": {
        "id": "lUSttSPa30qP"
      },
      "source": [
        "Let's decode numbers back into text sequence using the `Wav2Vec2tokenizer` instance, we defined above."
      ]
    },
    {
      "cell_type": "code",
      "execution_count": null,
      "metadata": {
        "id": "RYdJqxQ4llgI"
      },
      "outputs": [],
      "source": [
        "predictions = tf.argmax(outputs, axis=-1)\n",
        "predictions = [tokenizer.decode(pred) for pred in predictions.numpy().tolist()]\n",
        "predictions"
      ]
    },
    {
      "cell_type": "markdown",
      "metadata": {
        "id": "7DXC757bztJc"
      },
      "source": [
        "This prediction is quite random as the model was never trained on large data in this notebook (as this notebook is not meant for doing complete training). You will get good predictions if you train this model on complete LibriSpeech dataset.\n",
        "\n",
        "Finally, we have reached an end to this notebook. But it's not an end of learning TensorFlow for speech-related tasks, this [repository](https://github.com/tulasiram58827/TTS_TFLite) contains some more amazing tutorials. In case you encountered any bug in this notebook, please create an issue [here](https://github.com/vasudevgupta7/gsoc-wav2vec2/issues)."
      ]
    }
  ],
  "metadata": {
    "accelerator": "GPU",
    "colab": {
      "collapsed_sections": [
        "rWk8nL6Ui-_0",
        "wvuJL8-f0zn5",
        "oPp18ZHRtnq-",
        "1mvTuOXpwsQe",
        "7Vlm3ySFULsG",
        "CzAOI78tky08",
        "SJfPlTgezD0i",
        "G14o706kdTE1"
      ],
      "name": "wav2vec2_saved_model_finetuning.ipynb",
      "toc_visible": true,
      "provenance": [],
      "gpuType": "T4"
    },
    "kernelspec": {
      "display_name": "Python 3",
      "name": "python3"
    }
  },
  "nbformat": 4,
  "nbformat_minor": 0
}